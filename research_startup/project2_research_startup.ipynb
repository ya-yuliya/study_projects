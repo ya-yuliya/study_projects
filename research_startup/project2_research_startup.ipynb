{
 "cells": [
  {
   "cell_type": "markdown",
   "metadata": {
    "id": "4mJbK1knrJgz"
   },
   "source": [
    "# Проект: Исследование стартапов\n",
    "\n",
    "- Автор:Первушина Юлия\n",
    "- Дата: 03.04.2025"
   ]
  },
  {
   "cell_type": "markdown",
   "metadata": {
    "id": "P6j0r3worJg0"
   },
   "source": [
    "## Введение"
   ]
  },
  {
   "cell_type": "markdown",
   "metadata": {
    "id": "8lQtbsIUyFG6"
   },
   "source": [
    "### Цели и задачи проекта\n",
    "Цель проект подготовить датасет и проверить, что данные в нём соответствуют здравому смыслу, а также ответить на вопросы заказчика. В ходе проекта редстоит принять решения:\n",
    "\n",
    "- по каким столбцам можно объединять данные из разных таблиц;\n",
    "- можно ли доверять данным о сотрудниках стартапов и их образовании;\n",
    "- что значат покупки за 0 или за 1 доллар;\n",
    "- какая цена в зависимости от категории стартапов и количества раундов финансирования перед его покупкой;\n",
    "- как рассчитать и отобразить численные показатели и динамику.\n",
    "\n",
    "Хорошо, если в процессе работы получится выявить показатели и признаки, которые указывают на повышенную вероятность успешной сделки по покупке компании.\n",
    "\n",
    "### Описание данных\n",
    "\n",
    "**Таблица acquisition** содержит информацию о покупках одними компаниями других компаний:\n",
    "\n",
    "- `id` — идентификатор покупки.\n",
    "- `acquiring_company_id` — идентификатор покупающей компании.\n",
    "- `acquired_company_id` — идентификатор покупаемой компании.\n",
    "- `term_code — варианты`расчёта.\n",
    "- `price_amount` — сумма сделки.\n",
    "- `acquired_at` — дата сделки.\n",
    "\n",
    "**Таблица company_and_rounds** содержит информацию о компаниях и раундах финансирования:\n",
    "\n",
    "- `company ID` — идентификатор компании.\n",
    "- `name` — название компании.\n",
    "- `category code` — категория области деятельности компании.\n",
    "- `status` — статус компании.\n",
    "- `founded at` — дата инвестирования.\n",
    "- `closed at` — дата закрытия компании.\n",
    "- `domain` — официальный сайт компании.\n",
    "- `network username` — ник компании в сети.\n",
    "- `country code` — код страны компании.\n",
    "- `investment rounds` — число инвестиционных раундов.\n",
    "- `funding rounds` — число раундов финансирования.\n",
    "- `funding total` — сумма финансирования.\n",
    "- `milestones` — вехи финансирования.\n",
    "- `funding round id` — идентификатор этапа финансирования.\n",
    "- `company id` — идентификатор компании.\n",
    "- `funded at` — дата финансирования.\n",
    "- `funding round type` — тип финансирования.\n",
    "- `raised amount` — сумма финансирования.\n",
    "- `pre money valuation` — предварительная денежная оценка.\n",
    "- `participants` — число участников.\n",
    "- `is first round` — является ли раунд первым.\n",
    "- `is last round` — является раунд последним.\n",
    "\n",
    "**Таблица education** содержит информацию об образовании сотрудника:\n",
    "\n",
    "- `id` — идентификатор записи об образовании.\n",
    "- `person_id` — идентификатор работника.\n",
    "- `instituition` — название учебного заведения.\n",
    "- `graduated_at` — дата получения образования.\n",
    "\n",
    "**Таблица people** содержит информацию о сотрудниках:\n",
    "\n",
    "- `id` — идентификатор сотрудника.\n",
    "- `first_name` — имя сотрудника.\n",
    "- `last_name` — фамилия сотрудника.\n",
    "- `company_id` — идентификатор компании.\n",
    "- `network_username` — ник в социальных сетях.\n",
    "\n",
    "**Таблица degrees** содержит информацию о типе образования сотрудника:\n",
    "\n",
    "- `id` — идентификатор записи.\n",
    "- `object_id` — идентификатор сотрудника.\n",
    "- `degree_type` — тип образования.\n",
    "- `subject` — специальность.\n",
    "\n",
    "**Таблица fund** содержит информацию о фондах:\n",
    "\n",
    "- `id` — идентификатор фонда.\n",
    "- `name` — название фонда.\n",
    "- `category_code` — категория области деятельности компании.\n",
    "- `founded_at` — дата создания фонда.\n",
    "- `domain` — сайт фонда.\n",
    "- `network_username` — ник фонда в сети.\n",
    "- `country_code` — код страны фонда.\n",
    "- `investment_rounds` — число инвестиционных раундов.\n",
    "- `invested_companies` — число профинансированных компаний.\n",
    "- `milestones` — вехи финансирования.\n",
    "\n",
    "**Таблица investment** содержит информацию о раундах инвестирования:\n",
    "\n",
    "- `id` — идентификатор этапа инвестирования.\n",
    "- `funding_round_id` — идентификатор раунда инвестирования.\n",
    "- `company_id` — индентификатор компании.\n",
    "- `funding_round_type` — тип финансирования.\n",
    "- `fund_id` — идентификатор фонда."
   ]
  },
  {
   "cell_type": "markdown",
   "metadata": {
    "id": "xqr6uttCrJg0"
   },
   "source": [
    "\n",
    "## Шаг 1. Знакомство с данными: загрузка и первичная предобработка\n",
    "\n",
    "Названия файлов:\n",
    "* acquisition.csv\n",
    "* company_and_rounds.csv\n",
    "* people.csv\n",
    "* education.csv\n",
    "* degrees.csv\n",
    "\n",
    "Опциональные датасеты:\n",
    "* fund.csv\n",
    "* investment.csv\n",
    "\n",
    "\n",
    "Они находятся в папке datasets, если вы выполняете работу на платформе. В случае, если вы делаете работу локально, доступ к файлам в папке можно получить по адресу `https://code.s3.yandex.net/datasets/` + имя файла.\n",
    "\n",
    "### 1.1. Вывод общей информации, исправление названия столбцов\n",
    "\n",
    "- Загрузите все данные по проекту.\n",
    "- Проверьте названия столбцов.\n",
    "- Выведите информацию, которая необходима вам для принятия решений о предобработке, для каждого из датасетов."
   ]
  },
  {
   "cell_type": "code",
   "execution_count": 1,
   "metadata": {
    "id": "2Tm4Pk__Felf"
   },
   "outputs": [],
   "source": [
    "# Импортируем библиотеки\n",
    "import pandas as pd\n",
    "\n",
    "# Загружаем библиотеки для визуализации данных\n",
    "import matplotlib.pyplot as plt\n",
    "import seaborn as sns"
   ]
  },
  {
   "cell_type": "markdown",
   "metadata": {},
   "source": [
    "\n",
    "<div class=\"alert alert-success\">\n",
    "<font size=\"5\"><b>Комментарий ревьюера</b></font>\n",
    "\n",
    "Успех:\n",
    "\n",
    "Собираем все импорты в верхней части, чтобы легче было ориентироваться и добавлять новые по необходимости. \n",
    "\n",
    " \n",
    "\n",
    "<div class=\"alert alert-warning\">\n",
    "\n",
    "\n",
    "Совет:\n",
    "\n",
    "    \n",
    "    \n",
    "- у тебя тут есть лишний импорт, то что   не использовано   - стоит убрать, чтобы поберечь ресурсы      \n",
    " \n",
    " \n",
    "\n",
    " \n",
    "\n",
    "- есть рекомендации PEP-8 при написании кода, в том числе и для импортов. Если интересно можешь почитать [тут](https://pythonworld.ru/osnovy/pep-8-rukovodstvo-po-napisaniyu-koda-na-python.html). Пока исправлять нечего, но в будущем может пригодиться\n",
    "\n"
   ]
  },
  {
   "cell_type": "code",
   "execution_count": 2,
   "metadata": {
    "id": "oNqJ2qpRFebv"
   },
   "outputs": [],
   "source": [
    "# Выгружаем данные в переменные\n",
    "PATH = \"https://code.s3.yandex.net/datasets/\"\n",
    "acquisition_df = pd.read_csv(PATH + 'acquisition.csv')\n",
    "company_and_rounds_df = pd.read_csv(PATH + 'company_and_rounds.csv')\n",
    "education_df = pd.read_csv(PATH + 'education.csv')\n",
    "people_df = pd.read_csv(PATH + 'people.csv')\n",
    "degrees_df = pd.read_csv(PATH + 'degrees.csv')\n",
    "fund_df = pd.read_csv(PATH + 'fund.csv')\n",
    "investment_df = pd.read_csv(PATH + 'investment.csv')"
   ]
  },
  {
   "cell_type": "markdown",
   "metadata": {},
   "source": [
    "<div class=\"alert alert-warning\">\n",
    "<font size=\"5\"><b>Комментарий ревьюера</b></font>\n",
    "\n",
    "\n",
    "\n",
    "Совет 🤔:\n",
    "\n",
    " \n",
    " \n",
    "- Можно заметить что у нас везде повторяется данный путь https://code.s3.yandex.net/datasets/ , его можно оформить как константу\n",
    "    \n",
    "        PATH = \"https://code.s3.yandex.net/datasets/\"\n",
    "        acquisition = pd.read_csv(PATH + 'acquisition.csv')\n",
    "        ....\n",
    "\n",
    "Так будет и более читабельно, и  будет проще подправить, если изменится url    \n",
    "    "
   ]
  },
  {
   "cell_type": "markdown",
   "metadata": {},
   "source": [
    "<div class=\"alert alert-info\"> <b>Комментарии студентаV1:</b> Привет Марат! Спасибо за эту и последующие подсказки. Очень информативные </div>"
   ]
  },
  {
   "cell_type": "markdown",
   "metadata": {
    "id": "mg2gEwh0rJg0"
   },
   "source": [
    "### 1.2. Смена типов и анализ пропусков\n",
    "\n",
    "- Обработайте типы данных в столбцах, которые хранят значения даты и времени, если это необходимо.\n",
    "- Оцените полноту данных — сделайте предварительный вывод, достаточно ли данных для решения задач проекта."
   ]
  },
  {
   "cell_type": "markdown",
   "metadata": {
    "id": "FsL0A8RBrJg1",
    "vscode": {
     "languageId": "plaintext"
    }
   },
   "source": [
    "Знакомимся с данными и изучаем общую информацию о них."
   ]
  },
  {
   "cell_type": "code",
   "execution_count": 3,
   "metadata": {
    "id": "46VskrGyFeJ-"
   },
   "outputs": [
    {
     "data": {
      "text/html": [
       "<div>\n",
       "<style scoped>\n",
       "    .dataframe tbody tr th:only-of-type {\n",
       "        vertical-align: middle;\n",
       "    }\n",
       "\n",
       "    .dataframe tbody tr th {\n",
       "        vertical-align: top;\n",
       "    }\n",
       "\n",
       "    .dataframe thead th {\n",
       "        text-align: right;\n",
       "    }\n",
       "</style>\n",
       "<table border=\"1\" class=\"dataframe\">\n",
       "  <thead>\n",
       "    <tr style=\"text-align: right;\">\n",
       "      <th></th>\n",
       "      <th>id</th>\n",
       "      <th>acquiring_company_id</th>\n",
       "      <th>acquired_company_id</th>\n",
       "      <th>term_code</th>\n",
       "      <th>price_amount</th>\n",
       "      <th>acquired_at</th>\n",
       "    </tr>\n",
       "  </thead>\n",
       "  <tbody>\n",
       "    <tr>\n",
       "      <th>3793</th>\n",
       "      <td>4229</td>\n",
       "      <td>62198</td>\n",
       "      <td>14098</td>\n",
       "      <td>cash</td>\n",
       "      <td>2200000000</td>\n",
       "      <td>2010-11-22</td>\n",
       "    </tr>\n",
       "    <tr>\n",
       "      <th>3325</th>\n",
       "      <td>3739</td>\n",
       "      <td>26365</td>\n",
       "      <td>44638</td>\n",
       "      <td>cash</td>\n",
       "      <td>77000000</td>\n",
       "      <td>2010-08-17</td>\n",
       "    </tr>\n",
       "    <tr>\n",
       "      <th>7403</th>\n",
       "      <td>8249</td>\n",
       "      <td>3169</td>\n",
       "      <td>163905</td>\n",
       "      <td>cash_and_stock</td>\n",
       "      <td>2500000</td>\n",
       "      <td>2013-02-11</td>\n",
       "    </tr>\n",
       "    <tr>\n",
       "      <th>4601</th>\n",
       "      <td>5063</td>\n",
       "      <td>36312</td>\n",
       "      <td>67338</td>\n",
       "      <td>NaN</td>\n",
       "      <td>0</td>\n",
       "      <td>2011-01-27</td>\n",
       "    </tr>\n",
       "    <tr>\n",
       "      <th>4786</th>\n",
       "      <td>5269</td>\n",
       "      <td>45598</td>\n",
       "      <td>71306</td>\n",
       "      <td>NaN</td>\n",
       "      <td>0</td>\n",
       "      <td>2011-03-16</td>\n",
       "    </tr>\n",
       "  </tbody>\n",
       "</table>\n",
       "</div>"
      ],
      "text/plain": [
       "        id  acquiring_company_id  acquired_company_id       term_code  \\\n",
       "3793  4229                 62198                14098            cash   \n",
       "3325  3739                 26365                44638            cash   \n",
       "7403  8249                  3169               163905  cash_and_stock   \n",
       "4601  5063                 36312                67338             NaN   \n",
       "4786  5269                 45598                71306             NaN   \n",
       "\n",
       "      price_amount acquired_at  \n",
       "3793    2200000000  2010-11-22  \n",
       "3325      77000000  2010-08-17  \n",
       "7403       2500000  2013-02-11  \n",
       "4601             0  2011-01-27  \n",
       "4786             0  2011-03-16  "
      ]
     },
     "execution_count": 3,
     "metadata": {},
     "output_type": "execute_result"
    }
   ],
   "source": [
    "# Выводим случайные строки датафрейма acquisition_df на экран\n",
    "acquisition_df.sample(5)"
   ]
  },
  {
   "cell_type": "code",
   "execution_count": 4,
   "metadata": {
    "id": "DEg1tl8DFeBn"
   },
   "outputs": [
    {
     "name": "stdout",
     "output_type": "stream",
     "text": [
      "<class 'pandas.core.frame.DataFrame'>\n",
      "RangeIndex: 9407 entries, 0 to 9406\n",
      "Data columns (total 6 columns):\n",
      " #   Column                Non-Null Count  Dtype \n",
      "---  ------                --------------  ----- \n",
      " 0   id                    9407 non-null   int64 \n",
      " 1   acquiring_company_id  9407 non-null   int64 \n",
      " 2   acquired_company_id   9407 non-null   int64 \n",
      " 3   term_code             1831 non-null   object\n",
      " 4   price_amount          9407 non-null   int64 \n",
      " 5   acquired_at           9378 non-null   object\n",
      "dtypes: int64(4), object(2)\n",
      "memory usage: 441.1+ KB\n"
     ]
    }
   ],
   "source": [
    "# Выводим информацию о датафрейме acquisition_df на экран\n",
    "acquisition_df.info()"
   ]
  },
  {
   "cell_type": "markdown",
   "metadata": {},
   "source": [
    "В столбце `term_code` большая часть строк с пропусками. Из 9407 строк, только 1831 с данными. Так же небольшое количество пропусков есть в столбце `acquired_at`. Кроме того в `acquired_at` не корректный тип данных, нужно его заменить на **datetime**"
   ]
  },
  {
   "cell_type": "code",
   "execution_count": 5,
   "metadata": {},
   "outputs": [
    {
     "name": "stdout",
     "output_type": "stream",
     "text": [
      "<class 'pandas.core.frame.DataFrame'>\n",
      "RangeIndex: 9407 entries, 0 to 9406\n",
      "Data columns (total 6 columns):\n",
      " #   Column                Non-Null Count  Dtype         \n",
      "---  ------                --------------  -----         \n",
      " 0   id                    9407 non-null   int64         \n",
      " 1   acquiring_company_id  9407 non-null   int64         \n",
      " 2   acquired_company_id   9407 non-null   int64         \n",
      " 3   term_code             1831 non-null   object        \n",
      " 4   price_amount          9407 non-null   int64         \n",
      " 5   acquired_at           9378 non-null   datetime64[ns]\n",
      "dtypes: datetime64[ns](1), int64(4), object(1)\n",
      "memory usage: 441.1+ KB\n"
     ]
    }
   ],
   "source": [
    "# Меняем тип данных для столбца acquired_at в формат datetime\n",
    "acquisition_df['acquired_at'] = pd.to_datetime(acquisition_df['acquired_at'], errors='coerce')\n",
    "acquisition_df.info()"
   ]
  },
  {
   "cell_type": "code",
   "execution_count": 6,
   "metadata": {
    "scrolled": true
   },
   "outputs": [
    {
     "data": {
      "text/html": [
       "<div>\n",
       "<style scoped>\n",
       "    .dataframe tbody tr th:only-of-type {\n",
       "        vertical-align: middle;\n",
       "    }\n",
       "\n",
       "    .dataframe tbody tr th {\n",
       "        vertical-align: top;\n",
       "    }\n",
       "\n",
       "    .dataframe thead th {\n",
       "        text-align: right;\n",
       "    }\n",
       "</style>\n",
       "<table border=\"1\" class=\"dataframe\">\n",
       "  <thead>\n",
       "    <tr style=\"text-align: right;\">\n",
       "      <th></th>\n",
       "      <th>company  ID</th>\n",
       "      <th>name</th>\n",
       "      <th>category  code</th>\n",
       "      <th>status</th>\n",
       "      <th>founded  at</th>\n",
       "      <th>closed  at</th>\n",
       "      <th>domain</th>\n",
       "      <th>network  username</th>\n",
       "      <th>country  code</th>\n",
       "      <th>investment  rounds</th>\n",
       "      <th>...</th>\n",
       "      <th>milestones</th>\n",
       "      <th>funding  round  id</th>\n",
       "      <th>company  id</th>\n",
       "      <th>funded  at</th>\n",
       "      <th>funding  round  type</th>\n",
       "      <th>raised  amount</th>\n",
       "      <th>pre  money  valuation</th>\n",
       "      <th>participants</th>\n",
       "      <th>is  first  round</th>\n",
       "      <th>is  last  round</th>\n",
       "    </tr>\n",
       "  </thead>\n",
       "  <tbody>\n",
       "    <tr>\n",
       "      <th>0</th>\n",
       "      <td>1.0</td>\n",
       "      <td>Wetpaint</td>\n",
       "      <td>web</td>\n",
       "      <td>operating</td>\n",
       "      <td>2005-10-17</td>\n",
       "      <td>NaN</td>\n",
       "      <td>wetpaint-inc.com</td>\n",
       "      <td>BachelrWetpaint</td>\n",
       "      <td>USA</td>\n",
       "      <td>0.0</td>\n",
       "      <td>...</td>\n",
       "      <td>5.0</td>\n",
       "      <td>888.0</td>\n",
       "      <td>1.0</td>\n",
       "      <td>2005-10-01</td>\n",
       "      <td>series-a</td>\n",
       "      <td>5250000.0</td>\n",
       "      <td>0.0</td>\n",
       "      <td>2.0</td>\n",
       "      <td>0.0</td>\n",
       "      <td>1.0</td>\n",
       "    </tr>\n",
       "    <tr>\n",
       "      <th>1</th>\n",
       "      <td>1.0</td>\n",
       "      <td>Wetpaint</td>\n",
       "      <td>web</td>\n",
       "      <td>operating</td>\n",
       "      <td>2005-10-17</td>\n",
       "      <td>NaN</td>\n",
       "      <td>wetpaint-inc.com</td>\n",
       "      <td>BachelrWetpaint</td>\n",
       "      <td>USA</td>\n",
       "      <td>0.0</td>\n",
       "      <td>...</td>\n",
       "      <td>5.0</td>\n",
       "      <td>889.0</td>\n",
       "      <td>1.0</td>\n",
       "      <td>2007-01-01</td>\n",
       "      <td>series-b</td>\n",
       "      <td>9500000.0</td>\n",
       "      <td>0.0</td>\n",
       "      <td>3.0</td>\n",
       "      <td>0.0</td>\n",
       "      <td>0.0</td>\n",
       "    </tr>\n",
       "    <tr>\n",
       "      <th>2</th>\n",
       "      <td>1.0</td>\n",
       "      <td>Wetpaint</td>\n",
       "      <td>web</td>\n",
       "      <td>operating</td>\n",
       "      <td>2005-10-17</td>\n",
       "      <td>NaN</td>\n",
       "      <td>wetpaint-inc.com</td>\n",
       "      <td>BachelrWetpaint</td>\n",
       "      <td>USA</td>\n",
       "      <td>0.0</td>\n",
       "      <td>...</td>\n",
       "      <td>5.0</td>\n",
       "      <td>2312.0</td>\n",
       "      <td>1.0</td>\n",
       "      <td>2008-05-19</td>\n",
       "      <td>series-c+</td>\n",
       "      <td>25000000.0</td>\n",
       "      <td>0.0</td>\n",
       "      <td>4.0</td>\n",
       "      <td>1.0</td>\n",
       "      <td>0.0</td>\n",
       "    </tr>\n",
       "    <tr>\n",
       "      <th>3</th>\n",
       "      <td>10.0</td>\n",
       "      <td>Flektor</td>\n",
       "      <td>games_video</td>\n",
       "      <td>acquired</td>\n",
       "      <td>NaN</td>\n",
       "      <td>NaN</td>\n",
       "      <td>flektor.com</td>\n",
       "      <td>NaN</td>\n",
       "      <td>USA</td>\n",
       "      <td>0.0</td>\n",
       "      <td>...</td>\n",
       "      <td>0.0</td>\n",
       "      <td>NaN</td>\n",
       "      <td>NaN</td>\n",
       "      <td>NaN</td>\n",
       "      <td>NaN</td>\n",
       "      <td>NaN</td>\n",
       "      <td>NaN</td>\n",
       "      <td>NaN</td>\n",
       "      <td>NaN</td>\n",
       "      <td>NaN</td>\n",
       "    </tr>\n",
       "    <tr>\n",
       "      <th>4</th>\n",
       "      <td>100.0</td>\n",
       "      <td>There</td>\n",
       "      <td>games_video</td>\n",
       "      <td>acquired</td>\n",
       "      <td>NaN</td>\n",
       "      <td>NaN</td>\n",
       "      <td>there.com</td>\n",
       "      <td>NaN</td>\n",
       "      <td>USA</td>\n",
       "      <td>0.0</td>\n",
       "      <td>...</td>\n",
       "      <td>4.0</td>\n",
       "      <td>NaN</td>\n",
       "      <td>NaN</td>\n",
       "      <td>NaN</td>\n",
       "      <td>NaN</td>\n",
       "      <td>NaN</td>\n",
       "      <td>NaN</td>\n",
       "      <td>NaN</td>\n",
       "      <td>NaN</td>\n",
       "      <td>NaN</td>\n",
       "    </tr>\n",
       "  </tbody>\n",
       "</table>\n",
       "<p>5 rows × 22 columns</p>\n",
       "</div>"
      ],
      "text/plain": [
       "   company  ID      name category  code     status founded  at closed  at  \\\n",
       "0          1.0  Wetpaint            web  operating  2005-10-17        NaN   \n",
       "1          1.0  Wetpaint            web  operating  2005-10-17        NaN   \n",
       "2          1.0  Wetpaint            web  operating  2005-10-17        NaN   \n",
       "3         10.0   Flektor    games_video   acquired         NaN        NaN   \n",
       "4        100.0     There    games_video   acquired         NaN        NaN   \n",
       "\n",
       "             domain network  username country  code  investment  rounds  ...  \\\n",
       "0  wetpaint-inc.com   BachelrWetpaint           USA                 0.0  ...   \n",
       "1  wetpaint-inc.com   BachelrWetpaint           USA                 0.0  ...   \n",
       "2  wetpaint-inc.com   BachelrWetpaint           USA                 0.0  ...   \n",
       "3       flektor.com               NaN           USA                 0.0  ...   \n",
       "4         there.com               NaN           USA                 0.0  ...   \n",
       "\n",
       "   milestones  funding  round  id  company  id  funded  at  \\\n",
       "0         5.0               888.0          1.0  2005-10-01   \n",
       "1         5.0               889.0          1.0  2007-01-01   \n",
       "2         5.0              2312.0          1.0  2008-05-19   \n",
       "3         0.0                 NaN          NaN         NaN   \n",
       "4         4.0                 NaN          NaN         NaN   \n",
       "\n",
       "   funding  round  type raised  amount pre  money  valuation  participants  \\\n",
       "0              series-a      5250000.0                   0.0           2.0   \n",
       "1              series-b      9500000.0                   0.0           3.0   \n",
       "2             series-c+     25000000.0                   0.0           4.0   \n",
       "3                   NaN            NaN                   NaN           NaN   \n",
       "4                   NaN            NaN                   NaN           NaN   \n",
       "\n",
       "   is  first  round  is  last  round  \n",
       "0               0.0              1.0  \n",
       "1               0.0              0.0  \n",
       "2               1.0              0.0  \n",
       "3               NaN              NaN  \n",
       "4               NaN              NaN  \n",
       "\n",
       "[5 rows x 22 columns]"
      ]
     },
     "execution_count": 6,
     "metadata": {},
     "output_type": "execute_result"
    }
   ],
   "source": [
    "# Выводим первые строки датафрейма company_and_rounds_df на экран\n",
    "company_and_rounds_df.head()"
   ]
  },
  {
   "cell_type": "code",
   "execution_count": 7,
   "metadata": {},
   "outputs": [
    {
     "name": "stdout",
     "output_type": "stream",
     "text": [
      "<class 'pandas.core.frame.DataFrame'>\n",
      "RangeIndex: 217774 entries, 0 to 217773\n",
      "Data columns (total 22 columns):\n",
      " #   Column                 Non-Null Count   Dtype  \n",
      "---  ------                 --------------   -----  \n",
      " 0   company  ID            217472 non-null  float64\n",
      " 1   name                   217472 non-null  object \n",
      " 2   category  code         143886 non-null  object \n",
      " 3   status                 217472 non-null  object \n",
      " 4   founded  at            109956 non-null  object \n",
      " 5   closed  at             3449 non-null    object \n",
      " 6   domain                 147159 non-null  object \n",
      " 7   network  username      95534 non-null   object \n",
      " 8   country  code          108607 non-null  object \n",
      " 9   investment  rounds     217472 non-null  float64\n",
      " 10  funding  rounds        217472 non-null  float64\n",
      " 11  funding  total         217472 non-null  float64\n",
      " 12  milestones             217472 non-null  float64\n",
      " 13  funding  round  id     52928 non-null   float64\n",
      " 14  company  id            52928 non-null   float64\n",
      " 15  funded  at             52680 non-null   object \n",
      " 16  funding  round  type   52928 non-null   object \n",
      " 17  raised  amount         52928 non-null   float64\n",
      " 18  pre  money  valuation  52928 non-null   float64\n",
      " 19  participants           52928 non-null   float64\n",
      " 20  is  first  round       52928 non-null   float64\n",
      " 21  is  last  round        52928 non-null   float64\n",
      "dtypes: float64(12), object(10)\n",
      "memory usage: 36.6+ MB\n"
     ]
    }
   ],
   "source": [
    "# Выводим информацию о датафрейме company_and_rounds_df на экран\n",
    "company_and_rounds_df.info()"
   ]
  },
  {
   "cell_type": "markdown",
   "metadata": {},
   "source": [
    "Названия столбцов приведены в неудобном формате - используется двойной пробел между словами вместо нижнего подчёркивания. Для удобства избавимся от пробелов и заменим их одним нижним подчёркиванием.\n",
    "\n",
    "Во всех столбцах присутствуют пропуски. Особенно много их в правой части таблицы и их количество почти в каждом столбце одинаково. Вероятно это какая-то техническая ошибка, в дальнейшем нужно будет разобраться подробнее.\n",
    "\n",
    "Здесь так же некорректные типы данных для столбцов `founded  at`, `closed  at` и  `funded  at` - нужно перевести в тип **datetime**. Для `company ID` и `company id` вероятно лучше подойдёт тип данных **int**."
   ]
  },
  {
   "cell_type": "markdown",
   "metadata": {},
   "source": [
    "\n",
    "<div class=\"alert alert-success\">\n",
    "<font size=\"5\"><b>Комментарий ревьюера</b></font>\n",
    "\n",
    "\n",
    "\n",
    "Успех 👍:\n",
    "\n",
    "\n",
    "\n",
    "    Во всех столбцах присутствуют пропуски. Особенно много их в правой части таблицы и их количество почти в каждом столбце одинаково. Вероятно это какая-то техническая ошибка, в дальнейшем нужно будет разобраться подробнее.\n",
    "\n",
    "\n",
    "Очень хорошее наблюдение, можно было развить эту тему.  Причина не в технической ошибке    \n",
    "    \n",
    "    \n",
    "<div class=\"alert alert-warning\">\n",
    " \n",
    "\n",
    "Совет 🤔:\n",
    "    \n",
    "    \n",
    "    \n",
    "    \n",
    "- Лучше пропуски вывести в абсолютных и относительных цифрах  (и лучше поместить в одну табличку, для компактности)  \n",
    "\n",
    "    \n",
    " \n",
    " \n",
    "\n",
    "    \n",
    "- Либо можно визуализировать пропуски с помощью библиотеки [missingno](https://www.geeksforgeeks.org/python-visualize-missing-values-nan-values-using-missingno-library/), выглядит красиво\n",
    "    \n",
    "А главное мы поймём структуру пропусков в company_and_rounds, а это важно для последнего раздела первой части. Посоветовал бы использовать  msno.matrix(),  и там бы мы увидели кластеры пропусков.   Это   мощная подсказкой для  последнего раздела первой части    \n",
    "    \n",
    "    \n",
    "Также у missingno есть дополнительный функционал\n",
    "\n",
    "    msno.heatmap(df)\n",
    "\n",
    "Так можно посмотреть на корреляцию между пропусками в разных столбцах, это может подсказать как образовались многие наши пропуски\n",
    "\n",
    " "
   ]
  },
  {
   "cell_type": "markdown",
   "metadata": {},
   "source": [
    "<div class=\"alert alert-info\"> <b>Комментарии студентаV1:</b> Да, это оказался классный инструмент. Я применила эти методы ниже, там где нужно будет обрабатывать эту таблицу. Надеюсь верно поняла как расшифровывать эти визуализации. </div>"
   ]
  },
  {
   "cell_type": "code",
   "execution_count": 8,
   "metadata": {},
   "outputs": [
    {
     "data": {
      "text/plain": [
       "Index(['company_ID', 'name', 'category_code', 'status', 'founded_at',\n",
       "       'closed_at', 'domain', 'network_username', 'country_code',\n",
       "       'investment_rounds', 'funding_rounds', 'funding_total', 'milestones',\n",
       "       'funding_round_id', 'company_id', 'funded_at', 'funding_round_type',\n",
       "       'raised_amount', 'pre_money_valuation', 'participants',\n",
       "       'is_first_round', 'is_last_round'],\n",
       "      dtype='object')"
      ]
     },
     "execution_count": 8,
     "metadata": {},
     "output_type": "execute_result"
    }
   ],
   "source": [
    "# Избавимся от пробелов в названиях столбцов в company_and_rounds_df с помощью метода str.replace()\n",
    "company_and_rounds_df.columns = company_and_rounds_df.columns.str.replace('  ', '_')\n",
    "company_and_rounds_df.columns"
   ]
  },
  {
   "cell_type": "markdown",
   "metadata": {},
   "source": [
    " \n",
    "<div class=\"alert alert-success\">\n",
    "<font size=\"5\"><b>Комментарий ревьюера</b></font>\n",
    "\n",
    "Успех:\n",
    "\n",
    "👍 помнишь о стилистике \n",
    "\n",
    "\n",
    "И здорово что используешь автоматизированный подход \n",
    "    \n",
    " <div class=\"alert alert-warning\">\n",
    "\n",
    "\n",
    "Совет: \n",
    "\n",
    "\n",
    "Правда змеиный стиль предполагает все буквы прописными (но главное не допустить двойственности Когда у нас два столбца имеют одинаковое название)\n",
    "     \n",
    "     \n",
    "       \n",
    "   \n",
    "\n",
    "\n"
   ]
  },
  {
   "cell_type": "code",
   "execution_count": 9,
   "metadata": {},
   "outputs": [
    {
     "name": "stdout",
     "output_type": "stream",
     "text": [
      "<class 'pandas.core.frame.DataFrame'>\n",
      "RangeIndex: 217774 entries, 0 to 217773\n",
      "Data columns (total 22 columns):\n",
      " #   Column               Non-Null Count   Dtype         \n",
      "---  ------               --------------   -----         \n",
      " 0   company_ID           217472 non-null  float64       \n",
      " 1   name                 217472 non-null  object        \n",
      " 2   category_code        143886 non-null  object        \n",
      " 3   status               217472 non-null  object        \n",
      " 4   founded_at           109956 non-null  datetime64[ns]\n",
      " 5   closed_at            3449 non-null    datetime64[ns]\n",
      " 6   domain               147159 non-null  object        \n",
      " 7   network_username     95534 non-null   object        \n",
      " 8   country_code         108607 non-null  object        \n",
      " 9   investment_rounds    217472 non-null  float64       \n",
      " 10  funding_rounds       217472 non-null  float64       \n",
      " 11  funding_total        217472 non-null  float64       \n",
      " 12  milestones           217472 non-null  float64       \n",
      " 13  funding_round_id     52928 non-null   float64       \n",
      " 14  company_id           52928 non-null   float64       \n",
      " 15  funded_at            52680 non-null   datetime64[ns]\n",
      " 16  funding_round_type   52928 non-null   object        \n",
      " 17  raised_amount        52928 non-null   float64       \n",
      " 18  pre_money_valuation  52928 non-null   float64       \n",
      " 19  participants         52928 non-null   float64       \n",
      " 20  is_first_round       52928 non-null   float64       \n",
      " 21  is_last_round        52928 non-null   float64       \n",
      "dtypes: datetime64[ns](3), float64(12), object(7)\n",
      "memory usage: 36.6+ MB\n"
     ]
    }
   ],
   "source": [
    "# Меняем тип данных для столбцов founded_at, closed_at, funded_at  в формат datetime\n",
    "company_and_rounds_df['founded_at'] = pd.to_datetime(company_and_rounds_df['founded_at'], errors='coerce')\n",
    "company_and_rounds_df['closed_at'] = pd.to_datetime(company_and_rounds_df['closed_at'], errors='coerce')\n",
    "company_and_rounds_df['funded_at'] = pd.to_datetime(company_and_rounds_df['funded_at'], errors='coerce')\n",
    "company_and_rounds_df.info()"
   ]
  },
  {
   "cell_type": "markdown",
   "metadata": {},
   "source": [
    "\n",
    "<div class=\"alert alert-success\">\n",
    "<font size=\"5\"><b>Комментарий ревьюера</b></font>\n",
    "\n",
    "\n",
    "\n",
    "Успех 👍:\n",
    "\n",
    "\n",
    "\n",
    "👍\n",
    "\n",
    "\n",
    " \n",
    "    \n",
    "<div class=\"alert alert-warning\">\n",
    "\n",
    "\n",
    "\n",
    "Совет 🤔:\n",
    "\n",
    "\n",
    " \n",
    "    \n",
    "- Ещё можно было хитро автоматизировать приведение к нужному типу,  заметив что все столбцы которые нужно привести к типу datetime содержат \"_at\". Реализовать это можно по-разному, например использовать функцию в функций. Одна функция - это двойной цикл (Пробегается по всем датсетам а в каждом датасете по всем столбцам),  а в качестве аргумента в ней подаём другую функцию, которая в отношении столбца делает нужную операцию (Одна функция приводит к верному типу данных, другая работает со стилистикой название столбцов итп). Если не очень знакома тема функций, то ниже написал шаблончик можешь поиграться, добавив к   process_to_datetime, какие-то другие функции, которые ты хочешь применить к каждому столбцу какждого датасета - например поискать столбец в котроом содержится network_username (У нас есть такое задание)\n",
    "\t\n",
    "\t\n",
    "\n",
    "\n",
    "\t\t# код ревьюера\n",
    "\n",
    "\n",
    "\t\t# Пример функции для обработки столбца\n",
    "\t\tdef process_to_datetime(column):\n",
    "\t\t\t\"\"\"\n",
    "\t\t\tФункция, которая выполняет действия над столбцом.\n",
    "\t\t\tНапример, преобразует столбцы с '_at' в datetime.\n",
    "\t\t\t\"\"\"\n",
    "\t\t\tif '_at' in column.name:  # Проверяем, содержит ли название столбца '_at'\n",
    "\t\t\t\treturn pd.to_datetime(column)  # Преобразуем в datetime\n",
    "\t\t\treturn column  # Возвращаем столбец без изменений\n",
    "\n",
    "\t\t# Основная функция для обработки датасетов\n",
    "\t\tdef process_datasets(dataset_dict, column_processor):\n",
    "\t\t\t\"\"\"\n",
    "\t\t\tФункция, которая проходит по каждому датасету в словаре и каждому столбцу,\n",
    "\t\t\tприменяя к ним функцию column_processor.\n",
    "\t\t\t\"\"\"\n",
    "\t\t\tfor dataset_name, dataset in dataset_dict.items():  # Проходим по каждому датасету в словаре\n",
    "\t\t\t\tfor column_name in dataset.columns:  # Проходим по каждому столбцу\n",
    "\t\t\t\t\tdataset[column_name] = column_processor(dataset[column_name])  # Применяем функцию\n",
    "\t\t\treturn dataset_dict\n",
    "\n",
    "\t\t# Пример данных (создаём несколько датасетов для демонстрации)\n",
    "\t\tdata1 = pd.DataFrame({\n",
    "\t\t\t'created_at': ['2023-01-01', '2023-02-01'],\n",
    "\t\t\t'updated_at': ['2023-01-02', '2023-02-02'],\n",
    "\t\t\t'value': [10, 20]\n",
    "\t\t})\n",
    "\n",
    "\t\tdata2 = pd.DataFrame({\n",
    "\t\t\t'start_at': ['2023-03-01', '2023-04-01'],\n",
    "\t\t\t'end_at': ['2023-03-02', '2023-04-02'],\n",
    "\t\t\t'price': [100, 200]\n",
    "\t\t})\n",
    "\n",
    "\t\t# Словарь датасетов\n",
    "\t\tdataset_dict = {\n",
    "\t\t\t'dataset1': data1,\n",
    "\t\t\t'dataset2': data2\n",
    "\t\t}\n",
    "\n",
    "\t\t# Обрабатываем датасеты\n",
    "\t\tprocessed_datasets = process_datasets(dataset_dict, process_to_datetime)\n",
    "\n",
    "\t\t# Выводим результат\n",
    "\t\tfor dataset_name, dataset in processed_datasets.items():\n",
    "\t\t\tdisplay(f\"Датасет '{dataset_name}':\")\n",
    "\t\t\tdisplay(dataset)\n",
    " "
   ]
  },
  {
   "cell_type": "code",
   "execution_count": 10,
   "metadata": {},
   "outputs": [
    {
     "data": {
      "text/html": [
       "<div>\n",
       "<style scoped>\n",
       "    .dataframe tbody tr th:only-of-type {\n",
       "        vertical-align: middle;\n",
       "    }\n",
       "\n",
       "    .dataframe tbody tr th {\n",
       "        vertical-align: top;\n",
       "    }\n",
       "\n",
       "    .dataframe thead th {\n",
       "        text-align: right;\n",
       "    }\n",
       "</style>\n",
       "<table border=\"1\" class=\"dataframe\">\n",
       "  <thead>\n",
       "    <tr style=\"text-align: right;\">\n",
       "      <th></th>\n",
       "      <th>id</th>\n",
       "      <th>person_id</th>\n",
       "      <th>instituition</th>\n",
       "      <th>graduated_at</th>\n",
       "    </tr>\n",
       "  </thead>\n",
       "  <tbody>\n",
       "    <tr>\n",
       "      <th>0</th>\n",
       "      <td>1</td>\n",
       "      <td>6117</td>\n",
       "      <td>NaN</td>\n",
       "      <td>NaN</td>\n",
       "    </tr>\n",
       "    <tr>\n",
       "      <th>1</th>\n",
       "      <td>2</td>\n",
       "      <td>6136</td>\n",
       "      <td>Washington University, St. Louis</td>\n",
       "      <td>1990-01-01</td>\n",
       "    </tr>\n",
       "    <tr>\n",
       "      <th>2</th>\n",
       "      <td>3</td>\n",
       "      <td>6136</td>\n",
       "      <td>Boston University</td>\n",
       "      <td>1992-01-01</td>\n",
       "    </tr>\n",
       "    <tr>\n",
       "      <th>3</th>\n",
       "      <td>4</td>\n",
       "      <td>6005</td>\n",
       "      <td>University of Greenwich</td>\n",
       "      <td>2006-01-01</td>\n",
       "    </tr>\n",
       "    <tr>\n",
       "      <th>4</th>\n",
       "      <td>5</td>\n",
       "      <td>5832</td>\n",
       "      <td>Rice University</td>\n",
       "      <td>NaN</td>\n",
       "    </tr>\n",
       "  </tbody>\n",
       "</table>\n",
       "</div>"
      ],
      "text/plain": [
       "   id  person_id                      instituition graduated_at\n",
       "0   1       6117                               NaN          NaN\n",
       "1   2       6136  Washington University, St. Louis   1990-01-01\n",
       "2   3       6136                 Boston University   1992-01-01\n",
       "3   4       6005           University of Greenwich   2006-01-01\n",
       "4   5       5832                   Rice University          NaN"
      ]
     },
     "execution_count": 10,
     "metadata": {},
     "output_type": "execute_result"
    }
   ],
   "source": [
    "# Выводим первые строки датафрейма education_df на экран\n",
    "education_df.head()"
   ]
  },
  {
   "cell_type": "code",
   "execution_count": 11,
   "metadata": {},
   "outputs": [
    {
     "name": "stdout",
     "output_type": "stream",
     "text": [
      "<class 'pandas.core.frame.DataFrame'>\n",
      "RangeIndex: 109610 entries, 0 to 109609\n",
      "Data columns (total 4 columns):\n",
      " #   Column        Non-Null Count   Dtype \n",
      "---  ------        --------------   ----- \n",
      " 0   id            109610 non-null  int64 \n",
      " 1   person_id     109610 non-null  int64 \n",
      " 2   instituition  109555 non-null  object\n",
      " 3   graduated_at  58054 non-null   object\n",
      "dtypes: int64(2), object(2)\n",
      "memory usage: 3.3+ MB\n"
     ]
    }
   ],
   "source": [
    "# Выводим информацию о датафрейме education_df на экран\n",
    "education_df.info()"
   ]
  },
  {
   "cell_type": "markdown",
   "metadata": {},
   "source": [
    "Для столбца `graduated_at` - тип данных нужно перевести в **datetime**. Так же в этом столбце половина данных с пропусками, но скорее всего это связано с тем, что либо процесс образования ещё не завершён либо его вовсе нет."
   ]
  },
  {
   "cell_type": "code",
   "execution_count": 12,
   "metadata": {},
   "outputs": [
    {
     "name": "stdout",
     "output_type": "stream",
     "text": [
      "<class 'pandas.core.frame.DataFrame'>\n",
      "RangeIndex: 109610 entries, 0 to 109609\n",
      "Data columns (total 4 columns):\n",
      " #   Column        Non-Null Count   Dtype         \n",
      "---  ------        --------------   -----         \n",
      " 0   id            109610 non-null  int64         \n",
      " 1   person_id     109610 non-null  int64         \n",
      " 2   instituition  109555 non-null  object        \n",
      " 3   graduated_at  58054 non-null   datetime64[ns]\n",
      "dtypes: datetime64[ns](1), int64(2), object(1)\n",
      "memory usage: 3.3+ MB\n"
     ]
    }
   ],
   "source": [
    "# Меняем тип данных для столбца graduated_at в формат datetime\n",
    "education_df['graduated_at'] = pd.to_datetime(education_df['graduated_at'], errors='coerce')\n",
    "education_df.info()"
   ]
  },
  {
   "cell_type": "code",
   "execution_count": 13,
   "metadata": {},
   "outputs": [
    {
     "data": {
      "text/html": [
       "<div>\n",
       "<style scoped>\n",
       "    .dataframe tbody tr th:only-of-type {\n",
       "        vertical-align: middle;\n",
       "    }\n",
       "\n",
       "    .dataframe tbody tr th {\n",
       "        vertical-align: top;\n",
       "    }\n",
       "\n",
       "    .dataframe thead th {\n",
       "        text-align: right;\n",
       "    }\n",
       "</style>\n",
       "<table border=\"1\" class=\"dataframe\">\n",
       "  <thead>\n",
       "    <tr style=\"text-align: right;\">\n",
       "      <th></th>\n",
       "      <th>id</th>\n",
       "      <th>first_name</th>\n",
       "      <th>last_name</th>\n",
       "      <th>company_id</th>\n",
       "      <th>network_username</th>\n",
       "    </tr>\n",
       "  </thead>\n",
       "  <tbody>\n",
       "    <tr>\n",
       "      <th>0</th>\n",
       "      <td>10</td>\n",
       "      <td>Mark</td>\n",
       "      <td>Zuckerberg</td>\n",
       "      <td>5.0</td>\n",
       "      <td>NaN</td>\n",
       "    </tr>\n",
       "    <tr>\n",
       "      <th>1</th>\n",
       "      <td>100</td>\n",
       "      <td>Peter</td>\n",
       "      <td>Lester</td>\n",
       "      <td>27.0</td>\n",
       "      <td>NaN</td>\n",
       "    </tr>\n",
       "    <tr>\n",
       "      <th>2</th>\n",
       "      <td>1000</td>\n",
       "      <td>Dr. Steven</td>\n",
       "      <td>E. Saunders</td>\n",
       "      <td>292.0</td>\n",
       "      <td>NaN</td>\n",
       "    </tr>\n",
       "    <tr>\n",
       "      <th>3</th>\n",
       "      <td>10000</td>\n",
       "      <td>Neil</td>\n",
       "      <td>Capel</td>\n",
       "      <td>2526.0</td>\n",
       "      <td>NaN</td>\n",
       "    </tr>\n",
       "    <tr>\n",
       "      <th>4</th>\n",
       "      <td>100000</td>\n",
       "      <td>Sue</td>\n",
       "      <td>Pilsch</td>\n",
       "      <td>NaN</td>\n",
       "      <td>NaN</td>\n",
       "    </tr>\n",
       "  </tbody>\n",
       "</table>\n",
       "</div>"
      ],
      "text/plain": [
       "       id  first_name    last_name  company_id network_username\n",
       "0      10        Mark   Zuckerberg         5.0              NaN\n",
       "1     100       Peter       Lester        27.0              NaN\n",
       "2    1000  Dr. Steven  E. Saunders       292.0              NaN\n",
       "3   10000        Neil        Capel      2526.0              NaN\n",
       "4  100000         Sue       Pilsch         NaN              NaN"
      ]
     },
     "execution_count": 13,
     "metadata": {},
     "output_type": "execute_result"
    }
   ],
   "source": [
    "# Выводим первые строки датафрейма people_df на экран\n",
    "people_df.head(5)"
   ]
  },
  {
   "cell_type": "code",
   "execution_count": 14,
   "metadata": {},
   "outputs": [
    {
     "name": "stdout",
     "output_type": "stream",
     "text": [
      "<class 'pandas.core.frame.DataFrame'>\n",
      "RangeIndex: 226709 entries, 0 to 226708\n",
      "Data columns (total 5 columns):\n",
      " #   Column            Non-Null Count   Dtype  \n",
      "---  ------            --------------   -----  \n",
      " 0   id                226709 non-null  int64  \n",
      " 1   first_name        226704 non-null  object \n",
      " 2   last_name         226708 non-null  object \n",
      " 3   company_id        34615 non-null   float64\n",
      " 4   network_username  38867 non-null   object \n",
      "dtypes: float64(1), int64(1), object(3)\n",
      "memory usage: 8.6+ MB\n"
     ]
    }
   ],
   "source": [
    "# Выводим информацию о датафрейме people_df на экран\n",
    "people_df.info()"
   ]
  },
  {
   "cell_type": "markdown",
   "metadata": {},
   "source": [
    "Типы данные верные. В столбцах `company_id` и `network_username` большая часть - пропуски. Для столбца `company_id` такое количество пропусков выглядит критичным. Пока сложно сказать по какой причине для такого количества людей не определен id команиии, к которой он относится."
   ]
  },
  {
   "cell_type": "code",
   "execution_count": 15,
   "metadata": {},
   "outputs": [
    {
     "data": {
      "text/html": [
       "<div>\n",
       "<style scoped>\n",
       "    .dataframe tbody tr th:only-of-type {\n",
       "        vertical-align: middle;\n",
       "    }\n",
       "\n",
       "    .dataframe tbody tr th {\n",
       "        vertical-align: top;\n",
       "    }\n",
       "\n",
       "    .dataframe thead th {\n",
       "        text-align: right;\n",
       "    }\n",
       "</style>\n",
       "<table border=\"1\" class=\"dataframe\">\n",
       "  <thead>\n",
       "    <tr style=\"text-align: right;\">\n",
       "      <th></th>\n",
       "      <th>id</th>\n",
       "      <th>object_id</th>\n",
       "      <th>degree_type</th>\n",
       "      <th>subject</th>\n",
       "    </tr>\n",
       "  </thead>\n",
       "  <tbody>\n",
       "    <tr>\n",
       "      <th>0</th>\n",
       "      <td>1</td>\n",
       "      <td>p:6117</td>\n",
       "      <td>MBA</td>\n",
       "      <td>NaN</td>\n",
       "    </tr>\n",
       "    <tr>\n",
       "      <th>1</th>\n",
       "      <td>2</td>\n",
       "      <td>p:6136</td>\n",
       "      <td>BA</td>\n",
       "      <td>English, French</td>\n",
       "    </tr>\n",
       "    <tr>\n",
       "      <th>2</th>\n",
       "      <td>3</td>\n",
       "      <td>p:6136</td>\n",
       "      <td>MS</td>\n",
       "      <td>Mass Communication</td>\n",
       "    </tr>\n",
       "    <tr>\n",
       "      <th>3</th>\n",
       "      <td>4</td>\n",
       "      <td>p:6005</td>\n",
       "      <td>MS</td>\n",
       "      <td>Internet Technology</td>\n",
       "    </tr>\n",
       "    <tr>\n",
       "      <th>4</th>\n",
       "      <td>5</td>\n",
       "      <td>p:5832</td>\n",
       "      <td>BCS</td>\n",
       "      <td>Computer Science, Psychology</td>\n",
       "    </tr>\n",
       "  </tbody>\n",
       "</table>\n",
       "</div>"
      ],
      "text/plain": [
       "   id object_id degree_type                       subject\n",
       "0   1    p:6117         MBA                           NaN\n",
       "1   2    p:6136          BA               English, French\n",
       "2   3    p:6136          MS            Mass Communication\n",
       "3   4    p:6005          MS           Internet Technology\n",
       "4   5    p:5832         BCS  Computer Science, Psychology"
      ]
     },
     "execution_count": 15,
     "metadata": {},
     "output_type": "execute_result"
    }
   ],
   "source": [
    "# Выводим первые строки датафрейма degrees_df на экран\n",
    "degrees_df.head(5)"
   ]
  },
  {
   "cell_type": "markdown",
   "metadata": {},
   "source": [
    "Судя по всему в значениях столбца `object_id` есть лишние символы  **p:**, т.к. если сравнить данные в этом столбце с первыми `person_id` в таблице `education_df` они совпадают и скорее всего являются общии ключом для этих таблиц."
   ]
  },
  {
   "cell_type": "markdown",
   "metadata": {},
   "source": [
    "<div class=\"alert alert-success\">\n",
    "<font size=\"5\"><b>Комментарий ревьюера</b></font>\n",
    "\n",
    "\n",
    "\n",
    "Успех 👍:\n",
    "\n",
    "\n",
    "\n",
    "👍верное замечание\n",
    "\n",
    "\n",
    " "
   ]
  },
  {
   "cell_type": "code",
   "execution_count": 16,
   "metadata": {},
   "outputs": [
    {
     "name": "stdout",
     "output_type": "stream",
     "text": [
      "<class 'pandas.core.frame.DataFrame'>\n",
      "RangeIndex: 109610 entries, 0 to 109609\n",
      "Data columns (total 4 columns):\n",
      " #   Column       Non-Null Count   Dtype \n",
      "---  ------       --------------   ----- \n",
      " 0   id           109610 non-null  int64 \n",
      " 1   object_id    109610 non-null  object\n",
      " 2   degree_type  98392 non-null   object\n",
      " 3   subject      81298 non-null   object\n",
      "dtypes: int64(1), object(3)\n",
      "memory usage: 3.3+ MB\n"
     ]
    }
   ],
   "source": [
    "# Выводим информацию о датафрейме education_df на экран\n",
    "degrees_df.info()"
   ]
  },
  {
   "cell_type": "markdown",
   "metadata": {},
   "source": [
    " Пропуски в столбцах `degree_type` и `subject` могут быть связаны с отстуствием образования у сотрудника."
   ]
  },
  {
   "cell_type": "markdown",
   "metadata": {},
   "source": [
    "В ходе знакомства с данными были заменены типы данных на **datetime64** для столбцов с датами. На текущем этапе все пропуски оставим как есть, т.к. рано принимать решение о том, что с ними делать и приступим к более детальному исследованию и предобработке данных. "
   ]
  },
  {
   "cell_type": "markdown",
   "metadata": {},
   "source": [
    "\n",
    "<div class=\"alert alert-success\">\n",
    "<font size=\"5\"><b>Комментарий ревьюера</b></font>\n",
    "\n",
    "Успех:\n",
    "\n",
    "\n",
    "Предварительная работа проведена\n",
    "\n",
    "\n",
    "     \n",
    "<div class=\"alert alert-warning\">\n",
    "\n",
    "Совет 🤔:\n",
    "\n",
    " \n",
    "\n",
    "- Можно было найти опечатку \n",
    "\n",
    "\n",
    "- Можно было дополнительно сконцентрировать внимание на     company  ID и company  id. Почему такие одинаковые названия, что за этим стоит? Сделать проверку насколько они совпадают. Можно красиво это увидеть с помощью (схема) \n",
    "\n",
    "\n",
    "\tfirst_id = set(company_and_rounds_df['company  ID'].dropna().unique())\n",
    "\tsecond_id = set(company_and_rounds_df['company  id'].dropna().unique())\n",
    "\t# Строим диаграмму Венна\n",
    "\tvenn2([first_id, second_id], set_labels=('company  ID', 'company  id'))\n",
    "\n",
    "\t# Отображаем график\n",
    "\tplt.title(\"Пересечение \")\n",
    "\tplt.show() \n",
    "\t\n",
    "\t\n",
    " \n",
    "\t\t\n",
    "\t\n",
    "\n",
    "- Можно найти  пропуски, которые  прочитались как строка \"nan\", и подправить это ндоразумение  в company_and_rounds и в fund  \n",
    "\n",
    " \n",
    "\n",
    " "
   ]
  },
  {
   "cell_type": "markdown",
   "metadata": {
    "id": "u60cHsn6rJg1"
   },
   "source": [
    "## Шаг 2. Предобработка данных, предварительное исследование"
   ]
  },
  {
   "cell_type": "markdown",
   "metadata": {
    "id": "g2bHIIjcrJg1"
   },
   "source": [
    "\n",
    "### 2.1. Раунды финансирования по годам\n",
    "\n",
    "Задание необходимо выполнить без объединения и дополнительной предобработки на основе датасета `company_and_rounds.csv`.\n",
    "\n",
    "- Составьте сводную таблицу по годам, в которой на основании столбца `raised_amount` для каждого года указан:\n",
    "    - типичный размер средств, выделяемый в рамках одного раунда;\n",
    "    - общее количество раундов финансирования за этот год.\n",
    "    \n",
    "- Оставьте в таблице информацию только для тех лет, для которых есть информация о более чем 50 раундах финансирования.\n",
    "- На основе получившейся таблицы постройте график, который будет отражать динамику типичного размера средств, которые стартапы получали в рамках одного раунда финансирования.\n",
    "\n",
    "На основе полученных данных ответьте на вопросы:\n",
    "\n",
    "- В каком году типичный размер собранных в рамках одного раунда средств был максимален?\n",
    "- Какая тенденция по количеству раундов и выделяемых в рамках каждого раунда средств наблюдалась в 2013 году?"
   ]
  },
  {
   "cell_type": "code",
   "execution_count": 17,
   "metadata": {
    "id": "Cf5IjfOQrJg1",
    "vscode": {
     "languageId": "plaintext"
    }
   },
   "outputs": [],
   "source": [
    "# Извлекаем год из столбца funded_at\n",
    "company_and_rounds_df['funded_year'] = company_and_rounds_df['funded_at'].dt.year"
   ]
  },
  {
   "cell_type": "code",
   "execution_count": 18,
   "metadata": {
    "id": "8Fbz6KmzFdYP"
   },
   "outputs": [],
   "source": [
    "# Создаем сводную таблицу\n",
    "pivot_table_rounds = company_and_rounds_df.pivot_table( values='raised_amount',\n",
    "                                                        index='funded_year',\n",
    "                                                        aggfunc={'raised_amount': ['median', 'count']})"
   ]
  },
  {
   "cell_type": "code",
   "execution_count": 19,
   "metadata": {
    "id": "Z92DzKMMFdKW"
   },
   "outputs": [],
   "source": [
    "# Переименовываем столбцы для наглядности\n",
    "pivot_table_rounds.columns = ['number_of_funding_rounds', 'median_raised_amount']"
   ]
  },
  {
   "cell_type": "code",
   "execution_count": 20,
   "metadata": {},
   "outputs": [],
   "source": [
    "# Создаем новый столбец total_amount_funding\n",
    "pivot_table_rounds['total_amount_funding'] = pivot_table_rounds['median_raised_amount'] * pivot_table_rounds['number_of_funding_rounds']"
   ]
  },
  {
   "cell_type": "code",
   "execution_count": 21,
   "metadata": {},
   "outputs": [],
   "source": [
    "# Фильтруем строки, где number_of_funding_rounds больше 50\n",
    "pivot_table_rounds = pivot_table_rounds[pivot_table_rounds['number_of_funding_rounds'] > 50]"
   ]
  },
  {
   "cell_type": "code",
   "execution_count": 22,
   "metadata": {},
   "outputs": [],
   "source": [
    "# Создаем новый столбец total_amount_funding где находим общую сумму инвестирования\n",
    "pivot_table_rounds['total_amount_funding'] = pivot_table_rounds['median_raised_amount'] * pivot_table_rounds['number_of_funding_rounds']"
   ]
  },
  {
   "cell_type": "code",
   "execution_count": 23,
   "metadata": {},
   "outputs": [],
   "source": [
    "# Сортируем по году\n",
    "pivot_table_rounds = pivot_table_rounds.sort_index()"
   ]
  },
  {
   "cell_type": "code",
   "execution_count": 24,
   "metadata": {
    "scrolled": true
   },
   "outputs": [
    {
     "data": {
      "text/html": [
       "<div>\n",
       "<style scoped>\n",
       "    .dataframe tbody tr th:only-of-type {\n",
       "        vertical-align: middle;\n",
       "    }\n",
       "\n",
       "    .dataframe tbody tr th {\n",
       "        vertical-align: top;\n",
       "    }\n",
       "\n",
       "    .dataframe thead th {\n",
       "        text-align: right;\n",
       "    }\n",
       "</style>\n",
       "<table border=\"1\" class=\"dataframe\">\n",
       "  <thead>\n",
       "    <tr style=\"text-align: right;\">\n",
       "      <th></th>\n",
       "      <th>number_of_funding_rounds</th>\n",
       "      <th>median_raised_amount</th>\n",
       "      <th>total_amount_funding</th>\n",
       "    </tr>\n",
       "    <tr>\n",
       "      <th>funded_year</th>\n",
       "      <th></th>\n",
       "      <th></th>\n",
       "      <th></th>\n",
       "    </tr>\n",
       "  </thead>\n",
       "  <tbody>\n",
       "    <tr>\n",
       "      <th>1999.0</th>\n",
       "      <td>76</td>\n",
       "      <td>2000000.0</td>\n",
       "      <td>1.520000e+08</td>\n",
       "    </tr>\n",
       "    <tr>\n",
       "      <th>2000.0</th>\n",
       "      <td>125</td>\n",
       "      <td>4200000.0</td>\n",
       "      <td>5.250000e+08</td>\n",
       "    </tr>\n",
       "    <tr>\n",
       "      <th>2001.0</th>\n",
       "      <td>96</td>\n",
       "      <td>3000000.0</td>\n",
       "      <td>2.880000e+08</td>\n",
       "    </tr>\n",
       "    <tr>\n",
       "      <th>2002.0</th>\n",
       "      <td>116</td>\n",
       "      <td>4200000.0</td>\n",
       "      <td>4.872000e+08</td>\n",
       "    </tr>\n",
       "    <tr>\n",
       "      <th>2003.0</th>\n",
       "      <td>159</td>\n",
       "      <td>3000000.0</td>\n",
       "      <td>4.770000e+08</td>\n",
       "    </tr>\n",
       "    <tr>\n",
       "      <th>2004.0</th>\n",
       "      <td>291</td>\n",
       "      <td>5000000.0</td>\n",
       "      <td>1.455000e+09</td>\n",
       "    </tr>\n",
       "    <tr>\n",
       "      <th>2005.0</th>\n",
       "      <td>1633</td>\n",
       "      <td>5500000.0</td>\n",
       "      <td>8.981500e+09</td>\n",
       "    </tr>\n",
       "    <tr>\n",
       "      <th>2006.0</th>\n",
       "      <td>2436</td>\n",
       "      <td>5000000.0</td>\n",
       "      <td>1.218000e+10</td>\n",
       "    </tr>\n",
       "    <tr>\n",
       "      <th>2007.0</th>\n",
       "      <td>3279</td>\n",
       "      <td>3973320.0</td>\n",
       "      <td>1.302852e+10</td>\n",
       "    </tr>\n",
       "    <tr>\n",
       "      <th>2008.0</th>\n",
       "      <td>3774</td>\n",
       "      <td>3110000.0</td>\n",
       "      <td>1.173714e+10</td>\n",
       "    </tr>\n",
       "    <tr>\n",
       "      <th>2009.0</th>\n",
       "      <td>4151</td>\n",
       "      <td>2000000.0</td>\n",
       "      <td>8.302000e+09</td>\n",
       "    </tr>\n",
       "    <tr>\n",
       "      <th>2010.0</th>\n",
       "      <td>6221</td>\n",
       "      <td>1602500.0</td>\n",
       "      <td>9.969152e+09</td>\n",
       "    </tr>\n",
       "    <tr>\n",
       "      <th>2011.0</th>\n",
       "      <td>9204</td>\n",
       "      <td>1200000.0</td>\n",
       "      <td>1.104480e+10</td>\n",
       "    </tr>\n",
       "    <tr>\n",
       "      <th>2012.0</th>\n",
       "      <td>9970</td>\n",
       "      <td>1000000.0</td>\n",
       "      <td>9.970000e+09</td>\n",
       "    </tr>\n",
       "    <tr>\n",
       "      <th>2013.0</th>\n",
       "      <td>11072</td>\n",
       "      <td>1200000.0</td>\n",
       "      <td>1.328640e+10</td>\n",
       "    </tr>\n",
       "  </tbody>\n",
       "</table>\n",
       "</div>"
      ],
      "text/plain": [
       "             number_of_funding_rounds  median_raised_amount  \\\n",
       "funded_year                                                   \n",
       "1999.0                             76             2000000.0   \n",
       "2000.0                            125             4200000.0   \n",
       "2001.0                             96             3000000.0   \n",
       "2002.0                            116             4200000.0   \n",
       "2003.0                            159             3000000.0   \n",
       "2004.0                            291             5000000.0   \n",
       "2005.0                           1633             5500000.0   \n",
       "2006.0                           2436             5000000.0   \n",
       "2007.0                           3279             3973320.0   \n",
       "2008.0                           3774             3110000.0   \n",
       "2009.0                           4151             2000000.0   \n",
       "2010.0                           6221             1602500.0   \n",
       "2011.0                           9204             1200000.0   \n",
       "2012.0                           9970             1000000.0   \n",
       "2013.0                          11072             1200000.0   \n",
       "\n",
       "             total_amount_funding  \n",
       "funded_year                        \n",
       "1999.0               1.520000e+08  \n",
       "2000.0               5.250000e+08  \n",
       "2001.0               2.880000e+08  \n",
       "2002.0               4.872000e+08  \n",
       "2003.0               4.770000e+08  \n",
       "2004.0               1.455000e+09  \n",
       "2005.0               8.981500e+09  \n",
       "2006.0               1.218000e+10  \n",
       "2007.0               1.302852e+10  \n",
       "2008.0               1.173714e+10  \n",
       "2009.0               8.302000e+09  \n",
       "2010.0               9.969152e+09  \n",
       "2011.0               1.104480e+10  \n",
       "2012.0               9.970000e+09  \n",
       "2013.0               1.328640e+10  "
      ]
     },
     "execution_count": 24,
     "metadata": {},
     "output_type": "execute_result"
    }
   ],
   "source": [
    "# Выводим результат\n",
    "pivot_table_rounds"
   ]
  },
  {
   "cell_type": "code",
   "execution_count": 25,
   "metadata": {},
   "outputs": [
    {
     "data": {
      "image/png": "[encoded data removed]",
      "text/plain": [
       "<Figure size 864x432 with 1 Axes>"
      ]
     },
     "metadata": {
      "needs_background": "light"
     },
     "output_type": "display_data"
    }
   ],
   "source": [
    "# Создаем линейный график\n",
    "plt.figure(figsize=(12, 6))\n",
    "sns.lineplot(\n",
    "    x=pivot_table_rounds.index,\n",
    "    y=pivot_table_rounds['median_raised_amount'],\n",
    "    marker='o')\n",
    "\n",
    "# Оформляем график\n",
    "plt.title('Динамика типичных сумм финансирования по годам', fontsize=16)\n",
    "plt.xlabel('Год', fontsize=14)\n",
    "plt.ylabel('Сумма финансирования ($)', fontsize=14)\n",
    "plt.grid(True, alpha=0.3)\n",
    "\n",
    "# Отображение графика\n",
    "plt.show()"
   ]
  },
  {
   "cell_type": "markdown",
   "metadata": {},
   "source": [
    "По графику видно, что с 1999 по 2005 год тенденция типичной суммы финансирования была не стабильной, но в целом росла. Достигнув в 2005 своего пика начала стабильно падать вплоть до 2012 года, но с к 2013 снова начала расти. При этом количество раундов финансирования всегда стабильно шло вверх и  к 2013 году стало равно 11072, что в 145 раз больше, чем в 1999 году, где число раундов равнялось 76.\n",
    "\n",
    "Теперь сравним типичную сумму финансирования с общей суммой, чтобы лучше понять ситуацию на рынке инвестиций в стартапы."
   ]
  },
  {
   "cell_type": "code",
   "execution_count": 26,
   "metadata": {
    "scrolled": true
   },
   "outputs": [
    {
     "data": {
      "image/png": "[encoded data removed]",
      "text/plain": [
       "<Figure size 864x432 with 2 Axes>"
      ]
     },
     "metadata": {
      "needs_background": "light"
     },
     "output_type": "display_data"
    }
   ],
   "source": [
    "# Создаем фигуру и основной axes\n",
    "plt.figure(figsize=(12, 6))\n",
    "ax1 = plt.gca()  # получаем текущий axes\n",
    "\n",
    "# Строим первую линию (median_raised_amount) на основной оси\n",
    "line1 = sns.lineplot(\n",
    "    x=pivot_table_rounds.index,\n",
    "    y=pivot_table_rounds['median_raised_amount'],\n",
    "    marker='o',\n",
    "    color='blue',\n",
    "    label='Типичная сумма финансирования'\n",
    ")\n",
    "\n",
    "# Создаем вторую ось y\n",
    "ax2 = ax1.twinx()  # создаем вторую ось, связанную с первой\n",
    "\n",
    "# Строим вторую линию (total_amount_funding) на второй оси\n",
    "line2 = sns.lineplot(\n",
    "    x=pivot_table_rounds.index,\n",
    "    y=pivot_table_rounds['total_amount_funding'],\n",
    "    marker='s',\n",
    "    color='orange',\n",
    "    label='Общая сумма финансирования',\n",
    "    ax=ax2\n",
    ")\n",
    "\n",
    "# Настраиваем метки для обеих осей\n",
    "ax1.set_ylabel('Медианная сумма ($)', color='blue', fontsize=14)\n",
    "ax2.set_ylabel('Общая сумма ($)', color='orange', fontsize=14)\n",
    "\n",
    "# Создаем объединенную легенду\n",
    "lines = line1.lines + line2.lines\n",
    "labels = [line.get_label() for line in lines]\n",
    "\n",
    "# Размещаем легенду за пределами графика\n",
    "plt.legend(lines, labels, loc='upper left', bbox_to_anchor=(1.05, 1), fontsize=14)\n",
    "\n",
    "# Оформляем график\n",
    "plt.title('Динамика сумм финансирования по годам', fontsize=16)\n",
    "plt.xlabel('Год', fontsize=14)\n",
    "plt.grid(True, alpha=0.3)\n",
    "\n",
    "# Отображение графика\n",
    "plt.show()"
   ]
  },
  {
   "cell_type": "markdown",
   "metadata": {},
   "source": [
    "По графику видно, что, рынок инвестирования начал резко расти с 2004 года, достиг пика к 2007 и находился примерно на одном уровне с периодическими падениями и взлётами вплоть до 2012 года. А вот к 2013 тоже резко пошёл вверх как сумма финансирования на раунд. \n",
    "Т.к. в целом рынок оставался на одном уровне в тот период, когда типичная сумма финансирования шла только вниз, нельзя сказать, что падение было связано с потерей интереса к инвестированию в стартапы. Получается, что общая сумма просто дробилась на бОльшее количество проектов, а вот к 2013 интерес к инвестированию однозначно вырос - выросло и количество проектов и суммы которые в них были инвестированы."
   ]
  },
  {
   "cell_type": "markdown",
   "metadata": {},
   "source": [
    " \n",
    "<div class=\"alert alert-danger\">\n",
    "<font size=\"5\"><b>Комментарий ревьюера</b></font>\n",
    "\n",
    "\n",
    "\n",
    "Ошибка ❌:\n",
    "\n",
    "\n",
    "Данные подготовлены верно, но график построен не по тому столбцу, как и > 50. В общем вот тут неправильный порядок\n",
    "    \n",
    "    \n",
    "    \n",
    "    ['median_raised_amount', 'number_of_funding_rounds']\n",
    "    \n",
    "     \n",
    "\n",
    "    \n",
    "<div class=\"alert alert-warning\">\n",
    "\n",
    "Совет 🤔:\n",
    "\n",
    "    \n",
    " \n",
    "    \n",
    "- По оси Y пишем в чём измеряются цифры   \t\n",
    "\t\n",
    "\t\n",
    " \n",
    "    \n",
    "    \n",
    "- Когда имеем дело с временными рядами, есть такой классический инструмент как скользящая средняя. Тенденции очевидны и так, но если хочешь можешь наложить, для сглаживания     \n",
    "    \n",
    "    \n",
    "    \n",
    "- Кстати тут можно добавить коэффициент дефляции,  ведь покупательная способность одного доллара в 2000 и 2013 года разная. Такой вот экономический аспектик     \n",
    "    \n",
    "     "
   ]
  },
  {
   "cell_type": "markdown",
   "metadata": {},
   "source": [
    "\n",
    "<div class=\"alert alert-warning\">\n",
    "<font size=\"5\"><b>Комментарий ревьюера</b></font>\n",
    "\n",
    "\n",
    "\n",
    "Совет 🤔:\n",
    "\n",
    "\n",
    " \n",
    "\n",
    "\n",
    "\n",
    "Можно углубить анализ, ведь тут очень интересная тенденции.  \n",
    "    \n",
    "Представь, что ты аналитик в венчурной компании. Ваш босс говорит: 'Инвестиции в стартапы растут/падают, но я хочу понять, за счёт чего это происходит. Может, мы просто стали чаще/реже вкладывать деньги? Или мы стали вкладывать больше/меньше в каждый раунд? Или и то, и другое?'\n",
    "\n",
    "Ваша задача:\n",
    "\n",
    "Посчитайте количество раундов инвестирования каждый год (x).\n",
    "\n",
    "Определите средний размер инвестиций в каждом раунде (y).\n",
    "\n",
    "Сравните их с общим объёмом инвестиций (z).\n",
    "\n",
    "Сделайте вывод: что больше влияет на рост — количество сделок или их размер?\".  То есть я тебе предлагаю разложить z:     \n",
    "    \n",
    "    \n",
    "    \n",
    "    z = x*y\n",
    " \n",
    "    \n",
    "Предлагаю проанализировать с этой точки зрения,  и тогда мы сможем заметить нечто большее чем  \"финансирование за раунд последние годы падает\", и ответить на главный вопрос - \"рынок инвестиций в стартапы на подъёме или на спаде, и за счёт чего\" \n",
    "\n",
    "Тут лучше дополнительно построить график по количеству раундов, и суммарным инвестициям\n",
    " "
   ]
  },
  {
   "cell_type": "markdown",
   "metadata": {},
   "source": [
    "<div class=\"alert alert-info\"> <b>Комментарии студентаV1:</b> Исправила график. И попробовала воспользоваться твоим советом. Совсем по другому заиграли данные. Спасибо!) </div>"
   ]
  },
  {
   "cell_type": "markdown",
   "metadata": {
    "id": "45if1en1rJg2"
   },
   "source": [
    "\n",
    "### 2.2. Люди и их образование\n",
    "\n",
    "Заказчик хочет понять, зависит ли полнота сведений о сотрудниках (например, об их образовании) от размера компаний.\n",
    "\n",
    "- Оцените, насколько информация об образовании сотрудников полна. Используя датасеты `people.csv` и `education.csv`, разделите все компании на несколько групп по количеству сотрудников и оцените среднюю долю сотрудников без информации об образовании в каждой из групп. Обоснуйте выбранные границы групп.\n",
    "- Оцените, возможно ли для выполнения задания присоединить к этим таблицам ещё и таблицу `degrees.csv`."
   ]
  },
  {
   "cell_type": "code",
   "execution_count": 27,
   "metadata": {
    "id": "psPO7C4MrJg2",
    "vscode": {
     "languageId": "plaintext"
    }
   },
   "outputs": [
    {
     "data": {
      "text/html": [
       "<div>\n",
       "<style scoped>\n",
       "    .dataframe tbody tr th:only-of-type {\n",
       "        vertical-align: middle;\n",
       "    }\n",
       "\n",
       "    .dataframe tbody tr th {\n",
       "        vertical-align: top;\n",
       "    }\n",
       "\n",
       "    .dataframe thead th {\n",
       "        text-align: right;\n",
       "    }\n",
       "</style>\n",
       "<table border=\"1\" class=\"dataframe\">\n",
       "  <thead>\n",
       "    <tr style=\"text-align: right;\">\n",
       "      <th></th>\n",
       "      <th>id_x</th>\n",
       "      <th>first_name</th>\n",
       "      <th>last_name</th>\n",
       "      <th>company_id</th>\n",
       "      <th>network_username</th>\n",
       "      <th>id_y</th>\n",
       "      <th>person_id</th>\n",
       "      <th>instituition</th>\n",
       "      <th>graduated_at</th>\n",
       "    </tr>\n",
       "  </thead>\n",
       "  <tbody>\n",
       "    <tr>\n",
       "      <th>0</th>\n",
       "      <td>10</td>\n",
       "      <td>Mark</td>\n",
       "      <td>Zuckerberg</td>\n",
       "      <td>5.0</td>\n",
       "      <td>NaN</td>\n",
       "      <td>2415.0</td>\n",
       "      <td>10.0</td>\n",
       "      <td>Harvard University</td>\n",
       "      <td>NaT</td>\n",
       "    </tr>\n",
       "    <tr>\n",
       "      <th>1</th>\n",
       "      <td>100</td>\n",
       "      <td>Peter</td>\n",
       "      <td>Lester</td>\n",
       "      <td>27.0</td>\n",
       "      <td>NaN</td>\n",
       "      <td>NaN</td>\n",
       "      <td>NaN</td>\n",
       "      <td>NaN</td>\n",
       "      <td>NaT</td>\n",
       "    </tr>\n",
       "    <tr>\n",
       "      <th>2</th>\n",
       "      <td>1000</td>\n",
       "      <td>Dr. Steven</td>\n",
       "      <td>E. Saunders</td>\n",
       "      <td>292.0</td>\n",
       "      <td>NaN</td>\n",
       "      <td>NaN</td>\n",
       "      <td>NaN</td>\n",
       "      <td>NaN</td>\n",
       "      <td>NaT</td>\n",
       "    </tr>\n",
       "    <tr>\n",
       "      <th>3</th>\n",
       "      <td>10000</td>\n",
       "      <td>Neil</td>\n",
       "      <td>Capel</td>\n",
       "      <td>2526.0</td>\n",
       "      <td>NaN</td>\n",
       "      <td>NaN</td>\n",
       "      <td>NaN</td>\n",
       "      <td>NaN</td>\n",
       "      <td>NaT</td>\n",
       "    </tr>\n",
       "    <tr>\n",
       "      <th>4</th>\n",
       "      <td>100000</td>\n",
       "      <td>Sue</td>\n",
       "      <td>Pilsch</td>\n",
       "      <td>NaN</td>\n",
       "      <td>NaN</td>\n",
       "      <td>NaN</td>\n",
       "      <td>NaN</td>\n",
       "      <td>NaN</td>\n",
       "      <td>NaT</td>\n",
       "    </tr>\n",
       "  </tbody>\n",
       "</table>\n",
       "</div>"
      ],
      "text/plain": [
       "     id_x  first_name    last_name  company_id network_username    id_y  \\\n",
       "0      10        Mark   Zuckerberg         5.0              NaN  2415.0   \n",
       "1     100       Peter       Lester        27.0              NaN     NaN   \n",
       "2    1000  Dr. Steven  E. Saunders       292.0              NaN     NaN   \n",
       "3   10000        Neil        Capel      2526.0              NaN     NaN   \n",
       "4  100000         Sue       Pilsch         NaN              NaN     NaN   \n",
       "\n",
       "   person_id        instituition graduated_at  \n",
       "0       10.0  Harvard University          NaT  \n",
       "1        NaN                 NaN          NaT  \n",
       "2        NaN                 NaN          NaT  \n",
       "3        NaN                 NaN          NaT  \n",
       "4        NaN                 NaN          NaT  "
      ]
     },
     "execution_count": 27,
     "metadata": {},
     "output_type": "execute_result"
    }
   ],
   "source": [
    "# Объединяем таблицы people.csv и education.csv\n",
    "merged_df_people = people_df.merge(education_df, left_on='id', right_on='person_id', how='left')\n",
    "merged_df_people.head()"
   ]
  },
  {
   "cell_type": "markdown",
   "metadata": {},
   "source": [
    "<div class=\"alert alert-success\">\n",
    "<font size=\"5\"><b>Комментарий ревьюера</b></font>\n",
    "\n",
    "\n",
    "\n",
    "Успех 👍:\n",
    "\n",
    "\n",
    "\n",
    "👍Верно\n",
    "\n",
    "\n",
    " \n",
    "\n",
    "<div class=\"alert alert-warning\">\n",
    " \n",
    "\n",
    "\n",
    "Совет 🤔:\n",
    "\n",
    "\n",
    "- Можно добавить suffixes = ('_people','_education'), и будет чётче видно\n",
    "    \n",
    "    \n",
    "    id_x  ---- > id_people\n",
    "    id_y  ---- > id__education\n",
    "    \n",
    "    \n",
    " \n",
    "\n",
    "- Можешь посмотреть на сотрудников company_id' == 1,  и обнаружишь там несколько раз Kevin\tFlaherty,  получается ты одного и того же человека посчитала два раза.  И в стартапе в котором на самом деле два человека Alex Weinstein и Kevin Flaherty, у тебя 3 \n",
    "   \n",
    "И в результате наши данные немножко исказятся\n",
    " "
   ]
  },
  {
   "cell_type": "markdown",
   "metadata": {},
   "source": [
    "<div class=\"alert alert-info\"> <b>Комментарии студентаV1:</b> Ниже я добавила удаление дубликатов, но по моему всё равно не помогло. И стоило ли это вообще делать тоже не уверена теперь. Что было правильней сделать, чтобы не считать лишних людей в таком случае? </div>"
   ]
  },
  {
   "cell_type": "code",
   "execution_count": 28,
   "metadata": {
    "id": "BThTjpLqFcsm"
   },
   "outputs": [
    {
     "name": "stdout",
     "output_type": "stream",
     "text": [
      "<class 'pandas.core.frame.DataFrame'>\n",
      "Int64Index: 267694 entries, 0 to 267693\n",
      "Data columns (total 9 columns):\n",
      " #   Column            Non-Null Count   Dtype         \n",
      "---  ------            --------------   -----         \n",
      " 0   id_x              267694 non-null  int64         \n",
      " 1   first_name        267689 non-null  object        \n",
      " 2   last_name         267693 non-null  object        \n",
      " 3   company_id        44789 non-null   float64       \n",
      " 4   network_username  50775 non-null   object        \n",
      " 5   id_y              109056 non-null  float64       \n",
      " 6   person_id         109056 non-null  float64       \n",
      " 7   instituition      109002 non-null  object        \n",
      " 8   graduated_at      57691 non-null   datetime64[ns]\n",
      "dtypes: datetime64[ns](1), float64(3), int64(1), object(4)\n",
      "memory usage: 20.4+ MB\n"
     ]
    }
   ],
   "source": [
    "# Выводим информацию о датафрейме merged_df_people на экран\n",
    "merged_df_people.info()"
   ]
  },
  {
   "cell_type": "markdown",
   "metadata": {},
   "source": [
    "Перед тем как начать делать на категории, удалим явные дубликаты из таблицы merged_df_people"
   ]
  },
  {
   "cell_type": "code",
   "execution_count": 29,
   "metadata": {},
   "outputs": [
    {
     "name": "stdout",
     "output_type": "stream",
     "text": [
      "Исходное количество строк: 267694\n",
      "Количество строк после удаления: 218400\n"
     ]
    }
   ],
   "source": [
    "# Количество строк до удаления в таблице merged_df_people\n",
    "initial_row_count = merged_df_people.shape[0]\n",
    "print(f\"Исходное количество строк: {initial_row_count}\")\n",
    "\n",
    "# Удаляем дубликаты, используя указанные столбцы\n",
    "merged_df_people = merged_df_people.drop_duplicates(subset=['first_name', 'last_name', 'company_id', 'network_username'], keep='first')\n",
    "\n",
    "# Количество строк после удаления\n",
    "final_row_count = merged_df_people.shape[0]\n",
    "print(f\"Количество строк после удаления: {final_row_count}\")"
   ]
  },
  {
   "cell_type": "markdown",
   "metadata": {
    "id": "4FC98Pd-FcmG"
   },
   "source": [
    "Будем считать, что если у сотрудника в обоих столбцах `instituition` и `graduated_at` пустые значения, значит образование отсутствует. Для удобства создадим новый столбец с признаком наличия или отсутсвия образования, где **True** - отсутсвие образования и **False** - наличие."
   ]
  },
  {
   "cell_type": "markdown",
   "metadata": {},
   "source": [
    "<div class=\"alert alert-success\">\n",
    "<font size=\"5\"><b>Комментарий ревьюера</b></font>\n",
    "\n",
    "\n",
    "\n",
    "Успех 👍:\n",
    "\n",
    "\n",
    "\n",
    "логика понятная\n",
    "\n",
    "\n",
    " "
   ]
  },
  {
   "cell_type": "code",
   "execution_count": 30,
   "metadata": {
    "scrolled": true
   },
   "outputs": [
    {
     "data": {
      "text/html": [
       "<div>\n",
       "<style scoped>\n",
       "    .dataframe tbody tr th:only-of-type {\n",
       "        vertical-align: middle;\n",
       "    }\n",
       "\n",
       "    .dataframe tbody tr th {\n",
       "        vertical-align: top;\n",
       "    }\n",
       "\n",
       "    .dataframe thead th {\n",
       "        text-align: right;\n",
       "    }\n",
       "</style>\n",
       "<table border=\"1\" class=\"dataframe\">\n",
       "  <thead>\n",
       "    <tr style=\"text-align: right;\">\n",
       "      <th></th>\n",
       "      <th>id_x</th>\n",
       "      <th>first_name</th>\n",
       "      <th>last_name</th>\n",
       "      <th>company_id</th>\n",
       "      <th>network_username</th>\n",
       "      <th>id_y</th>\n",
       "      <th>person_id</th>\n",
       "      <th>instituition</th>\n",
       "      <th>graduated_at</th>\n",
       "      <th>no_education</th>\n",
       "    </tr>\n",
       "  </thead>\n",
       "  <tbody>\n",
       "    <tr>\n",
       "      <th>95986</th>\n",
       "      <td>196732</td>\n",
       "      <td>Pavan</td>\n",
       "      <td>K. S</td>\n",
       "      <td>NaN</td>\n",
       "      <td>NaN</td>\n",
       "      <td>NaN</td>\n",
       "      <td>NaN</td>\n",
       "      <td>NaN</td>\n",
       "      <td>NaT</td>\n",
       "      <td>True</td>\n",
       "    </tr>\n",
       "    <tr>\n",
       "      <th>47069</th>\n",
       "      <td>152694</td>\n",
       "      <td>Ashley</td>\n",
       "      <td>Willhite</td>\n",
       "      <td>NaN</td>\n",
       "      <td>NaN</td>\n",
       "      <td>NaN</td>\n",
       "      <td>NaN</td>\n",
       "      <td>NaN</td>\n",
       "      <td>NaT</td>\n",
       "      <td>True</td>\n",
       "    </tr>\n",
       "    <tr>\n",
       "      <th>127342</th>\n",
       "      <td>222165</td>\n",
       "      <td>Morris</td>\n",
       "      <td>Bryant</td>\n",
       "      <td>NaN</td>\n",
       "      <td>NaN</td>\n",
       "      <td>NaN</td>\n",
       "      <td>NaN</td>\n",
       "      <td>NaN</td>\n",
       "      <td>NaT</td>\n",
       "      <td>True</td>\n",
       "    </tr>\n",
       "    <tr>\n",
       "      <th>219356</th>\n",
       "      <td>54408</td>\n",
       "      <td>Joseph</td>\n",
       "      <td>May</td>\n",
       "      <td>NaN</td>\n",
       "      <td>NaN</td>\n",
       "      <td>NaN</td>\n",
       "      <td>NaN</td>\n",
       "      <td>NaN</td>\n",
       "      <td>NaT</td>\n",
       "      <td>True</td>\n",
       "    </tr>\n",
       "    <tr>\n",
       "      <th>128372</th>\n",
       "      <td>222979</td>\n",
       "      <td>Geoff</td>\n",
       "      <td>Meagher</td>\n",
       "      <td>223516.0</td>\n",
       "      <td>NaN</td>\n",
       "      <td>NaN</td>\n",
       "      <td>NaN</td>\n",
       "      <td>NaN</td>\n",
       "      <td>NaT</td>\n",
       "      <td>True</td>\n",
       "    </tr>\n",
       "  </tbody>\n",
       "</table>\n",
       "</div>"
      ],
      "text/plain": [
       "          id_x first_name last_name  company_id network_username  id_y  \\\n",
       "95986   196732      Pavan      K. S         NaN              NaN   NaN   \n",
       "47069   152694     Ashley  Willhite         NaN              NaN   NaN   \n",
       "127342  222165     Morris    Bryant         NaN              NaN   NaN   \n",
       "219356   54408     Joseph       May         NaN              NaN   NaN   \n",
       "128372  222979      Geoff   Meagher    223516.0              NaN   NaN   \n",
       "\n",
       "        person_id instituition graduated_at  no_education  \n",
       "95986         NaN          NaN          NaT          True  \n",
       "47069         NaN          NaN          NaT          True  \n",
       "127342        NaN          NaN          NaT          True  \n",
       "219356        NaN          NaN          NaT          True  \n",
       "128372        NaN          NaN          NaT          True  "
      ]
     },
     "execution_count": 30,
     "metadata": {},
     "output_type": "execute_result"
    }
   ],
   "source": [
    "# Создаем новый столбец 'no_education'\n",
    "merged_df_people['no_education'] = (merged_df_people['instituition'].isna() & merged_df_people['graduated_at'].isna())\n",
    "merged_df_people.sample(5)"
   ]
  },
  {
   "cell_type": "markdown",
   "metadata": {},
   "source": [
    "Чтобы разделить компании на группы по количеству сотрудников, для начала посчитаем количество сотрудников для каждой компании. Для этого воспользуемся группировкой."
   ]
  },
  {
   "cell_type": "code",
   "execution_count": 31,
   "metadata": {
    "scrolled": true
   },
   "outputs": [
    {
     "data": {
      "text/html": [
       "<div>\n",
       "<style scoped>\n",
       "    .dataframe tbody tr th:only-of-type {\n",
       "        vertical-align: middle;\n",
       "    }\n",
       "\n",
       "    .dataframe tbody tr th {\n",
       "        vertical-align: top;\n",
       "    }\n",
       "\n",
       "    .dataframe thead th {\n",
       "        text-align: right;\n",
       "    }\n",
       "</style>\n",
       "<table border=\"1\" class=\"dataframe\">\n",
       "  <thead>\n",
       "    <tr style=\"text-align: right;\">\n",
       "      <th></th>\n",
       "      <th>employee_count</th>\n",
       "      <th>no_education_count</th>\n",
       "    </tr>\n",
       "    <tr>\n",
       "      <th>company_id</th>\n",
       "      <th></th>\n",
       "      <th></th>\n",
       "    </tr>\n",
       "  </thead>\n",
       "  <tbody>\n",
       "    <tr>\n",
       "      <th>1.0</th>\n",
       "      <td>2</td>\n",
       "      <td>1</td>\n",
       "    </tr>\n",
       "    <tr>\n",
       "      <th>2.0</th>\n",
       "      <td>1</td>\n",
       "      <td>0</td>\n",
       "    </tr>\n",
       "    <tr>\n",
       "      <th>3.0</th>\n",
       "      <td>3</td>\n",
       "      <td>1</td>\n",
       "    </tr>\n",
       "    <tr>\n",
       "      <th>4.0</th>\n",
       "      <td>13</td>\n",
       "      <td>1</td>\n",
       "    </tr>\n",
       "    <tr>\n",
       "      <th>5.0</th>\n",
       "      <td>61</td>\n",
       "      <td>16</td>\n",
       "    </tr>\n",
       "    <tr>\n",
       "      <th>...</th>\n",
       "      <td>...</td>\n",
       "      <td>...</td>\n",
       "    </tr>\n",
       "    <tr>\n",
       "      <th>285897.0</th>\n",
       "      <td>2</td>\n",
       "      <td>0</td>\n",
       "    </tr>\n",
       "    <tr>\n",
       "      <th>285953.0</th>\n",
       "      <td>1</td>\n",
       "      <td>1</td>\n",
       "    </tr>\n",
       "    <tr>\n",
       "      <th>285972.0</th>\n",
       "      <td>2</td>\n",
       "      <td>1</td>\n",
       "    </tr>\n",
       "    <tr>\n",
       "      <th>285996.0</th>\n",
       "      <td>1</td>\n",
       "      <td>0</td>\n",
       "    </tr>\n",
       "    <tr>\n",
       "      <th>286091.0</th>\n",
       "      <td>6</td>\n",
       "      <td>2</td>\n",
       "    </tr>\n",
       "  </tbody>\n",
       "</table>\n",
       "<p>22922 rows × 2 columns</p>\n",
       "</div>"
      ],
      "text/plain": [
       "            employee_count  no_education_count\n",
       "company_id                                    \n",
       "1.0                      2                   1\n",
       "2.0                      1                   0\n",
       "3.0                      3                   1\n",
       "4.0                     13                   1\n",
       "5.0                     61                  16\n",
       "...                    ...                 ...\n",
       "285897.0                 2                   0\n",
       "285953.0                 1                   1\n",
       "285972.0                 2                   1\n",
       "285996.0                 1                   0\n",
       "286091.0                 6                   2\n",
       "\n",
       "[22922 rows x 2 columns]"
      ]
     },
     "execution_count": 31,
     "metadata": {},
     "output_type": "execute_result"
    }
   ],
   "source": [
    "# Создаем сводную таблицу\n",
    "company_employee_count = pd.pivot_table(\n",
    "    merged_df_people,\n",
    "    index=['company_id'],\n",
    "    values=['id_x'],\n",
    "    aggfunc='count',\n",
    "    fill_value=0\n",
    ")\n",
    "\n",
    "# Переименовываем столбец с количеством\n",
    "company_employee_count = company_employee_count.rename(columns={'id': 'employee_count'})\n",
    "\n",
    "# Выводим результат\n",
    "company_employee_count\n",
    "\n",
    "# Создаем сводную таблицу\n",
    "company_employee_count = pd.pivot_table(\n",
    "    merged_df_people,\n",
    "    index=['company_id'],\n",
    "    values=['id_x', 'no_education'],\n",
    "    aggfunc={'id_x': 'count', 'no_education': 'sum'},\n",
    "    fill_value=0\n",
    ")\n",
    "\n",
    "# Переименовываем столбцы\n",
    "company_employee_count = company_employee_count.rename(columns={\n",
    "    'id_x': 'employee_count',\n",
    "    'no_education': 'no_education_count'\n",
    "})\n",
    "\n",
    "# Выводим результат\n",
    "company_employee_count"
   ]
  },
  {
   "cell_type": "markdown",
   "metadata": {},
   "source": [
    "<div class=\"alert alert-success\">\n",
    "<font size=\"5\"><b>Комментарий ревьюера</b></font>\n",
    "\n",
    "\n",
    "\n",
    "Успех 👍:\n",
    "\n",
    "\n",
    "\n",
    "Понятный, удобный для восприятия код\n",
    "\n",
    "\n",
    " "
   ]
  },
  {
   "cell_type": "code",
   "execution_count": 32,
   "metadata": {},
   "outputs": [
    {
     "data": {
      "image/png": "[encoded data removed]",
      "text/plain": [
       "<Figure size 720x432 with 1 Axes>"
      ]
     },
     "metadata": {
      "needs_background": "light"
     },
     "output_type": "display_data"
    }
   ],
   "source": [
    "# Гистограмма распределения количества сотрудников\n",
    "plt.figure(figsize=(10, 6))\n",
    "sns.histplot(\n",
    "    data=company_employee_count,\n",
    "    x=company_employee_count['employee_count'],\n",
    "    bins=50,\n",
    "    kde=True)\n",
    "\n",
    "plt.title('Распределение компаний по количеству сотрудников')\n",
    "plt.xlabel('Количество сотрудников')\n",
    "plt.ylabel('Количество компаний')\n",
    "plt.grid(axis='y', alpha=0.5)\n",
    "plt.show()"
   ]
  },
  {
   "cell_type": "markdown",
   "metadata": {},
   "source": [
    "По гистограмме можно сделать вывод, что в подавляющем числе компаний числится не более 1-5 людей. Судя по сводной таблице, очень часто попадаются компании с единственным человеком. Вероятно это ИП. Чтобы было нагляднее, что происходит с числом сотрудников в остальных компаниях, отсеим компании с маленьким числом сотрудников и построим гистограмму ещё раз."
   ]
  },
  {
   "cell_type": "markdown",
   "metadata": {},
   "source": [
    "\n",
    "<div class=\"alert alert-success\">\n",
    "<font size=\"5\"><b>Комментарий ревьюера</b></font>\n",
    "\n",
    "\n",
    "\n",
    "Успех 👍:\n",
    "\n",
    "\n",
    "\n",
    "Здорово Что обратил внимание на особенности распределения, границы корзинок получились удачными\n",
    "\n",
    "\n",
    " \n",
    "    \n",
    "<div class=\"alert alert-warning\">\n",
    "\n",
    "\n",
    "\n",
    "Совет 🤔:\n",
    "\n",
    "\n",
    "- Я бы посоветовал  построить countplot. Мы же имеем дело с дискретным значением, для них мы не используем гистограммы. И будет видно гораздо лучше  "
   ]
  },
  {
   "cell_type": "code",
   "execution_count": 33,
   "metadata": {},
   "outputs": [],
   "source": [
    "# Фильтруем компании с более чем 5 сотрудниками\n",
    "more_people_company = company_employee_count[company_employee_count['employee_count'] > 5]"
   ]
  },
  {
   "cell_type": "code",
   "execution_count": 34,
   "metadata": {},
   "outputs": [
    {
     "data": {
      "image/png": "[encoded data removed]",
      "text/plain": [
       "<Figure size 720x432 with 1 Axes>"
      ]
     },
     "metadata": {
      "needs_background": "light"
     },
     "output_type": "display_data"
    }
   ],
   "source": [
    "# Строим гистограмму распределения количества сотрудников\n",
    "plt.figure(figsize=(10, 6))\n",
    "sns.histplot(\n",
    "    data=more_people_company,\n",
    "    x=more_people_company['employee_count'],\n",
    "    bins=40,\n",
    "    kde=True)\n",
    "\n",
    "plt.title('Распределение компаний по количеству сотрудников')\n",
    "plt.xlabel('Количество сотрудников')\n",
    "plt.ylabel('Количество компаний')\n",
    "plt.grid(axis='y', alpha=0.5)\n",
    "plt.show()"
   ]
  },
  {
   "cell_type": "markdown",
   "metadata": {},
   "source": [
    "Теперь можно увидеть, что следующий по численности кластер компаний, там где количество сотрудников 5-10. В целом можно разделить компании на следующие сегменты:\n",
    "\n",
    "- ИП - 1 сотрудник\n",
    "- малая компания - 2-10 сотрудников\n",
    "- средняя компания - 11-35 сотрудников\n",
    "- большая компания - больше 36 сотрудников\n",
    "\n",
    "Для каждой группы посчитаем количество компаний и долю сотрудников без образования."
   ]
  },
  {
   "cell_type": "code",
   "execution_count": 35,
   "metadata": {
    "scrolled": true
   },
   "outputs": [
    {
     "data": {
      "text/html": [
       "<div>\n",
       "<style scoped>\n",
       "    .dataframe tbody tr th:only-of-type {\n",
       "        vertical-align: middle;\n",
       "    }\n",
       "\n",
       "    .dataframe tbody tr th {\n",
       "        vertical-align: top;\n",
       "    }\n",
       "\n",
       "    .dataframe thead th {\n",
       "        text-align: right;\n",
       "    }\n",
       "</style>\n",
       "<table border=\"1\" class=\"dataframe\">\n",
       "  <thead>\n",
       "    <tr style=\"text-align: right;\">\n",
       "      <th></th>\n",
       "      <th>employee_count</th>\n",
       "      <th>no_education_count</th>\n",
       "      <th>size_company</th>\n",
       "    </tr>\n",
       "    <tr>\n",
       "      <th>company_id</th>\n",
       "      <th></th>\n",
       "      <th></th>\n",
       "      <th></th>\n",
       "    </tr>\n",
       "  </thead>\n",
       "  <tbody>\n",
       "    <tr>\n",
       "      <th>1.0</th>\n",
       "      <td>2</td>\n",
       "      <td>1</td>\n",
       "      <td>малая компания</td>\n",
       "    </tr>\n",
       "    <tr>\n",
       "      <th>2.0</th>\n",
       "      <td>1</td>\n",
       "      <td>0</td>\n",
       "      <td>ИП</td>\n",
       "    </tr>\n",
       "    <tr>\n",
       "      <th>3.0</th>\n",
       "      <td>3</td>\n",
       "      <td>1</td>\n",
       "      <td>малая компания</td>\n",
       "    </tr>\n",
       "    <tr>\n",
       "      <th>4.0</th>\n",
       "      <td>13</td>\n",
       "      <td>1</td>\n",
       "      <td>средняя компания</td>\n",
       "    </tr>\n",
       "    <tr>\n",
       "      <th>5.0</th>\n",
       "      <td>61</td>\n",
       "      <td>16</td>\n",
       "      <td>большая компания</td>\n",
       "    </tr>\n",
       "    <tr>\n",
       "      <th>...</th>\n",
       "      <td>...</td>\n",
       "      <td>...</td>\n",
       "      <td>...</td>\n",
       "    </tr>\n",
       "    <tr>\n",
       "      <th>285897.0</th>\n",
       "      <td>2</td>\n",
       "      <td>0</td>\n",
       "      <td>малая компания</td>\n",
       "    </tr>\n",
       "    <tr>\n",
       "      <th>285953.0</th>\n",
       "      <td>1</td>\n",
       "      <td>1</td>\n",
       "      <td>ИП</td>\n",
       "    </tr>\n",
       "    <tr>\n",
       "      <th>285972.0</th>\n",
       "      <td>2</td>\n",
       "      <td>1</td>\n",
       "      <td>малая компания</td>\n",
       "    </tr>\n",
       "    <tr>\n",
       "      <th>285996.0</th>\n",
       "      <td>1</td>\n",
       "      <td>0</td>\n",
       "      <td>ИП</td>\n",
       "    </tr>\n",
       "    <tr>\n",
       "      <th>286091.0</th>\n",
       "      <td>6</td>\n",
       "      <td>2</td>\n",
       "      <td>малая компания</td>\n",
       "    </tr>\n",
       "  </tbody>\n",
       "</table>\n",
       "<p>22922 rows × 3 columns</p>\n",
       "</div>"
      ],
      "text/plain": [
       "            employee_count  no_education_count      size_company\n",
       "company_id                                                      \n",
       "1.0                      2                   1    малая компания\n",
       "2.0                      1                   0                ИП\n",
       "3.0                      3                   1    малая компания\n",
       "4.0                     13                   1  средняя компания\n",
       "5.0                     61                  16  большая компания\n",
       "...                    ...                 ...               ...\n",
       "285897.0                 2                   0    малая компания\n",
       "285953.0                 1                   1                ИП\n",
       "285972.0                 2                   1    малая компания\n",
       "285996.0                 1                   0                ИП\n",
       "286091.0                 6                   2    малая компания\n",
       "\n",
       "[22922 rows x 3 columns]"
      ]
     },
     "execution_count": 35,
     "metadata": {},
     "output_type": "execute_result"
    }
   ],
   "source": [
    "# Разбиваем на категории с помощью пользовательской функции categorize\n",
    "def categorize(value):\n",
    "    if value == 1:\n",
    "        return 'ИП'\n",
    "    elif 2 <= value < 10:\n",
    "        return 'малая компания'\n",
    "    elif 11 <= value < 35:\n",
    "        return 'средняя компания'\n",
    "    elif value >= 36:\n",
    "        return 'большая компания'\n",
    "    #else:\n",
    "        #return ''\n",
    "\n",
    "# Применение функции к данным\n",
    "company_employee_count['size_company'] = company_employee_count['employee_count'].apply(categorize)\n",
    "company_employee_count"
   ]
  },
  {
   "cell_type": "code",
   "execution_count": 36,
   "metadata": {},
   "outputs": [
    {
     "data": {
      "text/html": [
       "<div>\n",
       "<style scoped>\n",
       "    .dataframe tbody tr th:only-of-type {\n",
       "        vertical-align: middle;\n",
       "    }\n",
       "\n",
       "    .dataframe tbody tr th {\n",
       "        vertical-align: top;\n",
       "    }\n",
       "\n",
       "    .dataframe thead th {\n",
       "        text-align: right;\n",
       "    }\n",
       "</style>\n",
       "<table border=\"1\" class=\"dataframe\">\n",
       "  <thead>\n",
       "    <tr style=\"text-align: right;\">\n",
       "      <th></th>\n",
       "      <th>size_company</th>\n",
       "      <th>companies_count</th>\n",
       "      <th>no_education_count</th>\n",
       "      <th>total_employees</th>\n",
       "      <th>no_education_percent</th>\n",
       "    </tr>\n",
       "  </thead>\n",
       "  <tbody>\n",
       "    <tr>\n",
       "      <th>0</th>\n",
       "      <td>ИП</td>\n",
       "      <td>18126</td>\n",
       "      <td>8387</td>\n",
       "      <td>18126</td>\n",
       "      <td>46.27</td>\n",
       "    </tr>\n",
       "    <tr>\n",
       "      <th>2</th>\n",
       "      <td>малая компания</td>\n",
       "      <td>4651</td>\n",
       "      <td>6630</td>\n",
       "      <td>13555</td>\n",
       "      <td>48.91</td>\n",
       "    </tr>\n",
       "    <tr>\n",
       "      <th>3</th>\n",
       "      <td>средняя компания</td>\n",
       "      <td>106</td>\n",
       "      <td>695</td>\n",
       "      <td>1571</td>\n",
       "      <td>44.24</td>\n",
       "    </tr>\n",
       "    <tr>\n",
       "      <th>1</th>\n",
       "      <td>большая компания</td>\n",
       "      <td>13</td>\n",
       "      <td>294</td>\n",
       "      <td>1061</td>\n",
       "      <td>27.71</td>\n",
       "    </tr>\n",
       "  </tbody>\n",
       "</table>\n",
       "</div>"
      ],
      "text/plain": [
       "       size_company  companies_count  no_education_count  total_employees  \\\n",
       "0                ИП            18126                8387            18126   \n",
       "2    малая компания             4651                6630            13555   \n",
       "3  средняя компания              106                 695             1571   \n",
       "1  большая компания               13                 294             1061   \n",
       "\n",
       "   no_education_percent  \n",
       "0                 46.27  \n",
       "2                 48.91  \n",
       "3                 44.24  \n",
       "1                 27.71  "
      ]
     },
     "execution_count": 36,
     "metadata": {},
     "output_type": "execute_result"
    }
   ],
   "source": [
    "# Группируем по размеру компании\n",
    "grouped_by_size = company_employee_count.groupby('size_company').agg({\n",
    "    'employee_count': 'count',  # Количество компаний\n",
    "    'no_education_count': 'sum'  # Сумма сотрудников без образования\n",
    "})\n",
    "\n",
    "# Считаем общее количество сотрудников по каждой категории\n",
    "grouped_by_size['total_employees'] = company_employee_count.groupby('size_company')['employee_count'].sum()\n",
    "\n",
    "# Считаем долю сотрудников без образования\n",
    "grouped_by_size['no_education_percent'] = (\n",
    "    grouped_by_size['no_education_count'] / \n",
    "    grouped_by_size['total_employees'] * 100\n",
    ")\n",
    "\n",
    "# Переименовываем столбец\n",
    "grouped_by_size = grouped_by_size.rename(columns={'employee_count': 'companies_count'})\n",
    "\n",
    "# Форматируем вывод\n",
    "grouped_by_size = grouped_by_size.reset_index()\n",
    "grouped_by_size = grouped_by_size[['size_company', 'companies_count', 'no_education_count', 'total_employees', 'no_education_percent']]\n",
    "grouped_by_size = grouped_by_size.sort_values(by='companies_count', ascending=False)\n",
    "\n",
    "# Округление доли\n",
    "grouped_by_size['no_education_percent'] = grouped_by_size['no_education_percent'].round(2)\n",
    "\n",
    "# Выводим результат\n",
    "grouped_by_size"
   ]
  },
  {
   "cell_type": "markdown",
   "metadata": {},
   "source": [
    "<div class=\"alert alert-danger\">\n",
    "<font size=\"5\"><b>Комментарий ревьюера</b></font>\n",
    "\n",
    "\n",
    "\n",
    "Ошибка ❌:\n",
    "\n",
    "\n",
    "total_employees неверно подсчитан"
   ]
  },
  {
   "cell_type": "markdown",
   "metadata": {},
   "source": [
    "<div class=\"alert alert-info\"> <b>Комментарии студентаV1:</b> Исправила </div>"
   ]
  },
  {
   "cell_type": "markdown",
   "metadata": {},
   "source": [
    "Больше половины компаний это ИП с единственным сотрудником. Среди них для 46% не указано наличие образования. Далее по численности следуют малые компании. Доля сотрудников без образования в них 49%. Средних и больших компаний в разы меньше: 106 и 13 соответственно. В средних компаниях сохраняется та же тенденция с сотрудниками без образования - 44%. А в больших компаниях этот процент ниже - 28% "
   ]
  },
  {
   "cell_type": "markdown",
   "metadata": {},
   "source": [
    "Оценим, возможно ли присоединить к этим таблицам ещё таблицу `degrees.csv`. Для присоединения таблицы будем использовать столбец `object_id`. Но сначала его нужно будет обработать. При первом знакомсте было видно, что в этом столбце есть лишний символ **p:** и тип данных для этого столбца **object**. Обработаем его приведя в нужный вид для присоединения."
   ]
  },
  {
   "cell_type": "code",
   "execution_count": 37,
   "metadata": {},
   "outputs": [],
   "source": [
    "# Удаляем символы 'p:' из столбца object_id\n",
    "degrees_df['object_id'] = degrees_df['object_id'].str.replace('p:', '')\n",
    "\n",
    "# Преобразуем столбец в тип int\n",
    "degrees_df['object_id'] = degrees_df['object_id'].astype(int)"
   ]
  },
  {
   "cell_type": "markdown",
   "metadata": {},
   "source": [
    "<div class=\"alert alert-success\">\n",
    "<font size=\"5\"><b>Комментарий ревьюера</b></font>\n",
    "\n",
    "\n",
    "\n",
    "Успех 👍:\n",
    "\n",
    "\n",
    "\n",
    "Верно подготовила object_id\n",
    "\n",
    "\n",
    " "
   ]
  },
  {
   "cell_type": "code",
   "execution_count": 38,
   "metadata": {},
   "outputs": [
    {
     "data": {
      "text/html": [
       "<div>\n",
       "<style scoped>\n",
       "    .dataframe tbody tr th:only-of-type {\n",
       "        vertical-align: middle;\n",
       "    }\n",
       "\n",
       "    .dataframe tbody tr th {\n",
       "        vertical-align: top;\n",
       "    }\n",
       "\n",
       "    .dataframe thead th {\n",
       "        text-align: right;\n",
       "    }\n",
       "</style>\n",
       "<table border=\"1\" class=\"dataframe\">\n",
       "  <thead>\n",
       "    <tr style=\"text-align: right;\">\n",
       "      <th></th>\n",
       "      <th>id_x</th>\n",
       "      <th>first_name</th>\n",
       "      <th>last_name</th>\n",
       "      <th>company_id</th>\n",
       "      <th>network_username</th>\n",
       "      <th>id_y</th>\n",
       "      <th>person_id</th>\n",
       "      <th>instituition</th>\n",
       "      <th>graduated_at</th>\n",
       "      <th>no_education</th>\n",
       "      <th>id</th>\n",
       "      <th>object_id</th>\n",
       "      <th>degree_type</th>\n",
       "      <th>subject</th>\n",
       "    </tr>\n",
       "  </thead>\n",
       "  <tbody>\n",
       "    <tr>\n",
       "      <th>0</th>\n",
       "      <td>10</td>\n",
       "      <td>Mark</td>\n",
       "      <td>Zuckerberg</td>\n",
       "      <td>5.0</td>\n",
       "      <td>NaN</td>\n",
       "      <td>2415.0</td>\n",
       "      <td>10.0</td>\n",
       "      <td>Harvard University</td>\n",
       "      <td>NaT</td>\n",
       "      <td>False</td>\n",
       "      <td>2415.0</td>\n",
       "      <td>10.0</td>\n",
       "      <td>NaN</td>\n",
       "      <td>Computer Science</td>\n",
       "    </tr>\n",
       "    <tr>\n",
       "      <th>1</th>\n",
       "      <td>100</td>\n",
       "      <td>Peter</td>\n",
       "      <td>Lester</td>\n",
       "      <td>27.0</td>\n",
       "      <td>NaN</td>\n",
       "      <td>NaN</td>\n",
       "      <td>NaN</td>\n",
       "      <td>NaN</td>\n",
       "      <td>NaT</td>\n",
       "      <td>True</td>\n",
       "      <td>NaN</td>\n",
       "      <td>NaN</td>\n",
       "      <td>NaN</td>\n",
       "      <td>NaN</td>\n",
       "    </tr>\n",
       "    <tr>\n",
       "      <th>2</th>\n",
       "      <td>1000</td>\n",
       "      <td>Dr. Steven</td>\n",
       "      <td>E. Saunders</td>\n",
       "      <td>292.0</td>\n",
       "      <td>NaN</td>\n",
       "      <td>NaN</td>\n",
       "      <td>NaN</td>\n",
       "      <td>NaN</td>\n",
       "      <td>NaT</td>\n",
       "      <td>True</td>\n",
       "      <td>NaN</td>\n",
       "      <td>NaN</td>\n",
       "      <td>NaN</td>\n",
       "      <td>NaN</td>\n",
       "    </tr>\n",
       "    <tr>\n",
       "      <th>3</th>\n",
       "      <td>10000</td>\n",
       "      <td>Neil</td>\n",
       "      <td>Capel</td>\n",
       "      <td>2526.0</td>\n",
       "      <td>NaN</td>\n",
       "      <td>NaN</td>\n",
       "      <td>NaN</td>\n",
       "      <td>NaN</td>\n",
       "      <td>NaT</td>\n",
       "      <td>True</td>\n",
       "      <td>NaN</td>\n",
       "      <td>NaN</td>\n",
       "      <td>NaN</td>\n",
       "      <td>NaN</td>\n",
       "    </tr>\n",
       "    <tr>\n",
       "      <th>4</th>\n",
       "      <td>100000</td>\n",
       "      <td>Sue</td>\n",
       "      <td>Pilsch</td>\n",
       "      <td>NaN</td>\n",
       "      <td>NaN</td>\n",
       "      <td>NaN</td>\n",
       "      <td>NaN</td>\n",
       "      <td>NaN</td>\n",
       "      <td>NaT</td>\n",
       "      <td>True</td>\n",
       "      <td>NaN</td>\n",
       "      <td>NaN</td>\n",
       "      <td>NaN</td>\n",
       "      <td>NaN</td>\n",
       "    </tr>\n",
       "    <tr>\n",
       "      <th>...</th>\n",
       "      <td>...</td>\n",
       "      <td>...</td>\n",
       "      <td>...</td>\n",
       "      <td>...</td>\n",
       "      <td>...</td>\n",
       "      <td>...</td>\n",
       "      <td>...</td>\n",
       "      <td>...</td>\n",
       "      <td>...</td>\n",
       "      <td>...</td>\n",
       "      <td>...</td>\n",
       "      <td>...</td>\n",
       "      <td>...</td>\n",
       "      <td>...</td>\n",
       "    </tr>\n",
       "    <tr>\n",
       "      <th>258413</th>\n",
       "      <td>99999</td>\n",
       "      <td>Ramon</td>\n",
       "      <td>Peypoch</td>\n",
       "      <td>NaN</td>\n",
       "      <td>NaN</td>\n",
       "      <td>NaN</td>\n",
       "      <td>NaN</td>\n",
       "      <td>NaN</td>\n",
       "      <td>NaT</td>\n",
       "      <td>True</td>\n",
       "      <td>NaN</td>\n",
       "      <td>NaN</td>\n",
       "      <td>NaN</td>\n",
       "      <td>NaN</td>\n",
       "    </tr>\n",
       "    <tr>\n",
       "      <th>258414</th>\n",
       "      <td>174088</td>\n",
       "      <td>Dr. Ray</td>\n",
       "      <td>Woods</td>\n",
       "      <td>188200.0</td>\n",
       "      <td>network</td>\n",
       "      <td>25958.0</td>\n",
       "      <td>174088.0</td>\n",
       "      <td>Sydney University Medical School</td>\n",
       "      <td>1982-01-01</td>\n",
       "      <td>False</td>\n",
       "      <td>25958.0</td>\n",
       "      <td>174088.0</td>\n",
       "      <td>M.B.B.S.</td>\n",
       "      <td>Medicine</td>\n",
       "    </tr>\n",
       "    <tr>\n",
       "      <th>258415</th>\n",
       "      <td>118386</td>\n",
       "      <td>Ricardo</td>\n",
       "      <td>Durand</td>\n",
       "      <td>143419.0</td>\n",
       "      <td>itechsocialnet</td>\n",
       "      <td>18871.0</td>\n",
       "      <td>118386.0</td>\n",
       "      <td>ESCS</td>\n",
       "      <td>2004-01-01</td>\n",
       "      <td>False</td>\n",
       "      <td>18871.0</td>\n",
       "      <td>118386.0</td>\n",
       "      <td>PhD</td>\n",
       "      <td>Journalism</td>\n",
       "    </tr>\n",
       "    <tr>\n",
       "      <th>258416</th>\n",
       "      <td>175827</td>\n",
       "      <td>mahesh</td>\n",
       "      <td>kumar</td>\n",
       "      <td>NaN</td>\n",
       "      <td>socialnethubs</td>\n",
       "      <td>NaN</td>\n",
       "      <td>NaN</td>\n",
       "      <td>NaN</td>\n",
       "      <td>NaT</td>\n",
       "      <td>True</td>\n",
       "      <td>NaN</td>\n",
       "      <td>NaN</td>\n",
       "      <td>NaN</td>\n",
       "      <td>NaN</td>\n",
       "    </tr>\n",
       "    <tr>\n",
       "      <th>258417</th>\n",
       "      <td>178190</td>\n",
       "      <td>Alex</td>\n",
       "      <td>Smith</td>\n",
       "      <td>NaN</td>\n",
       "      <td>esocialnetlike</td>\n",
       "      <td>NaN</td>\n",
       "      <td>NaN</td>\n",
       "      <td>NaN</td>\n",
       "      <td>NaT</td>\n",
       "      <td>True</td>\n",
       "      <td>NaN</td>\n",
       "      <td>NaN</td>\n",
       "      <td>NaN</td>\n",
       "      <td>NaN</td>\n",
       "    </tr>\n",
       "  </tbody>\n",
       "</table>\n",
       "<p>258418 rows × 14 columns</p>\n",
       "</div>"
      ],
      "text/plain": [
       "          id_x  first_name    last_name  company_id network_username     id_y  \\\n",
       "0           10        Mark   Zuckerberg         5.0              NaN   2415.0   \n",
       "1          100       Peter       Lester        27.0              NaN      NaN   \n",
       "2         1000  Dr. Steven  E. Saunders       292.0              NaN      NaN   \n",
       "3        10000        Neil        Capel      2526.0              NaN      NaN   \n",
       "4       100000         Sue       Pilsch         NaN              NaN      NaN   \n",
       "...        ...         ...          ...         ...              ...      ...   \n",
       "258413   99999       Ramon      Peypoch         NaN              NaN      NaN   \n",
       "258414  174088     Dr. Ray        Woods    188200.0          network  25958.0   \n",
       "258415  118386     Ricardo       Durand    143419.0   itechsocialnet  18871.0   \n",
       "258416  175827      mahesh        kumar         NaN    socialnethubs      NaN   \n",
       "258417  178190        Alex        Smith         NaN   esocialnetlike      NaN   \n",
       "\n",
       "        person_id                      instituition graduated_at  \\\n",
       "0            10.0                Harvard University          NaT   \n",
       "1             NaN                               NaN          NaT   \n",
       "2             NaN                               NaN          NaT   \n",
       "3             NaN                               NaN          NaT   \n",
       "4             NaN                               NaN          NaT   \n",
       "...           ...                               ...          ...   \n",
       "258413        NaN                               NaN          NaT   \n",
       "258414   174088.0  Sydney University Medical School   1982-01-01   \n",
       "258415   118386.0                              ESCS   2004-01-01   \n",
       "258416        NaN                               NaN          NaT   \n",
       "258417        NaN                               NaN          NaT   \n",
       "\n",
       "        no_education       id  object_id degree_type           subject  \n",
       "0              False   2415.0       10.0         NaN  Computer Science  \n",
       "1               True      NaN        NaN         NaN               NaN  \n",
       "2               True      NaN        NaN         NaN               NaN  \n",
       "3               True      NaN        NaN         NaN               NaN  \n",
       "4               True      NaN        NaN         NaN               NaN  \n",
       "...              ...      ...        ...         ...               ...  \n",
       "258413          True      NaN        NaN         NaN               NaN  \n",
       "258414         False  25958.0   174088.0    M.B.B.S.          Medicine  \n",
       "258415         False  18871.0   118386.0         PhD        Journalism  \n",
       "258416          True      NaN        NaN         NaN               NaN  \n",
       "258417          True      NaN        NaN         NaN               NaN  \n",
       "\n",
       "[258418 rows x 14 columns]"
      ]
     },
     "execution_count": 38,
     "metadata": {},
     "output_type": "execute_result"
    }
   ],
   "source": [
    "# Объединяем таблицы merged_df_degrees и education_df\n",
    "merged_df_degrees = merged_df_people.merge(degrees_df, left_on='id_x', right_on='object_id', how='left')\n",
    "merged_df_degrees"
   ]
  },
  {
   "cell_type": "code",
   "execution_count": 39,
   "metadata": {},
   "outputs": [
    {
     "name": "stdout",
     "output_type": "stream",
     "text": [
      "<class 'pandas.core.frame.DataFrame'>\n",
      "Int64Index: 258418 entries, 0 to 258417\n",
      "Data columns (total 14 columns):\n",
      " #   Column            Non-Null Count   Dtype         \n",
      "---  ------            --------------   -----         \n",
      " 0   id_x              258418 non-null  int64         \n",
      " 1   first_name        258413 non-null  object        \n",
      " 2   last_name         258417 non-null  object        \n",
      " 3   company_id        44767 non-null   float64       \n",
      " 4   network_username  50631 non-null   object        \n",
      " 5   id_y              106538 non-null  float64       \n",
      " 6   person_id         106538 non-null  float64       \n",
      " 7   instituition      106488 non-null  object        \n",
      " 8   graduated_at      57603 non-null   datetime64[ns]\n",
      " 9   no_education      258418 non-null  bool          \n",
      " 10  id                106538 non-null  float64       \n",
      " 11  object_id         106538 non-null  float64       \n",
      " 12  degree_type       95585 non-null   object        \n",
      " 13  subject           79154 non-null   object        \n",
      "dtypes: bool(1), datetime64[ns](1), float64(5), int64(1), object(6)\n",
      "memory usage: 27.8+ MB\n"
     ]
    }
   ],
   "source": [
    "merged_df_degrees.info()"
   ]
  },
  {
   "cell_type": "markdown",
   "metadata": {},
   "source": [
    "Удачно. Удалось присоединить таблицу `degrees.csv` Размерность таблицы увеличилась примерно на 100 000 строк. Вероятно есть сотрудники у которых не одно образование и они имеют несколько специальностей."
   ]
  },
  {
   "cell_type": "markdown",
   "metadata": {
    "id": "Lz7qjM32xglW"
   },
   "source": [
    "### 2.3. Объединять или не объединять — вот в чём вопрос\n",
    "\n",
    "Некоторые названия столбцов встречаются в датасетах чаще других. В результате предварительной проверки датасетов было выяснено, что столбец `company_id` подходит для объединения данных.\n",
    "\n",
    "- Установите, подходит ли для объединения данных столбец `network_username`, который встречается в нескольких датасетах. Нам необходимо понимать, дублируется ли для разных датасетов информация в столбцах с таким названием, и если да — то насколько часто.\n",
    "- Оцените, можно ли использовать столбцы с именем `network_username` для объединения данных."
   ]
  },
  {
   "cell_type": "markdown",
   "metadata": {},
   "source": [
    "Для решения используем метод пересечения множеств. Найдём общее количество одинаковых значений, которые находятся в обеих таблицах `company_and_rounds` и `people` в столбце `network_username` и найдём долю этих значений от общего количества значений в каждой из таблиц."
   ]
  },
  {
   "cell_type": "code",
   "execution_count": 40,
   "metadata": {
    "id": "zyI3rt0rxg1O"
   },
   "outputs": [
    {
     "name": "stdout",
     "output_type": "stream",
     "text": [
      "Количество общих значений: 2200\n",
      "Доля общих значений в первом датасете: 2.76%\n",
      "Доля общих значений во втором датасете: 5.73%\n"
     ]
    }
   ],
   "source": [
    "# Пересечение уникальных значений\n",
    "common_values = set(company_and_rounds_df['network_username']).intersection(set(people_df['network_username']))\n",
    "print(f\"Количество общих значений: {len(common_values)}\")\n",
    "\n",
    "# Процент общих значений\n",
    "pct_common_df1 = len(common_values) / company_and_rounds_df['network_username'].nunique()\n",
    "pct_common_df2 = len(common_values) / people_df['network_username'].nunique()\n",
    "print(f\"Доля общих значений в первом датасете: {pct_common_df1:.2%}\")\n",
    "print(f\"Доля общих значений во втором датасете: {pct_common_df2:.2%}\")"
   ]
  },
  {
   "cell_type": "markdown",
   "metadata": {},
   "source": [
    "\n",
    "<div class=\"alert alert-success\">\n",
    "<font size=\"5\"><b>Комментарий ревьюера</b></font>\n",
    "\n",
    "\n",
    "\n",
    "Успех 👍:\n",
    "\n",
    "\n",
    "\n",
    "- 👍 за использование set\n",
    "\n",
    "\n",
    "-  &/.intersection \n",
    "\n",
    "\n",
    "<div class=\"alert alert-warning\">\n",
    " \n",
    "\n",
    "Совет:\n",
    "\n",
    "\n",
    "- Только перед тем как использовать set, стоит убрать пропуски, потому что с точки зрения set, один пропуск не равен другому пропуску,  поэтому будет не совсем корректный расчёт. А главное - наличие пропуска сильно замедляет расчёты\n",
    "    \n",
    "     "
   ]
  },
  {
   "cell_type": "markdown",
   "metadata": {
    "id": "RxOS5rwmFcNW"
   },
   "source": [
    "В результате видно, что пересечиний мало. для таблицы  `company_and_rounds` это 2,8%  и `people` 5,7%. Можно сделать вывод, что эти столбцы имеют разные данные, и использовать их для объединения таблиц нельзя."
   ]
  },
  {
   "cell_type": "markdown",
   "metadata": {},
   "source": [
    "\n",
    "<div class=\"alert alert-success\">\n",
    "<font size=\"5\"><b>Комментарий ревьюера</b></font>\n",
    "\n",
    "\n",
    "\n",
    "Успех 👍:\n",
    "\n",
    "\n",
    "\n",
    "👍  согласен с анализом,  главная проблема указана\n",
    "\n",
    "\n",
    " \n",
    "<div class=\"alert alert-warning\">\n",
    "\n",
    "\n",
    "\n",
    "Совет 🤔:\n",
    "\n",
    "\n",
    "    \n",
    "- Тут можно было начать с учёта контекста.  network_username в таблице people относятся к сотрудникам, а в таблице company_rounds к компаниям. Возможно случаи когда компании названы в честь человека, и тогда можно поймать пересечения.  Но в целом это не выглядит перспективно    \n",
    "    \n",
    "  \n",
    "- Можно добавить красивую визуализацию,  для демонстрации    пересечения данных. Это можно сделать с помощью диаграммы Венна   \n",
    "    \n",
    "    \n",
    "    !pip install matplotlib-venn -q\n",
    "    from matplotlib_venn import venn2, venn3 #(venn3 - Это если сразу три кругляшка построить)\n",
    "    import matplotlib.pyplot as plt\n",
    "\n",
    "    # Строим диаграмму Венна\n",
    "    venn2([set(['user1', 'user2', 'user3', 'user4', 'user5']), set(['user3', 'user4', 'user6', 'user7'])], set_labels=('Company Users', 'Fund Users'))\n",
    "\n",
    "    # Отображаем график\n",
    "    plt.title(\"Пересечение пользователей Company Users и Fund Users\")\n",
    "    plt.show()    \n",
    "    \n",
    "    \n",
    "- network_username еще встречается в fund_df \n",
    "    \n",
    "   \n",
    "     "
   ]
  },
  {
   "cell_type": "markdown",
   "metadata": {
    "id": "EHcODomVrJg1"
   },
   "source": [
    "\n",
    "### 2.4. Проблемный датасет и причина возникновения пропусков\n",
    "\n",
    "Во время собственного анализа данных у заказчика больше всего вопросов возникло к датасету `company_and_rounds.csv`. В нём много пропусков как раз в информации о раундах, которая заказчику важна.\n",
    "\n",
    "- Любым удобным способом приведите данные в вид, который позволит в дальнейшем проводить анализ в разрезе отдельных компаний. Обратите внимание на структуру датасета, порядок и названия столбцов, проанализируйте значения.\n",
    "\n",
    "По гипотезе заказчика данные по компаниям из этой таблицы раньше хранились иначе, более удобным для исследования образом.\n",
    "\n",
    "- Максимальным образом сохраняя данные, сохранив их связность и исключив возможные возникающие при этом ошибки, подготовьте данные так, чтобы удобно было отобрать компании по параметрам и рассчитать показатели из расчёта на одну компанию без промежуточных агрегаций."
   ]
  },
  {
   "cell_type": "markdown",
   "metadata": {
    "id": "oSk7xqu_FbaN"
   },
   "source": [
    "Ещё раз посмотрим внимательней таблицу `company_and_rounds.csv`"
   ]
  },
  {
   "cell_type": "code",
   "execution_count": 41,
   "metadata": {},
   "outputs": [],
   "source": [
    "pd.set_option('display.max_columns', 500)"
   ]
  },
  {
   "cell_type": "code",
   "execution_count": 42,
   "metadata": {
    "id": "9BY9lTUcFbJ-"
   },
   "outputs": [
    {
     "data": {
      "text/html": [
       "<div>\n",
       "<style scoped>\n",
       "    .dataframe tbody tr th:only-of-type {\n",
       "        vertical-align: middle;\n",
       "    }\n",
       "\n",
       "    .dataframe tbody tr th {\n",
       "        vertical-align: top;\n",
       "    }\n",
       "\n",
       "    .dataframe thead th {\n",
       "        text-align: right;\n",
       "    }\n",
       "</style>\n",
       "<table border=\"1\" class=\"dataframe\">\n",
       "  <thead>\n",
       "    <tr style=\"text-align: right;\">\n",
       "      <th></th>\n",
       "      <th>company_ID</th>\n",
       "      <th>name</th>\n",
       "      <th>category_code</th>\n",
       "      <th>status</th>\n",
       "      <th>founded_at</th>\n",
       "      <th>closed_at</th>\n",
       "      <th>domain</th>\n",
       "      <th>network_username</th>\n",
       "      <th>country_code</th>\n",
       "      <th>investment_rounds</th>\n",
       "      <th>funding_rounds</th>\n",
       "      <th>funding_total</th>\n",
       "      <th>milestones</th>\n",
       "      <th>funding_round_id</th>\n",
       "      <th>company_id</th>\n",
       "      <th>funded_at</th>\n",
       "      <th>funding_round_type</th>\n",
       "      <th>raised_amount</th>\n",
       "      <th>pre_money_valuation</th>\n",
       "      <th>participants</th>\n",
       "      <th>is_first_round</th>\n",
       "      <th>is_last_round</th>\n",
       "      <th>funded_year</th>\n",
       "    </tr>\n",
       "  </thead>\n",
       "  <tbody>\n",
       "    <tr>\n",
       "      <th>0</th>\n",
       "      <td>1.0</td>\n",
       "      <td>Wetpaint</td>\n",
       "      <td>web</td>\n",
       "      <td>operating</td>\n",
       "      <td>2005-10-17</td>\n",
       "      <td>NaT</td>\n",
       "      <td>wetpaint-inc.com</td>\n",
       "      <td>BachelrWetpaint</td>\n",
       "      <td>USA</td>\n",
       "      <td>0.0</td>\n",
       "      <td>3.0</td>\n",
       "      <td>39750000.0</td>\n",
       "      <td>5.0</td>\n",
       "      <td>888.0</td>\n",
       "      <td>1.0</td>\n",
       "      <td>2005-10-01</td>\n",
       "      <td>series-a</td>\n",
       "      <td>5250000.0</td>\n",
       "      <td>0.0</td>\n",
       "      <td>2.0</td>\n",
       "      <td>0.0</td>\n",
       "      <td>1.0</td>\n",
       "      <td>2005.0</td>\n",
       "    </tr>\n",
       "    <tr>\n",
       "      <th>1</th>\n",
       "      <td>1.0</td>\n",
       "      <td>Wetpaint</td>\n",
       "      <td>web</td>\n",
       "      <td>operating</td>\n",
       "      <td>2005-10-17</td>\n",
       "      <td>NaT</td>\n",
       "      <td>wetpaint-inc.com</td>\n",
       "      <td>BachelrWetpaint</td>\n",
       "      <td>USA</td>\n",
       "      <td>0.0</td>\n",
       "      <td>3.0</td>\n",
       "      <td>39750000.0</td>\n",
       "      <td>5.0</td>\n",
       "      <td>889.0</td>\n",
       "      <td>1.0</td>\n",
       "      <td>2007-01-01</td>\n",
       "      <td>series-b</td>\n",
       "      <td>9500000.0</td>\n",
       "      <td>0.0</td>\n",
       "      <td>3.0</td>\n",
       "      <td>0.0</td>\n",
       "      <td>0.0</td>\n",
       "      <td>2007.0</td>\n",
       "    </tr>\n",
       "    <tr>\n",
       "      <th>2</th>\n",
       "      <td>1.0</td>\n",
       "      <td>Wetpaint</td>\n",
       "      <td>web</td>\n",
       "      <td>operating</td>\n",
       "      <td>2005-10-17</td>\n",
       "      <td>NaT</td>\n",
       "      <td>wetpaint-inc.com</td>\n",
       "      <td>BachelrWetpaint</td>\n",
       "      <td>USA</td>\n",
       "      <td>0.0</td>\n",
       "      <td>3.0</td>\n",
       "      <td>39750000.0</td>\n",
       "      <td>5.0</td>\n",
       "      <td>2312.0</td>\n",
       "      <td>1.0</td>\n",
       "      <td>2008-05-19</td>\n",
       "      <td>series-c+</td>\n",
       "      <td>25000000.0</td>\n",
       "      <td>0.0</td>\n",
       "      <td>4.0</td>\n",
       "      <td>1.0</td>\n",
       "      <td>0.0</td>\n",
       "      <td>2008.0</td>\n",
       "    </tr>\n",
       "    <tr>\n",
       "      <th>3</th>\n",
       "      <td>10.0</td>\n",
       "      <td>Flektor</td>\n",
       "      <td>games_video</td>\n",
       "      <td>acquired</td>\n",
       "      <td>NaT</td>\n",
       "      <td>NaT</td>\n",
       "      <td>flektor.com</td>\n",
       "      <td>NaN</td>\n",
       "      <td>USA</td>\n",
       "      <td>0.0</td>\n",
       "      <td>0.0</td>\n",
       "      <td>0.0</td>\n",
       "      <td>0.0</td>\n",
       "      <td>NaN</td>\n",
       "      <td>NaN</td>\n",
       "      <td>NaT</td>\n",
       "      <td>NaN</td>\n",
       "      <td>NaN</td>\n",
       "      <td>NaN</td>\n",
       "      <td>NaN</td>\n",
       "      <td>NaN</td>\n",
       "      <td>NaN</td>\n",
       "      <td>NaN</td>\n",
       "    </tr>\n",
       "    <tr>\n",
       "      <th>4</th>\n",
       "      <td>100.0</td>\n",
       "      <td>There</td>\n",
       "      <td>games_video</td>\n",
       "      <td>acquired</td>\n",
       "      <td>NaT</td>\n",
       "      <td>NaT</td>\n",
       "      <td>there.com</td>\n",
       "      <td>NaN</td>\n",
       "      <td>USA</td>\n",
       "      <td>0.0</td>\n",
       "      <td>0.0</td>\n",
       "      <td>0.0</td>\n",
       "      <td>4.0</td>\n",
       "      <td>NaN</td>\n",
       "      <td>NaN</td>\n",
       "      <td>NaT</td>\n",
       "      <td>NaN</td>\n",
       "      <td>NaN</td>\n",
       "      <td>NaN</td>\n",
       "      <td>NaN</td>\n",
       "      <td>NaN</td>\n",
       "      <td>NaN</td>\n",
       "      <td>NaN</td>\n",
       "    </tr>\n",
       "    <tr>\n",
       "      <th>...</th>\n",
       "      <td>...</td>\n",
       "      <td>...</td>\n",
       "      <td>...</td>\n",
       "      <td>...</td>\n",
       "      <td>...</td>\n",
       "      <td>...</td>\n",
       "      <td>...</td>\n",
       "      <td>...</td>\n",
       "      <td>...</td>\n",
       "      <td>...</td>\n",
       "      <td>...</td>\n",
       "      <td>...</td>\n",
       "      <td>...</td>\n",
       "      <td>...</td>\n",
       "      <td>...</td>\n",
       "      <td>...</td>\n",
       "      <td>...</td>\n",
       "      <td>...</td>\n",
       "      <td>...</td>\n",
       "      <td>...</td>\n",
       "      <td>...</td>\n",
       "      <td>...</td>\n",
       "      <td>...</td>\n",
       "    </tr>\n",
       "    <tr>\n",
       "      <th>217769</th>\n",
       "      <td>NaN</td>\n",
       "      <td>NaN</td>\n",
       "      <td>NaN</td>\n",
       "      <td>NaN</td>\n",
       "      <td>NaT</td>\n",
       "      <td>NaT</td>\n",
       "      <td>NaN</td>\n",
       "      <td>NaN</td>\n",
       "      <td>NaN</td>\n",
       "      <td>NaN</td>\n",
       "      <td>NaN</td>\n",
       "      <td>NaN</td>\n",
       "      <td>NaN</td>\n",
       "      <td>56454.0</td>\n",
       "      <td>282847.0</td>\n",
       "      <td>2011-01-31</td>\n",
       "      <td>other</td>\n",
       "      <td>5500000.0</td>\n",
       "      <td>0.0</td>\n",
       "      <td>0.0</td>\n",
       "      <td>1.0</td>\n",
       "      <td>1.0</td>\n",
       "      <td>2011.0</td>\n",
       "    </tr>\n",
       "    <tr>\n",
       "      <th>217770</th>\n",
       "      <td>NaN</td>\n",
       "      <td>NaN</td>\n",
       "      <td>NaN</td>\n",
       "      <td>NaN</td>\n",
       "      <td>NaT</td>\n",
       "      <td>NaT</td>\n",
       "      <td>NaN</td>\n",
       "      <td>NaN</td>\n",
       "      <td>NaN</td>\n",
       "      <td>NaN</td>\n",
       "      <td>NaN</td>\n",
       "      <td>NaN</td>\n",
       "      <td>NaN</td>\n",
       "      <td>56542.0</td>\n",
       "      <td>55477.0</td>\n",
       "      <td>2011-01-13</td>\n",
       "      <td>venture</td>\n",
       "      <td>10633300.0</td>\n",
       "      <td>0.0</td>\n",
       "      <td>0.0</td>\n",
       "      <td>0.0</td>\n",
       "      <td>1.0</td>\n",
       "      <td>2011.0</td>\n",
       "    </tr>\n",
       "    <tr>\n",
       "      <th>217771</th>\n",
       "      <td>NaN</td>\n",
       "      <td>NaN</td>\n",
       "      <td>NaN</td>\n",
       "      <td>NaN</td>\n",
       "      <td>NaT</td>\n",
       "      <td>NaT</td>\n",
       "      <td>NaN</td>\n",
       "      <td>NaN</td>\n",
       "      <td>NaN</td>\n",
       "      <td>NaN</td>\n",
       "      <td>NaN</td>\n",
       "      <td>NaN</td>\n",
       "      <td>NaN</td>\n",
       "      <td>56543.0</td>\n",
       "      <td>55477.0</td>\n",
       "      <td>2012-05-31</td>\n",
       "      <td>venture</td>\n",
       "      <td>2125720.0</td>\n",
       "      <td>0.0</td>\n",
       "      <td>0.0</td>\n",
       "      <td>1.0</td>\n",
       "      <td>0.0</td>\n",
       "      <td>2012.0</td>\n",
       "    </tr>\n",
       "    <tr>\n",
       "      <th>217772</th>\n",
       "      <td>NaN</td>\n",
       "      <td>NaN</td>\n",
       "      <td>NaN</td>\n",
       "      <td>NaN</td>\n",
       "      <td>NaT</td>\n",
       "      <td>NaT</td>\n",
       "      <td>NaN</td>\n",
       "      <td>NaN</td>\n",
       "      <td>NaN</td>\n",
       "      <td>NaN</td>\n",
       "      <td>NaN</td>\n",
       "      <td>NaN</td>\n",
       "      <td>NaN</td>\n",
       "      <td>56928.0</td>\n",
       "      <td>283492.0</td>\n",
       "      <td>2013-12-03</td>\n",
       "      <td>venture</td>\n",
       "      <td>3602480.0</td>\n",
       "      <td>0.0</td>\n",
       "      <td>5.0</td>\n",
       "      <td>1.0</td>\n",
       "      <td>1.0</td>\n",
       "      <td>2013.0</td>\n",
       "    </tr>\n",
       "    <tr>\n",
       "      <th>217773</th>\n",
       "      <td>NaN</td>\n",
       "      <td>NaN</td>\n",
       "      <td>NaN</td>\n",
       "      <td>NaN</td>\n",
       "      <td>NaT</td>\n",
       "      <td>NaT</td>\n",
       "      <td>NaN</td>\n",
       "      <td>NaN</td>\n",
       "      <td>NaN</td>\n",
       "      <td>NaN</td>\n",
       "      <td>NaN</td>\n",
       "      <td>NaN</td>\n",
       "      <td>NaN</td>\n",
       "      <td>57063.0</td>\n",
       "      <td>284191.0</td>\n",
       "      <td>2013-12-04</td>\n",
       "      <td>venture</td>\n",
       "      <td>7000000.0</td>\n",
       "      <td>0.0</td>\n",
       "      <td>4.0</td>\n",
       "      <td>1.0</td>\n",
       "      <td>1.0</td>\n",
       "      <td>2013.0</td>\n",
       "    </tr>\n",
       "  </tbody>\n",
       "</table>\n",
       "<p>217774 rows × 23 columns</p>\n",
       "</div>"
      ],
      "text/plain": [
       "        company_ID      name category_code     status founded_at closed_at  \\\n",
       "0              1.0  Wetpaint           web  operating 2005-10-17       NaT   \n",
       "1              1.0  Wetpaint           web  operating 2005-10-17       NaT   \n",
       "2              1.0  Wetpaint           web  operating 2005-10-17       NaT   \n",
       "3             10.0   Flektor   games_video   acquired        NaT       NaT   \n",
       "4            100.0     There   games_video   acquired        NaT       NaT   \n",
       "...            ...       ...           ...        ...        ...       ...   \n",
       "217769         NaN       NaN           NaN        NaN        NaT       NaT   \n",
       "217770         NaN       NaN           NaN        NaN        NaT       NaT   \n",
       "217771         NaN       NaN           NaN        NaN        NaT       NaT   \n",
       "217772         NaN       NaN           NaN        NaN        NaT       NaT   \n",
       "217773         NaN       NaN           NaN        NaN        NaT       NaT   \n",
       "\n",
       "                  domain network_username country_code  investment_rounds  \\\n",
       "0       wetpaint-inc.com  BachelrWetpaint          USA                0.0   \n",
       "1       wetpaint-inc.com  BachelrWetpaint          USA                0.0   \n",
       "2       wetpaint-inc.com  BachelrWetpaint          USA                0.0   \n",
       "3            flektor.com              NaN          USA                0.0   \n",
       "4              there.com              NaN          USA                0.0   \n",
       "...                  ...              ...          ...                ...   \n",
       "217769               NaN              NaN          NaN                NaN   \n",
       "217770               NaN              NaN          NaN                NaN   \n",
       "217771               NaN              NaN          NaN                NaN   \n",
       "217772               NaN              NaN          NaN                NaN   \n",
       "217773               NaN              NaN          NaN                NaN   \n",
       "\n",
       "        funding_rounds  funding_total  milestones  funding_round_id  \\\n",
       "0                  3.0     39750000.0         5.0             888.0   \n",
       "1                  3.0     39750000.0         5.0             889.0   \n",
       "2                  3.0     39750000.0         5.0            2312.0   \n",
       "3                  0.0            0.0         0.0               NaN   \n",
       "4                  0.0            0.0         4.0               NaN   \n",
       "...                ...            ...         ...               ...   \n",
       "217769             NaN            NaN         NaN           56454.0   \n",
       "217770             NaN            NaN         NaN           56542.0   \n",
       "217771             NaN            NaN         NaN           56543.0   \n",
       "217772             NaN            NaN         NaN           56928.0   \n",
       "217773             NaN            NaN         NaN           57063.0   \n",
       "\n",
       "        company_id  funded_at funding_round_type  raised_amount  \\\n",
       "0              1.0 2005-10-01           series-a      5250000.0   \n",
       "1              1.0 2007-01-01           series-b      9500000.0   \n",
       "2              1.0 2008-05-19          series-c+     25000000.0   \n",
       "3              NaN        NaT                NaN            NaN   \n",
       "4              NaN        NaT                NaN            NaN   \n",
       "...            ...        ...                ...            ...   \n",
       "217769    282847.0 2011-01-31              other      5500000.0   \n",
       "217770     55477.0 2011-01-13            venture     10633300.0   \n",
       "217771     55477.0 2012-05-31            venture      2125720.0   \n",
       "217772    283492.0 2013-12-03            venture      3602480.0   \n",
       "217773    284191.0 2013-12-04            venture      7000000.0   \n",
       "\n",
       "        pre_money_valuation  participants  is_first_round  is_last_round  \\\n",
       "0                       0.0           2.0             0.0            1.0   \n",
       "1                       0.0           3.0             0.0            0.0   \n",
       "2                       0.0           4.0             1.0            0.0   \n",
       "3                       NaN           NaN             NaN            NaN   \n",
       "4                       NaN           NaN             NaN            NaN   \n",
       "...                     ...           ...             ...            ...   \n",
       "217769                  0.0           0.0             1.0            1.0   \n",
       "217770                  0.0           0.0             0.0            1.0   \n",
       "217771                  0.0           0.0             1.0            0.0   \n",
       "217772                  0.0           5.0             1.0            1.0   \n",
       "217773                  0.0           4.0             1.0            1.0   \n",
       "\n",
       "        funded_year  \n",
       "0            2005.0  \n",
       "1            2007.0  \n",
       "2            2008.0  \n",
       "3               NaN  \n",
       "4               NaN  \n",
       "...             ...  \n",
       "217769       2011.0  \n",
       "217770       2011.0  \n",
       "217771       2012.0  \n",
       "217772       2013.0  \n",
       "217773       2013.0  \n",
       "\n",
       "[217774 rows x 23 columns]"
      ]
     },
     "execution_count": 42,
     "metadata": {},
     "output_type": "execute_result"
    }
   ],
   "source": [
    "company_and_rounds_df"
   ]
  },
  {
   "cell_type": "markdown",
   "metadata": {
    "id": "tJ6Sl6MKrJg1",
    "vscode": {
     "languageId": "plaintext"
    }
   },
   "source": [
    "Визуально эта таблица выглядит как результат склеивания двух таблиц. Первая таблица начиная со столбца `company_ID`\tи заканчивая столцом `milestones`, и вторая таблица начиная с `funding_round_id`. В правой половине таблицы тоже есть столбец `company_id` по которому видно, что и в `company_ID` и в `company_id` одни и те же данные, там где они присутствуют в обоих столбцах. Левая половина датасета с общей информацией о компании, а правая уже с информацией о раундах.\n",
    "\n",
    "Ещё при первом знакомстве с таблицей, была замечена особенность в распределении пропусков - в правой части таблицы их очень много и их количество почти в каждом столбце одинаково. Изучим пропуски поподробнее используя библиотеку `missingno`"
   ]
  },
  {
   "cell_type": "code",
   "execution_count": 43,
   "metadata": {},
   "outputs": [
    {
     "name": "stdout",
     "output_type": "stream",
     "text": [
      "Requirement already satisfied: missingno in /opt/conda/lib/python3.9/site-packages (0.5.2)\n",
      "Requirement already satisfied: numpy in /opt/conda/lib/python3.9/site-packages (from missingno) (1.21.1)\n",
      "Requirement already satisfied: matplotlib in /opt/conda/lib/python3.9/site-packages (from missingno) (3.3.4)\n",
      "Requirement already satisfied: scipy in /opt/conda/lib/python3.9/site-packages (from missingno) (1.9.1)\n",
      "Requirement already satisfied: seaborn in /opt/conda/lib/python3.9/site-packages (from missingno) (0.11.1)\n",
      "Requirement already satisfied: pyparsing!=2.0.4,!=2.1.2,!=2.1.6,>=2.0.3 in /opt/conda/lib/python3.9/site-packages (from matplotlib->missingno) (2.4.7)\n",
      "Requirement already satisfied: kiwisolver>=1.0.1 in /opt/conda/lib/python3.9/site-packages (from matplotlib->missingno) (1.4.4)\n",
      "Requirement already satisfied: pillow>=6.2.0 in /opt/conda/lib/python3.9/site-packages (from matplotlib->missingno) (8.4.0)\n",
      "Requirement already satisfied: cycler>=0.10 in /opt/conda/lib/python3.9/site-packages (from matplotlib->missingno) (0.11.0)\n",
      "Requirement already satisfied: python-dateutil>=2.1 in /opt/conda/lib/python3.9/site-packages (from matplotlib->missingno) (2.8.1)\n",
      "Requirement already satisfied: six>=1.5 in /opt/conda/lib/python3.9/site-packages (from python-dateutil>=2.1->matplotlib->missingno) (1.16.0)\n",
      "Requirement already satisfied: pandas>=0.23 in /opt/conda/lib/python3.9/site-packages (from seaborn->missingno) (1.2.4)\n",
      "Requirement already satisfied: pytz>=2017.3 in /opt/conda/lib/python3.9/site-packages (from pandas>=0.23->seaborn->missingno) (2021.1)\n"
     ]
    }
   ],
   "source": [
    "# Устанавливаем и загружаем библиотеку missingno\n",
    "!pip install missingno\n",
    "import missingno as msno "
   ]
  },
  {
   "cell_type": "code",
   "execution_count": 44,
   "metadata": {},
   "outputs": [
    {
     "data": {
      "text/plain": [
       "<AxesSubplot:>"
      ]
     },
     "execution_count": 44,
     "metadata": {},
     "output_type": "execute_result"
    },
    {
     "data": {
      "image/png": "[encoded data removed]",
      "text/plain": [
       "<Figure size 1800x720 with 2 Axes>"
      ]
     },
     "metadata": {
      "needs_background": "light"
     },
     "output_type": "display_data"
    }
   ],
   "source": [
    "#Строим матрицу пропусков\n",
    "msno.matrix(company_and_rounds_df)"
   ]
  },
  {
   "cell_type": "markdown",
   "metadata": {},
   "source": [
    "Наглядно видно, что правая часть имеет целые серии строк с пустыми значениями как раз начиная со столбца `funding_round_id`"
   ]
  },
  {
   "cell_type": "code",
   "execution_count": 45,
   "metadata": {},
   "outputs": [
    {
     "data": {
      "text/plain": [
       "<AxesSubplot:>"
      ]
     },
     "execution_count": 45,
     "metadata": {},
     "output_type": "execute_result"
    },
    {
     "data": {
      "image/png": "[encoded data removed]",
      "text/plain": [
       "<Figure size 1440x864 with 2 Axes>"
      ]
     },
     "metadata": {
      "needs_background": "light"
     },
     "output_type": "display_data"
    }
   ],
   "source": [
    "#Строим тепловую карту пропусков\n",
    "msno.heatmap(company_and_rounds_df)"
   ]
  },
  {
   "cell_type": "markdown",
   "metadata": {},
   "source": [
    "Эта визуализация показывает корелляцию пропусков между столбцами. Значение около 0 означает, что нет зависимости между появлением пропущенных значений двух переменных. Здесь так же чётко видны границы, где пропуски левой и правой частей таблицы не имеют между собой взимосвязи. А значит эти таблицы можно спокойно разделить.\n",
    "\n",
    "Все эти признаки подтверждают версию о том, что это две таблицы, которые были соединены."
   ]
  },
  {
   "cell_type": "markdown",
   "metadata": {},
   "source": [
    "Чтобы получить нужную таблицу разделим company_and_rounds_df и удалим дубликаты из нужной (левой) части таблицы"
   ]
  },
  {
   "cell_type": "code",
   "execution_count": 46,
   "metadata": {},
   "outputs": [],
   "source": [
    "#Создадим копию таблицы company_and_rounds_df для того, чтобы потом делить её\n",
    "copy_company_and_rounds_df = company_and_rounds_df\n",
    "\n",
    "# Выделяем необходимые столбцы для первого датафрейма company\n",
    "company_info = copy_company_and_rounds_df[['company_ID', 'name', 'category_code', 'status','founded_at','closed_at','domain','network_username','country_code','investment_rounds','funding_rounds','funding_total','milestones']] \n",
    "\n",
    "# выделяем необходимые столбцы для второго датафрейма rounds\n",
    "rounds_info = copy_company_and_rounds_df[['funding_round_id', 'company_id', 'funded_at','funding_round_type','raised_amount','pre_money_valuation','participants','is_first_round','is_last_round','funded_year']]"
   ]
  },
  {
   "cell_type": "code",
   "execution_count": 47,
   "metadata": {},
   "outputs": [
    {
     "data": {
      "text/html": [
       "<div>\n",
       "<style scoped>\n",
       "    .dataframe tbody tr th:only-of-type {\n",
       "        vertical-align: middle;\n",
       "    }\n",
       "\n",
       "    .dataframe tbody tr th {\n",
       "        vertical-align: top;\n",
       "    }\n",
       "\n",
       "    .dataframe thead th {\n",
       "        text-align: right;\n",
       "    }\n",
       "</style>\n",
       "<table border=\"1\" class=\"dataframe\">\n",
       "  <thead>\n",
       "    <tr style=\"text-align: right;\">\n",
       "      <th></th>\n",
       "      <th>company_ID</th>\n",
       "      <th>name</th>\n",
       "      <th>category_code</th>\n",
       "      <th>status</th>\n",
       "      <th>founded_at</th>\n",
       "      <th>closed_at</th>\n",
       "      <th>domain</th>\n",
       "      <th>network_username</th>\n",
       "      <th>country_code</th>\n",
       "      <th>investment_rounds</th>\n",
       "      <th>funding_rounds</th>\n",
       "      <th>funding_total</th>\n",
       "      <th>milestones</th>\n",
       "    </tr>\n",
       "  </thead>\n",
       "  <tbody>\n",
       "    <tr>\n",
       "      <th>0</th>\n",
       "      <td>1.0</td>\n",
       "      <td>Wetpaint</td>\n",
       "      <td>web</td>\n",
       "      <td>operating</td>\n",
       "      <td>2005-10-17</td>\n",
       "      <td>NaT</td>\n",
       "      <td>wetpaint-inc.com</td>\n",
       "      <td>BachelrWetpaint</td>\n",
       "      <td>USA</td>\n",
       "      <td>0.0</td>\n",
       "      <td>3.0</td>\n",
       "      <td>39750000.0</td>\n",
       "      <td>5.0</td>\n",
       "    </tr>\n",
       "    <tr>\n",
       "      <th>1</th>\n",
       "      <td>1.0</td>\n",
       "      <td>Wetpaint</td>\n",
       "      <td>web</td>\n",
       "      <td>operating</td>\n",
       "      <td>2005-10-17</td>\n",
       "      <td>NaT</td>\n",
       "      <td>wetpaint-inc.com</td>\n",
       "      <td>BachelrWetpaint</td>\n",
       "      <td>USA</td>\n",
       "      <td>0.0</td>\n",
       "      <td>3.0</td>\n",
       "      <td>39750000.0</td>\n",
       "      <td>5.0</td>\n",
       "    </tr>\n",
       "    <tr>\n",
       "      <th>2</th>\n",
       "      <td>1.0</td>\n",
       "      <td>Wetpaint</td>\n",
       "      <td>web</td>\n",
       "      <td>operating</td>\n",
       "      <td>2005-10-17</td>\n",
       "      <td>NaT</td>\n",
       "      <td>wetpaint-inc.com</td>\n",
       "      <td>BachelrWetpaint</td>\n",
       "      <td>USA</td>\n",
       "      <td>0.0</td>\n",
       "      <td>3.0</td>\n",
       "      <td>39750000.0</td>\n",
       "      <td>5.0</td>\n",
       "    </tr>\n",
       "    <tr>\n",
       "      <th>3</th>\n",
       "      <td>10.0</td>\n",
       "      <td>Flektor</td>\n",
       "      <td>games_video</td>\n",
       "      <td>acquired</td>\n",
       "      <td>NaT</td>\n",
       "      <td>NaT</td>\n",
       "      <td>flektor.com</td>\n",
       "      <td>NaN</td>\n",
       "      <td>USA</td>\n",
       "      <td>0.0</td>\n",
       "      <td>0.0</td>\n",
       "      <td>0.0</td>\n",
       "      <td>0.0</td>\n",
       "    </tr>\n",
       "    <tr>\n",
       "      <th>4</th>\n",
       "      <td>100.0</td>\n",
       "      <td>There</td>\n",
       "      <td>games_video</td>\n",
       "      <td>acquired</td>\n",
       "      <td>NaT</td>\n",
       "      <td>NaT</td>\n",
       "      <td>there.com</td>\n",
       "      <td>NaN</td>\n",
       "      <td>USA</td>\n",
       "      <td>0.0</td>\n",
       "      <td>0.0</td>\n",
       "      <td>0.0</td>\n",
       "      <td>4.0</td>\n",
       "    </tr>\n",
       "    <tr>\n",
       "      <th>...</th>\n",
       "      <td>...</td>\n",
       "      <td>...</td>\n",
       "      <td>...</td>\n",
       "      <td>...</td>\n",
       "      <td>...</td>\n",
       "      <td>...</td>\n",
       "      <td>...</td>\n",
       "      <td>...</td>\n",
       "      <td>...</td>\n",
       "      <td>...</td>\n",
       "      <td>...</td>\n",
       "      <td>...</td>\n",
       "      <td>...</td>\n",
       "    </tr>\n",
       "    <tr>\n",
       "      <th>217769</th>\n",
       "      <td>NaN</td>\n",
       "      <td>NaN</td>\n",
       "      <td>NaN</td>\n",
       "      <td>NaN</td>\n",
       "      <td>NaT</td>\n",
       "      <td>NaT</td>\n",
       "      <td>NaN</td>\n",
       "      <td>NaN</td>\n",
       "      <td>NaN</td>\n",
       "      <td>NaN</td>\n",
       "      <td>NaN</td>\n",
       "      <td>NaN</td>\n",
       "      <td>NaN</td>\n",
       "    </tr>\n",
       "    <tr>\n",
       "      <th>217770</th>\n",
       "      <td>NaN</td>\n",
       "      <td>NaN</td>\n",
       "      <td>NaN</td>\n",
       "      <td>NaN</td>\n",
       "      <td>NaT</td>\n",
       "      <td>NaT</td>\n",
       "      <td>NaN</td>\n",
       "      <td>NaN</td>\n",
       "      <td>NaN</td>\n",
       "      <td>NaN</td>\n",
       "      <td>NaN</td>\n",
       "      <td>NaN</td>\n",
       "      <td>NaN</td>\n",
       "    </tr>\n",
       "    <tr>\n",
       "      <th>217771</th>\n",
       "      <td>NaN</td>\n",
       "      <td>NaN</td>\n",
       "      <td>NaN</td>\n",
       "      <td>NaN</td>\n",
       "      <td>NaT</td>\n",
       "      <td>NaT</td>\n",
       "      <td>NaN</td>\n",
       "      <td>NaN</td>\n",
       "      <td>NaN</td>\n",
       "      <td>NaN</td>\n",
       "      <td>NaN</td>\n",
       "      <td>NaN</td>\n",
       "      <td>NaN</td>\n",
       "    </tr>\n",
       "    <tr>\n",
       "      <th>217772</th>\n",
       "      <td>NaN</td>\n",
       "      <td>NaN</td>\n",
       "      <td>NaN</td>\n",
       "      <td>NaN</td>\n",
       "      <td>NaT</td>\n",
       "      <td>NaT</td>\n",
       "      <td>NaN</td>\n",
       "      <td>NaN</td>\n",
       "      <td>NaN</td>\n",
       "      <td>NaN</td>\n",
       "      <td>NaN</td>\n",
       "      <td>NaN</td>\n",
       "      <td>NaN</td>\n",
       "    </tr>\n",
       "    <tr>\n",
       "      <th>217773</th>\n",
       "      <td>NaN</td>\n",
       "      <td>NaN</td>\n",
       "      <td>NaN</td>\n",
       "      <td>NaN</td>\n",
       "      <td>NaT</td>\n",
       "      <td>NaT</td>\n",
       "      <td>NaN</td>\n",
       "      <td>NaN</td>\n",
       "      <td>NaN</td>\n",
       "      <td>NaN</td>\n",
       "      <td>NaN</td>\n",
       "      <td>NaN</td>\n",
       "      <td>NaN</td>\n",
       "    </tr>\n",
       "  </tbody>\n",
       "</table>\n",
       "<p>217774 rows × 13 columns</p>\n",
       "</div>"
      ],
      "text/plain": [
       "        company_ID      name category_code     status founded_at closed_at  \\\n",
       "0              1.0  Wetpaint           web  operating 2005-10-17       NaT   \n",
       "1              1.0  Wetpaint           web  operating 2005-10-17       NaT   \n",
       "2              1.0  Wetpaint           web  operating 2005-10-17       NaT   \n",
       "3             10.0   Flektor   games_video   acquired        NaT       NaT   \n",
       "4            100.0     There   games_video   acquired        NaT       NaT   \n",
       "...            ...       ...           ...        ...        ...       ...   \n",
       "217769         NaN       NaN           NaN        NaN        NaT       NaT   \n",
       "217770         NaN       NaN           NaN        NaN        NaT       NaT   \n",
       "217771         NaN       NaN           NaN        NaN        NaT       NaT   \n",
       "217772         NaN       NaN           NaN        NaN        NaT       NaT   \n",
       "217773         NaN       NaN           NaN        NaN        NaT       NaT   \n",
       "\n",
       "                  domain network_username country_code  investment_rounds  \\\n",
       "0       wetpaint-inc.com  BachelrWetpaint          USA                0.0   \n",
       "1       wetpaint-inc.com  BachelrWetpaint          USA                0.0   \n",
       "2       wetpaint-inc.com  BachelrWetpaint          USA                0.0   \n",
       "3            flektor.com              NaN          USA                0.0   \n",
       "4              there.com              NaN          USA                0.0   \n",
       "...                  ...              ...          ...                ...   \n",
       "217769               NaN              NaN          NaN                NaN   \n",
       "217770               NaN              NaN          NaN                NaN   \n",
       "217771               NaN              NaN          NaN                NaN   \n",
       "217772               NaN              NaN          NaN                NaN   \n",
       "217773               NaN              NaN          NaN                NaN   \n",
       "\n",
       "        funding_rounds  funding_total  milestones  \n",
       "0                  3.0     39750000.0         5.0  \n",
       "1                  3.0     39750000.0         5.0  \n",
       "2                  3.0     39750000.0         5.0  \n",
       "3                  0.0            0.0         0.0  \n",
       "4                  0.0            0.0         4.0  \n",
       "...                ...            ...         ...  \n",
       "217769             NaN            NaN         NaN  \n",
       "217770             NaN            NaN         NaN  \n",
       "217771             NaN            NaN         NaN  \n",
       "217772             NaN            NaN         NaN  \n",
       "217773             NaN            NaN         NaN  \n",
       "\n",
       "[217774 rows x 13 columns]"
      ]
     },
     "execution_count": 47,
     "metadata": {},
     "output_type": "execute_result"
    }
   ],
   "source": [
    "company_info"
   ]
  },
  {
   "cell_type": "code",
   "execution_count": 48,
   "metadata": {},
   "outputs": [
    {
     "data": {
      "text/html": [
       "<div>\n",
       "<style scoped>\n",
       "    .dataframe tbody tr th:only-of-type {\n",
       "        vertical-align: middle;\n",
       "    }\n",
       "\n",
       "    .dataframe tbody tr th {\n",
       "        vertical-align: top;\n",
       "    }\n",
       "\n",
       "    .dataframe thead th {\n",
       "        text-align: right;\n",
       "    }\n",
       "</style>\n",
       "<table border=\"1\" class=\"dataframe\">\n",
       "  <thead>\n",
       "    <tr style=\"text-align: right;\">\n",
       "      <th></th>\n",
       "      <th>funding_round_id</th>\n",
       "      <th>company_id</th>\n",
       "      <th>funded_at</th>\n",
       "      <th>funding_round_type</th>\n",
       "      <th>raised_amount</th>\n",
       "      <th>pre_money_valuation</th>\n",
       "      <th>participants</th>\n",
       "      <th>is_first_round</th>\n",
       "      <th>is_last_round</th>\n",
       "      <th>funded_year</th>\n",
       "    </tr>\n",
       "  </thead>\n",
       "  <tbody>\n",
       "    <tr>\n",
       "      <th>0</th>\n",
       "      <td>888.0</td>\n",
       "      <td>1.0</td>\n",
       "      <td>2005-10-01</td>\n",
       "      <td>series-a</td>\n",
       "      <td>5250000.0</td>\n",
       "      <td>0.0</td>\n",
       "      <td>2.0</td>\n",
       "      <td>0.0</td>\n",
       "      <td>1.0</td>\n",
       "      <td>2005.0</td>\n",
       "    </tr>\n",
       "    <tr>\n",
       "      <th>1</th>\n",
       "      <td>889.0</td>\n",
       "      <td>1.0</td>\n",
       "      <td>2007-01-01</td>\n",
       "      <td>series-b</td>\n",
       "      <td>9500000.0</td>\n",
       "      <td>0.0</td>\n",
       "      <td>3.0</td>\n",
       "      <td>0.0</td>\n",
       "      <td>0.0</td>\n",
       "      <td>2007.0</td>\n",
       "    </tr>\n",
       "    <tr>\n",
       "      <th>2</th>\n",
       "      <td>2312.0</td>\n",
       "      <td>1.0</td>\n",
       "      <td>2008-05-19</td>\n",
       "      <td>series-c+</td>\n",
       "      <td>25000000.0</td>\n",
       "      <td>0.0</td>\n",
       "      <td>4.0</td>\n",
       "      <td>1.0</td>\n",
       "      <td>0.0</td>\n",
       "      <td>2008.0</td>\n",
       "    </tr>\n",
       "    <tr>\n",
       "      <th>3</th>\n",
       "      <td>NaN</td>\n",
       "      <td>NaN</td>\n",
       "      <td>NaT</td>\n",
       "      <td>NaN</td>\n",
       "      <td>NaN</td>\n",
       "      <td>NaN</td>\n",
       "      <td>NaN</td>\n",
       "      <td>NaN</td>\n",
       "      <td>NaN</td>\n",
       "      <td>NaN</td>\n",
       "    </tr>\n",
       "    <tr>\n",
       "      <th>4</th>\n",
       "      <td>NaN</td>\n",
       "      <td>NaN</td>\n",
       "      <td>NaT</td>\n",
       "      <td>NaN</td>\n",
       "      <td>NaN</td>\n",
       "      <td>NaN</td>\n",
       "      <td>NaN</td>\n",
       "      <td>NaN</td>\n",
       "      <td>NaN</td>\n",
       "      <td>NaN</td>\n",
       "    </tr>\n",
       "    <tr>\n",
       "      <th>...</th>\n",
       "      <td>...</td>\n",
       "      <td>...</td>\n",
       "      <td>...</td>\n",
       "      <td>...</td>\n",
       "      <td>...</td>\n",
       "      <td>...</td>\n",
       "      <td>...</td>\n",
       "      <td>...</td>\n",
       "      <td>...</td>\n",
       "      <td>...</td>\n",
       "    </tr>\n",
       "    <tr>\n",
       "      <th>217769</th>\n",
       "      <td>56454.0</td>\n",
       "      <td>282847.0</td>\n",
       "      <td>2011-01-31</td>\n",
       "      <td>other</td>\n",
       "      <td>5500000.0</td>\n",
       "      <td>0.0</td>\n",
       "      <td>0.0</td>\n",
       "      <td>1.0</td>\n",
       "      <td>1.0</td>\n",
       "      <td>2011.0</td>\n",
       "    </tr>\n",
       "    <tr>\n",
       "      <th>217770</th>\n",
       "      <td>56542.0</td>\n",
       "      <td>55477.0</td>\n",
       "      <td>2011-01-13</td>\n",
       "      <td>venture</td>\n",
       "      <td>10633300.0</td>\n",
       "      <td>0.0</td>\n",
       "      <td>0.0</td>\n",
       "      <td>0.0</td>\n",
       "      <td>1.0</td>\n",
       "      <td>2011.0</td>\n",
       "    </tr>\n",
       "    <tr>\n",
       "      <th>217771</th>\n",
       "      <td>56543.0</td>\n",
       "      <td>55477.0</td>\n",
       "      <td>2012-05-31</td>\n",
       "      <td>venture</td>\n",
       "      <td>2125720.0</td>\n",
       "      <td>0.0</td>\n",
       "      <td>0.0</td>\n",
       "      <td>1.0</td>\n",
       "      <td>0.0</td>\n",
       "      <td>2012.0</td>\n",
       "    </tr>\n",
       "    <tr>\n",
       "      <th>217772</th>\n",
       "      <td>56928.0</td>\n",
       "      <td>283492.0</td>\n",
       "      <td>2013-12-03</td>\n",
       "      <td>venture</td>\n",
       "      <td>3602480.0</td>\n",
       "      <td>0.0</td>\n",
       "      <td>5.0</td>\n",
       "      <td>1.0</td>\n",
       "      <td>1.0</td>\n",
       "      <td>2013.0</td>\n",
       "    </tr>\n",
       "    <tr>\n",
       "      <th>217773</th>\n",
       "      <td>57063.0</td>\n",
       "      <td>284191.0</td>\n",
       "      <td>2013-12-04</td>\n",
       "      <td>venture</td>\n",
       "      <td>7000000.0</td>\n",
       "      <td>0.0</td>\n",
       "      <td>4.0</td>\n",
       "      <td>1.0</td>\n",
       "      <td>1.0</td>\n",
       "      <td>2013.0</td>\n",
       "    </tr>\n",
       "  </tbody>\n",
       "</table>\n",
       "<p>217774 rows × 10 columns</p>\n",
       "</div>"
      ],
      "text/plain": [
       "        funding_round_id  company_id  funded_at funding_round_type  \\\n",
       "0                  888.0         1.0 2005-10-01           series-a   \n",
       "1                  889.0         1.0 2007-01-01           series-b   \n",
       "2                 2312.0         1.0 2008-05-19          series-c+   \n",
       "3                    NaN         NaN        NaT                NaN   \n",
       "4                    NaN         NaN        NaT                NaN   \n",
       "...                  ...         ...        ...                ...   \n",
       "217769           56454.0    282847.0 2011-01-31              other   \n",
       "217770           56542.0     55477.0 2011-01-13            venture   \n",
       "217771           56543.0     55477.0 2012-05-31            venture   \n",
       "217772           56928.0    283492.0 2013-12-03            venture   \n",
       "217773           57063.0    284191.0 2013-12-04            venture   \n",
       "\n",
       "        raised_amount  pre_money_valuation  participants  is_first_round  \\\n",
       "0           5250000.0                  0.0           2.0             0.0   \n",
       "1           9500000.0                  0.0           3.0             0.0   \n",
       "2          25000000.0                  0.0           4.0             1.0   \n",
       "3                 NaN                  NaN           NaN             NaN   \n",
       "4                 NaN                  NaN           NaN             NaN   \n",
       "...               ...                  ...           ...             ...   \n",
       "217769      5500000.0                  0.0           0.0             1.0   \n",
       "217770     10633300.0                  0.0           0.0             0.0   \n",
       "217771      2125720.0                  0.0           0.0             1.0   \n",
       "217772      3602480.0                  0.0           5.0             1.0   \n",
       "217773      7000000.0                  0.0           4.0             1.0   \n",
       "\n",
       "        is_last_round  funded_year  \n",
       "0                 1.0       2005.0  \n",
       "1                 0.0       2007.0  \n",
       "2                 0.0       2008.0  \n",
       "3                 NaN          NaN  \n",
       "4                 NaN          NaN  \n",
       "...               ...          ...  \n",
       "217769            1.0       2011.0  \n",
       "217770            1.0       2011.0  \n",
       "217771            0.0       2012.0  \n",
       "217772            1.0       2013.0  \n",
       "217773            1.0       2013.0  \n",
       "\n",
       "[217774 rows x 10 columns]"
      ]
     },
     "execution_count": 48,
     "metadata": {},
     "output_type": "execute_result"
    }
   ],
   "source": [
    "rounds_info"
   ]
  },
  {
   "cell_type": "markdown",
   "metadata": {},
   "source": [
    "Удалим все явные дубликаты из таблицы company_info и получим требуемую таблицу"
   ]
  },
  {
   "cell_type": "code",
   "execution_count": 49,
   "metadata": {},
   "outputs": [
    {
     "name": "stdout",
     "output_type": "stream",
     "text": [
      "Исходное количество строк: 217774\n",
      "Количество строк после удаления: 196554\n"
     ]
    },
    {
     "data": {
      "text/html": [
       "<div>\n",
       "<style scoped>\n",
       "    .dataframe tbody tr th:only-of-type {\n",
       "        vertical-align: middle;\n",
       "    }\n",
       "\n",
       "    .dataframe tbody tr th {\n",
       "        vertical-align: top;\n",
       "    }\n",
       "\n",
       "    .dataframe thead th {\n",
       "        text-align: right;\n",
       "    }\n",
       "</style>\n",
       "<table border=\"1\" class=\"dataframe\">\n",
       "  <thead>\n",
       "    <tr style=\"text-align: right;\">\n",
       "      <th></th>\n",
       "      <th>company_ID</th>\n",
       "      <th>name</th>\n",
       "      <th>category_code</th>\n",
       "      <th>status</th>\n",
       "      <th>founded_at</th>\n",
       "      <th>closed_at</th>\n",
       "      <th>domain</th>\n",
       "      <th>network_username</th>\n",
       "      <th>country_code</th>\n",
       "      <th>investment_rounds</th>\n",
       "      <th>funding_rounds</th>\n",
       "      <th>funding_total</th>\n",
       "      <th>milestones</th>\n",
       "    </tr>\n",
       "  </thead>\n",
       "  <tbody>\n",
       "    <tr>\n",
       "      <th>0</th>\n",
       "      <td>1.0</td>\n",
       "      <td>Wetpaint</td>\n",
       "      <td>web</td>\n",
       "      <td>operating</td>\n",
       "      <td>2005-10-17</td>\n",
       "      <td>NaT</td>\n",
       "      <td>wetpaint-inc.com</td>\n",
       "      <td>BachelrWetpaint</td>\n",
       "      <td>USA</td>\n",
       "      <td>0.0</td>\n",
       "      <td>3.0</td>\n",
       "      <td>39750000.0</td>\n",
       "      <td>5.0</td>\n",
       "    </tr>\n",
       "    <tr>\n",
       "      <th>3</th>\n",
       "      <td>10.0</td>\n",
       "      <td>Flektor</td>\n",
       "      <td>games_video</td>\n",
       "      <td>acquired</td>\n",
       "      <td>NaT</td>\n",
       "      <td>NaT</td>\n",
       "      <td>flektor.com</td>\n",
       "      <td>NaN</td>\n",
       "      <td>USA</td>\n",
       "      <td>0.0</td>\n",
       "      <td>0.0</td>\n",
       "      <td>0.0</td>\n",
       "      <td>0.0</td>\n",
       "    </tr>\n",
       "    <tr>\n",
       "      <th>4</th>\n",
       "      <td>100.0</td>\n",
       "      <td>There</td>\n",
       "      <td>games_video</td>\n",
       "      <td>acquired</td>\n",
       "      <td>NaT</td>\n",
       "      <td>NaT</td>\n",
       "      <td>there.com</td>\n",
       "      <td>NaN</td>\n",
       "      <td>USA</td>\n",
       "      <td>0.0</td>\n",
       "      <td>0.0</td>\n",
       "      <td>0.0</td>\n",
       "      <td>4.0</td>\n",
       "    </tr>\n",
       "    <tr>\n",
       "      <th>5</th>\n",
       "      <td>10000.0</td>\n",
       "      <td>MYWEBBO</td>\n",
       "      <td>network_hosting</td>\n",
       "      <td>operating</td>\n",
       "      <td>2008-07-26</td>\n",
       "      <td>NaT</td>\n",
       "      <td>mywebbo.com</td>\n",
       "      <td>NaN</td>\n",
       "      <td>NaN</td>\n",
       "      <td>0.0</td>\n",
       "      <td>0.0</td>\n",
       "      <td>0.0</td>\n",
       "      <td>0.0</td>\n",
       "    </tr>\n",
       "    <tr>\n",
       "      <th>6</th>\n",
       "      <td>10001.0</td>\n",
       "      <td>THE Movie Streamer</td>\n",
       "      <td>games_video</td>\n",
       "      <td>operating</td>\n",
       "      <td>2008-07-26</td>\n",
       "      <td>NaT</td>\n",
       "      <td>themoviestreamer.com</td>\n",
       "      <td>NaN</td>\n",
       "      <td>NaN</td>\n",
       "      <td>0.0</td>\n",
       "      <td>0.0</td>\n",
       "      <td>0.0</td>\n",
       "      <td>0.0</td>\n",
       "    </tr>\n",
       "    <tr>\n",
       "      <th>...</th>\n",
       "      <td>...</td>\n",
       "      <td>...</td>\n",
       "      <td>...</td>\n",
       "      <td>...</td>\n",
       "      <td>...</td>\n",
       "      <td>...</td>\n",
       "      <td>...</td>\n",
       "      <td>...</td>\n",
       "      <td>...</td>\n",
       "      <td>...</td>\n",
       "      <td>...</td>\n",
       "      <td>...</td>\n",
       "      <td>...</td>\n",
       "    </tr>\n",
       "    <tr>\n",
       "      <th>217463</th>\n",
       "      <td>3429.0</td>\n",
       "      <td>Zend Technologies</td>\n",
       "      <td>software</td>\n",
       "      <td>operating</td>\n",
       "      <td>1999-01-01</td>\n",
       "      <td>NaT</td>\n",
       "      <td>zend.com</td>\n",
       "      <td>networkzend</td>\n",
       "      <td>USA</td>\n",
       "      <td>0.0</td>\n",
       "      <td>4.0</td>\n",
       "      <td>44000000.0</td>\n",
       "      <td>6.0</td>\n",
       "    </tr>\n",
       "    <tr>\n",
       "      <th>217467</th>\n",
       "      <td>7748.0</td>\n",
       "      <td>Flowgram</td>\n",
       "      <td>web</td>\n",
       "      <td>closed</td>\n",
       "      <td>2007-06-01</td>\n",
       "      <td>2008-06-11</td>\n",
       "      <td>flowgram.com</td>\n",
       "      <td>network</td>\n",
       "      <td>USA</td>\n",
       "      <td>0.0</td>\n",
       "      <td>1.0</td>\n",
       "      <td>1300000.0</td>\n",
       "      <td>3.0</td>\n",
       "    </tr>\n",
       "    <tr>\n",
       "      <th>217468</th>\n",
       "      <td>174536.0</td>\n",
       "      <td>Pphotonet</td>\n",
       "      <td>games_video</td>\n",
       "      <td>operating</td>\n",
       "      <td>2012-05-01</td>\n",
       "      <td>NaT</td>\n",
       "      <td>pPhotonet.co</td>\n",
       "      <td>pPhotonet</td>\n",
       "      <td>NaN</td>\n",
       "      <td>0.0</td>\n",
       "      <td>0.0</td>\n",
       "      <td>0.0</td>\n",
       "      <td>0.0</td>\n",
       "    </tr>\n",
       "    <tr>\n",
       "      <th>217469</th>\n",
       "      <td>43233.0</td>\n",
       "      <td>Photonet</td>\n",
       "      <td>photo_video</td>\n",
       "      <td>acquired</td>\n",
       "      <td>2010-03-01</td>\n",
       "      <td>NaT</td>\n",
       "      <td>Photonet.com</td>\n",
       "      <td>Photonet</td>\n",
       "      <td>USA</td>\n",
       "      <td>0.0</td>\n",
       "      <td>3.0</td>\n",
       "      <td>57500000.0</td>\n",
       "      <td>3.0</td>\n",
       "    </tr>\n",
       "    <tr>\n",
       "      <th>217472</th>\n",
       "      <td>NaN</td>\n",
       "      <td>NaN</td>\n",
       "      <td>NaN</td>\n",
       "      <td>NaN</td>\n",
       "      <td>NaT</td>\n",
       "      <td>NaT</td>\n",
       "      <td>NaN</td>\n",
       "      <td>NaN</td>\n",
       "      <td>NaN</td>\n",
       "      <td>NaN</td>\n",
       "      <td>NaN</td>\n",
       "      <td>NaN</td>\n",
       "      <td>NaN</td>\n",
       "    </tr>\n",
       "  </tbody>\n",
       "</table>\n",
       "<p>196554 rows × 13 columns</p>\n",
       "</div>"
      ],
      "text/plain": [
       "        company_ID                name    category_code     status founded_at  \\\n",
       "0              1.0            Wetpaint              web  operating 2005-10-17   \n",
       "3             10.0             Flektor      games_video   acquired        NaT   \n",
       "4            100.0               There      games_video   acquired        NaT   \n",
       "5          10000.0             MYWEBBO  network_hosting  operating 2008-07-26   \n",
       "6          10001.0  THE Movie Streamer      games_video  operating 2008-07-26   \n",
       "...            ...                 ...              ...        ...        ...   \n",
       "217463      3429.0   Zend Technologies         software  operating 1999-01-01   \n",
       "217467      7748.0            Flowgram              web     closed 2007-06-01   \n",
       "217468    174536.0           Pphotonet      games_video  operating 2012-05-01   \n",
       "217469     43233.0            Photonet      photo_video   acquired 2010-03-01   \n",
       "217472         NaN                 NaN              NaN        NaN        NaT   \n",
       "\n",
       "        closed_at                domain network_username country_code  \\\n",
       "0             NaT      wetpaint-inc.com  BachelrWetpaint          USA   \n",
       "3             NaT           flektor.com              NaN          USA   \n",
       "4             NaT             there.com              NaN          USA   \n",
       "5             NaT           mywebbo.com              NaN          NaN   \n",
       "6             NaT  themoviestreamer.com              NaN          NaN   \n",
       "...           ...                   ...              ...          ...   \n",
       "217463        NaT              zend.com      networkzend          USA   \n",
       "217467 2008-06-11          flowgram.com          network          USA   \n",
       "217468        NaT          pPhotonet.co        pPhotonet          NaN   \n",
       "217469        NaT          Photonet.com         Photonet          USA   \n",
       "217472        NaT                   NaN              NaN          NaN   \n",
       "\n",
       "        investment_rounds  funding_rounds  funding_total  milestones  \n",
       "0                     0.0             3.0     39750000.0         5.0  \n",
       "3                     0.0             0.0            0.0         0.0  \n",
       "4                     0.0             0.0            0.0         4.0  \n",
       "5                     0.0             0.0            0.0         0.0  \n",
       "6                     0.0             0.0            0.0         0.0  \n",
       "...                   ...             ...            ...         ...  \n",
       "217463                0.0             4.0     44000000.0         6.0  \n",
       "217467                0.0             1.0      1300000.0         3.0  \n",
       "217468                0.0             0.0            0.0         0.0  \n",
       "217469                0.0             3.0     57500000.0         3.0  \n",
       "217472                NaN             NaN            NaN         NaN  \n",
       "\n",
       "[196554 rows x 13 columns]"
      ]
     },
     "execution_count": 49,
     "metadata": {},
     "output_type": "execute_result"
    }
   ],
   "source": [
    "# Количество строк до удаления в таблице company_info\n",
    "initial_row_count = company_info.shape[0]\n",
    "print(f\"Исходное количество строк: {initial_row_count}\")\n",
    "\n",
    "# Удалим явные дубликаты и получим нужную таблицу\n",
    "company_info_new = company_info.drop_duplicates(keep='first')\n",
    "\n",
    "# Количество строк после удаления\n",
    "final_row_count = company_info_new.shape[0]\n",
    "print(f\"Количество строк после удаления: {final_row_count}\")\n",
    "\n",
    "# Выводим на экран\n",
    "company_info_new"
   ]
  },
  {
   "cell_type": "markdown",
   "metadata": {},
   "source": [
    "<div class=\"alert alert-warning\">\n",
    "<font size=\"5\"><b>Комментарий ревьюера</b></font>\n",
    "\n",
    "\n",
    "\n",
    "Совет 🤔:\n",
    "\n",
    "Зачем опять объединять?\n",
    " "
   ]
  },
  {
   "cell_type": "markdown",
   "metadata": {},
   "source": [
    "\n",
    "<div class=\"alert alert-danger\">\n",
    "<font size=\"5\"><b>Комментарий ревьюера</b></font>\n",
    "\n",
    "\n",
    "\n",
    "Ошибка ❌:\n",
    "\n",
    "\n",
    "\n",
    "\n",
    "\n",
    "\n",
    "\n",
    "\n",
    "Верное решение о разделении на две таблицы, но зачем ты опять начала их объединять?  Обрати внимание new_company_and_rounds_df содержит дубликаты (Посмотри первые три строчки - Wetpaint), поэтому когда ты будешь проводить анализ ты одну и ту же цифру будешь считать несколько раз,  что исказит результаты. В общем нас   другое просят сделать \n",
    "    \n",
    "    \n",
    "Одним словом - берём company_info, и дропаем полные дубликаты. Это будет тот самый dataset о котором нам просят   \n",
    "    \n",
    "    \n",
    "<div class=\"alert alert-warning\">\n",
    "\n",
    "\n",
    "Совет 🤔:\n",
    "\n",
    "\n",
    "  \n",
    "- можно найти еще 5-6 подсказок, указывающих что company_rounds  был слеплен из двух меньше таблиц). В этом случае твоё решение будет более обоснованным и понятным      \n",
    "    \n",
    " \n",
    "    \n",
    "- Было бы правильно сбросить индексы, это делает таблицу более понятной и удобной для дальнейшего анализа \n",
    "    \n",
    "\t\n",
    "\t\n",
    "- Можно проанализировать какие нам данные понадобятся ниже, и убрать неунжные столбцы (заказчиком может смутить ненужная информации в данных)  \t"
   ]
  },
  {
   "cell_type": "markdown",
   "metadata": {},
   "source": [
    "<div class=\"alert alert-info\"> <b>Комментарии студентаV1:</b> Задачу 2.4 поправила. Добавила ещё причины, по которым стоит разделить таблицы, используя посоветованную тобой библитеку missingno. После разделения взяла в работу только левую таблицу с информацией по компаниям и удалила все явные дубликаты. Первоначально неверно поняла, что требуется. </div>"
   ]
  },
  {
   "cell_type": "markdown",
   "metadata": {},
   "source": [
    "<div class=\"alert alert-info\">\n",
    "<font size=\"5\"><b>Комментарий ревьюера</b></font>\n",
    "\n",
    "    \n",
    "Юлия, у тебя старательно выполненная работа, всё чётко, осмысленно. Выводы присутствуют, они чёткие и подробные, графики оформлены аккуратно  \n",
    "\n",
    "    \n",
    "Нет проблем с комментированием кода, тем, кто будет работать с твоим кодом, будет понятен ход твоих мыслей и логика  \n",
    "\n",
    "Хорошая работа с данными, поддерживаю, что не стала использовать заглушку/заполнение данных там, где не нужно  \n",
    "\n",
    "Использовала оптимальные методы  \n",
    " \n",
    "    \n",
    "Я оставил небольшие советы и вопросы (если есть время и желание, можешь воспользоваться/ответить) \n",
    "    \n",
    "    \n",
    "    \n",
    "**Обязательное к исправлению**:  \n",
    "\n",
    "    \n",
    "     \n",
    "- Перепутала столбцы    \n",
    "    \n",
    "- Неверно подсчитан total_employees    \n",
    "    \n",
    "- Нам нужен dataset где каждая строка - это одна компания\n",
    "    \n",
    "    \n",
    "Исправляем ошибки, и можешь приступать к исследовательскому анализу  \n",
    "\n",
    "<div class=\"alert alert-warning\">\n",
    "\n",
    "Совет 🤔:\n",
    "\n",
    "    \n",
    "    \n",
    "И так как многие студенты ошибаются в трактовке (и пишут анализ не по тому датасету), сразу хочу указать для 1 пункта во второй части на подсказку в брифе: результатом \"Объединение данных\" должна быть таблица с 40.000 примеров (``funding_rounds`` > 0 ИЛИ ``investment_rounds`` > 0 ИЛИ ``status`` == acquired)  \n",
    "\n",
    "    \n",
    "    \n",
    "А также обрати внимание в брифе: \"Далее работайте только с этими данными\".  \n",
    "\n",
    "    \n",
    "Это как раз об этом сорокатысячнике. Пишу, чтобы не оказалось, что будут сделаны выводы совсем по другому датасету"
   ]
  },
  {
   "cell_type": "markdown",
   "metadata": {
    "id": "bmVYhphNrJg2"
   },
   "source": [
    "\n",
    "## Шаг 3. Исследовательский анализ объединённых таблиц\n",
    "\n",
    "> Приступите к шагу 3 после проверки ревьюера.\n",
    "\n",
    "<big>Студентам нужно чётко сказать - проверять дальше или не проверять.</big>"
   ]
  },
  {
   "cell_type": "markdown",
   "metadata": {
    "id": "3Di6tCT3rJg2"
   },
   "source": [
    "\n",
    "### 3.1. Объединение данных\n",
    "\n",
    "Объедините данные для ответа на вопросы заказчика, которые касаются интересующих его компаний. Заказчика прежде всего интересуют те компании, которые меняли или готовы менять владельцев. Получение инвестиций или финансирования, по мнению заказчика, означает интерес к покупке или продаже компании.\n",
    "\n",
    "В качестве основы для объединённой таблицы возьмите данные из обработанного датасета `company_and_rounds.csv` — выберите только те компании, у которых указаны значения `funding_rounds` или `investment_rounds` больше нуля, или те, у которых в колонке `status` указано `acquired`. В результирующей таблице должно получиться порядка 40 тысяч компаний.\n",
    "\n",
    "Проверьте полноту и корректность получившейся таблицы. Далее работайте только с этими данными."
   ]
  },
  {
   "cell_type": "code",
   "execution_count": 50,
   "metadata": {
    "id": "kuV1b5MXFg3_"
   },
   "outputs": [
    {
     "data": {
      "text/html": [
       "<div>\n",
       "<style scoped>\n",
       "    .dataframe tbody tr th:only-of-type {\n",
       "        vertical-align: middle;\n",
       "    }\n",
       "\n",
       "    .dataframe tbody tr th {\n",
       "        vertical-align: top;\n",
       "    }\n",
       "\n",
       "    .dataframe thead th {\n",
       "        text-align: right;\n",
       "    }\n",
       "</style>\n",
       "<table border=\"1\" class=\"dataframe\">\n",
       "  <thead>\n",
       "    <tr style=\"text-align: right;\">\n",
       "      <th></th>\n",
       "      <th>company_ID</th>\n",
       "      <th>name</th>\n",
       "      <th>category_code</th>\n",
       "      <th>status</th>\n",
       "      <th>founded_at</th>\n",
       "      <th>closed_at</th>\n",
       "      <th>domain</th>\n",
       "      <th>network_username</th>\n",
       "      <th>country_code</th>\n",
       "      <th>investment_rounds</th>\n",
       "      <th>funding_rounds</th>\n",
       "      <th>funding_total</th>\n",
       "      <th>milestones</th>\n",
       "      <th>id</th>\n",
       "      <th>acquiring_company_id</th>\n",
       "      <th>acquired_company_id</th>\n",
       "      <th>term_code</th>\n",
       "      <th>price_amount</th>\n",
       "      <th>acquired_at</th>\n",
       "    </tr>\n",
       "  </thead>\n",
       "  <tbody>\n",
       "    <tr>\n",
       "      <th>0</th>\n",
       "      <td>1.0</td>\n",
       "      <td>Wetpaint</td>\n",
       "      <td>web</td>\n",
       "      <td>operating</td>\n",
       "      <td>2005-10-17</td>\n",
       "      <td>NaT</td>\n",
       "      <td>wetpaint-inc.com</td>\n",
       "      <td>BachelrWetpaint</td>\n",
       "      <td>USA</td>\n",
       "      <td>0.0</td>\n",
       "      <td>3.0</td>\n",
       "      <td>39750000.0</td>\n",
       "      <td>5.0</td>\n",
       "      <td>NaN</td>\n",
       "      <td>NaN</td>\n",
       "      <td>NaN</td>\n",
       "      <td>NaN</td>\n",
       "      <td>NaN</td>\n",
       "      <td>NaT</td>\n",
       "    </tr>\n",
       "    <tr>\n",
       "      <th>1</th>\n",
       "      <td>10.0</td>\n",
       "      <td>Flektor</td>\n",
       "      <td>games_video</td>\n",
       "      <td>acquired</td>\n",
       "      <td>NaT</td>\n",
       "      <td>NaT</td>\n",
       "      <td>flektor.com</td>\n",
       "      <td>NaN</td>\n",
       "      <td>USA</td>\n",
       "      <td>0.0</td>\n",
       "      <td>0.0</td>\n",
       "      <td>0.0</td>\n",
       "      <td>0.0</td>\n",
       "      <td>1.0</td>\n",
       "      <td>11.0</td>\n",
       "      <td>10.0</td>\n",
       "      <td>NaN</td>\n",
       "      <td>2.000000e+07</td>\n",
       "      <td>2007-05-30</td>\n",
       "    </tr>\n",
       "    <tr>\n",
       "      <th>2</th>\n",
       "      <td>100.0</td>\n",
       "      <td>There</td>\n",
       "      <td>games_video</td>\n",
       "      <td>acquired</td>\n",
       "      <td>NaT</td>\n",
       "      <td>NaT</td>\n",
       "      <td>there.com</td>\n",
       "      <td>NaN</td>\n",
       "      <td>USA</td>\n",
       "      <td>0.0</td>\n",
       "      <td>0.0</td>\n",
       "      <td>0.0</td>\n",
       "      <td>4.0</td>\n",
       "      <td>20.0</td>\n",
       "      <td>377.0</td>\n",
       "      <td>100.0</td>\n",
       "      <td>cash</td>\n",
       "      <td>0.000000e+00</td>\n",
       "      <td>2005-05-29</td>\n",
       "    </tr>\n",
       "    <tr>\n",
       "      <th>3</th>\n",
       "      <td>10000.0</td>\n",
       "      <td>MYWEBBO</td>\n",
       "      <td>network_hosting</td>\n",
       "      <td>operating</td>\n",
       "      <td>2008-07-26</td>\n",
       "      <td>NaT</td>\n",
       "      <td>mywebbo.com</td>\n",
       "      <td>NaN</td>\n",
       "      <td>NaN</td>\n",
       "      <td>0.0</td>\n",
       "      <td>0.0</td>\n",
       "      <td>0.0</td>\n",
       "      <td>0.0</td>\n",
       "      <td>NaN</td>\n",
       "      <td>NaN</td>\n",
       "      <td>NaN</td>\n",
       "      <td>NaN</td>\n",
       "      <td>NaN</td>\n",
       "      <td>NaT</td>\n",
       "    </tr>\n",
       "    <tr>\n",
       "      <th>4</th>\n",
       "      <td>10001.0</td>\n",
       "      <td>THE Movie Streamer</td>\n",
       "      <td>games_video</td>\n",
       "      <td>operating</td>\n",
       "      <td>2008-07-26</td>\n",
       "      <td>NaT</td>\n",
       "      <td>themoviestreamer.com</td>\n",
       "      <td>NaN</td>\n",
       "      <td>NaN</td>\n",
       "      <td>0.0</td>\n",
       "      <td>0.0</td>\n",
       "      <td>0.0</td>\n",
       "      <td>0.0</td>\n",
       "      <td>NaN</td>\n",
       "      <td>NaN</td>\n",
       "      <td>NaN</td>\n",
       "      <td>NaN</td>\n",
       "      <td>NaN</td>\n",
       "      <td>NaT</td>\n",
       "    </tr>\n",
       "    <tr>\n",
       "      <th>...</th>\n",
       "      <td>...</td>\n",
       "      <td>...</td>\n",
       "      <td>...</td>\n",
       "      <td>...</td>\n",
       "      <td>...</td>\n",
       "      <td>...</td>\n",
       "      <td>...</td>\n",
       "      <td>...</td>\n",
       "      <td>...</td>\n",
       "      <td>...</td>\n",
       "      <td>...</td>\n",
       "      <td>...</td>\n",
       "      <td>...</td>\n",
       "      <td>...</td>\n",
       "      <td>...</td>\n",
       "      <td>...</td>\n",
       "      <td>...</td>\n",
       "      <td>...</td>\n",
       "      <td>...</td>\n",
       "    </tr>\n",
       "    <tr>\n",
       "      <th>196692</th>\n",
       "      <td>3429.0</td>\n",
       "      <td>Zend Technologies</td>\n",
       "      <td>software</td>\n",
       "      <td>operating</td>\n",
       "      <td>1999-01-01</td>\n",
       "      <td>NaT</td>\n",
       "      <td>zend.com</td>\n",
       "      <td>networkzend</td>\n",
       "      <td>USA</td>\n",
       "      <td>0.0</td>\n",
       "      <td>4.0</td>\n",
       "      <td>44000000.0</td>\n",
       "      <td>6.0</td>\n",
       "      <td>NaN</td>\n",
       "      <td>NaN</td>\n",
       "      <td>NaN</td>\n",
       "      <td>NaN</td>\n",
       "      <td>NaN</td>\n",
       "      <td>NaT</td>\n",
       "    </tr>\n",
       "    <tr>\n",
       "      <th>196693</th>\n",
       "      <td>7748.0</td>\n",
       "      <td>Flowgram</td>\n",
       "      <td>web</td>\n",
       "      <td>closed</td>\n",
       "      <td>2007-06-01</td>\n",
       "      <td>2008-06-11</td>\n",
       "      <td>flowgram.com</td>\n",
       "      <td>network</td>\n",
       "      <td>USA</td>\n",
       "      <td>0.0</td>\n",
       "      <td>1.0</td>\n",
       "      <td>1300000.0</td>\n",
       "      <td>3.0</td>\n",
       "      <td>NaN</td>\n",
       "      <td>NaN</td>\n",
       "      <td>NaN</td>\n",
       "      <td>NaN</td>\n",
       "      <td>NaN</td>\n",
       "      <td>NaT</td>\n",
       "    </tr>\n",
       "    <tr>\n",
       "      <th>196694</th>\n",
       "      <td>174536.0</td>\n",
       "      <td>Pphotonet</td>\n",
       "      <td>games_video</td>\n",
       "      <td>operating</td>\n",
       "      <td>2012-05-01</td>\n",
       "      <td>NaT</td>\n",
       "      <td>pPhotonet.co</td>\n",
       "      <td>pPhotonet</td>\n",
       "      <td>NaN</td>\n",
       "      <td>0.0</td>\n",
       "      <td>0.0</td>\n",
       "      <td>0.0</td>\n",
       "      <td>0.0</td>\n",
       "      <td>NaN</td>\n",
       "      <td>NaN</td>\n",
       "      <td>NaN</td>\n",
       "      <td>NaN</td>\n",
       "      <td>NaN</td>\n",
       "      <td>NaT</td>\n",
       "    </tr>\n",
       "    <tr>\n",
       "      <th>196695</th>\n",
       "      <td>43233.0</td>\n",
       "      <td>Photonet</td>\n",
       "      <td>photo_video</td>\n",
       "      <td>acquired</td>\n",
       "      <td>2010-03-01</td>\n",
       "      <td>NaT</td>\n",
       "      <td>Photonet.com</td>\n",
       "      <td>Photonet</td>\n",
       "      <td>USA</td>\n",
       "      <td>0.0</td>\n",
       "      <td>3.0</td>\n",
       "      <td>57500000.0</td>\n",
       "      <td>3.0</td>\n",
       "      <td>6968.0</td>\n",
       "      <td>5.0</td>\n",
       "      <td>43233.0</td>\n",
       "      <td>cash_and_stock</td>\n",
       "      <td>1.010470e+09</td>\n",
       "      <td>2012-04-09</td>\n",
       "    </tr>\n",
       "    <tr>\n",
       "      <th>196696</th>\n",
       "      <td>NaN</td>\n",
       "      <td>NaN</td>\n",
       "      <td>NaN</td>\n",
       "      <td>NaN</td>\n",
       "      <td>NaT</td>\n",
       "      <td>NaT</td>\n",
       "      <td>NaN</td>\n",
       "      <td>NaN</td>\n",
       "      <td>NaN</td>\n",
       "      <td>NaN</td>\n",
       "      <td>NaN</td>\n",
       "      <td>NaN</td>\n",
       "      <td>NaN</td>\n",
       "      <td>NaN</td>\n",
       "      <td>NaN</td>\n",
       "      <td>NaN</td>\n",
       "      <td>NaN</td>\n",
       "      <td>NaN</td>\n",
       "      <td>NaT</td>\n",
       "    </tr>\n",
       "  </tbody>\n",
       "</table>\n",
       "<p>196697 rows × 19 columns</p>\n",
       "</div>"
      ],
      "text/plain": [
       "        company_ID                name    category_code     status founded_at  \\\n",
       "0              1.0            Wetpaint              web  operating 2005-10-17   \n",
       "1             10.0             Flektor      games_video   acquired        NaT   \n",
       "2            100.0               There      games_video   acquired        NaT   \n",
       "3          10000.0             MYWEBBO  network_hosting  operating 2008-07-26   \n",
       "4          10001.0  THE Movie Streamer      games_video  operating 2008-07-26   \n",
       "...            ...                 ...              ...        ...        ...   \n",
       "196692      3429.0   Zend Technologies         software  operating 1999-01-01   \n",
       "196693      7748.0            Flowgram              web     closed 2007-06-01   \n",
       "196694    174536.0           Pphotonet      games_video  operating 2012-05-01   \n",
       "196695     43233.0            Photonet      photo_video   acquired 2010-03-01   \n",
       "196696         NaN                 NaN              NaN        NaN        NaT   \n",
       "\n",
       "        closed_at                domain network_username country_code  \\\n",
       "0             NaT      wetpaint-inc.com  BachelrWetpaint          USA   \n",
       "1             NaT           flektor.com              NaN          USA   \n",
       "2             NaT             there.com              NaN          USA   \n",
       "3             NaT           mywebbo.com              NaN          NaN   \n",
       "4             NaT  themoviestreamer.com              NaN          NaN   \n",
       "...           ...                   ...              ...          ...   \n",
       "196692        NaT              zend.com      networkzend          USA   \n",
       "196693 2008-06-11          flowgram.com          network          USA   \n",
       "196694        NaT          pPhotonet.co        pPhotonet          NaN   \n",
       "196695        NaT          Photonet.com         Photonet          USA   \n",
       "196696        NaT                   NaN              NaN          NaN   \n",
       "\n",
       "        investment_rounds  funding_rounds  funding_total  milestones      id  \\\n",
       "0                     0.0             3.0     39750000.0         5.0     NaN   \n",
       "1                     0.0             0.0            0.0         0.0     1.0   \n",
       "2                     0.0             0.0            0.0         4.0    20.0   \n",
       "3                     0.0             0.0            0.0         0.0     NaN   \n",
       "4                     0.0             0.0            0.0         0.0     NaN   \n",
       "...                   ...             ...            ...         ...     ...   \n",
       "196692                0.0             4.0     44000000.0         6.0     NaN   \n",
       "196693                0.0             1.0      1300000.0         3.0     NaN   \n",
       "196694                0.0             0.0            0.0         0.0     NaN   \n",
       "196695                0.0             3.0     57500000.0         3.0  6968.0   \n",
       "196696                NaN             NaN            NaN         NaN     NaN   \n",
       "\n",
       "        acquiring_company_id  acquired_company_id       term_code  \\\n",
       "0                        NaN                  NaN             NaN   \n",
       "1                       11.0                 10.0             NaN   \n",
       "2                      377.0                100.0            cash   \n",
       "3                        NaN                  NaN             NaN   \n",
       "4                        NaN                  NaN             NaN   \n",
       "...                      ...                  ...             ...   \n",
       "196692                   NaN                  NaN             NaN   \n",
       "196693                   NaN                  NaN             NaN   \n",
       "196694                   NaN                  NaN             NaN   \n",
       "196695                   5.0              43233.0  cash_and_stock   \n",
       "196696                   NaN                  NaN             NaN   \n",
       "\n",
       "        price_amount acquired_at  \n",
       "0                NaN         NaT  \n",
       "1       2.000000e+07  2007-05-30  \n",
       "2       0.000000e+00  2005-05-29  \n",
       "3                NaN         NaT  \n",
       "4                NaN         NaT  \n",
       "...              ...         ...  \n",
       "196692           NaN         NaT  \n",
       "196693           NaN         NaT  \n",
       "196694           NaN         NaT  \n",
       "196695  1.010470e+09  2012-04-09  \n",
       "196696           NaN         NaT  \n",
       "\n",
       "[196697 rows x 19 columns]"
      ]
     },
     "execution_count": 50,
     "metadata": {},
     "output_type": "execute_result"
    }
   ],
   "source": [
    "# Объединим полученную после разделения таблицу о компаниях company_info_new c таблицей acquisition\n",
    "new_company_and_rounds_df = pd.merge(\n",
    "    left=company_info_new,\n",
    "    right=acquisition_df,\n",
    "    how='left', \n",
    "    left_on='company_ID',  \n",
    "    right_on='acquired_company_id',)\n",
    "\n",
    "new_company_and_rounds_df"
   ]
  },
  {
   "cell_type": "code",
   "execution_count": 51,
   "metadata": {
    "id": "93v3fEX5FgtP",
    "scrolled": true
   },
   "outputs": [
    {
     "data": {
      "text/html": [
       "<div>\n",
       "<style scoped>\n",
       "    .dataframe tbody tr th:only-of-type {\n",
       "        vertical-align: middle;\n",
       "    }\n",
       "\n",
       "    .dataframe tbody tr th {\n",
       "        vertical-align: top;\n",
       "    }\n",
       "\n",
       "    .dataframe thead th {\n",
       "        text-align: right;\n",
       "    }\n",
       "</style>\n",
       "<table border=\"1\" class=\"dataframe\">\n",
       "  <thead>\n",
       "    <tr style=\"text-align: right;\">\n",
       "      <th></th>\n",
       "      <th>company_ID</th>\n",
       "      <th>name</th>\n",
       "      <th>category_code</th>\n",
       "      <th>status</th>\n",
       "      <th>founded_at</th>\n",
       "      <th>closed_at</th>\n",
       "      <th>domain</th>\n",
       "      <th>network_username</th>\n",
       "      <th>country_code</th>\n",
       "      <th>investment_rounds</th>\n",
       "      <th>funding_rounds</th>\n",
       "      <th>funding_total</th>\n",
       "      <th>milestones</th>\n",
       "      <th>id</th>\n",
       "      <th>acquiring_company_id</th>\n",
       "      <th>acquired_company_id</th>\n",
       "      <th>term_code</th>\n",
       "      <th>price_amount</th>\n",
       "      <th>acquired_at</th>\n",
       "    </tr>\n",
       "  </thead>\n",
       "  <tbody>\n",
       "    <tr>\n",
       "      <th>0</th>\n",
       "      <td>1.0</td>\n",
       "      <td>Wetpaint</td>\n",
       "      <td>web</td>\n",
       "      <td>operating</td>\n",
       "      <td>2005-10-17</td>\n",
       "      <td>NaT</td>\n",
       "      <td>wetpaint-inc.com</td>\n",
       "      <td>BachelrWetpaint</td>\n",
       "      <td>USA</td>\n",
       "      <td>0.0</td>\n",
       "      <td>3.0</td>\n",
       "      <td>39750000.0</td>\n",
       "      <td>5.0</td>\n",
       "      <td>NaN</td>\n",
       "      <td>NaN</td>\n",
       "      <td>NaN</td>\n",
       "      <td>NaN</td>\n",
       "      <td>NaN</td>\n",
       "      <td>NaT</td>\n",
       "    </tr>\n",
       "    <tr>\n",
       "      <th>1</th>\n",
       "      <td>10.0</td>\n",
       "      <td>Flektor</td>\n",
       "      <td>games_video</td>\n",
       "      <td>acquired</td>\n",
       "      <td>NaT</td>\n",
       "      <td>NaT</td>\n",
       "      <td>flektor.com</td>\n",
       "      <td>NaN</td>\n",
       "      <td>USA</td>\n",
       "      <td>0.0</td>\n",
       "      <td>0.0</td>\n",
       "      <td>0.0</td>\n",
       "      <td>0.0</td>\n",
       "      <td>1.0</td>\n",
       "      <td>11.0</td>\n",
       "      <td>10.0</td>\n",
       "      <td>NaN</td>\n",
       "      <td>2.000000e+07</td>\n",
       "      <td>2007-05-30</td>\n",
       "    </tr>\n",
       "    <tr>\n",
       "      <th>2</th>\n",
       "      <td>100.0</td>\n",
       "      <td>There</td>\n",
       "      <td>games_video</td>\n",
       "      <td>acquired</td>\n",
       "      <td>NaT</td>\n",
       "      <td>NaT</td>\n",
       "      <td>there.com</td>\n",
       "      <td>NaN</td>\n",
       "      <td>USA</td>\n",
       "      <td>0.0</td>\n",
       "      <td>0.0</td>\n",
       "      <td>0.0</td>\n",
       "      <td>4.0</td>\n",
       "      <td>20.0</td>\n",
       "      <td>377.0</td>\n",
       "      <td>100.0</td>\n",
       "      <td>cash</td>\n",
       "      <td>0.000000e+00</td>\n",
       "      <td>2005-05-29</td>\n",
       "    </tr>\n",
       "    <tr>\n",
       "      <th>13</th>\n",
       "      <td>1001.0</td>\n",
       "      <td>FriendFeed</td>\n",
       "      <td>web</td>\n",
       "      <td>acquired</td>\n",
       "      <td>2007-10-01</td>\n",
       "      <td>NaT</td>\n",
       "      <td>friendfeed.com</td>\n",
       "      <td>friendfeed</td>\n",
       "      <td>USA</td>\n",
       "      <td>0.0</td>\n",
       "      <td>1.0</td>\n",
       "      <td>5000000.0</td>\n",
       "      <td>3.0</td>\n",
       "      <td>1901.0</td>\n",
       "      <td>5.0</td>\n",
       "      <td>1001.0</td>\n",
       "      <td>cash_and_stock</td>\n",
       "      <td>4.750000e+07</td>\n",
       "      <td>2009-08-10</td>\n",
       "    </tr>\n",
       "    <tr>\n",
       "      <th>18</th>\n",
       "      <td>10014.0</td>\n",
       "      <td>Mobclix</td>\n",
       "      <td>mobile</td>\n",
       "      <td>acquired</td>\n",
       "      <td>2008-03-01</td>\n",
       "      <td>NaT</td>\n",
       "      <td>mobclix.com</td>\n",
       "      <td>mobclix</td>\n",
       "      <td>USA</td>\n",
       "      <td>0.0</td>\n",
       "      <td>1.0</td>\n",
       "      <td>0.0</td>\n",
       "      <td>4.0</td>\n",
       "      <td>3878.0</td>\n",
       "      <td>23054.0</td>\n",
       "      <td>10014.0</td>\n",
       "      <td>NaN</td>\n",
       "      <td>0.000000e+00</td>\n",
       "      <td>2010-09-30</td>\n",
       "    </tr>\n",
       "    <tr>\n",
       "      <th>...</th>\n",
       "      <td>...</td>\n",
       "      <td>...</td>\n",
       "      <td>...</td>\n",
       "      <td>...</td>\n",
       "      <td>...</td>\n",
       "      <td>...</td>\n",
       "      <td>...</td>\n",
       "      <td>...</td>\n",
       "      <td>...</td>\n",
       "      <td>...</td>\n",
       "      <td>...</td>\n",
       "      <td>...</td>\n",
       "      <td>...</td>\n",
       "      <td>...</td>\n",
       "      <td>...</td>\n",
       "      <td>...</td>\n",
       "      <td>...</td>\n",
       "      <td>...</td>\n",
       "      <td>...</td>\n",
       "    </tr>\n",
       "    <tr>\n",
       "      <th>196687</th>\n",
       "      <td>1344.0</td>\n",
       "      <td>Vobile</td>\n",
       "      <td>web</td>\n",
       "      <td>operating</td>\n",
       "      <td>2005-01-01</td>\n",
       "      <td>NaT</td>\n",
       "      <td>vobileinc.com</td>\n",
       "      <td>networkmobile</td>\n",
       "      <td>USA</td>\n",
       "      <td>0.0</td>\n",
       "      <td>1.0</td>\n",
       "      <td>10000000.0</td>\n",
       "      <td>0.0</td>\n",
       "      <td>NaN</td>\n",
       "      <td>NaN</td>\n",
       "      <td>NaN</td>\n",
       "      <td>NaN</td>\n",
       "      <td>NaN</td>\n",
       "      <td>NaT</td>\n",
       "    </tr>\n",
       "    <tr>\n",
       "      <th>196688</th>\n",
       "      <td>142181.0</td>\n",
       "      <td>Stop Being Watched</td>\n",
       "      <td>software</td>\n",
       "      <td>operating</td>\n",
       "      <td>2010-06-10</td>\n",
       "      <td>NaT</td>\n",
       "      <td>stopbeingwatched.com</td>\n",
       "      <td>SBWinfonetwork</td>\n",
       "      <td>USA</td>\n",
       "      <td>0.0</td>\n",
       "      <td>1.0</td>\n",
       "      <td>500000.0</td>\n",
       "      <td>1.0</td>\n",
       "      <td>NaN</td>\n",
       "      <td>NaN</td>\n",
       "      <td>NaN</td>\n",
       "      <td>NaN</td>\n",
       "      <td>NaN</td>\n",
       "      <td>NaT</td>\n",
       "    </tr>\n",
       "    <tr>\n",
       "      <th>196692</th>\n",
       "      <td>3429.0</td>\n",
       "      <td>Zend Technologies</td>\n",
       "      <td>software</td>\n",
       "      <td>operating</td>\n",
       "      <td>1999-01-01</td>\n",
       "      <td>NaT</td>\n",
       "      <td>zend.com</td>\n",
       "      <td>networkzend</td>\n",
       "      <td>USA</td>\n",
       "      <td>0.0</td>\n",
       "      <td>4.0</td>\n",
       "      <td>44000000.0</td>\n",
       "      <td>6.0</td>\n",
       "      <td>NaN</td>\n",
       "      <td>NaN</td>\n",
       "      <td>NaN</td>\n",
       "      <td>NaN</td>\n",
       "      <td>NaN</td>\n",
       "      <td>NaT</td>\n",
       "    </tr>\n",
       "    <tr>\n",
       "      <th>196693</th>\n",
       "      <td>7748.0</td>\n",
       "      <td>Flowgram</td>\n",
       "      <td>web</td>\n",
       "      <td>closed</td>\n",
       "      <td>2007-06-01</td>\n",
       "      <td>2008-06-11</td>\n",
       "      <td>flowgram.com</td>\n",
       "      <td>network</td>\n",
       "      <td>USA</td>\n",
       "      <td>0.0</td>\n",
       "      <td>1.0</td>\n",
       "      <td>1300000.0</td>\n",
       "      <td>3.0</td>\n",
       "      <td>NaN</td>\n",
       "      <td>NaN</td>\n",
       "      <td>NaN</td>\n",
       "      <td>NaN</td>\n",
       "      <td>NaN</td>\n",
       "      <td>NaT</td>\n",
       "    </tr>\n",
       "    <tr>\n",
       "      <th>196695</th>\n",
       "      <td>43233.0</td>\n",
       "      <td>Photonet</td>\n",
       "      <td>photo_video</td>\n",
       "      <td>acquired</td>\n",
       "      <td>2010-03-01</td>\n",
       "      <td>NaT</td>\n",
       "      <td>Photonet.com</td>\n",
       "      <td>Photonet</td>\n",
       "      <td>USA</td>\n",
       "      <td>0.0</td>\n",
       "      <td>3.0</td>\n",
       "      <td>57500000.0</td>\n",
       "      <td>3.0</td>\n",
       "      <td>6968.0</td>\n",
       "      <td>5.0</td>\n",
       "      <td>43233.0</td>\n",
       "      <td>cash_and_stock</td>\n",
       "      <td>1.010470e+09</td>\n",
       "      <td>2012-04-09</td>\n",
       "    </tr>\n",
       "  </tbody>\n",
       "</table>\n",
       "<p>40890 rows × 19 columns</p>\n",
       "</div>"
      ],
      "text/plain": [
       "        company_ID                name category_code     status founded_at  \\\n",
       "0              1.0            Wetpaint           web  operating 2005-10-17   \n",
       "1             10.0             Flektor   games_video   acquired        NaT   \n",
       "2            100.0               There   games_video   acquired        NaT   \n",
       "13          1001.0          FriendFeed           web   acquired 2007-10-01   \n",
       "18         10014.0             Mobclix        mobile   acquired 2008-03-01   \n",
       "...            ...                 ...           ...        ...        ...   \n",
       "196687      1344.0              Vobile           web  operating 2005-01-01   \n",
       "196688    142181.0  Stop Being Watched      software  operating 2010-06-10   \n",
       "196692      3429.0   Zend Technologies      software  operating 1999-01-01   \n",
       "196693      7748.0            Flowgram           web     closed 2007-06-01   \n",
       "196695     43233.0            Photonet   photo_video   acquired 2010-03-01   \n",
       "\n",
       "        closed_at                domain network_username country_code  \\\n",
       "0             NaT      wetpaint-inc.com  BachelrWetpaint          USA   \n",
       "1             NaT           flektor.com              NaN          USA   \n",
       "2             NaT             there.com              NaN          USA   \n",
       "13            NaT        friendfeed.com       friendfeed          USA   \n",
       "18            NaT           mobclix.com          mobclix          USA   \n",
       "...           ...                   ...              ...          ...   \n",
       "196687        NaT         vobileinc.com    networkmobile          USA   \n",
       "196688        NaT  stopbeingwatched.com   SBWinfonetwork          USA   \n",
       "196692        NaT              zend.com      networkzend          USA   \n",
       "196693 2008-06-11          flowgram.com          network          USA   \n",
       "196695        NaT          Photonet.com         Photonet          USA   \n",
       "\n",
       "        investment_rounds  funding_rounds  funding_total  milestones      id  \\\n",
       "0                     0.0             3.0     39750000.0         5.0     NaN   \n",
       "1                     0.0             0.0            0.0         0.0     1.0   \n",
       "2                     0.0             0.0            0.0         4.0    20.0   \n",
       "13                    0.0             1.0      5000000.0         3.0  1901.0   \n",
       "18                    0.0             1.0            0.0         4.0  3878.0   \n",
       "...                   ...             ...            ...         ...     ...   \n",
       "196687                0.0             1.0     10000000.0         0.0     NaN   \n",
       "196688                0.0             1.0       500000.0         1.0     NaN   \n",
       "196692                0.0             4.0     44000000.0         6.0     NaN   \n",
       "196693                0.0             1.0      1300000.0         3.0     NaN   \n",
       "196695                0.0             3.0     57500000.0         3.0  6968.0   \n",
       "\n",
       "        acquiring_company_id  acquired_company_id       term_code  \\\n",
       "0                        NaN                  NaN             NaN   \n",
       "1                       11.0                 10.0             NaN   \n",
       "2                      377.0                100.0            cash   \n",
       "13                       5.0               1001.0  cash_and_stock   \n",
       "18                   23054.0              10014.0             NaN   \n",
       "...                      ...                  ...             ...   \n",
       "196687                   NaN                  NaN             NaN   \n",
       "196688                   NaN                  NaN             NaN   \n",
       "196692                   NaN                  NaN             NaN   \n",
       "196693                   NaN                  NaN             NaN   \n",
       "196695                   5.0              43233.0  cash_and_stock   \n",
       "\n",
       "        price_amount acquired_at  \n",
       "0                NaN         NaT  \n",
       "1       2.000000e+07  2007-05-30  \n",
       "2       0.000000e+00  2005-05-29  \n",
       "13      4.750000e+07  2009-08-10  \n",
       "18      0.000000e+00  2010-09-30  \n",
       "...              ...         ...  \n",
       "196687           NaN         NaT  \n",
       "196688           NaN         NaT  \n",
       "196692           NaN         NaT  \n",
       "196693           NaN         NaT  \n",
       "196695  1.010470e+09  2012-04-09  \n",
       "\n",
       "[40890 rows x 19 columns]"
      ]
     },
     "execution_count": 51,
     "metadata": {},
     "output_type": "execute_result"
    }
   ],
   "source": [
    "# Создаем маску для фильтрации\n",
    "mask = (\n",
    "    (new_company_and_rounds_df['funding_rounds'] > 0) | \n",
    "    (new_company_and_rounds_df['investment_rounds'] > 0) | \n",
    "    (new_company_and_rounds_df['status'] == 'acquired')\n",
    ")\n",
    "\n",
    "# Применяем маску к датафрейму\n",
    "company_and_rounds_df_new = new_company_and_rounds_df[mask]\n",
    "\n",
    "# Выводим результат\n",
    "company_and_rounds_df_new"
   ]
  },
  {
   "cell_type": "code",
   "execution_count": 52,
   "metadata": {},
   "outputs": [
    {
     "name": "stdout",
     "output_type": "stream",
     "text": [
      "<class 'pandas.core.frame.DataFrame'>\n",
      "Int64Index: 40890 entries, 0 to 196695\n",
      "Data columns (total 19 columns):\n",
      " #   Column                Non-Null Count  Dtype         \n",
      "---  ------                --------------  -----         \n",
      " 0   company_ID            40890 non-null  float64       \n",
      " 1   name                  40890 non-null  object        \n",
      " 2   category_code         35436 non-null  object        \n",
      " 3   status                40890 non-null  object        \n",
      " 4   founded_at            27911 non-null  datetime64[ns]\n",
      " 5   closed_at             2128 non-null   datetime64[ns]\n",
      " 6   domain                35883 non-null  object        \n",
      " 7   network_username      20938 non-null  object        \n",
      " 8   country_code          34858 non-null  object        \n",
      " 9   investment_rounds     40890 non-null  float64       \n",
      " 10  funding_rounds        40890 non-null  float64       \n",
      " 11  funding_total         40890 non-null  float64       \n",
      " 12  milestones            40890 non-null  float64       \n",
      " 13  id                    9390 non-null   float64       \n",
      " 14  acquiring_company_id  9390 non-null   float64       \n",
      " 15  acquired_company_id   9390 non-null   float64       \n",
      " 16  term_code             1830 non-null   object        \n",
      " 17  price_amount          9390 non-null   float64       \n",
      " 18  acquired_at           9361 non-null   datetime64[ns]\n",
      "dtypes: datetime64[ns](3), float64(9), object(7)\n",
      "memory usage: 6.2+ MB\n"
     ]
    }
   ],
   "source": [
    "company_and_rounds_df_new.info()"
   ]
  },
  {
   "cell_type": "markdown",
   "metadata": {
    "id": "DFHINkV3rJg2"
   },
   "source": [
    "\n",
    "### 3.2. Анализ выбросов\n",
    "\n",
    "Заказчика интересует обычный для рассматриваемого периода размер средств, который предоставлялся компаниям.\n",
    "\n",
    "- По предобработанному столбцу `funding_total` графическим способом оцените, какой размер общего финансирования для одной компании будет типичным, а какой — выбивающимся.\n",
    "- В процессе расчёта значений обратите внимание, например, на показатели, возвращаемые методом `.describe()`, — объясните их. Применимы ли к таким данным обычные способы нахождения типичных значений?"
   ]
  },
  {
   "cell_type": "code",
   "execution_count": 53,
   "metadata": {
    "id": "S1jrfr7rFhcw",
    "scrolled": true
   },
   "outputs": [
    {
     "data": {
      "image/png": "[encoded data removed]",
      "text/plain": [
       "<Figure size 864x432 with 1 Axes>"
      ]
     },
     "metadata": {
      "needs_background": "light"
     },
     "output_type": "display_data"
    }
   ],
   "source": [
    "# Ящик с усами\n",
    "plt.figure(figsize=(12, 6))\n",
    "sns.boxplot(x=company_and_rounds_df_new['funding_total'])\n",
    "plt.title('Анализ выбросов для сумм финансирования компаний')\n",
    "plt.xlabel('Сумма финансирования ($)')\n",
    "plt.show()"
   ]
  },
  {
   "cell_type": "markdown",
   "metadata": {},
   "source": [
    "Судя по боксплоту в столбце `funding_total` есть огромное число выбросов.\n",
    "\n",
    "Посмотрим дополнительную информацию с помощью метода  `.describe()`"
   ]
  },
  {
   "cell_type": "code",
   "execution_count": 54,
   "metadata": {},
   "outputs": [
    {
     "data": {
      "text/plain": [
       "count               40,890.0\n",
       "mean    10,135,585.948593788\n",
       "std      56,412,886.90970186\n",
       "min                      0.0\n",
       "25%                      0.0\n",
       "50%                600,000.0\n",
       "75%              5,631,320.0\n",
       "max          5,700,000,000.0\n",
       "Name: funding_total, dtype: float64"
      ]
     },
     "execution_count": 54,
     "metadata": {},
     "output_type": "execute_result"
    }
   ],
   "source": [
    "# Для отображения данных в более удобном для восприятия формате\n",
    "pd.options.display.float_format = '{:,}'.format\n",
    "\n",
    "# Применим метод describe к столбцу funding_total\n",
    "company_and_rounds_df_new['funding_total'].describe()"
   ]
  },
  {
   "cell_type": "markdown",
   "metadata": {},
   "source": [
    "Среднее значение около 10 млн, а медиана равна 600 тыс, что подтверждает очень большой разброс данных. Кроме того 1 квартиль равен 0, что говорит о большом количество нулей, которые нам не нужны.  От выбросов на данном этапе избавляться точно не стоит, а вот от нулей избавимся."
   ]
  },
  {
   "cell_type": "code",
   "execution_count": 55,
   "metadata": {},
   "outputs": [
    {
     "data": {
      "text/plain": [
       "count               27,918.0\n",
       "mean    14,845,050.126728276\n",
       "std      67,758,758.59734756\n",
       "min                    291.0\n",
       "25%                500,000.0\n",
       "50%              2,573,200.0\n",
       "75%             11,000,000.0\n",
       "max          5,700,000,000.0\n",
       "Name: funding_total, dtype: float64"
      ]
     },
     "execution_count": 55,
     "metadata": {},
     "output_type": "execute_result"
    }
   ],
   "source": [
    "# Убираем нули\n",
    "company_and_rounds_df_filtered = company_and_rounds_df_new[company_and_rounds_df_new['funding_total'] > 0]\n",
    "company_and_rounds_df_filtered['funding_total'].describe()"
   ]
  },
  {
   "cell_type": "markdown",
   "metadata": {},
   "source": [
    "Ещё раз визуализируем распределение данных столбца `funding_total` без нулей"
   ]
  },
  {
   "cell_type": "code",
   "execution_count": 56,
   "metadata": {},
   "outputs": [
    {
     "data": {
      "image/png": "[encoded data removed]",
      "text/plain": [
       "<Figure size 864x432 with 1 Axes>"
      ]
     },
     "metadata": {
      "needs_background": "light"
     },
     "output_type": "display_data"
    }
   ],
   "source": [
    "# Ящик с усами\n",
    "plt.figure(figsize=(12, 6))\n",
    "# Добавим showfliers=False, чтобы избавиться от выбросов на боксплоте\n",
    "sns.boxplot(x=company_and_rounds_df_filtered['funding_total'], showfliers=False)\n",
    "plt.title('Анализ выбросов для сумм финансирования компаний')\n",
    "plt.xlabel('Сумма финансирования ($)')\n",
    "plt.show()"
   ]
  },
  {
   "cell_type": "markdown",
   "metadata": {},
   "source": [
    "После того, как избавились от нулей, можно увидеть, что типичная сумма финансирования(медиана) равна примерно 2,5 млн.долларов. Суммы свыше 11 млн. являются уже не типичными (выбросы), но кроме того есть суммы аномально высокие. Самое большое значение 5,7 млрд. дол. Насколько это корректная сумма сказать сложно, это нужно исследовать подробнее."
   ]
  },
  {
   "cell_type": "markdown",
   "metadata": {
    "id": "JqkRAQrIrJg2"
   },
   "source": [
    "\n",
    "### 3.3. Куплены забесплатно?\n",
    "\n",
    "- Исследуйте компании, которые были проданы за ноль или за один доллар, и при этом известно, что у них был ненулевой общий объём финансирования.\n",
    "\n",
    "- Рассчитайте аналитически верхнюю и нижнюю границу выбросов для столбца `funding_total` и укажите, каким процентилям границы соответствуют."
   ]
  },
  {
   "cell_type": "code",
   "execution_count": 57,
   "metadata": {
    "id": "wJHXCBwwrJg2",
    "vscode": {
     "languageId": "plaintext"
    }
   },
   "outputs": [
    {
     "data": {
      "text/html": [
       "<div>\n",
       "<style scoped>\n",
       "    .dataframe tbody tr th:only-of-type {\n",
       "        vertical-align: middle;\n",
       "    }\n",
       "\n",
       "    .dataframe tbody tr th {\n",
       "        vertical-align: top;\n",
       "    }\n",
       "\n",
       "    .dataframe thead th {\n",
       "        text-align: right;\n",
       "    }\n",
       "</style>\n",
       "<table border=\"1\" class=\"dataframe\">\n",
       "  <thead>\n",
       "    <tr style=\"text-align: right;\">\n",
       "      <th></th>\n",
       "      <th>company_ID</th>\n",
       "      <th>name</th>\n",
       "      <th>category_code</th>\n",
       "      <th>status</th>\n",
       "      <th>founded_at</th>\n",
       "      <th>closed_at</th>\n",
       "      <th>domain</th>\n",
       "      <th>network_username</th>\n",
       "      <th>country_code</th>\n",
       "      <th>investment_rounds</th>\n",
       "      <th>funding_rounds</th>\n",
       "      <th>funding_total</th>\n",
       "      <th>milestones</th>\n",
       "      <th>id</th>\n",
       "      <th>acquiring_company_id</th>\n",
       "      <th>acquired_company_id</th>\n",
       "      <th>term_code</th>\n",
       "      <th>price_amount</th>\n",
       "      <th>acquired_at</th>\n",
       "    </tr>\n",
       "  </thead>\n",
       "  <tbody>\n",
       "    <tr>\n",
       "      <th>66</th>\n",
       "      <td>10,054.0</td>\n",
       "      <td>Jumptap</td>\n",
       "      <td>mobile</td>\n",
       "      <td>acquired</td>\n",
       "      <td>2005-01-01</td>\n",
       "      <td>NaT</td>\n",
       "      <td>jumptap.com</td>\n",
       "      <td>jumptap</td>\n",
       "      <td>USA</td>\n",
       "      <td>0.0</td>\n",
       "      <td>7.0</td>\n",
       "      <td>121,500,000.0</td>\n",
       "      <td>3.0</td>\n",
       "      <td>9,288.0</td>\n",
       "      <td>23,283.0</td>\n",
       "      <td>10,054.0</td>\n",
       "      <td>cash_and_stock</td>\n",
       "      <td>0.0</td>\n",
       "      <td>2013-08-13</td>\n",
       "    </tr>\n",
       "    <tr>\n",
       "      <th>170</th>\n",
       "      <td>101,312.0</td>\n",
       "      <td>SideTour</td>\n",
       "      <td>web</td>\n",
       "      <td>acquired</td>\n",
       "      <td>2011-06-01</td>\n",
       "      <td>NaT</td>\n",
       "      <td>sidetour.com</td>\n",
       "      <td>sidetour</td>\n",
       "      <td>USA</td>\n",
       "      <td>0.0</td>\n",
       "      <td>3.0</td>\n",
       "      <td>4,000,000.0</td>\n",
       "      <td>2.0</td>\n",
       "      <td>9,653.0</td>\n",
       "      <td>11,391.0</td>\n",
       "      <td>101,312.0</td>\n",
       "      <td>NaN</td>\n",
       "      <td>0.0</td>\n",
       "      <td>2013-09-18</td>\n",
       "    </tr>\n",
       "    <tr>\n",
       "      <th>177</th>\n",
       "      <td>101,340.0</td>\n",
       "      <td>ChoicePass</td>\n",
       "      <td>enterprise</td>\n",
       "      <td>acquired</td>\n",
       "      <td>2011-07-01</td>\n",
       "      <td>NaT</td>\n",
       "      <td>choicepass.com</td>\n",
       "      <td>choicepass</td>\n",
       "      <td>USA</td>\n",
       "      <td>0.0</td>\n",
       "      <td>1.0</td>\n",
       "      <td>250,000.0</td>\n",
       "      <td>1.0</td>\n",
       "      <td>7,272.0</td>\n",
       "      <td>1,972.0</td>\n",
       "      <td>101,340.0</td>\n",
       "      <td>NaN</td>\n",
       "      <td>0.0</td>\n",
       "      <td>2012-06-18</td>\n",
       "    </tr>\n",
       "    <tr>\n",
       "      <th>181</th>\n",
       "      <td>10,137.0</td>\n",
       "      <td>Producteev</td>\n",
       "      <td>software</td>\n",
       "      <td>acquired</td>\n",
       "      <td>2008-07-08</td>\n",
       "      <td>NaT</td>\n",
       "      <td>producteev.com</td>\n",
       "      <td>producteev</td>\n",
       "      <td>USA</td>\n",
       "      <td>0.0</td>\n",
       "      <td>3.0</td>\n",
       "      <td>1,310,000.0</td>\n",
       "      <td>2.0</td>\n",
       "      <td>8,254.0</td>\n",
       "      <td>757.0</td>\n",
       "      <td>10,137.0</td>\n",
       "      <td>cash_and_stock</td>\n",
       "      <td>0.0</td>\n",
       "      <td>2012-11-05</td>\n",
       "    </tr>\n",
       "    <tr>\n",
       "      <th>184</th>\n",
       "      <td>10,139.0</td>\n",
       "      <td>TradeCard</td>\n",
       "      <td>enterprise</td>\n",
       "      <td>acquired</td>\n",
       "      <td>1999-01-01</td>\n",
       "      <td>NaT</td>\n",
       "      <td>tradecard.com</td>\n",
       "      <td>TradeCard</td>\n",
       "      <td>USA</td>\n",
       "      <td>0.0</td>\n",
       "      <td>2.0</td>\n",
       "      <td>44,925,000.0</td>\n",
       "      <td>1.0</td>\n",
       "      <td>9,326.0</td>\n",
       "      <td>44,008.0</td>\n",
       "      <td>10,139.0</td>\n",
       "      <td>NaN</td>\n",
       "      <td>0.0</td>\n",
       "      <td>2013-04-01</td>\n",
       "    </tr>\n",
       "    <tr>\n",
       "      <th>...</th>\n",
       "      <td>...</td>\n",
       "      <td>...</td>\n",
       "      <td>...</td>\n",
       "      <td>...</td>\n",
       "      <td>...</td>\n",
       "      <td>...</td>\n",
       "      <td>...</td>\n",
       "      <td>...</td>\n",
       "      <td>...</td>\n",
       "      <td>...</td>\n",
       "      <td>...</td>\n",
       "      <td>...</td>\n",
       "      <td>...</td>\n",
       "      <td>...</td>\n",
       "      <td>...</td>\n",
       "      <td>...</td>\n",
       "      <td>...</td>\n",
       "      <td>...</td>\n",
       "      <td>...</td>\n",
       "    </tr>\n",
       "    <tr>\n",
       "      <th>196402</th>\n",
       "      <td>99.0</td>\n",
       "      <td>Amie Street</td>\n",
       "      <td>web</td>\n",
       "      <td>acquired</td>\n",
       "      <td>2011-07-04</td>\n",
       "      <td>NaT</td>\n",
       "      <td>amiestreet.com</td>\n",
       "      <td>amiestreet_logs</td>\n",
       "      <td>USA</td>\n",
       "      <td>0.0</td>\n",
       "      <td>2.0</td>\n",
       "      <td>3,900,000.0</td>\n",
       "      <td>0.0</td>\n",
       "      <td>7,024.0</td>\n",
       "      <td>317.0</td>\n",
       "      <td>99.0</td>\n",
       "      <td>NaN</td>\n",
       "      <td>0.0</td>\n",
       "      <td>2010-09-22</td>\n",
       "    </tr>\n",
       "    <tr>\n",
       "      <th>196411</th>\n",
       "      <td>9,905.0</td>\n",
       "      <td>UBmatrix</td>\n",
       "      <td>software</td>\n",
       "      <td>acquired</td>\n",
       "      <td>2005-01-01</td>\n",
       "      <td>NaT</td>\n",
       "      <td>ubmatrix.com</td>\n",
       "      <td>NaN</td>\n",
       "      <td>USA</td>\n",
       "      <td>0.0</td>\n",
       "      <td>2.0</td>\n",
       "      <td>5,172,350.0</td>\n",
       "      <td>0.0</td>\n",
       "      <td>3,381.0</td>\n",
       "      <td>41,119.0</td>\n",
       "      <td>9,905.0</td>\n",
       "      <td>NaN</td>\n",
       "      <td>0.0</td>\n",
       "      <td>2010-06-24</td>\n",
       "    </tr>\n",
       "    <tr>\n",
       "      <th>196430</th>\n",
       "      <td>992.0</td>\n",
       "      <td>wunderloop</td>\n",
       "      <td>advertising</td>\n",
       "      <td>acquired</td>\n",
       "      <td>1999-01-01</td>\n",
       "      <td>NaT</td>\n",
       "      <td>wunderloop.com</td>\n",
       "      <td>NaN</td>\n",
       "      <td>USA</td>\n",
       "      <td>0.0</td>\n",
       "      <td>1.0</td>\n",
       "      <td>10,000,000.0</td>\n",
       "      <td>1.0</td>\n",
       "      <td>9,916.0</td>\n",
       "      <td>19,182.0</td>\n",
       "      <td>992.0</td>\n",
       "      <td>NaN</td>\n",
       "      <td>0.0</td>\n",
       "      <td>2010-07-02</td>\n",
       "    </tr>\n",
       "    <tr>\n",
       "      <th>196489</th>\n",
       "      <td>997.0</td>\n",
       "      <td>Zimbra</td>\n",
       "      <td>enterprise</td>\n",
       "      <td>acquired</td>\n",
       "      <td>2003-01-01</td>\n",
       "      <td>NaT</td>\n",
       "      <td>zimbra.com</td>\n",
       "      <td>zimbra</td>\n",
       "      <td>USA</td>\n",
       "      <td>0.0</td>\n",
       "      <td>1.0</td>\n",
       "      <td>14,500,000.0</td>\n",
       "      <td>3.0</td>\n",
       "      <td>9,121.0</td>\n",
       "      <td>415.0</td>\n",
       "      <td>997.0</td>\n",
       "      <td>NaN</td>\n",
       "      <td>0.0</td>\n",
       "      <td>2013-07-15</td>\n",
       "    </tr>\n",
       "    <tr>\n",
       "      <th>196562</th>\n",
       "      <td>153,326.0</td>\n",
       "      <td>Yoke</td>\n",
       "      <td>web</td>\n",
       "      <td>acquired</td>\n",
       "      <td>NaT</td>\n",
       "      <td>NaT</td>\n",
       "      <td>apps.socialnet.com::yokeapp</td>\n",
       "      <td>NaN</td>\n",
       "      <td>NaN</td>\n",
       "      <td>0.0</td>\n",
       "      <td>1.0</td>\n",
       "      <td>500,000.0</td>\n",
       "      <td>1.0</td>\n",
       "      <td>7,948.0</td>\n",
       "      <td>2,352.0</td>\n",
       "      <td>153,326.0</td>\n",
       "      <td>NaN</td>\n",
       "      <td>0.0</td>\n",
       "      <td>2012-09-11</td>\n",
       "    </tr>\n",
       "  </tbody>\n",
       "</table>\n",
       "<p>1618 rows × 19 columns</p>\n",
       "</div>"
      ],
      "text/plain": [
       "        company_ID         name category_code    status founded_at closed_at  \\\n",
       "66        10,054.0      Jumptap        mobile  acquired 2005-01-01       NaT   \n",
       "170      101,312.0     SideTour           web  acquired 2011-06-01       NaT   \n",
       "177      101,340.0   ChoicePass    enterprise  acquired 2011-07-01       NaT   \n",
       "181       10,137.0   Producteev      software  acquired 2008-07-08       NaT   \n",
       "184       10,139.0    TradeCard    enterprise  acquired 1999-01-01       NaT   \n",
       "...            ...          ...           ...       ...        ...       ...   \n",
       "196402        99.0  Amie Street           web  acquired 2011-07-04       NaT   \n",
       "196411     9,905.0     UBmatrix      software  acquired 2005-01-01       NaT   \n",
       "196430       992.0   wunderloop   advertising  acquired 1999-01-01       NaT   \n",
       "196489       997.0       Zimbra    enterprise  acquired 2003-01-01       NaT   \n",
       "196562   153,326.0         Yoke           web  acquired        NaT       NaT   \n",
       "\n",
       "                             domain network_username country_code  \\\n",
       "66                      jumptap.com          jumptap          USA   \n",
       "170                    sidetour.com         sidetour          USA   \n",
       "177                  choicepass.com       choicepass          USA   \n",
       "181                  producteev.com       producteev          USA   \n",
       "184                   tradecard.com        TradeCard          USA   \n",
       "...                             ...              ...          ...   \n",
       "196402               amiestreet.com  amiestreet_logs          USA   \n",
       "196411                 ubmatrix.com              NaN          USA   \n",
       "196430               wunderloop.com              NaN          USA   \n",
       "196489                   zimbra.com           zimbra          USA   \n",
       "196562  apps.socialnet.com::yokeapp              NaN          NaN   \n",
       "\n",
       "        investment_rounds  funding_rounds  funding_total  milestones      id  \\\n",
       "66                    0.0             7.0  121,500,000.0         3.0 9,288.0   \n",
       "170                   0.0             3.0    4,000,000.0         2.0 9,653.0   \n",
       "177                   0.0             1.0      250,000.0         1.0 7,272.0   \n",
       "181                   0.0             3.0    1,310,000.0         2.0 8,254.0   \n",
       "184                   0.0             2.0   44,925,000.0         1.0 9,326.0   \n",
       "...                   ...             ...            ...         ...     ...   \n",
       "196402                0.0             2.0    3,900,000.0         0.0 7,024.0   \n",
       "196411                0.0             2.0    5,172,350.0         0.0 3,381.0   \n",
       "196430                0.0             1.0   10,000,000.0         1.0 9,916.0   \n",
       "196489                0.0             1.0   14,500,000.0         3.0 9,121.0   \n",
       "196562                0.0             1.0      500,000.0         1.0 7,948.0   \n",
       "\n",
       "        acquiring_company_id  acquired_company_id       term_code  \\\n",
       "66                  23,283.0             10,054.0  cash_and_stock   \n",
       "170                 11,391.0            101,312.0             NaN   \n",
       "177                  1,972.0            101,340.0             NaN   \n",
       "181                    757.0             10,137.0  cash_and_stock   \n",
       "184                 44,008.0             10,139.0             NaN   \n",
       "...                      ...                  ...             ...   \n",
       "196402                 317.0                 99.0             NaN   \n",
       "196411              41,119.0              9,905.0             NaN   \n",
       "196430              19,182.0                992.0             NaN   \n",
       "196489                 415.0                997.0             NaN   \n",
       "196562               2,352.0            153,326.0             NaN   \n",
       "\n",
       "        price_amount acquired_at  \n",
       "66               0.0  2013-08-13  \n",
       "170              0.0  2013-09-18  \n",
       "177              0.0  2012-06-18  \n",
       "181              0.0  2012-11-05  \n",
       "184              0.0  2013-04-01  \n",
       "...              ...         ...  \n",
       "196402           0.0  2010-09-22  \n",
       "196411           0.0  2010-06-24  \n",
       "196430           0.0  2010-07-02  \n",
       "196489           0.0  2013-07-15  \n",
       "196562           0.0  2012-09-11  \n",
       "\n",
       "[1618 rows x 19 columns]"
      ]
     },
     "execution_count": 57,
     "metadata": {},
     "output_type": "execute_result"
    }
   ],
   "source": [
    "# Отфильтруем нужные компании с price_amount = 0 или 1, и funding_total > 0\n",
    "filtered_companies = company_and_rounds_df_filtered[\n",
    "    ((company_and_rounds_df_filtered['price_amount'] == 0) | \n",
    "     (company_and_rounds_df_filtered['price_amount'] == 1)) & \n",
    "    (company_and_rounds_df_filtered['funding_total'] > 0)\n",
    "]\n",
    "\n",
    "# Вывод результата\n",
    "filtered_companies"
   ]
  },
  {
   "cell_type": "code",
   "execution_count": 58,
   "metadata": {},
   "outputs": [
    {
     "name": "stdout",
     "output_type": "stream",
     "text": [
      "Первый квартиль (Q1): 2000000.0\n",
      "Третий квартиль (Q3): 15500000.0\n",
      "Межквартильный размах (IQR): 13500000.0\n",
      "\n",
      "\n",
      "Нижняя граница выбросов: -18250000.0\n",
      "Соответствует процентилю: 0.00%\n",
      "\n",
      "\n",
      "Верхняя граница выбросов: 35750000.0\n",
      "Соответствует процентилю: 90.91%\n"
     ]
    }
   ],
   "source": [
    "from scipy.stats import percentileofscore\n",
    "\n",
    "# Сортируем данные\n",
    "sorted_funding = sorted(filtered_companies['funding_total'])\n",
    "\n",
    "# Рассчитываем квартили\n",
    "Q1 = filtered_companies['funding_total'].quantile(0.25)\n",
    "Q3 = filtered_companies['funding_total'].quantile(0.75)\n",
    "\n",
    "# Рассчитываем IQR\n",
    "IQR = Q3 - Q1\n",
    "\n",
    "# Рассчитываем границы выбросов\n",
    "lower_bound = Q1 - 1.5 * IQR\n",
    "upper_bound = Q3 + 1.5 * IQR\n",
    "\n",
    "# Находим процентили для границ с использованием функции percentileofscore\n",
    "lower_percentile = percentileofscore(sorted_funding, lower_bound)\n",
    "upper_percentile = percentileofscore(sorted_funding, upper_bound)\n",
    "\n",
    "# Выводим результаты\n",
    "print(f\"Первый квартиль (Q1): {Q1}\")\n",
    "print(f\"Третий квартиль (Q3): {Q3}\")\n",
    "print(f\"Межквартильный размах (IQR): {IQR}\")\n",
    "print(\"\\n\")\n",
    "print(f\"Нижняя граница выбросов: {lower_bound}\")\n",
    "print(f\"Соответствует процентилю: {lower_percentile:.2f}%\")\n",
    "print(\"\\n\")\n",
    "print(f\"Верхняя граница выбросов: {upper_bound}\")\n",
    "print(f\"Соответствует процентилю: {upper_percentile:.2f}%\")\n"
   ]
  },
  {
   "cell_type": "markdown",
   "metadata": {
    "id": "mEiWpROjrJg2"
   },
   "source": [
    "\n",
    "### 3.4. Цены стартапов по категориям\n",
    "\n",
    "Категории стартапов с типично высокими ценами покупки стартапов и значительным разбросом цен могут быть привлекательными для крупных инвесторов, которые готовы к высоким рискам ради потенциально больших доходов. Среди категорий стартапов выделите категории стартапов, характеризующиеся:\n",
    "\n",
    "- типично высокими ценами;\n",
    "- и наибольшим разбросом цен за стартап.\n",
    "\n",
    "Объясните, почему решили составить топ именно из такого числа категорий и почему рассчитывали именно так."
   ]
  },
  {
   "cell_type": "code",
   "execution_count": 59,
   "metadata": {
    "id": "jQ09dYUWrJg2",
    "vscode": {
     "languageId": "plaintext"
    }
   },
   "outputs": [
    {
     "data": {
      "text/html": [
       "<div>\n",
       "<style scoped>\n",
       "    .dataframe tbody tr th:only-of-type {\n",
       "        vertical-align: middle;\n",
       "    }\n",
       "\n",
       "    .dataframe tbody tr th {\n",
       "        vertical-align: top;\n",
       "    }\n",
       "\n",
       "    .dataframe thead th {\n",
       "        text-align: right;\n",
       "    }\n",
       "</style>\n",
       "<table border=\"1\" class=\"dataframe\">\n",
       "  <thead>\n",
       "    <tr style=\"text-align: right;\">\n",
       "      <th></th>\n",
       "      <th>category_code</th>\n",
       "      <th>price_mean</th>\n",
       "      <th>price_std</th>\n",
       "    </tr>\n",
       "  </thead>\n",
       "  <tbody>\n",
       "    <tr>\n",
       "      <th>0</th>\n",
       "      <td>advertising</td>\n",
       "      <td>259,670,119.04761904</td>\n",
       "      <td>495,483,858.2133485</td>\n",
       "    </tr>\n",
       "    <tr>\n",
       "      <th>1</th>\n",
       "      <td>analytics</td>\n",
       "      <td>181,000,000.0</td>\n",
       "      <td>92,967,736.33901171</td>\n",
       "    </tr>\n",
       "    <tr>\n",
       "      <th>2</th>\n",
       "      <td>automotive</td>\n",
       "      <td>2,547,666,666.6666665</td>\n",
       "      <td>2,581,669,292.01502</td>\n",
       "    </tr>\n",
       "    <tr>\n",
       "      <th>3</th>\n",
       "      <td>biotech</td>\n",
       "      <td>735,915,254.7528517</td>\n",
       "      <td>1,968,195,263.65611</td>\n",
       "    </tr>\n",
       "    <tr>\n",
       "      <th>4</th>\n",
       "      <td>cleantech</td>\n",
       "      <td>482,316,153.84615386</td>\n",
       "      <td>874,419,628.2576156</td>\n",
       "    </tr>\n",
       "    <tr>\n",
       "      <th>5</th>\n",
       "      <td>consulting</td>\n",
       "      <td>293,671,562.5</td>\n",
       "      <td>1,018,108,961.7081187</td>\n",
       "    </tr>\n",
       "    <tr>\n",
       "      <th>6</th>\n",
       "      <td>ecommerce</td>\n",
       "      <td>241,516,200.22</td>\n",
       "      <td>281,425,549.3697293</td>\n",
       "    </tr>\n",
       "    <tr>\n",
       "      <th>7</th>\n",
       "      <td>education</td>\n",
       "      <td>133,315,000.0</td>\n",
       "      <td>288,329,370.9457987</td>\n",
       "    </tr>\n",
       "    <tr>\n",
       "      <th>8</th>\n",
       "      <td>enterprise</td>\n",
       "      <td>22,959,545,724.13793</td>\n",
       "      <td>241,358,098,250.8973</td>\n",
       "    </tr>\n",
       "    <tr>\n",
       "      <th>9</th>\n",
       "      <td>fashion</td>\n",
       "      <td>187,500,000.0</td>\n",
       "      <td>86,494,219.46003097</td>\n",
       "    </tr>\n",
       "    <tr>\n",
       "      <th>10</th>\n",
       "      <td>finance</td>\n",
       "      <td>604,397,500.0</td>\n",
       "      <td>1,052,920,128.9840255</td>\n",
       "    </tr>\n",
       "    <tr>\n",
       "      <th>11</th>\n",
       "      <td>games_video</td>\n",
       "      <td>445,937,852.95454544</td>\n",
       "      <td>1,463,477,654.295366</td>\n",
       "    </tr>\n",
       "    <tr>\n",
       "      <th>12</th>\n",
       "      <td>hardware</td>\n",
       "      <td>279,942,205.75641024</td>\n",
       "      <td>645,087,366.0489554</td>\n",
       "    </tr>\n",
       "    <tr>\n",
       "      <th>13</th>\n",
       "      <td>health</td>\n",
       "      <td>1,065,050,000.0</td>\n",
       "      <td>1,927,099,525.3373802</td>\n",
       "    </tr>\n",
       "    <tr>\n",
       "      <th>14</th>\n",
       "      <td>hospitality</td>\n",
       "      <td>440,342,857.14285713</td>\n",
       "      <td>790,600,556.237984</td>\n",
       "    </tr>\n",
       "    <tr>\n",
       "      <th>15</th>\n",
       "      <td>local</td>\n",
       "      <td>16,140,200.0</td>\n",
       "      <td>NaN</td>\n",
       "    </tr>\n",
       "    <tr>\n",
       "      <th>16</th>\n",
       "      <td>manufacturing</td>\n",
       "      <td>813,757,160.6190476</td>\n",
       "      <td>1,060,434,506.3313876</td>\n",
       "    </tr>\n",
       "    <tr>\n",
       "      <th>17</th>\n",
       "      <td>medical</td>\n",
       "      <td>169,125,000.0</td>\n",
       "      <td>165,905,784.00606373</td>\n",
       "    </tr>\n",
       "    <tr>\n",
       "      <th>18</th>\n",
       "      <td>messaging</td>\n",
       "      <td>77,600,000.0</td>\n",
       "      <td>69,074,597.35677074</td>\n",
       "    </tr>\n",
       "    <tr>\n",
       "      <th>19</th>\n",
       "      <td>mobile</td>\n",
       "      <td>352,918,735.04273504</td>\n",
       "      <td>1,319,471,637.2080946</td>\n",
       "    </tr>\n",
       "    <tr>\n",
       "      <th>20</th>\n",
       "      <td>music</td>\n",
       "      <td>95,286,666.66666667</td>\n",
       "      <td>159,978,081.41534057</td>\n",
       "    </tr>\n",
       "    <tr>\n",
       "      <th>21</th>\n",
       "      <td>nanotech</td>\n",
       "      <td>584,000,000.0</td>\n",
       "      <td>NaN</td>\n",
       "    </tr>\n",
       "    <tr>\n",
       "      <th>22</th>\n",
       "      <td>network_hosting</td>\n",
       "      <td>375,539,734.375</td>\n",
       "      <td>676,956,798.4725218</td>\n",
       "    </tr>\n",
       "    <tr>\n",
       "      <th>23</th>\n",
       "      <td>news</td>\n",
       "      <td>90,888,888.8888889</td>\n",
       "      <td>100,855,335.06518686</td>\n",
       "    </tr>\n",
       "    <tr>\n",
       "      <th>24</th>\n",
       "      <td>other</td>\n",
       "      <td>528,772,089.29761904</td>\n",
       "      <td>2,060,860,617.080053</td>\n",
       "    </tr>\n",
       "    <tr>\n",
       "      <th>25</th>\n",
       "      <td>photo_video</td>\n",
       "      <td>239,394,000.0</td>\n",
       "      <td>431,142,213.9851304</td>\n",
       "    </tr>\n",
       "    <tr>\n",
       "      <th>26</th>\n",
       "      <td>public_relations</td>\n",
       "      <td>1,820,630,743.2432432</td>\n",
       "      <td>6,854,337,755.922362</td>\n",
       "    </tr>\n",
       "    <tr>\n",
       "      <th>27</th>\n",
       "      <td>real_estate</td>\n",
       "      <td>1,465,500,000.0</td>\n",
       "      <td>2,676,302,206.403455</td>\n",
       "    </tr>\n",
       "    <tr>\n",
       "      <th>28</th>\n",
       "      <td>search</td>\n",
       "      <td>201,168,421.0526316</td>\n",
       "      <td>339,580,152.2184442</td>\n",
       "    </tr>\n",
       "    <tr>\n",
       "      <th>29</th>\n",
       "      <td>security</td>\n",
       "      <td>602,895,833.3333334</td>\n",
       "      <td>1,378,442,023.1538317</td>\n",
       "    </tr>\n",
       "    <tr>\n",
       "      <th>30</th>\n",
       "      <td>semiconductor</td>\n",
       "      <td>442,115,352.1126761</td>\n",
       "      <td>1,122,024,807.9786458</td>\n",
       "    </tr>\n",
       "    <tr>\n",
       "      <th>31</th>\n",
       "      <td>social</td>\n",
       "      <td>63,125,000.0</td>\n",
       "      <td>62,952,859.34729256</td>\n",
       "    </tr>\n",
       "    <tr>\n",
       "      <th>32</th>\n",
       "      <td>software</td>\n",
       "      <td>390,754,120.98759305</td>\n",
       "      <td>1,204,058,888.0346131</td>\n",
       "    </tr>\n",
       "    <tr>\n",
       "      <th>33</th>\n",
       "      <td>sports</td>\n",
       "      <td>622,500,000.0</td>\n",
       "      <td>512,652,416.36024696</td>\n",
       "    </tr>\n",
       "    <tr>\n",
       "      <th>34</th>\n",
       "      <td>transportation</td>\n",
       "      <td>450,000,000.0</td>\n",
       "      <td>572,625,532.0888163</td>\n",
       "    </tr>\n",
       "    <tr>\n",
       "      <th>35</th>\n",
       "      <td>travel</td>\n",
       "      <td>81,250,000.0</td>\n",
       "      <td>95,265,856.07306184</td>\n",
       "    </tr>\n",
       "    <tr>\n",
       "      <th>36</th>\n",
       "      <td>web</td>\n",
       "      <td>276,776,731.1961538</td>\n",
       "      <td>695,440,500.8552132</td>\n",
       "    </tr>\n",
       "  </tbody>\n",
       "</table>\n",
       "</div>"
      ],
      "text/plain": [
       "       category_code            price_mean             price_std\n",
       "0        advertising  259,670,119.04761904   495,483,858.2133485\n",
       "1          analytics         181,000,000.0   92,967,736.33901171\n",
       "2         automotive 2,547,666,666.6666665   2,581,669,292.01502\n",
       "3            biotech   735,915,254.7528517   1,968,195,263.65611\n",
       "4          cleantech  482,316,153.84615386   874,419,628.2576156\n",
       "5         consulting         293,671,562.5 1,018,108,961.7081187\n",
       "6          ecommerce        241,516,200.22   281,425,549.3697293\n",
       "7          education         133,315,000.0   288,329,370.9457987\n",
       "8         enterprise  22,959,545,724.13793  241,358,098,250.8973\n",
       "9            fashion         187,500,000.0   86,494,219.46003097\n",
       "10           finance         604,397,500.0 1,052,920,128.9840255\n",
       "11       games_video  445,937,852.95454544  1,463,477,654.295366\n",
       "12          hardware  279,942,205.75641024   645,087,366.0489554\n",
       "13            health       1,065,050,000.0 1,927,099,525.3373802\n",
       "14       hospitality  440,342,857.14285713    790,600,556.237984\n",
       "15             local          16,140,200.0                   NaN\n",
       "16     manufacturing   813,757,160.6190476 1,060,434,506.3313876\n",
       "17           medical         169,125,000.0  165,905,784.00606373\n",
       "18         messaging          77,600,000.0   69,074,597.35677074\n",
       "19            mobile  352,918,735.04273504 1,319,471,637.2080946\n",
       "20             music   95,286,666.66666667  159,978,081.41534057\n",
       "21          nanotech         584,000,000.0                   NaN\n",
       "22   network_hosting       375,539,734.375   676,956,798.4725218\n",
       "23              news    90,888,888.8888889  100,855,335.06518686\n",
       "24             other  528,772,089.29761904  2,060,860,617.080053\n",
       "25       photo_video         239,394,000.0   431,142,213.9851304\n",
       "26  public_relations 1,820,630,743.2432432  6,854,337,755.922362\n",
       "27       real_estate       1,465,500,000.0  2,676,302,206.403455\n",
       "28            search   201,168,421.0526316   339,580,152.2184442\n",
       "29          security   602,895,833.3333334 1,378,442,023.1538317\n",
       "30     semiconductor   442,115,352.1126761 1,122,024,807.9786458\n",
       "31            social          63,125,000.0   62,952,859.34729256\n",
       "32          software  390,754,120.98759305 1,204,058,888.0346131\n",
       "33            sports         622,500,000.0  512,652,416.36024696\n",
       "34    transportation         450,000,000.0   572,625,532.0888163\n",
       "35            travel          81,250,000.0   95,265,856.07306184\n",
       "36               web   276,776,731.1961538   695,440,500.8552132"
      ]
     },
     "execution_count": 59,
     "metadata": {},
     "output_type": "execute_result"
    }
   ],
   "source": [
    "# Фильтруем данные, исключая нулевые значения и пропуски в price_amount\n",
    "filtered_df = company_and_rounds_df_new[company_and_rounds_df_new['price_amount'].notna() & (company_and_rounds_df_new['price_amount'] != 0)]\n",
    "\n",
    "# Группируем по category_code и считаем среднее значение и стандартное отклонение\n",
    "grouped_data = filtered_df.groupby('category_code').agg(\n",
    "    price_mean=('price_amount', 'mean'),\n",
    "    price_std=('price_amount', 'std')\n",
    ").reset_index()\n",
    "\n",
    "grouped_data"
   ]
  },
  {
   "cell_type": "code",
   "execution_count": 60,
   "metadata": {
    "scrolled": true
   },
   "outputs": [
    {
     "data": {
      "text/html": [
       "<div>\n",
       "<style scoped>\n",
       "    .dataframe tbody tr th:only-of-type {\n",
       "        vertical-align: middle;\n",
       "    }\n",
       "\n",
       "    .dataframe tbody tr th {\n",
       "        vertical-align: top;\n",
       "    }\n",
       "\n",
       "    .dataframe thead th {\n",
       "        text-align: right;\n",
       "    }\n",
       "</style>\n",
       "<table border=\"1\" class=\"dataframe\">\n",
       "  <thead>\n",
       "    <tr style=\"text-align: right;\">\n",
       "      <th></th>\n",
       "      <th>category_code</th>\n",
       "      <th>price_mean</th>\n",
       "      <th>price_std</th>\n",
       "    </tr>\n",
       "  </thead>\n",
       "  <tbody>\n",
       "    <tr>\n",
       "      <th>2</th>\n",
       "      <td>automotive</td>\n",
       "      <td>2,547,666,666.6666665</td>\n",
       "      <td>2,581,669,292.01502</td>\n",
       "    </tr>\n",
       "    <tr>\n",
       "      <th>3</th>\n",
       "      <td>biotech</td>\n",
       "      <td>735,915,254.7528517</td>\n",
       "      <td>1,968,195,263.65611</td>\n",
       "    </tr>\n",
       "    <tr>\n",
       "      <th>8</th>\n",
       "      <td>enterprise</td>\n",
       "      <td>22,959,545,724.13793</td>\n",
       "      <td>241,358,098,250.8973</td>\n",
       "    </tr>\n",
       "    <tr>\n",
       "      <th>10</th>\n",
       "      <td>finance</td>\n",
       "      <td>604,397,500.0</td>\n",
       "      <td>1,052,920,128.9840255</td>\n",
       "    </tr>\n",
       "    <tr>\n",
       "      <th>11</th>\n",
       "      <td>games_video</td>\n",
       "      <td>445,937,852.95454544</td>\n",
       "      <td>1,463,477,654.295366</td>\n",
       "    </tr>\n",
       "    <tr>\n",
       "      <th>13</th>\n",
       "      <td>health</td>\n",
       "      <td>1,065,050,000.0</td>\n",
       "      <td>1,927,099,525.3373802</td>\n",
       "    </tr>\n",
       "    <tr>\n",
       "      <th>16</th>\n",
       "      <td>manufacturing</td>\n",
       "      <td>813,757,160.6190476</td>\n",
       "      <td>1,060,434,506.3313876</td>\n",
       "    </tr>\n",
       "    <tr>\n",
       "      <th>24</th>\n",
       "      <td>other</td>\n",
       "      <td>528,772,089.29761904</td>\n",
       "      <td>2,060,860,617.080053</td>\n",
       "    </tr>\n",
       "    <tr>\n",
       "      <th>26</th>\n",
       "      <td>public_relations</td>\n",
       "      <td>1,820,630,743.2432432</td>\n",
       "      <td>6,854,337,755.922362</td>\n",
       "    </tr>\n",
       "    <tr>\n",
       "      <th>27</th>\n",
       "      <td>real_estate</td>\n",
       "      <td>1,465,500,000.0</td>\n",
       "      <td>2,676,302,206.403455</td>\n",
       "    </tr>\n",
       "    <tr>\n",
       "      <th>29</th>\n",
       "      <td>security</td>\n",
       "      <td>602,895,833.3333334</td>\n",
       "      <td>1,378,442,023.1538317</td>\n",
       "    </tr>\n",
       "    <tr>\n",
       "      <th>33</th>\n",
       "      <td>sports</td>\n",
       "      <td>622,500,000.0</td>\n",
       "      <td>512,652,416.36024696</td>\n",
       "    </tr>\n",
       "  </tbody>\n",
       "</table>\n",
       "</div>"
      ],
      "text/plain": [
       "       category_code            price_mean             price_std\n",
       "2         automotive 2,547,666,666.6666665   2,581,669,292.01502\n",
       "3            biotech   735,915,254.7528517   1,968,195,263.65611\n",
       "8         enterprise  22,959,545,724.13793  241,358,098,250.8973\n",
       "10           finance         604,397,500.0 1,052,920,128.9840255\n",
       "11       games_video  445,937,852.95454544  1,463,477,654.295366\n",
       "13            health       1,065,050,000.0 1,927,099,525.3373802\n",
       "16     manufacturing   813,757,160.6190476 1,060,434,506.3313876\n",
       "24             other  528,772,089.29761904  2,060,860,617.080053\n",
       "26  public_relations 1,820,630,743.2432432  6,854,337,755.922362\n",
       "27       real_estate       1,465,500,000.0  2,676,302,206.403455\n",
       "29          security   602,895,833.3333334 1,378,442,023.1538317\n",
       "33            sports         622,500,000.0  512,652,416.36024696"
      ]
     },
     "execution_count": 60,
     "metadata": {},
     "output_type": "execute_result"
    }
   ],
   "source": [
    "# Найдём верхние квартили для средней цены и отклонения\n",
    "upper_bound_mean = grouped_data['price_mean'].quantile(0.75)  # Верхний квартиль для средней цены\n",
    "upper_bound_std = grouped_data['price_std'].quantile(0.75)  # Верхний квартиль для стандартного отклонения\n",
    "\n",
    "# Выбираем категории с высоким средним значением цен и значительным разбросом\n",
    "high_price_categories = grouped_data[\n",
    "    (grouped_data['price_mean'] > upper_bound_mean) | \n",
    "    (grouped_data['price_std'] > upper_bound_std)\n",
    "]\n",
    "\n",
    "# Выводим результат\n",
    "high_price_categories"
   ]
  },
  {
   "cell_type": "markdown",
   "metadata": {
    "id": "ADOfyVY_rJg3"
   },
   "source": [
    "\n",
    "### 3.5. Сколько раундов продержится стартап перед покупкой\n",
    "\n",
    "- Необходимо проанализировать столбец `funding_rounds`. Исследуйте значения столбца. Заказчика интересует типичное значение количества раундов для каждого возможного статуса стартапа.\n",
    "- Постройте график, который отображает, сколько в среднем раундов финансирования проходило для стартапов из каждой группы. Сделайте выводы."
   ]
  },
  {
   "cell_type": "code",
   "execution_count": 61,
   "metadata": {
    "id": "hgXMPC4WrJg3",
    "vscode": {
     "languageId": "plaintext"
    }
   },
   "outputs": [
    {
     "data": {
      "text/html": [
       "<div>\n",
       "<style scoped>\n",
       "    .dataframe tbody tr th:only-of-type {\n",
       "        vertical-align: middle;\n",
       "    }\n",
       "\n",
       "    .dataframe tbody tr th {\n",
       "        vertical-align: top;\n",
       "    }\n",
       "\n",
       "    .dataframe thead th {\n",
       "        text-align: right;\n",
       "    }\n",
       "</style>\n",
       "<table border=\"1\" class=\"dataframe\">\n",
       "  <thead>\n",
       "    <tr style=\"text-align: right;\">\n",
       "      <th></th>\n",
       "      <th>status</th>\n",
       "      <th>mean</th>\n",
       "    </tr>\n",
       "  </thead>\n",
       "  <tbody>\n",
       "    <tr>\n",
       "      <th>0</th>\n",
       "      <td>acquired</td>\n",
       "      <td>0.53</td>\n",
       "    </tr>\n",
       "    <tr>\n",
       "      <th>1</th>\n",
       "      <td>closed</td>\n",
       "      <td>1.38</td>\n",
       "    </tr>\n",
       "    <tr>\n",
       "      <th>2</th>\n",
       "      <td>ipo</td>\n",
       "      <td>1.93</td>\n",
       "    </tr>\n",
       "    <tr>\n",
       "      <th>3</th>\n",
       "      <td>operating</td>\n",
       "      <td>1.52</td>\n",
       "    </tr>\n",
       "  </tbody>\n",
       "</table>\n",
       "</div>"
      ],
      "text/plain": [
       "      status  mean\n",
       "0   acquired  0.53\n",
       "1     closed  1.38\n",
       "2        ipo  1.93\n",
       "3  operating  1.52"
      ]
     },
     "execution_count": 61,
     "metadata": {},
     "output_type": "execute_result"
    }
   ],
   "source": [
    "# Группируем по статусу, рассчитываем среднее значение\n",
    "funding_stats = company_and_rounds_df_new.groupby('status')['funding_rounds'].agg(['mean']).round(2).reset_index()\n",
    "\n",
    "# Выводим результат\n",
    "funding_stats"
   ]
  },
  {
   "cell_type": "code",
   "execution_count": 62,
   "metadata": {},
   "outputs": [
    {
     "data": {
      "image/png": "[encoded data removed]",
      "text/plain": [
       "<Figure size 720x432 with 1 Axes>"
      ]
     },
     "metadata": {
      "needs_background": "light"
     },
     "output_type": "display_data"
    }
   ],
   "source": [
    "# Сортируем данные по среднему количеству раундов\n",
    "funding_stats_sorted = funding_stats.sort_values(by='mean')\n",
    "\n",
    "# Создаем столбчатую диаграмму\n",
    "plt.figure(figsize=(10, 6))\n",
    "plt.bar(funding_stats_sorted['status'], funding_stats_sorted['mean'])\n",
    "\n",
    "# Подписи и заголовок\n",
    "plt.xlabel('Статус стартапа')\n",
    "plt.ylabel('Среднее количество раундов финансирования')\n",
    "plt.title('Среднее количество раундов финансирования по статусу стартапа')\n",
    "\n",
    "# Отображаем диаграмму\n",
    "plt.show()"
   ]
  },
  {
   "cell_type": "markdown",
   "metadata": {},
   "source": [
    "Меньше всего раундов (0,58) было у компаний, которые уже проданы. В среднем перед тем, как стартап продаётся успевает пройти не более 1 раунда финансирования. Далее идут компании, которые закрылись, но перед их закрытием в среднем проходит 1,4 раундов финансирования. На том же уровне находятся компании со статусом operating\t - 1,5 раунда. А вот компаниям, которые ещё не проданы, но развиваются и уже доросли до статуса IPO потребовалось в среднем 2 раунда финансирования."
   ]
  },
  {
   "cell_type": "markdown",
   "metadata": {
    "id": "VAFEZ2HBrJg3"
   },
   "source": [
    "\n",
    "## Шаг 4. Итоговый вывод и рекомендации\n",
    "\n",
    "Проведено первичное знакомство с данными, заменены типы данных на корректные, там где это требовалось. Проведена предобработка данных и их предварительное исследование.\n",
    "\n",
    "Был обработан проблемный дадасет `company_and_rounds.csv`. Данные были приведены в вид, который позволил провести анализ в разрезе отдельных компаний.\n",
    "\n",
    "В ходе работы были получены следующие выводы:\n",
    "\n",
    "- Типичный размер собранных в рамках одного раунда средств был максимален в 2005 году. \n",
    "- К 2013 интерес к инвестированию однозначно вырос - выросло и количество проектов и суммы которые в них были инвестированы. \n",
    "- В подавляющем числе компаний числится не более 1-10 людей. Из почти 23000 компаний ИП являются 18126, 4651 малых компаний, средних 103 и больших 13\n",
    "- Доля сотрудников, которые не имеют образования у ИП, малых и средних компаний в среднем 46%. Для больших компаний доля составляет 28%\n",
    "- Типичная сумма финансирования равна примерно 2,5 млн.долларов. Суммы свыше 11 млн. являются уже не типичными (выбросы), но кроме того есть суммы аномально высокие. Самое большое значение 5,7 млрд. дол.\n",
    "- Есть 1618 проданных компаний для которых осуществлялось финансирование, которые проданы за 0 или 1 доллар по данным. Типичные суммы финансирования для них в диапазоне от 2 000 000 до 15 500 000 долларов. \n",
    "- Категории стартапов с типично высокими ценами и наибольшим разбросом цен:\n",
    "`automotiv`, `biotech`, `enterprise`, `finance`, `games_video`, `health, manufacturing`, `other`, `public_relations`, `real_estate`, `security`, `sports`\n",
    "- Меньше всего раундов (0,58) было у компаний, которые уже **проданы**. В среднем перед тем, как стартап продаётся успевает пройти не более 1 раунда финансирования. Далее идут компании, которые **закрылись**, но перед их закрытием в среднем проходит 1,4 раундов финансирования. На том же уровне находятся компании со статусом **operating** - 1,5 раунда. А вот компаниям, которые ещё не проданы, но развиваются и уже доросли до статуса **IPO** потребовалось в среднем 2 раунда финансирования.\n"
   ]
  }
 ],
 "metadata": {
  "ExecuteTimeLog": [
   {
    "duration": 5173,
    "start_time": "2025-04-02T13:27:15.768Z"
   },
   {
    "duration": 2739,
    "start_time": "2025-04-02T13:32:04.969Z"
   },
   {
    "duration": 13,
    "start_time": "2025-04-02T13:34:03.921Z"
   },
   {
    "duration": 102,
    "start_time": "2025-04-02T13:35:24.229Z"
   },
   {
    "duration": 12,
    "start_time": "2025-04-02T13:35:32.071Z"
   },
   {
    "duration": 8,
    "start_time": "2025-04-02T13:36:23.149Z"
   },
   {
    "duration": 8,
    "start_time": "2025-04-02T13:36:28.804Z"
   },
   {
    "duration": 8,
    "start_time": "2025-04-02T13:36:45.688Z"
   },
   {
    "duration": 8,
    "start_time": "2025-04-02T13:36:47.414Z"
   },
   {
    "duration": 8,
    "start_time": "2025-04-02T13:40:34.789Z"
   },
   {
    "duration": 9,
    "start_time": "2025-04-02T13:40:37.069Z"
   },
   {
    "duration": 9,
    "start_time": "2025-04-02T13:40:38.478Z"
   },
   {
    "duration": 10,
    "start_time": "2025-04-02T13:40:39.200Z"
   },
   {
    "duration": 45,
    "start_time": "2025-04-02T19:31:27.893Z"
   },
   {
    "duration": 4665,
    "start_time": "2025-04-02T19:31:36.401Z"
   },
   {
    "duration": 1925,
    "start_time": "2025-04-02T19:31:41.067Z"
   },
   {
    "duration": 13,
    "start_time": "2025-04-02T19:31:42.993Z"
   },
   {
    "duration": 13,
    "start_time": "2025-04-02T19:31:43.008Z"
   },
   {
    "duration": 28,
    "start_time": "2025-04-02T19:31:43.023Z"
   },
   {
    "duration": 101,
    "start_time": "2025-04-02T19:35:20.311Z"
   },
   {
    "duration": 9,
    "start_time": "2025-04-02T19:47:11.028Z"
   },
   {
    "duration": 18,
    "start_time": "2025-04-02T19:48:44.254Z"
   },
   {
    "duration": 14,
    "start_time": "2025-04-02T19:53:10.769Z"
   },
   {
    "duration": 42,
    "start_time": "2025-04-02T19:53:22.661Z"
   },
   {
    "duration": 11,
    "start_time": "2025-04-02T20:04:56.093Z"
   },
   {
    "duration": 25,
    "start_time": "2025-04-02T20:05:32.001Z"
   },
   {
    "duration": 7,
    "start_time": "2025-04-02T20:06:43.920Z"
   },
   {
    "duration": 8,
    "start_time": "2025-04-02T20:06:57.030Z"
   },
   {
    "duration": 7,
    "start_time": "2025-04-02T20:07:18.778Z"
   },
   {
    "duration": 49,
    "start_time": "2025-04-03T10:14:12.128Z"
   },
   {
    "duration": 4759,
    "start_time": "2025-04-03T10:14:20.749Z"
   },
   {
    "duration": 2049,
    "start_time": "2025-04-03T10:14:25.510Z"
   },
   {
    "duration": 13,
    "start_time": "2025-04-03T10:14:27.560Z"
   },
   {
    "duration": 12,
    "start_time": "2025-04-03T10:14:27.575Z"
   },
   {
    "duration": 14,
    "start_time": "2025-04-03T10:14:27.589Z"
   },
   {
    "duration": 26,
    "start_time": "2025-04-03T10:14:27.604Z"
   },
   {
    "duration": 119,
    "start_time": "2025-04-03T10:14:27.632Z"
   },
   {
    "duration": 7,
    "start_time": "2025-04-03T10:14:27.753Z"
   },
   {
    "duration": 19,
    "start_time": "2025-04-03T10:14:27.773Z"
   },
   {
    "duration": 9,
    "start_time": "2025-04-03T10:14:27.795Z"
   },
   {
    "duration": 45,
    "start_time": "2025-04-03T10:14:27.806Z"
   },
   {
    "duration": 25,
    "start_time": "2025-04-03T10:14:27.853Z"
   },
   {
    "duration": 24,
    "start_time": "2025-04-03T10:14:27.880Z"
   },
   {
    "duration": 21,
    "start_time": "2025-04-03T10:15:15.064Z"
   },
   {
    "duration": 113,
    "start_time": "2025-04-03T10:30:59.516Z"
   },
   {
    "duration": 29,
    "start_time": "2025-04-03T10:32:09.765Z"
   },
   {
    "duration": 29,
    "start_time": "2025-04-03T10:32:20.720Z"
   },
   {
    "duration": 25,
    "start_time": "2025-04-03T10:32:43.484Z"
   },
   {
    "duration": 71,
    "start_time": "2025-04-03T10:50:17.610Z"
   },
   {
    "duration": 14,
    "start_time": "2025-04-03T10:52:09.220Z"
   },
   {
    "duration": 9,
    "start_time": "2025-04-03T11:07:53.690Z"
   },
   {
    "duration": 5,
    "start_time": "2025-04-03T11:08:14.485Z"
   },
   {
    "duration": 4,
    "start_time": "2025-04-03T11:13:52.869Z"
   },
   {
    "duration": 17,
    "start_time": "2025-04-03T11:14:23.091Z"
   },
   {
    "duration": 3629,
    "start_time": "2025-04-03T11:14:30.645Z"
   },
   {
    "duration": 1638,
    "start_time": "2025-04-03T11:14:34.277Z"
   },
   {
    "duration": 15,
    "start_time": "2025-04-03T11:14:35.917Z"
   },
   {
    "duration": 36,
    "start_time": "2025-04-03T11:14:35.933Z"
   },
   {
    "duration": 16,
    "start_time": "2025-04-03T11:14:35.972Z"
   },
   {
    "duration": 24,
    "start_time": "2025-04-03T11:14:35.990Z"
   },
   {
    "duration": 123,
    "start_time": "2025-04-03T11:14:36.016Z"
   },
   {
    "duration": 5,
    "start_time": "2025-04-03T11:14:36.141Z"
   },
   {
    "duration": 126,
    "start_time": "2025-04-03T11:14:36.148Z"
   },
   {
    "duration": 0,
    "start_time": "2025-04-03T11:14:36.276Z"
   },
   {
    "duration": 0,
    "start_time": "2025-04-03T11:14:36.277Z"
   },
   {
    "duration": 0,
    "start_time": "2025-04-03T11:14:36.279Z"
   },
   {
    "duration": 0,
    "start_time": "2025-04-03T11:14:36.280Z"
   },
   {
    "duration": 0,
    "start_time": "2025-04-03T11:14:36.281Z"
   },
   {
    "duration": 0,
    "start_time": "2025-04-03T11:14:36.282Z"
   },
   {
    "duration": 5,
    "start_time": "2025-04-03T11:14:47.980Z"
   },
   {
    "duration": 14,
    "start_time": "2025-04-03T11:18:23.308Z"
   },
   {
    "duration": 15,
    "start_time": "2025-04-03T11:19:05.165Z"
   },
   {
    "duration": 1738,
    "start_time": "2025-04-03T11:20:02.037Z"
   },
   {
    "duration": 1615,
    "start_time": "2025-04-03T11:21:00.154Z"
   },
   {
    "duration": 14773,
    "start_time": "2025-04-03T11:21:33.382Z"
   },
   {
    "duration": 959,
    "start_time": "2025-04-03T11:21:54.055Z"
   },
   {
    "duration": 1568,
    "start_time": "2025-04-03T11:24:44.115Z"
   },
   {
    "duration": 53,
    "start_time": "2025-04-03T11:25:07.488Z"
   },
   {
    "duration": 52,
    "start_time": "2025-04-03T11:25:33.901Z"
   },
   {
    "duration": 133,
    "start_time": "2025-04-03T11:26:00.446Z"
   },
   {
    "duration": 8,
    "start_time": "2025-04-03T11:26:43.535Z"
   },
   {
    "duration": 19,
    "start_time": "2025-04-03T11:26:57.851Z"
   },
   {
    "duration": 18,
    "start_time": "2025-04-03T11:27:40.943Z"
   },
   {
    "duration": 26,
    "start_time": "2025-04-03T11:28:04.626Z"
   },
   {
    "duration": 100,
    "start_time": "2025-04-03T11:28:37.718Z"
   },
   {
    "duration": 8,
    "start_time": "2025-04-03T11:28:38.414Z"
   },
   {
    "duration": 15,
    "start_time": "2025-04-03T11:28:40.035Z"
   },
   {
    "duration": 23,
    "start_time": "2025-04-03T11:28:45.269Z"
   },
   {
    "duration": 9,
    "start_time": "2025-04-03T11:28:48.514Z"
   },
   {
    "duration": 41,
    "start_time": "2025-04-03T11:28:55.402Z"
   },
   {
    "duration": 9,
    "start_time": "2025-04-03T11:29:10.298Z"
   },
   {
    "duration": 24,
    "start_time": "2025-04-03T11:29:23.467Z"
   },
   {
    "duration": 2405,
    "start_time": "2025-04-03T11:34:52.867Z"
   },
   {
    "duration": 2321,
    "start_time": "2025-04-03T11:34:55.274Z"
   },
   {
    "duration": 10,
    "start_time": "2025-04-03T11:34:57.597Z"
   },
   {
    "duration": 12,
    "start_time": "2025-04-03T11:34:57.610Z"
   },
   {
    "duration": 14,
    "start_time": "2025-04-03T11:34:57.624Z"
   },
   {
    "duration": 23,
    "start_time": "2025-04-03T11:34:57.706Z"
   },
   {
    "duration": 101,
    "start_time": "2025-04-03T11:34:58.183Z"
   },
   {
    "duration": 6,
    "start_time": "2025-04-03T11:35:00.124Z"
   },
   {
    "duration": 209,
    "start_time": "2025-04-03T11:35:00.579Z"
   },
   {
    "duration": 8,
    "start_time": "2025-04-03T11:35:01.611Z"
   },
   {
    "duration": 20,
    "start_time": "2025-04-03T11:35:03.292Z"
   },
   {
    "duration": 31,
    "start_time": "2025-04-03T11:35:04.563Z"
   },
   {
    "duration": 9,
    "start_time": "2025-04-03T11:35:05.069Z"
   },
   {
    "duration": 39,
    "start_time": "2025-04-03T11:35:06.561Z"
   },
   {
    "duration": 8,
    "start_time": "2025-04-03T11:35:08.337Z"
   },
   {
    "duration": 25,
    "start_time": "2025-04-03T11:35:10.380Z"
   },
   {
    "duration": 12,
    "start_time": "2025-04-03T12:02:22.069Z"
   },
   {
    "duration": 33,
    "start_time": "2025-04-03T12:02:25.038Z"
   },
   {
    "duration": 4,
    "start_time": "2025-04-03T12:02:27.044Z"
   },
   {
    "duration": 3,
    "start_time": "2025-04-03T12:02:28.874Z"
   },
   {
    "duration": 7,
    "start_time": "2025-04-03T12:02:30.381Z"
   },
   {
    "duration": 10,
    "start_time": "2025-04-03T12:02:38.786Z"
   },
   {
    "duration": 16,
    "start_time": "2025-04-03T12:05:06.590Z"
   },
   {
    "duration": 3,
    "start_time": "2025-04-03T12:05:08.945Z"
   },
   {
    "duration": 2,
    "start_time": "2025-04-03T12:05:09.714Z"
   },
   {
    "duration": 11,
    "start_time": "2025-04-03T12:05:13.760Z"
   },
   {
    "duration": 30,
    "start_time": "2025-04-03T12:06:08.715Z"
   },
   {
    "duration": 17,
    "start_time": "2025-04-03T12:06:16.084Z"
   },
   {
    "duration": 55,
    "start_time": "2025-04-03T12:06:57.950Z"
   },
   {
    "duration": 19,
    "start_time": "2025-04-03T12:09:53.193Z"
   },
   {
    "duration": 9,
    "start_time": "2025-04-03T12:10:30.931Z"
   },
   {
    "duration": 12,
    "start_time": "2025-04-03T12:11:31.512Z"
   },
   {
    "duration": 3,
    "start_time": "2025-04-03T12:11:37.458Z"
   },
   {
    "duration": 13,
    "start_time": "2025-04-03T12:11:39.638Z"
   },
   {
    "duration": 22,
    "start_time": "2025-04-03T12:14:00.051Z"
   },
   {
    "duration": 13,
    "start_time": "2025-04-03T12:14:09.896Z"
   },
   {
    "duration": 22,
    "start_time": "2025-04-03T12:14:10.588Z"
   },
   {
    "duration": 4,
    "start_time": "2025-04-03T12:14:10.949Z"
   },
   {
    "duration": 3,
    "start_time": "2025-04-03T12:14:11.270Z"
   },
   {
    "duration": 10,
    "start_time": "2025-04-03T12:20:11.131Z"
   },
   {
    "duration": 17,
    "start_time": "2025-04-03T12:20:11.682Z"
   },
   {
    "duration": 4,
    "start_time": "2025-04-03T12:20:13.671Z"
   },
   {
    "duration": 4,
    "start_time": "2025-04-03T12:20:15.495Z"
   },
   {
    "duration": 2,
    "start_time": "2025-04-03T12:20:17.027Z"
   },
   {
    "duration": 8,
    "start_time": "2025-04-03T12:20:20.366Z"
   },
   {
    "duration": 52,
    "start_time": "2025-04-03T12:23:25.149Z"
   },
   {
    "duration": 606,
    "start_time": "2025-04-03T12:24:16.909Z"
   },
   {
    "duration": 409,
    "start_time": "2025-04-03T12:25:33.528Z"
   },
   {
    "duration": 436,
    "start_time": "2025-04-03T12:26:29.700Z"
   },
   {
    "duration": 48,
    "start_time": "2025-04-03T16:47:17.196Z"
   },
   {
    "duration": 4856,
    "start_time": "2025-04-03T16:47:27.588Z"
   },
   {
    "duration": 2276,
    "start_time": "2025-04-03T16:47:32.446Z"
   },
   {
    "duration": 14,
    "start_time": "2025-04-03T16:47:34.724Z"
   },
   {
    "duration": 121,
    "start_time": "2025-04-03T16:47:34.739Z"
   },
   {
    "duration": 14,
    "start_time": "2025-04-03T16:47:34.862Z"
   },
   {
    "duration": 24,
    "start_time": "2025-04-03T16:47:34.877Z"
   },
   {
    "duration": 98,
    "start_time": "2025-04-03T16:47:34.903Z"
   },
   {
    "duration": 4,
    "start_time": "2025-04-03T16:47:35.003Z"
   },
   {
    "duration": 250,
    "start_time": "2025-04-03T16:47:35.009Z"
   },
   {
    "duration": 7,
    "start_time": "2025-04-03T16:47:35.261Z"
   },
   {
    "duration": 18,
    "start_time": "2025-04-03T16:47:35.276Z"
   },
   {
    "duration": 37,
    "start_time": "2025-04-03T16:47:35.295Z"
   },
   {
    "duration": 9,
    "start_time": "2025-04-03T16:47:35.334Z"
   },
   {
    "duration": 57,
    "start_time": "2025-04-03T16:47:35.344Z"
   },
   {
    "duration": 7,
    "start_time": "2025-04-03T16:47:35.403Z"
   },
   {
    "duration": 35,
    "start_time": "2025-04-03T16:47:35.411Z"
   },
   {
    "duration": 114,
    "start_time": "2025-04-03T16:47:35.447Z"
   },
   {
    "duration": 0,
    "start_time": "2025-04-03T16:47:35.562Z"
   },
   {
    "duration": 0,
    "start_time": "2025-04-03T16:47:35.564Z"
   },
   {
    "duration": 0,
    "start_time": "2025-04-03T16:47:35.576Z"
   },
   {
    "duration": 0,
    "start_time": "2025-04-03T16:47:35.577Z"
   },
   {
    "duration": 0,
    "start_time": "2025-04-03T16:47:35.578Z"
   },
   {
    "duration": 0,
    "start_time": "2025-04-03T16:47:35.579Z"
   },
   {
    "duration": 9,
    "start_time": "2025-04-03T16:48:40.683Z"
   },
   {
    "duration": 8,
    "start_time": "2025-04-03T16:48:54.901Z"
   },
   {
    "duration": 10,
    "start_time": "2025-04-03T16:49:10.653Z"
   },
   {
    "duration": 37,
    "start_time": "2025-04-03T16:49:11.772Z"
   },
   {
    "duration": 3,
    "start_time": "2025-04-03T16:49:12.741Z"
   },
   {
    "duration": 4,
    "start_time": "2025-04-03T16:49:13.986Z"
   },
   {
    "duration": 3,
    "start_time": "2025-04-03T16:49:14.802Z"
   },
   {
    "duration": 9,
    "start_time": "2025-04-03T16:49:15.313Z"
   },
   {
    "duration": 530,
    "start_time": "2025-04-03T16:49:18.552Z"
   },
   {
    "duration": 83,
    "start_time": "2025-04-03T16:56:01.321Z"
   },
   {
    "duration": 333,
    "start_time": "2025-04-03T16:56:53.965Z"
   },
   {
    "duration": 337,
    "start_time": "2025-04-03T16:58:09.039Z"
   },
   {
    "duration": 348,
    "start_time": "2025-04-03T16:58:26.917Z"
   },
   {
    "duration": 348,
    "start_time": "2025-04-03T16:58:42.710Z"
   },
   {
    "duration": 345,
    "start_time": "2025-04-03T16:59:19.638Z"
   },
   {
    "duration": 358,
    "start_time": "2025-04-03T17:00:49.074Z"
   },
   {
    "duration": 439,
    "start_time": "2025-04-03T17:01:18.941Z"
   },
   {
    "duration": 339,
    "start_time": "2025-04-03T17:01:27.748Z"
   },
   {
    "duration": 356,
    "start_time": "2025-04-03T17:01:43.770Z"
   },
   {
    "duration": 367,
    "start_time": "2025-04-03T17:01:58.194Z"
   },
   {
    "duration": 384,
    "start_time": "2025-04-03T17:02:03.957Z"
   },
   {
    "duration": 391,
    "start_time": "2025-04-03T17:02:34.824Z"
   },
   {
    "duration": 216,
    "start_time": "2025-04-03T17:02:46.300Z"
   },
   {
    "duration": 352,
    "start_time": "2025-04-03T17:02:53.271Z"
   },
   {
    "duration": 224,
    "start_time": "2025-04-03T17:02:58.113Z"
   },
   {
    "duration": 171,
    "start_time": "2025-04-03T17:03:19.119Z"
   },
   {
    "duration": 9,
    "start_time": "2025-04-03T17:24:08.135Z"
   },
   {
    "duration": 11,
    "start_time": "2025-04-03T17:24:16.311Z"
   },
   {
    "duration": 27,
    "start_time": "2025-04-03T17:24:42.575Z"
   },
   {
    "duration": 41,
    "start_time": "2025-04-03T17:24:58.472Z"
   },
   {
    "duration": 10,
    "start_time": "2025-04-03T17:27:10.127Z"
   },
   {
    "duration": 19,
    "start_time": "2025-04-03T17:27:10.972Z"
   },
   {
    "duration": 6,
    "start_time": "2025-04-03T17:27:12.038Z"
   },
   {
    "duration": 4,
    "start_time": "2025-04-03T17:27:13.343Z"
   },
   {
    "duration": 2,
    "start_time": "2025-04-03T17:27:14.016Z"
   },
   {
    "duration": 15,
    "start_time": "2025-04-03T17:27:16.284Z"
   },
   {
    "duration": 1367,
    "start_time": "2025-04-03T17:28:10.937Z"
   },
   {
    "duration": 257,
    "start_time": "2025-04-03T17:28:33.309Z"
   },
   {
    "duration": 15,
    "start_time": "2025-04-03T17:29:30.787Z"
   },
   {
    "duration": 19,
    "start_time": "2025-04-03T17:29:31.719Z"
   },
   {
    "duration": 3,
    "start_time": "2025-04-03T17:29:37.029Z"
   },
   {
    "duration": 13,
    "start_time": "2025-04-03T17:29:38.436Z"
   },
   {
    "duration": 3,
    "start_time": "2025-04-03T17:29:50.614Z"
   },
   {
    "duration": 3,
    "start_time": "2025-04-03T17:29:52.819Z"
   },
   {
    "duration": 11,
    "start_time": "2025-04-03T17:29:54.070Z"
   },
   {
    "duration": 106,
    "start_time": "2025-04-03T17:49:47.351Z"
   },
   {
    "duration": 49,
    "start_time": "2025-04-03T17:50:25.366Z"
   },
   {
    "duration": 58,
    "start_time": "2025-04-03T17:50:33.399Z"
   },
   {
    "duration": 69,
    "start_time": "2025-04-03T17:50:39.635Z"
   },
   {
    "duration": 27,
    "start_time": "2025-04-03T18:11:53.777Z"
   },
   {
    "duration": 25,
    "start_time": "2025-04-03T18:12:04.349Z"
   },
   {
    "duration": 75,
    "start_time": "2025-04-03T18:12:25.505Z"
   },
   {
    "duration": 33,
    "start_time": "2025-04-03T18:12:48.570Z"
   },
   {
    "duration": 3609,
    "start_time": "2025-04-03T18:13:02.338Z"
   },
   {
    "duration": 2075,
    "start_time": "2025-04-03T18:13:05.949Z"
   },
   {
    "duration": 13,
    "start_time": "2025-04-03T18:13:08.026Z"
   },
   {
    "duration": 45,
    "start_time": "2025-04-03T18:13:08.040Z"
   },
   {
    "duration": 28,
    "start_time": "2025-04-03T18:13:08.087Z"
   },
   {
    "duration": 44,
    "start_time": "2025-04-03T18:13:08.117Z"
   },
   {
    "duration": 99,
    "start_time": "2025-04-03T18:13:08.162Z"
   },
   {
    "duration": 15,
    "start_time": "2025-04-03T18:13:08.263Z"
   },
   {
    "duration": 238,
    "start_time": "2025-04-03T18:13:08.279Z"
   },
   {
    "duration": 8,
    "start_time": "2025-04-03T18:13:08.518Z"
   },
   {
    "duration": 58,
    "start_time": "2025-04-03T18:13:08.528Z"
   },
   {
    "duration": 39,
    "start_time": "2025-04-03T18:13:08.588Z"
   },
   {
    "duration": 40,
    "start_time": "2025-04-03T18:13:08.629Z"
   },
   {
    "duration": 66,
    "start_time": "2025-04-03T18:13:08.672Z"
   },
   {
    "duration": 8,
    "start_time": "2025-04-03T18:13:08.739Z"
   },
   {
    "duration": 55,
    "start_time": "2025-04-03T18:13:08.748Z"
   },
   {
    "duration": 18,
    "start_time": "2025-04-03T18:13:08.804Z"
   },
   {
    "duration": 70,
    "start_time": "2025-04-03T18:13:08.824Z"
   },
   {
    "duration": 5,
    "start_time": "2025-04-03T18:13:08.896Z"
   },
   {
    "duration": 7,
    "start_time": "2025-04-03T18:13:08.902Z"
   },
   {
    "duration": 99,
    "start_time": "2025-04-03T18:13:08.910Z"
   },
   {
    "duration": 21,
    "start_time": "2025-04-03T18:13:09.011Z"
   },
   {
    "duration": 122,
    "start_time": "2025-04-03T18:13:09.033Z"
   },
   {
    "duration": 0,
    "start_time": "2025-04-03T18:13:09.156Z"
   },
   {
    "duration": 0,
    "start_time": "2025-04-03T18:13:09.158Z"
   },
   {
    "duration": 0,
    "start_time": "2025-04-03T18:13:09.159Z"
   },
   {
    "duration": 183,
    "start_time": "2025-04-03T18:13:59.210Z"
   },
   {
    "duration": 100,
    "start_time": "2025-04-03T18:14:07.973Z"
   },
   {
    "duration": 60,
    "start_time": "2025-04-03T18:14:09.069Z"
   },
   {
    "duration": 88,
    "start_time": "2025-04-03T18:14:12.009Z"
   },
   {
    "duration": 33,
    "start_time": "2025-04-03T18:14:22.673Z"
   },
   {
    "duration": 31,
    "start_time": "2025-04-03T18:14:27.062Z"
   },
   {
    "duration": 30,
    "start_time": "2025-04-03T18:14:29.075Z"
   },
   {
    "duration": 33,
    "start_time": "2025-04-03T18:14:30.136Z"
   },
   {
    "duration": 32,
    "start_time": "2025-04-03T18:14:38.058Z"
   },
   {
    "duration": 31,
    "start_time": "2025-04-03T18:14:39.147Z"
   },
   {
    "duration": 31,
    "start_time": "2025-04-03T18:14:40.595Z"
   },
   {
    "duration": 12,
    "start_time": "2025-04-03T18:42:01.900Z"
   },
   {
    "duration": 27,
    "start_time": "2025-04-03T18:42:31.710Z"
   },
   {
    "duration": 19,
    "start_time": "2025-04-03T18:46:30.525Z"
   },
   {
    "duration": 18,
    "start_time": "2025-04-03T18:46:53.955Z"
   },
   {
    "duration": 18,
    "start_time": "2025-04-03T18:47:12.293Z"
   },
   {
    "duration": 19,
    "start_time": "2025-04-03T18:47:28.039Z"
   },
   {
    "duration": 17,
    "start_time": "2025-04-03T18:49:16.209Z"
   },
   {
    "duration": 1080,
    "start_time": "2025-04-03T18:49:48.765Z"
   },
   {
    "duration": 111,
    "start_time": "2025-04-03T18:50:33.985Z"
   },
   {
    "duration": 17,
    "start_time": "2025-04-03T18:51:30.742Z"
   },
   {
    "duration": 16,
    "start_time": "2025-04-03T18:52:54.688Z"
   },
   {
    "duration": 1060,
    "start_time": "2025-04-03T18:53:38.680Z"
   },
   {
    "duration": 464,
    "start_time": "2025-04-03T18:53:54.628Z"
   },
   {
    "duration": 568,
    "start_time": "2025-04-03T18:54:26.677Z"
   },
   {
    "duration": 406,
    "start_time": "2025-04-03T18:54:35.809Z"
   },
   {
    "duration": 559,
    "start_time": "2025-04-03T18:59:31.684Z"
   },
   {
    "duration": 461,
    "start_time": "2025-04-03T18:59:42.497Z"
   },
   {
    "duration": 49,
    "start_time": "2025-04-03T19:07:30.822Z"
   },
   {
    "duration": 467,
    "start_time": "2025-04-03T19:08:06.097Z"
   },
   {
    "duration": 458,
    "start_time": "2025-04-03T19:08:13.004Z"
   },
   {
    "duration": 533,
    "start_time": "2025-04-03T19:16:26.078Z"
   },
   {
    "duration": 559,
    "start_time": "2025-04-03T19:16:37.673Z"
   },
   {
    "duration": 473,
    "start_time": "2025-04-03T19:16:54.141Z"
   },
   {
    "duration": 515,
    "start_time": "2025-04-03T19:17:04.641Z"
   },
   {
    "duration": 3715,
    "start_time": "2025-04-03T19:17:18.988Z"
   },
   {
    "duration": 2702,
    "start_time": "2025-04-03T19:17:22.706Z"
   },
   {
    "duration": 15,
    "start_time": "2025-04-03T19:17:25.409Z"
   },
   {
    "duration": 18,
    "start_time": "2025-04-03T19:17:25.426Z"
   },
   {
    "duration": 16,
    "start_time": "2025-04-03T19:17:25.446Z"
   },
   {
    "duration": 43,
    "start_time": "2025-04-03T19:17:25.464Z"
   },
   {
    "duration": 198,
    "start_time": "2025-04-03T19:17:25.509Z"
   },
   {
    "duration": 5,
    "start_time": "2025-04-03T19:17:25.710Z"
   },
   {
    "duration": 269,
    "start_time": "2025-04-03T19:17:25.717Z"
   },
   {
    "duration": 8,
    "start_time": "2025-04-03T19:17:25.988Z"
   },
   {
    "duration": 24,
    "start_time": "2025-04-03T19:17:25.998Z"
   },
   {
    "duration": 53,
    "start_time": "2025-04-03T19:17:26.024Z"
   },
   {
    "duration": 9,
    "start_time": "2025-04-03T19:17:26.079Z"
   },
   {
    "duration": 44,
    "start_time": "2025-04-03T19:17:26.090Z"
   },
   {
    "duration": 8,
    "start_time": "2025-04-03T19:17:26.136Z"
   },
   {
    "duration": 49,
    "start_time": "2025-04-03T19:17:26.146Z"
   },
   {
    "duration": 9,
    "start_time": "2025-04-03T19:17:26.197Z"
   },
   {
    "duration": 38,
    "start_time": "2025-04-03T19:17:26.208Z"
   },
   {
    "duration": 3,
    "start_time": "2025-04-03T19:17:26.248Z"
   },
   {
    "duration": 7,
    "start_time": "2025-04-03T19:17:26.275Z"
   },
   {
    "duration": 9,
    "start_time": "2025-04-03T19:17:26.284Z"
   },
   {
    "duration": 11,
    "start_time": "2025-04-03T19:17:26.294Z"
   },
   {
    "duration": 195,
    "start_time": "2025-04-03T19:17:26.307Z"
   },
   {
    "duration": 105,
    "start_time": "2025-04-03T19:17:26.504Z"
   },
   {
    "duration": 75,
    "start_time": "2025-04-03T19:17:26.611Z"
   },
   {
    "duration": 78,
    "start_time": "2025-04-03T19:17:26.688Z"
   },
   {
    "duration": 49,
    "start_time": "2025-04-03T19:17:26.777Z"
   },
   {
    "duration": 529,
    "start_time": "2025-04-03T19:17:26.831Z"
   },
   {
    "duration": 500,
    "start_time": "2025-04-03T19:17:27.362Z"
   },
   {
    "duration": 4,
    "start_time": "2025-04-03T19:18:39.727Z"
   },
   {
    "duration": 9,
    "start_time": "2025-04-03T19:18:46.321Z"
   },
   {
    "duration": 465,
    "start_time": "2025-04-03T19:19:06.292Z"
   },
   {
    "duration": 309,
    "start_time": "2025-04-03T19:19:35.193Z"
   },
   {
    "duration": 4,
    "start_time": "2025-04-03T19:19:43.906Z"
   },
   {
    "duration": 3,
    "start_time": "2025-04-03T19:19:49.272Z"
   },
   {
    "duration": 252,
    "start_time": "2025-04-03T19:19:50.399Z"
   },
   {
    "duration": 210,
    "start_time": "2025-04-03T19:20:04.601Z"
   },
   {
    "duration": 4,
    "start_time": "2025-04-03T19:20:42.657Z"
   },
   {
    "duration": 4,
    "start_time": "2025-04-03T19:21:05.186Z"
   },
   {
    "duration": 120,
    "start_time": "2025-04-03T19:23:40.524Z"
   },
   {
    "duration": 4,
    "start_time": "2025-04-03T19:23:45.442Z"
   },
   {
    "duration": 254,
    "start_time": "2025-04-03T19:23:46.504Z"
   },
   {
    "duration": 216,
    "start_time": "2025-04-03T19:28:00.706Z"
   },
   {
    "duration": 4,
    "start_time": "2025-04-03T19:28:52.962Z"
   },
   {
    "duration": 234,
    "start_time": "2025-04-03T19:28:53.742Z"
   },
   {
    "duration": 238,
    "start_time": "2025-04-03T19:29:58.735Z"
   },
   {
    "duration": 271,
    "start_time": "2025-04-03T19:30:13.422Z"
   },
   {
    "duration": 13,
    "start_time": "2025-04-03T19:37:39.125Z"
   },
   {
    "duration": 4,
    "start_time": "2025-04-03T19:37:48.239Z"
   },
   {
    "duration": 317,
    "start_time": "2025-04-03T19:37:49.997Z"
   },
   {
    "duration": 240,
    "start_time": "2025-04-03T19:37:59.565Z"
   },
   {
    "duration": 13,
    "start_time": "2025-04-03T19:58:02.490Z"
   },
   {
    "duration": 23,
    "start_time": "2025-04-03T19:59:05.615Z"
   },
   {
    "duration": 13,
    "start_time": "2025-04-03T20:00:14.946Z"
   },
   {
    "duration": 18,
    "start_time": "2025-04-03T20:00:54.336Z"
   },
   {
    "duration": 16,
    "start_time": "2025-04-03T20:04:01.528Z"
   },
   {
    "duration": 16,
    "start_time": "2025-04-03T20:12:15.471Z"
   },
   {
    "duration": 19,
    "start_time": "2025-04-03T20:13:01.746Z"
   },
   {
    "duration": 94,
    "start_time": "2025-04-03T20:14:14.003Z"
   },
   {
    "duration": 16,
    "start_time": "2025-04-03T20:14:26.296Z"
   },
   {
    "duration": 17,
    "start_time": "2025-04-03T20:14:58.882Z"
   },
   {
    "duration": 18,
    "start_time": "2025-04-03T20:15:00.723Z"
   },
   {
    "duration": 20,
    "start_time": "2025-04-03T20:15:10.808Z"
   },
   {
    "duration": 21,
    "start_time": "2025-04-03T20:16:18.494Z"
   },
   {
    "duration": 24,
    "start_time": "2025-04-03T20:17:51.992Z"
   },
   {
    "duration": 17,
    "start_time": "2025-04-03T20:18:52.756Z"
   },
   {
    "duration": 20,
    "start_time": "2025-04-03T20:18:56.305Z"
   },
   {
    "duration": 81,
    "start_time": "2025-04-03T20:19:22.664Z"
   },
   {
    "duration": 51,
    "start_time": "2025-04-03T20:24:56.213Z"
   },
   {
    "duration": 18,
    "start_time": "2025-04-03T20:25:06.704Z"
   },
   {
    "duration": 18,
    "start_time": "2025-04-03T20:25:12.214Z"
   },
   {
    "duration": 15,
    "start_time": "2025-04-03T20:28:55.203Z"
   },
   {
    "duration": 16,
    "start_time": "2025-04-03T20:30:50.591Z"
   },
   {
    "duration": 15,
    "start_time": "2025-04-03T20:31:14.297Z"
   },
   {
    "duration": 15,
    "start_time": "2025-04-03T20:31:35.572Z"
   },
   {
    "duration": 16,
    "start_time": "2025-04-03T20:31:40.049Z"
   },
   {
    "duration": 13,
    "start_time": "2025-04-03T20:31:47.812Z"
   },
   {
    "duration": 19,
    "start_time": "2025-04-03T20:37:33.086Z"
   },
   {
    "duration": 21,
    "start_time": "2025-04-03T20:39:51.563Z"
   },
   {
    "duration": 15,
    "start_time": "2025-04-03T20:51:11.883Z"
   },
   {
    "duration": 70,
    "start_time": "2025-04-04T07:41:35.460Z"
   },
   {
    "duration": 44,
    "start_time": "2025-04-04T07:42:08.135Z"
   },
   {
    "duration": 4963,
    "start_time": "2025-04-04T07:42:18.395Z"
   },
   {
    "duration": 2104,
    "start_time": "2025-04-04T07:42:23.360Z"
   },
   {
    "duration": 14,
    "start_time": "2025-04-04T07:42:25.466Z"
   },
   {
    "duration": 19,
    "start_time": "2025-04-04T07:42:25.482Z"
   },
   {
    "duration": 32,
    "start_time": "2025-04-04T07:42:25.503Z"
   },
   {
    "duration": 26,
    "start_time": "2025-04-04T07:42:25.536Z"
   },
   {
    "duration": 117,
    "start_time": "2025-04-04T07:42:25.564Z"
   },
   {
    "duration": 6,
    "start_time": "2025-04-04T07:42:25.682Z"
   },
   {
    "duration": 239,
    "start_time": "2025-04-04T07:42:25.689Z"
   },
   {
    "duration": 12,
    "start_time": "2025-04-04T07:42:25.930Z"
   },
   {
    "duration": 20,
    "start_time": "2025-04-04T07:42:25.944Z"
   },
   {
    "duration": 30,
    "start_time": "2025-04-04T07:42:25.966Z"
   },
   {
    "duration": 10,
    "start_time": "2025-04-04T07:42:25.998Z"
   },
   {
    "duration": 41,
    "start_time": "2025-04-04T07:42:26.038Z"
   },
   {
    "duration": 8,
    "start_time": "2025-04-04T07:42:26.081Z"
   },
   {
    "duration": 24,
    "start_time": "2025-04-04T07:42:26.091Z"
   },
   {
    "duration": 10,
    "start_time": "2025-04-04T07:42:26.138Z"
   },
   {
    "duration": 40,
    "start_time": "2025-04-04T07:42:26.150Z"
   },
   {
    "duration": 3,
    "start_time": "2025-04-04T07:42:26.192Z"
   },
   {
    "duration": 7,
    "start_time": "2025-04-04T07:42:26.196Z"
   },
   {
    "duration": 5,
    "start_time": "2025-04-04T07:42:26.204Z"
   },
   {
    "duration": 31,
    "start_time": "2025-04-04T07:42:26.211Z"
   },
   {
    "duration": 201,
    "start_time": "2025-04-04T07:42:26.244Z"
   },
   {
    "duration": 118,
    "start_time": "2025-04-04T07:42:26.447Z"
   },
   {
    "duration": 77,
    "start_time": "2025-04-04T07:42:26.566Z"
   },
   {
    "duration": 79,
    "start_time": "2025-04-04T07:42:26.645Z"
   },
   {
    "duration": 56,
    "start_time": "2025-04-04T07:42:26.725Z"
   },
   {
    "duration": 602,
    "start_time": "2025-04-04T07:42:26.784Z"
   },
   {
    "duration": 5,
    "start_time": "2025-04-04T07:42:27.387Z"
   },
   {
    "duration": 246,
    "start_time": "2025-04-04T07:42:27.394Z"
   },
   {
    "duration": 17,
    "start_time": "2025-04-04T07:42:27.642Z"
   },
   {
    "duration": 36,
    "start_time": "2025-04-04T07:42:27.661Z"
   },
   {
    "duration": 71,
    "start_time": "2025-04-04T07:42:27.699Z"
   },
   {
    "duration": 189,
    "start_time": "2025-04-04T07:42:27.772Z"
   },
   {
    "duration": 110,
    "start_time": "2025-04-04T07:44:10.806Z"
   },
   {
    "duration": 13,
    "start_time": "2025-04-04T07:44:24.631Z"
   },
   {
    "duration": 12,
    "start_time": "2025-04-04T07:44:31.387Z"
   },
   {
    "duration": 197,
    "start_time": "2025-04-04T07:44:34.394Z"
   },
   {
    "duration": 3836,
    "start_time": "2025-04-04T07:44:59.142Z"
   },
   {
    "duration": 2204,
    "start_time": "2025-04-04T07:45:02.980Z"
   },
   {
    "duration": 15,
    "start_time": "2025-04-04T07:45:05.185Z"
   },
   {
    "duration": 14,
    "start_time": "2025-04-04T07:45:05.202Z"
   },
   {
    "duration": 21,
    "start_time": "2025-04-04T07:45:05.219Z"
   },
   {
    "duration": 27,
    "start_time": "2025-04-04T07:45:05.242Z"
   },
   {
    "duration": 128,
    "start_time": "2025-04-04T07:45:05.271Z"
   },
   {
    "duration": 6,
    "start_time": "2025-04-04T07:45:05.402Z"
   },
   {
    "duration": 275,
    "start_time": "2025-04-04T07:45:05.409Z"
   },
   {
    "duration": 8,
    "start_time": "2025-04-04T07:45:05.686Z"
   },
   {
    "duration": 25,
    "start_time": "2025-04-04T07:45:05.696Z"
   },
   {
    "duration": 33,
    "start_time": "2025-04-04T07:45:05.737Z"
   },
   {
    "duration": 23,
    "start_time": "2025-04-04T07:45:05.771Z"
   },
   {
    "duration": 50,
    "start_time": "2025-04-04T07:45:05.798Z"
   },
   {
    "duration": 30,
    "start_time": "2025-04-04T07:45:05.849Z"
   },
   {
    "duration": 39,
    "start_time": "2025-04-04T07:45:05.881Z"
   },
   {
    "duration": 22,
    "start_time": "2025-04-04T07:45:05.922Z"
   },
   {
    "duration": 42,
    "start_time": "2025-04-04T07:45:05.946Z"
   },
   {
    "duration": 3,
    "start_time": "2025-04-04T07:45:05.990Z"
   },
   {
    "duration": 43,
    "start_time": "2025-04-04T07:45:05.995Z"
   },
   {
    "duration": 40,
    "start_time": "2025-04-04T07:45:06.040Z"
   },
   {
    "duration": 35,
    "start_time": "2025-04-04T07:45:06.082Z"
   },
   {
    "duration": 215,
    "start_time": "2025-04-04T07:45:06.119Z"
   },
   {
    "duration": 110,
    "start_time": "2025-04-04T07:45:06.336Z"
   },
   {
    "duration": 69,
    "start_time": "2025-04-04T07:45:06.448Z"
   },
   {
    "duration": 190,
    "start_time": "2025-04-04T07:45:06.518Z"
   },
   {
    "duration": 74,
    "start_time": "2025-04-04T07:45:06.710Z"
   },
   {
    "duration": 540,
    "start_time": "2025-04-04T07:45:06.787Z"
   },
   {
    "duration": 4,
    "start_time": "2025-04-04T07:45:07.337Z"
   },
   {
    "duration": 337,
    "start_time": "2025-04-04T07:45:07.343Z"
   },
   {
    "duration": 19,
    "start_time": "2025-04-04T07:45:07.682Z"
   },
   {
    "duration": 35,
    "start_time": "2025-04-04T07:45:07.702Z"
   },
   {
    "duration": 66,
    "start_time": "2025-04-04T07:45:07.739Z"
   },
   {
    "duration": 189,
    "start_time": "2025-04-04T07:45:07.807Z"
   },
   {
    "duration": 3891,
    "start_time": "2025-04-04T07:45:31.850Z"
   },
   {
    "duration": 2061,
    "start_time": "2025-04-04T07:45:35.743Z"
   },
   {
    "duration": 14,
    "start_time": "2025-04-04T07:45:37.805Z"
   },
   {
    "duration": 74,
    "start_time": "2025-04-04T07:45:37.820Z"
   },
   {
    "duration": 56,
    "start_time": "2025-04-04T07:45:37.896Z"
   },
   {
    "duration": 47,
    "start_time": "2025-04-04T07:45:37.954Z"
   },
   {
    "duration": 106,
    "start_time": "2025-04-04T07:45:38.002Z"
   },
   {
    "duration": 5,
    "start_time": "2025-04-04T07:45:38.110Z"
   },
   {
    "duration": 273,
    "start_time": "2025-04-04T07:45:38.116Z"
   },
   {
    "duration": 8,
    "start_time": "2025-04-04T07:45:38.391Z"
   },
   {
    "duration": 59,
    "start_time": "2025-04-04T07:45:38.400Z"
   },
   {
    "duration": 90,
    "start_time": "2025-04-04T07:45:38.461Z"
   },
   {
    "duration": 38,
    "start_time": "2025-04-04T07:45:38.553Z"
   },
   {
    "duration": 72,
    "start_time": "2025-04-04T07:45:38.594Z"
   },
   {
    "duration": 23,
    "start_time": "2025-04-04T07:45:38.668Z"
   },
   {
    "duration": 59,
    "start_time": "2025-04-04T07:45:38.693Z"
   },
   {
    "duration": 24,
    "start_time": "2025-04-04T07:45:38.754Z"
   },
   {
    "duration": 51,
    "start_time": "2025-04-04T07:45:38.779Z"
   },
   {
    "duration": 4,
    "start_time": "2025-04-04T07:45:38.831Z"
   },
   {
    "duration": 18,
    "start_time": "2025-04-04T07:45:38.837Z"
   },
   {
    "duration": 18,
    "start_time": "2025-04-04T07:45:38.857Z"
   },
   {
    "duration": 17,
    "start_time": "2025-04-04T07:45:38.877Z"
   },
   {
    "duration": 191,
    "start_time": "2025-04-04T07:45:38.896Z"
   },
   {
    "duration": 110,
    "start_time": "2025-04-04T07:45:39.089Z"
   },
   {
    "duration": 70,
    "start_time": "2025-04-04T07:45:39.201Z"
   },
   {
    "duration": 84,
    "start_time": "2025-04-04T07:45:39.272Z"
   },
   {
    "duration": 47,
    "start_time": "2025-04-04T07:45:39.358Z"
   },
   {
    "duration": 621,
    "start_time": "2025-04-04T07:45:39.407Z"
   },
   {
    "duration": 8,
    "start_time": "2025-04-04T07:45:40.030Z"
   },
   {
    "duration": 257,
    "start_time": "2025-04-04T07:45:40.039Z"
   },
   {
    "duration": 19,
    "start_time": "2025-04-04T07:45:40.298Z"
   },
   {
    "duration": 44,
    "start_time": "2025-04-04T07:45:40.319Z"
   },
   {
    "duration": 94,
    "start_time": "2025-04-04T07:45:40.365Z"
   },
   {
    "duration": 185,
    "start_time": "2025-04-04T07:45:40.461Z"
   },
   {
    "duration": 137,
    "start_time": "2025-04-04T07:46:10.116Z"
   },
   {
    "duration": 63,
    "start_time": "2025-04-04T10:35:03.956Z"
   },
   {
    "duration": 4764,
    "start_time": "2025-04-04T10:35:10.913Z"
   },
   {
    "duration": 1852,
    "start_time": "2025-04-04T10:35:15.680Z"
   },
   {
    "duration": 18,
    "start_time": "2025-04-04T10:35:17.535Z"
   },
   {
    "duration": 47,
    "start_time": "2025-04-04T10:35:17.555Z"
   },
   {
    "duration": 14,
    "start_time": "2025-04-04T10:35:17.604Z"
   },
   {
    "duration": 50,
    "start_time": "2025-04-04T10:35:17.620Z"
   },
   {
    "duration": 97,
    "start_time": "2025-04-04T10:35:17.672Z"
   },
   {
    "duration": 5,
    "start_time": "2025-04-04T10:35:17.771Z"
   },
   {
    "duration": 235,
    "start_time": "2025-04-04T10:35:17.777Z"
   },
   {
    "duration": 7,
    "start_time": "2025-04-04T10:35:18.015Z"
   },
   {
    "duration": 25,
    "start_time": "2025-04-04T10:35:18.024Z"
   },
   {
    "duration": 29,
    "start_time": "2025-04-04T10:35:18.051Z"
   },
   {
    "duration": 9,
    "start_time": "2025-04-04T10:35:18.104Z"
   },
   {
    "duration": 43,
    "start_time": "2025-04-04T10:35:18.115Z"
   },
   {
    "duration": 8,
    "start_time": "2025-04-04T10:35:18.159Z"
   },
   {
    "duration": 47,
    "start_time": "2025-04-04T10:35:18.169Z"
   },
   {
    "duration": 10,
    "start_time": "2025-04-04T10:35:18.218Z"
   },
   {
    "duration": 43,
    "start_time": "2025-04-04T10:35:18.229Z"
   },
   {
    "duration": 3,
    "start_time": "2025-04-04T10:35:18.273Z"
   },
   {
    "duration": 26,
    "start_time": "2025-04-04T10:35:18.278Z"
   },
   {
    "duration": 6,
    "start_time": "2025-04-04T10:35:18.306Z"
   },
   {
    "duration": 17,
    "start_time": "2025-04-04T10:35:18.313Z"
   },
   {
    "duration": 192,
    "start_time": "2025-04-04T10:35:18.332Z"
   },
   {
    "duration": 112,
    "start_time": "2025-04-04T10:35:18.526Z"
   },
   {
    "duration": 71,
    "start_time": "2025-04-04T10:35:18.640Z"
   },
   {
    "duration": 76,
    "start_time": "2025-04-04T10:35:18.712Z"
   },
   {
    "duration": 64,
    "start_time": "2025-04-04T10:35:18.789Z"
   },
   {
    "duration": 531,
    "start_time": "2025-04-04T10:35:18.856Z"
   },
   {
    "duration": 3,
    "start_time": "2025-04-04T10:35:19.389Z"
   },
   {
    "duration": 242,
    "start_time": "2025-04-04T10:35:19.394Z"
   },
   {
    "duration": 18,
    "start_time": "2025-04-04T10:35:19.637Z"
   },
   {
    "duration": 18,
    "start_time": "2025-04-04T10:35:19.657Z"
   },
   {
    "duration": 140,
    "start_time": "2025-04-04T10:35:19.677Z"
   },
   {
    "duration": 218,
    "start_time": "2025-04-04T10:35:19.819Z"
   },
   {
    "duration": 122,
    "start_time": "2025-04-04T10:35:20.039Z"
   },
   {
    "duration": 28,
    "start_time": "2025-04-04T10:35:40.977Z"
   },
   {
    "duration": 25,
    "start_time": "2025-04-04T10:35:57.373Z"
   },
   {
    "duration": 154,
    "start_time": "2025-04-04T11:51:54.494Z"
   },
   {
    "duration": 11,
    "start_time": "2025-04-04T12:01:36.641Z"
   },
   {
    "duration": 276,
    "start_time": "2025-04-04T12:24:29.998Z"
   },
   {
    "duration": 5,
    "start_time": "2025-04-04T12:31:06.392Z"
   },
   {
    "duration": 42,
    "start_time": "2025-04-04T12:31:10.058Z"
   },
   {
    "duration": 140,
    "start_time": "2025-04-04T12:42:10.152Z"
   },
   {
    "duration": 133,
    "start_time": "2025-04-04T12:44:38.262Z"
   },
   {
    "duration": 57,
    "start_time": "2025-04-04T12:45:09.656Z"
   },
   {
    "duration": 50,
    "start_time": "2025-04-04T12:45:31.231Z"
   },
   {
    "duration": 328,
    "start_time": "2025-04-04T12:52:12.516Z"
   },
   {
    "duration": 301,
    "start_time": "2025-04-04T12:52:17.790Z"
   },
   {
    "duration": 294,
    "start_time": "2025-04-04T12:53:00.343Z"
   },
   {
    "duration": 170,
    "start_time": "2025-04-04T12:59:43.638Z"
   },
   {
    "duration": 118,
    "start_time": "2025-04-04T13:00:04.360Z"
   },
   {
    "duration": 192,
    "start_time": "2025-04-04T13:03:36.316Z"
   },
   {
    "duration": 180,
    "start_time": "2025-04-04T13:04:45.958Z"
   },
   {
    "duration": 73,
    "start_time": "2025-04-04T13:05:55.212Z"
   },
   {
    "duration": 19,
    "start_time": "2025-04-04T13:12:28.825Z"
   },
   {
    "duration": 249,
    "start_time": "2025-04-04T13:13:30.044Z"
   },
   {
    "duration": 246,
    "start_time": "2025-04-04T13:13:39.217Z"
   },
   {
    "duration": 14,
    "start_time": "2025-04-04T13:16:43.957Z"
   },
   {
    "duration": 19,
    "start_time": "2025-04-04T13:16:53.476Z"
   },
   {
    "duration": 24,
    "start_time": "2025-04-04T13:16:56.624Z"
   },
   {
    "duration": 50,
    "start_time": "2025-04-04T13:17:06.927Z"
   },
   {
    "duration": 279,
    "start_time": "2025-04-04T13:19:29.253Z"
   },
   {
    "duration": 681,
    "start_time": "2025-04-04T13:24:23.875Z"
   },
   {
    "duration": 97,
    "start_time": "2025-04-04T13:24:57.812Z"
   },
   {
    "duration": 243,
    "start_time": "2025-04-04T13:25:18.940Z"
   },
   {
    "duration": 558,
    "start_time": "2025-04-04T13:25:26.873Z"
   },
   {
    "duration": 360,
    "start_time": "2025-04-04T13:26:32.050Z"
   },
   {
    "duration": 661,
    "start_time": "2025-04-04T13:26:37.852Z"
   },
   {
    "duration": 660,
    "start_time": "2025-04-04T13:28:14.277Z"
   },
   {
    "duration": 3878,
    "start_time": "2025-04-04T13:29:47.893Z"
   },
   {
    "duration": 2697,
    "start_time": "2025-04-04T13:29:51.773Z"
   },
   {
    "duration": 18,
    "start_time": "2025-04-04T13:29:54.472Z"
   },
   {
    "duration": 14,
    "start_time": "2025-04-04T13:29:54.492Z"
   },
   {
    "duration": 27,
    "start_time": "2025-04-04T13:29:54.508Z"
   },
   {
    "duration": 45,
    "start_time": "2025-04-04T13:29:54.537Z"
   },
   {
    "duration": 129,
    "start_time": "2025-04-04T13:29:54.583Z"
   },
   {
    "duration": 6,
    "start_time": "2025-04-04T13:29:54.713Z"
   },
   {
    "duration": 266,
    "start_time": "2025-04-04T13:29:54.720Z"
   },
   {
    "duration": 7,
    "start_time": "2025-04-04T13:29:54.988Z"
   },
   {
    "duration": 25,
    "start_time": "2025-04-04T13:29:54.997Z"
   },
   {
    "duration": 34,
    "start_time": "2025-04-04T13:29:55.023Z"
   },
   {
    "duration": 8,
    "start_time": "2025-04-04T13:29:55.059Z"
   },
   {
    "duration": 75,
    "start_time": "2025-04-04T13:29:55.071Z"
   },
   {
    "duration": 7,
    "start_time": "2025-04-04T13:29:55.148Z"
   },
   {
    "duration": 28,
    "start_time": "2025-04-04T13:29:55.157Z"
   },
   {
    "duration": 23,
    "start_time": "2025-04-04T13:29:55.187Z"
   },
   {
    "duration": 82,
    "start_time": "2025-04-04T13:29:55.212Z"
   },
   {
    "duration": 3,
    "start_time": "2025-04-04T13:29:55.296Z"
   },
   {
    "duration": 10,
    "start_time": "2025-04-04T13:29:55.300Z"
   },
   {
    "duration": 7,
    "start_time": "2025-04-04T13:29:55.312Z"
   },
   {
    "duration": 27,
    "start_time": "2025-04-04T13:29:55.320Z"
   },
   {
    "duration": 205,
    "start_time": "2025-04-04T13:29:55.348Z"
   },
   {
    "duration": 116,
    "start_time": "2025-04-04T13:29:55.555Z"
   },
   {
    "duration": 65,
    "start_time": "2025-04-04T13:29:55.672Z"
   },
   {
    "duration": 115,
    "start_time": "2025-04-04T13:29:55.739Z"
   },
   {
    "duration": 57,
    "start_time": "2025-04-04T13:29:55.856Z"
   },
   {
    "duration": 565,
    "start_time": "2025-04-04T13:29:55.914Z"
   },
   {
    "duration": 4,
    "start_time": "2025-04-04T13:29:56.480Z"
   },
   {
    "duration": 284,
    "start_time": "2025-04-04T13:29:56.486Z"
   },
   {
    "duration": 16,
    "start_time": "2025-04-04T13:29:56.772Z"
   },
   {
    "duration": 37,
    "start_time": "2025-04-04T13:29:56.789Z"
   },
   {
    "duration": 102,
    "start_time": "2025-04-04T13:29:56.827Z"
   },
   {
    "duration": 229,
    "start_time": "2025-04-04T13:29:56.931Z"
   },
   {
    "duration": 157,
    "start_time": "2025-04-04T13:29:57.170Z"
   },
   {
    "duration": 261,
    "start_time": "2025-04-04T13:29:57.329Z"
   },
   {
    "duration": 0,
    "start_time": "2025-04-04T13:29:57.605Z"
   },
   {
    "duration": 0,
    "start_time": "2025-04-04T13:29:57.607Z"
   },
   {
    "duration": 0,
    "start_time": "2025-04-04T13:29:57.609Z"
   },
   {
    "duration": 0,
    "start_time": "2025-04-04T13:29:57.612Z"
   },
   {
    "duration": 0,
    "start_time": "2025-04-04T13:29:57.613Z"
   },
   {
    "duration": 0,
    "start_time": "2025-04-04T13:29:57.615Z"
   },
   {
    "duration": 0,
    "start_time": "2025-04-04T13:29:57.617Z"
   },
   {
    "duration": 0,
    "start_time": "2025-04-04T13:29:57.619Z"
   },
   {
    "duration": 0,
    "start_time": "2025-04-04T13:29:57.621Z"
   },
   {
    "duration": 141,
    "start_time": "2025-04-04T13:30:42.808Z"
   },
   {
    "duration": 6,
    "start_time": "2025-04-04T13:30:47.292Z"
   },
   {
    "duration": 41,
    "start_time": "2025-04-04T13:30:47.759Z"
   },
   {
    "duration": 119,
    "start_time": "2025-04-04T13:30:49.430Z"
   },
   {
    "duration": 28,
    "start_time": "2025-04-04T13:30:50.725Z"
   },
   {
    "duration": 3934,
    "start_time": "2025-04-04T13:30:59.493Z"
   },
   {
    "duration": 2490,
    "start_time": "2025-04-04T13:31:03.429Z"
   },
   {
    "duration": 17,
    "start_time": "2025-04-04T13:31:05.921Z"
   },
   {
    "duration": 18,
    "start_time": "2025-04-04T13:31:05.940Z"
   },
   {
    "duration": 34,
    "start_time": "2025-04-04T13:31:05.959Z"
   },
   {
    "duration": 70,
    "start_time": "2025-04-04T13:31:05.995Z"
   },
   {
    "duration": 121,
    "start_time": "2025-04-04T13:31:06.067Z"
   },
   {
    "duration": 6,
    "start_time": "2025-04-04T13:31:06.189Z"
   },
   {
    "duration": 283,
    "start_time": "2025-04-04T13:31:06.197Z"
   },
   {
    "duration": 7,
    "start_time": "2025-04-04T13:31:06.482Z"
   },
   {
    "duration": 53,
    "start_time": "2025-04-04T13:31:06.491Z"
   },
   {
    "duration": 49,
    "start_time": "2025-04-04T13:31:06.545Z"
   },
   {
    "duration": 9,
    "start_time": "2025-04-04T13:31:06.595Z"
   },
   {
    "duration": 80,
    "start_time": "2025-04-04T13:31:06.606Z"
   },
   {
    "duration": 8,
    "start_time": "2025-04-04T13:31:06.687Z"
   },
   {
    "duration": 54,
    "start_time": "2025-04-04T13:31:06.696Z"
   },
   {
    "duration": 19,
    "start_time": "2025-04-04T13:31:06.751Z"
   },
   {
    "duration": 76,
    "start_time": "2025-04-04T13:31:06.772Z"
   },
   {
    "duration": 3,
    "start_time": "2025-04-04T13:31:06.849Z"
   },
   {
    "duration": 13,
    "start_time": "2025-04-04T13:31:06.854Z"
   },
   {
    "duration": 28,
    "start_time": "2025-04-04T13:31:06.868Z"
   },
   {
    "duration": 25,
    "start_time": "2025-04-04T13:31:06.898Z"
   },
   {
    "duration": 216,
    "start_time": "2025-04-04T13:31:06.924Z"
   },
   {
    "duration": 122,
    "start_time": "2025-04-04T13:31:07.142Z"
   },
   {
    "duration": 70,
    "start_time": "2025-04-04T13:31:07.265Z"
   },
   {
    "duration": 112,
    "start_time": "2025-04-04T13:31:07.337Z"
   },
   {
    "duration": 52,
    "start_time": "2025-04-04T13:31:07.451Z"
   },
   {
    "duration": 581,
    "start_time": "2025-04-04T13:31:07.507Z"
   },
   {
    "duration": 4,
    "start_time": "2025-04-04T13:31:08.090Z"
   },
   {
    "duration": 261,
    "start_time": "2025-04-04T13:31:08.104Z"
   },
   {
    "duration": 19,
    "start_time": "2025-04-04T13:31:08.367Z"
   },
   {
    "duration": 102,
    "start_time": "2025-04-04T13:31:08.387Z"
   },
   {
    "duration": 96,
    "start_time": "2025-04-04T13:31:08.491Z"
   },
   {
    "duration": 217,
    "start_time": "2025-04-04T13:31:08.588Z"
   },
   {
    "duration": 117,
    "start_time": "2025-04-04T13:31:08.807Z"
   },
   {
    "duration": 96,
    "start_time": "2025-04-04T13:31:08.926Z"
   },
   {
    "duration": 13,
    "start_time": "2025-04-04T13:31:09.024Z"
   },
   {
    "duration": 59,
    "start_time": "2025-04-04T13:31:09.039Z"
   },
   {
    "duration": 81,
    "start_time": "2025-04-04T13:31:09.099Z"
   },
   {
    "duration": 21,
    "start_time": "2025-04-04T13:31:09.181Z"
   },
   {
    "duration": 42,
    "start_time": "2025-04-04T13:31:09.204Z"
   },
   {
    "duration": 173,
    "start_time": "2025-04-04T13:31:09.247Z"
   },
   {
    "duration": 61,
    "start_time": "2025-04-04T13:31:09.422Z"
   },
   {
    "duration": 306,
    "start_time": "2025-04-04T13:31:09.485Z"
   },
   {
    "duration": 664,
    "start_time": "2025-04-04T13:31:09.793Z"
   },
   {
    "duration": 5222,
    "start_time": "2025-04-04T18:42:03.191Z"
   },
   {
    "duration": 2295,
    "start_time": "2025-04-04T18:42:08.415Z"
   },
   {
    "duration": 15,
    "start_time": "2025-04-04T18:42:10.711Z"
   },
   {
    "duration": 114,
    "start_time": "2025-04-04T18:42:10.729Z"
   },
   {
    "duration": 59,
    "start_time": "2025-04-04T18:42:10.845Z"
   },
   {
    "duration": 25,
    "start_time": "2025-04-04T18:42:10.906Z"
   },
   {
    "duration": 131,
    "start_time": "2025-04-04T18:42:10.933Z"
   },
   {
    "duration": 12,
    "start_time": "2025-04-04T18:42:11.066Z"
   },
   {
    "duration": 230,
    "start_time": "2025-04-04T18:42:11.080Z"
   },
   {
    "duration": 7,
    "start_time": "2025-04-04T18:42:11.312Z"
   },
   {
    "duration": 22,
    "start_time": "2025-04-04T18:42:11.320Z"
   },
   {
    "duration": 61,
    "start_time": "2025-04-04T18:42:11.343Z"
   },
   {
    "duration": 8,
    "start_time": "2025-04-04T18:42:11.406Z"
   },
   {
    "duration": 42,
    "start_time": "2025-04-04T18:42:11.416Z"
   },
   {
    "duration": 11,
    "start_time": "2025-04-04T18:42:11.475Z"
   },
   {
    "duration": 29,
    "start_time": "2025-04-04T18:42:11.488Z"
   },
   {
    "duration": 11,
    "start_time": "2025-04-04T18:42:11.519Z"
   },
   {
    "duration": 70,
    "start_time": "2025-04-04T18:42:11.531Z"
   },
   {
    "duration": 3,
    "start_time": "2025-04-04T18:42:11.603Z"
   },
   {
    "duration": 9,
    "start_time": "2025-04-04T18:42:11.607Z"
   },
   {
    "duration": 5,
    "start_time": "2025-04-04T18:42:11.617Z"
   },
   {
    "duration": 10,
    "start_time": "2025-04-04T18:42:11.623Z"
   },
   {
    "duration": 228,
    "start_time": "2025-04-04T18:42:11.635Z"
   },
   {
    "duration": 113,
    "start_time": "2025-04-04T18:42:11.864Z"
   },
   {
    "duration": 112,
    "start_time": "2025-04-04T18:42:11.979Z"
   },
   {
    "duration": 69,
    "start_time": "2025-04-04T18:42:12.093Z"
   },
   {
    "duration": 63,
    "start_time": "2025-04-04T18:42:12.164Z"
   },
   {
    "duration": 663,
    "start_time": "2025-04-04T18:42:12.230Z"
   },
   {
    "duration": 5,
    "start_time": "2025-04-04T18:42:12.895Z"
   },
   {
    "duration": 267,
    "start_time": "2025-04-04T18:42:12.902Z"
   },
   {
    "duration": 26,
    "start_time": "2025-04-04T18:42:13.171Z"
   },
   {
    "duration": 112,
    "start_time": "2025-04-04T18:42:13.199Z"
   },
   {
    "duration": 97,
    "start_time": "2025-04-04T18:42:13.312Z"
   },
   {
    "duration": 190,
    "start_time": "2025-04-04T18:42:13.411Z"
   },
   {
    "duration": 127,
    "start_time": "2025-04-04T18:42:13.603Z"
   },
   {
    "duration": 96,
    "start_time": "2025-04-04T18:42:13.732Z"
   },
   {
    "duration": 3,
    "start_time": "2025-04-04T18:42:13.830Z"
   },
   {
    "duration": 52,
    "start_time": "2025-04-04T18:42:13.834Z"
   },
   {
    "duration": 35,
    "start_time": "2025-04-04T18:42:13.888Z"
   },
   {
    "duration": 29,
    "start_time": "2025-04-04T18:42:13.925Z"
   },
   {
    "duration": 45,
    "start_time": "2025-04-04T18:42:13.956Z"
   },
   {
    "duration": 150,
    "start_time": "2025-04-04T18:42:14.003Z"
   },
   {
    "duration": 63,
    "start_time": "2025-04-04T18:42:14.155Z"
   },
   {
    "duration": 246,
    "start_time": "2025-04-04T18:42:14.219Z"
   },
   {
    "duration": 559,
    "start_time": "2025-04-04T18:42:14.467Z"
   },
   {
    "duration": 9,
    "start_time": "2025-04-04T18:47:37.337Z"
   },
   {
    "duration": 12,
    "start_time": "2025-04-04T18:48:00.616Z"
   },
   {
    "duration": 12,
    "start_time": "2025-04-04T18:48:36.447Z"
   },
   {
    "duration": 12,
    "start_time": "2025-04-04T18:48:56.935Z"
   },
   {
    "duration": 12,
    "start_time": "2025-04-04T18:48:59.032Z"
   },
   {
    "duration": 14,
    "start_time": "2025-04-04T18:50:33.359Z"
   },
   {
    "duration": 1368,
    "start_time": "2025-04-04T19:26:53.889Z"
   },
   {
    "duration": 1932,
    "start_time": "2025-04-04T19:30:20.334Z"
   },
   {
    "duration": 108,
    "start_time": "2025-04-04T19:32:14.576Z"
   },
   {
    "duration": 8,
    "start_time": "2025-04-04T19:32:53.848Z"
   },
   {
    "duration": 5989,
    "start_time": "2025-04-04T19:33:54.967Z"
   },
   {
    "duration": 1478,
    "start_time": "2025-04-04T19:35:40.778Z"
   },
   {
    "duration": 2678,
    "start_time": "2025-04-04T20:12:36.718Z"
   },
   {
    "duration": 1788,
    "start_time": "2025-04-04T20:13:54.425Z"
   },
   {
    "duration": 2648,
    "start_time": "2025-04-04T20:17:13.045Z"
   },
   {
    "duration": 17,
    "start_time": "2025-04-04T20:31:44.966Z"
   },
   {
    "duration": 1230,
    "start_time": "2025-04-04T20:32:14.249Z"
   },
   {
    "duration": 2598,
    "start_time": "2025-04-04T20:32:15.480Z"
   },
   {
    "duration": 12,
    "start_time": "2025-04-04T20:32:18.079Z"
   },
   {
    "duration": 11,
    "start_time": "2025-04-04T20:32:18.093Z"
   },
   {
    "duration": 14,
    "start_time": "2025-04-04T20:32:18.105Z"
   },
   {
    "duration": 32,
    "start_time": "2025-04-04T20:32:18.120Z"
   },
   {
    "duration": 104,
    "start_time": "2025-04-04T20:32:18.153Z"
   },
   {
    "duration": 5,
    "start_time": "2025-04-04T20:32:18.259Z"
   },
   {
    "duration": 237,
    "start_time": "2025-04-04T20:32:18.266Z"
   },
   {
    "duration": 7,
    "start_time": "2025-04-04T20:32:18.506Z"
   },
   {
    "duration": 36,
    "start_time": "2025-04-04T20:32:18.514Z"
   },
   {
    "duration": 28,
    "start_time": "2025-04-04T20:32:18.552Z"
   },
   {
    "duration": 8,
    "start_time": "2025-04-04T20:32:18.581Z"
   },
   {
    "duration": 66,
    "start_time": "2025-04-04T20:32:18.590Z"
   },
   {
    "duration": 7,
    "start_time": "2025-04-04T20:32:18.658Z"
   },
   {
    "duration": 27,
    "start_time": "2025-04-04T20:32:18.666Z"
   },
   {
    "duration": 10,
    "start_time": "2025-04-04T20:32:18.694Z"
   },
   {
    "duration": 63,
    "start_time": "2025-04-04T20:32:18.705Z"
   },
   {
    "duration": 3,
    "start_time": "2025-04-04T20:32:18.770Z"
   },
   {
    "duration": 20,
    "start_time": "2025-04-04T20:32:18.774Z"
   },
   {
    "duration": 6,
    "start_time": "2025-04-04T20:32:18.795Z"
   },
   {
    "duration": 10,
    "start_time": "2025-04-04T20:32:18.802Z"
   },
   {
    "duration": 196,
    "start_time": "2025-04-04T20:32:18.814Z"
   },
   {
    "duration": 108,
    "start_time": "2025-04-04T20:32:19.011Z"
   },
   {
    "duration": 69,
    "start_time": "2025-04-04T20:32:19.121Z"
   },
   {
    "duration": 76,
    "start_time": "2025-04-04T20:32:19.192Z"
   },
   {
    "duration": 43,
    "start_time": "2025-04-04T20:32:19.269Z"
   },
   {
    "duration": 508,
    "start_time": "2025-04-04T20:32:19.315Z"
   },
   {
    "duration": 4,
    "start_time": "2025-04-04T20:32:19.825Z"
   },
   {
    "duration": 250,
    "start_time": "2025-04-04T20:32:19.835Z"
   },
   {
    "duration": 16,
    "start_time": "2025-04-04T20:32:20.087Z"
   },
   {
    "duration": 90,
    "start_time": "2025-04-04T20:32:20.104Z"
   },
   {
    "duration": 90,
    "start_time": "2025-04-04T20:32:20.196Z"
   },
   {
    "duration": 181,
    "start_time": "2025-04-04T20:32:20.287Z"
   },
   {
    "duration": 123,
    "start_time": "2025-04-04T20:32:20.470Z"
   },
   {
    "duration": 106,
    "start_time": "2025-04-04T20:32:20.595Z"
   },
   {
    "duration": 2,
    "start_time": "2025-04-04T20:32:20.702Z"
   },
   {
    "duration": 53,
    "start_time": "2025-04-04T20:32:20.706Z"
   },
   {
    "duration": 2559,
    "start_time": "2025-04-04T20:32:20.761Z"
   },
   {
    "duration": 1676,
    "start_time": "2025-04-04T20:32:23.322Z"
   },
   {
    "duration": 2594,
    "start_time": "2025-04-04T20:32:25.001Z"
   },
   {
    "duration": 31,
    "start_time": "2025-04-04T20:32:27.597Z"
   },
   {
    "duration": 33,
    "start_time": "2025-04-04T20:32:27.630Z"
   },
   {
    "duration": 20,
    "start_time": "2025-04-04T20:32:27.664Z"
   },
   {
    "duration": 173,
    "start_time": "2025-04-04T20:32:27.685Z"
   },
   {
    "duration": 321,
    "start_time": "2025-04-04T20:35:03.208Z"
   },
   {
    "duration": 272,
    "start_time": "2025-04-04T20:35:43.040Z"
   },
   {
    "duration": 3,
    "start_time": "2025-04-04T20:49:07.894Z"
   },
   {
    "duration": 4,
    "start_time": "2025-04-04T20:49:09.957Z"
   },
   {
    "duration": 3,
    "start_time": "2025-04-04T20:49:10.729Z"
   },
   {
    "duration": 9,
    "start_time": "2025-04-04T20:49:11.507Z"
   },
   {
    "duration": 4,
    "start_time": "2025-04-04T20:49:48.102Z"
   },
   {
    "duration": 2,
    "start_time": "2025-04-04T20:49:48.915Z"
   },
   {
    "duration": 7,
    "start_time": "2025-04-04T20:49:49.508Z"
   },
   {
    "duration": 1112,
    "start_time": "2025-04-04T20:50:05.446Z"
   },
   {
    "duration": 2219,
    "start_time": "2025-04-04T20:50:06.560Z"
   },
   {
    "duration": 11,
    "start_time": "2025-04-04T20:50:08.780Z"
   },
   {
    "duration": 49,
    "start_time": "2025-04-04T20:50:08.793Z"
   },
   {
    "duration": 14,
    "start_time": "2025-04-04T20:50:08.843Z"
   },
   {
    "duration": 23,
    "start_time": "2025-04-04T20:50:08.858Z"
   },
   {
    "duration": 109,
    "start_time": "2025-04-04T20:50:08.882Z"
   },
   {
    "duration": 5,
    "start_time": "2025-04-04T20:50:08.992Z"
   },
   {
    "duration": 266,
    "start_time": "2025-04-04T20:50:08.999Z"
   },
   {
    "duration": 7,
    "start_time": "2025-04-04T20:50:09.268Z"
   },
   {
    "duration": 17,
    "start_time": "2025-04-04T20:50:09.277Z"
   },
   {
    "duration": 46,
    "start_time": "2025-04-04T20:50:09.295Z"
   },
   {
    "duration": 7,
    "start_time": "2025-04-04T20:50:09.343Z"
   },
   {
    "duration": 35,
    "start_time": "2025-04-04T20:50:09.352Z"
   },
   {
    "duration": 6,
    "start_time": "2025-04-04T20:50:09.389Z"
   },
   {
    "duration": 44,
    "start_time": "2025-04-04T20:50:09.397Z"
   },
   {
    "duration": 10,
    "start_time": "2025-04-04T20:50:09.442Z"
   },
   {
    "duration": 45,
    "start_time": "2025-04-04T20:50:09.453Z"
   },
   {
    "duration": 2,
    "start_time": "2025-04-04T20:50:09.500Z"
   },
   {
    "duration": 15,
    "start_time": "2025-04-04T20:50:09.504Z"
   },
   {
    "duration": 16,
    "start_time": "2025-04-04T20:50:09.521Z"
   },
   {
    "duration": 11,
    "start_time": "2025-04-04T20:50:09.538Z"
   },
   {
    "duration": 162,
    "start_time": "2025-04-04T20:50:09.550Z"
   },
   {
    "duration": 95,
    "start_time": "2025-04-04T20:50:09.713Z"
   },
   {
    "duration": 64,
    "start_time": "2025-04-04T20:50:09.809Z"
   },
   {
    "duration": 68,
    "start_time": "2025-04-04T20:50:09.874Z"
   },
   {
    "duration": 43,
    "start_time": "2025-04-04T20:50:09.943Z"
   },
   {
    "duration": 493,
    "start_time": "2025-04-04T20:50:09.989Z"
   },
   {
    "duration": 4,
    "start_time": "2025-04-04T20:50:10.484Z"
   },
   {
    "duration": 224,
    "start_time": "2025-04-04T20:50:10.489Z"
   },
   {
    "duration": 22,
    "start_time": "2025-04-04T20:50:10.714Z"
   },
   {
    "duration": 16,
    "start_time": "2025-04-04T20:50:10.737Z"
   },
   {
    "duration": 90,
    "start_time": "2025-04-04T20:50:10.755Z"
   },
   {
    "duration": 167,
    "start_time": "2025-04-04T20:50:10.846Z"
   },
   {
    "duration": 109,
    "start_time": "2025-04-04T20:50:11.014Z"
   },
   {
    "duration": 91,
    "start_time": "2025-04-04T20:50:11.124Z"
   },
   {
    "duration": 3,
    "start_time": "2025-04-04T20:50:11.216Z"
   },
   {
    "duration": 41,
    "start_time": "2025-04-04T20:50:11.220Z"
   },
   {
    "duration": 2276,
    "start_time": "2025-04-04T20:50:11.262Z"
   },
   {
    "duration": 1517,
    "start_time": "2025-04-04T20:50:13.539Z"
   },
   {
    "duration": 2213,
    "start_time": "2025-04-04T20:50:15.058Z"
   },
   {
    "duration": 21,
    "start_time": "2025-04-04T20:50:17.272Z"
   },
   {
    "duration": 21,
    "start_time": "2025-04-04T20:50:17.295Z"
   },
   {
    "duration": 35,
    "start_time": "2025-04-04T20:50:17.317Z"
   },
   {
    "duration": 284,
    "start_time": "2025-04-04T20:50:17.354Z"
   },
   {
    "duration": 12,
    "start_time": "2025-04-04T20:55:25.889Z"
   },
   {
    "duration": 21,
    "start_time": "2025-04-04T20:55:26.410Z"
   },
   {
    "duration": 2,
    "start_time": "2025-04-04T20:55:26.892Z"
   },
   {
    "duration": 1188,
    "start_time": "2025-04-04T20:55:27.503Z"
   },
   {
    "duration": 3,
    "start_time": "2025-04-04T20:55:30.233Z"
   },
   {
    "duration": 10,
    "start_time": "2025-04-04T20:55:36.808Z"
   },
   {
    "duration": 1325,
    "start_time": "2025-04-05T09:23:30.632Z"
   },
   {
    "duration": 2331,
    "start_time": "2025-04-05T09:23:31.959Z"
   },
   {
    "duration": 14,
    "start_time": "2025-04-05T09:23:34.292Z"
   },
   {
    "duration": 34,
    "start_time": "2025-04-05T09:23:34.308Z"
   },
   {
    "duration": 37,
    "start_time": "2025-04-05T09:23:34.344Z"
   },
   {
    "duration": 45,
    "start_time": "2025-04-05T09:23:34.383Z"
   },
   {
    "duration": 116,
    "start_time": "2025-04-05T09:23:34.430Z"
   },
   {
    "duration": 5,
    "start_time": "2025-04-05T09:23:34.548Z"
   },
   {
    "duration": 256,
    "start_time": "2025-04-05T09:23:34.555Z"
   },
   {
    "duration": 7,
    "start_time": "2025-04-05T09:23:34.815Z"
   },
   {
    "duration": 27,
    "start_time": "2025-04-05T09:23:34.836Z"
   },
   {
    "duration": 29,
    "start_time": "2025-04-05T09:23:34.865Z"
   },
   {
    "duration": 14,
    "start_time": "2025-04-05T09:23:34.896Z"
   },
   {
    "duration": 46,
    "start_time": "2025-04-05T09:23:34.912Z"
   },
   {
    "duration": 7,
    "start_time": "2025-04-05T09:23:34.960Z"
   },
   {
    "duration": 22,
    "start_time": "2025-04-05T09:23:34.969Z"
   },
   {
    "duration": 30,
    "start_time": "2025-04-05T09:23:34.993Z"
   },
   {
    "duration": 46,
    "start_time": "2025-04-05T09:23:35.025Z"
   },
   {
    "duration": 3,
    "start_time": "2025-04-05T09:23:35.072Z"
   },
   {
    "duration": 1447,
    "start_time": "2025-04-05T09:23:35.076Z"
   },
   {
    "duration": 0,
    "start_time": "2025-04-05T09:23:36.526Z"
   },
   {
    "duration": 0,
    "start_time": "2025-04-05T09:23:36.528Z"
   },
   {
    "duration": 0,
    "start_time": "2025-04-05T09:23:36.529Z"
   },
   {
    "duration": 0,
    "start_time": "2025-04-05T09:23:36.531Z"
   },
   {
    "duration": 0,
    "start_time": "2025-04-05T09:23:36.532Z"
   },
   {
    "duration": 1,
    "start_time": "2025-04-05T09:23:36.534Z"
   },
   {
    "duration": 0,
    "start_time": "2025-04-05T09:23:36.536Z"
   },
   {
    "duration": 0,
    "start_time": "2025-04-05T09:23:36.538Z"
   },
   {
    "duration": 0,
    "start_time": "2025-04-05T09:23:36.539Z"
   },
   {
    "duration": 0,
    "start_time": "2025-04-05T09:23:36.541Z"
   },
   {
    "duration": 0,
    "start_time": "2025-04-05T09:23:36.542Z"
   },
   {
    "duration": 0,
    "start_time": "2025-04-05T09:23:36.544Z"
   },
   {
    "duration": 0,
    "start_time": "2025-04-05T09:23:36.546Z"
   },
   {
    "duration": 0,
    "start_time": "2025-04-05T09:23:36.547Z"
   },
   {
    "duration": 0,
    "start_time": "2025-04-05T09:23:36.548Z"
   },
   {
    "duration": 0,
    "start_time": "2025-04-05T09:23:36.549Z"
   },
   {
    "duration": 1,
    "start_time": "2025-04-05T09:23:36.550Z"
   },
   {
    "duration": 0,
    "start_time": "2025-04-05T09:23:36.552Z"
   },
   {
    "duration": 0,
    "start_time": "2025-04-05T09:23:36.553Z"
   },
   {
    "duration": 0,
    "start_time": "2025-04-05T09:23:36.555Z"
   },
   {
    "duration": 0,
    "start_time": "2025-04-05T09:23:36.556Z"
   },
   {
    "duration": 0,
    "start_time": "2025-04-05T09:23:36.557Z"
   },
   {
    "duration": 0,
    "start_time": "2025-04-05T09:23:36.558Z"
   },
   {
    "duration": 0,
    "start_time": "2025-04-05T09:23:36.559Z"
   },
   {
    "duration": 0,
    "start_time": "2025-04-05T09:23:36.560Z"
   },
   {
    "duration": 11,
    "start_time": "2025-04-05T09:31:14.843Z"
   },
   {
    "duration": 61,
    "start_time": "2025-04-05T09:31:16.726Z"
   },
   {
    "duration": 19,
    "start_time": "2025-04-05T09:32:35.286Z"
   },
   {
    "duration": 56,
    "start_time": "2025-04-05T09:32:49.664Z"
   },
   {
    "duration": 3,
    "start_time": "2025-04-05T09:33:05.809Z"
   },
   {
    "duration": 4,
    "start_time": "2025-04-05T09:33:16.271Z"
   },
   {
    "duration": 3,
    "start_time": "2025-04-05T09:33:21.391Z"
   },
   {
    "duration": 10,
    "start_time": "2025-04-05T09:33:22.144Z"
   },
   {
    "duration": 3,
    "start_time": "2025-04-05T09:35:04.974Z"
   },
   {
    "duration": 3,
    "start_time": "2025-04-05T09:35:17.688Z"
   },
   {
    "duration": 4,
    "start_time": "2025-04-05T09:35:18.536Z"
   },
   {
    "duration": 9,
    "start_time": "2025-04-05T09:35:19.250Z"
   },
   {
    "duration": 173,
    "start_time": "2025-04-05T09:36:15.482Z"
   },
   {
    "duration": 166,
    "start_time": "2025-04-05T09:40:18.695Z"
   },
   {
    "duration": 10,
    "start_time": "2025-04-05T10:18:48.818Z"
   },
   {
    "duration": 20,
    "start_time": "2025-04-05T10:18:49.438Z"
   },
   {
    "duration": 3,
    "start_time": "2025-04-05T10:18:51.228Z"
   },
   {
    "duration": 4,
    "start_time": "2025-04-05T10:20:05.602Z"
   },
   {
    "duration": 2,
    "start_time": "2025-04-05T10:20:07.295Z"
   },
   {
    "duration": 14,
    "start_time": "2025-04-05T10:20:08.713Z"
   },
   {
    "duration": 10,
    "start_time": "2025-04-05T10:20:16.993Z"
   },
   {
    "duration": 21,
    "start_time": "2025-04-05T10:20:17.566Z"
   },
   {
    "duration": 3,
    "start_time": "2025-04-05T10:20:18.055Z"
   },
   {
    "duration": 4,
    "start_time": "2025-04-05T10:20:18.635Z"
   },
   {
    "duration": 4,
    "start_time": "2025-04-05T10:20:19.096Z"
   },
   {
    "duration": 4,
    "start_time": "2025-04-05T10:20:19.537Z"
   },
   {
    "duration": 3,
    "start_time": "2025-04-05T10:20:20.930Z"
   },
   {
    "duration": 11,
    "start_time": "2025-04-05T10:20:21.602Z"
   },
   {
    "duration": 218,
    "start_time": "2025-04-05T10:27:54.554Z"
   },
   {
    "duration": 316,
    "start_time": "2025-04-05T10:29:12.707Z"
   },
   {
    "duration": 332,
    "start_time": "2025-04-05T10:30:59.020Z"
   },
   {
    "duration": 306,
    "start_time": "2025-04-05T10:32:19.718Z"
   },
   {
    "duration": 373,
    "start_time": "2025-04-05T10:32:52.677Z"
   },
   {
    "duration": 162,
    "start_time": "2025-04-05T10:34:18.774Z"
   },
   {
    "duration": 338,
    "start_time": "2025-04-05T10:35:04.009Z"
   },
   {
    "duration": 283,
    "start_time": "2025-04-05T10:35:41.352Z"
   },
   {
    "duration": 305,
    "start_time": "2025-04-05T10:36:15.346Z"
   },
   {
    "duration": 248,
    "start_time": "2025-04-05T10:37:52.768Z"
   },
   {
    "duration": 649,
    "start_time": "2025-04-05T10:39:14.509Z"
   },
   {
    "duration": 277,
    "start_time": "2025-04-05T10:39:35.114Z"
   },
   {
    "duration": 309,
    "start_time": "2025-04-05T10:40:17.529Z"
   },
   {
    "duration": 318,
    "start_time": "2025-04-05T10:40:36.931Z"
   },
   {
    "duration": 302,
    "start_time": "2025-04-05T10:40:50.075Z"
   },
   {
    "duration": 337,
    "start_time": "2025-04-05T10:41:23.998Z"
   },
   {
    "duration": 1143,
    "start_time": "2025-04-05T11:07:26.703Z"
   },
   {
    "duration": 2189,
    "start_time": "2025-04-05T11:07:27.848Z"
   },
   {
    "duration": 12,
    "start_time": "2025-04-05T11:07:30.039Z"
   },
   {
    "duration": 23,
    "start_time": "2025-04-05T11:07:30.052Z"
   },
   {
    "duration": 34,
    "start_time": "2025-04-05T11:07:30.077Z"
   },
   {
    "duration": 45,
    "start_time": "2025-04-05T11:07:30.113Z"
   },
   {
    "duration": 104,
    "start_time": "2025-04-05T11:07:30.160Z"
   },
   {
    "duration": 5,
    "start_time": "2025-04-05T11:07:30.267Z"
   },
   {
    "duration": 249,
    "start_time": "2025-04-05T11:07:30.274Z"
   },
   {
    "duration": 12,
    "start_time": "2025-04-05T11:07:30.525Z"
   },
   {
    "duration": 31,
    "start_time": "2025-04-05T11:07:30.538Z"
   },
   {
    "duration": 56,
    "start_time": "2025-04-05T11:07:30.570Z"
   },
   {
    "duration": 15,
    "start_time": "2025-04-05T11:07:30.627Z"
   },
   {
    "duration": 44,
    "start_time": "2025-04-05T11:07:30.644Z"
   },
   {
    "duration": 7,
    "start_time": "2025-04-05T11:07:30.690Z"
   },
   {
    "duration": 26,
    "start_time": "2025-04-05T11:07:30.698Z"
   },
   {
    "duration": 19,
    "start_time": "2025-04-05T11:07:30.725Z"
   },
   {
    "duration": 48,
    "start_time": "2025-04-05T11:07:30.745Z"
   },
   {
    "duration": 3,
    "start_time": "2025-04-05T11:07:30.794Z"
   },
   {
    "duration": 5,
    "start_time": "2025-04-05T11:07:30.799Z"
   },
   {
    "duration": 5,
    "start_time": "2025-04-05T11:07:30.806Z"
   },
   {
    "duration": 51,
    "start_time": "2025-04-05T11:07:30.813Z"
   },
   {
    "duration": 76,
    "start_time": "2025-04-05T11:07:30.865Z"
   },
   {
    "duration": 13,
    "start_time": "2025-04-05T11:07:30.943Z"
   },
   {
    "duration": 183,
    "start_time": "2025-04-05T11:07:30.958Z"
   },
   {
    "duration": 317,
    "start_time": "2025-04-05T11:07:31.143Z"
   },
   {
    "duration": 92,
    "start_time": "2025-04-05T11:07:31.461Z"
   },
   {
    "duration": 59,
    "start_time": "2025-04-05T11:07:31.557Z"
   },
   {
    "duration": 81,
    "start_time": "2025-04-05T11:07:31.617Z"
   },
   {
    "duration": 54,
    "start_time": "2025-04-05T11:07:31.700Z"
   },
   {
    "duration": 541,
    "start_time": "2025-04-05T11:07:31.756Z"
   },
   {
    "duration": 4,
    "start_time": "2025-04-05T11:07:32.298Z"
   },
   {
    "duration": 245,
    "start_time": "2025-04-05T11:07:32.304Z"
   },
   {
    "duration": 17,
    "start_time": "2025-04-05T11:07:32.551Z"
   },
   {
    "duration": 18,
    "start_time": "2025-04-05T11:07:32.570Z"
   },
   {
    "duration": 105,
    "start_time": "2025-04-05T11:07:32.590Z"
   },
   {
    "duration": 184,
    "start_time": "2025-04-05T11:07:32.696Z"
   },
   {
    "duration": 115,
    "start_time": "2025-04-05T11:07:32.882Z"
   },
   {
    "duration": 87,
    "start_time": "2025-04-05T11:07:32.999Z"
   },
   {
    "duration": 3,
    "start_time": "2025-04-05T11:07:33.087Z"
   },
   {
    "duration": 52,
    "start_time": "2025-04-05T11:07:33.091Z"
   },
   {
    "duration": 3315,
    "start_time": "2025-04-05T11:07:33.145Z"
   },
   {
    "duration": 1600,
    "start_time": "2025-04-05T11:07:36.462Z"
   },
   {
    "duration": 2359,
    "start_time": "2025-04-05T11:07:38.064Z"
   },
   {
    "duration": 36,
    "start_time": "2025-04-05T11:07:40.425Z"
   },
   {
    "duration": 31,
    "start_time": "2025-04-05T11:07:40.463Z"
   },
   {
    "duration": 37,
    "start_time": "2025-04-05T11:07:40.496Z"
   },
   {
    "duration": 318,
    "start_time": "2025-04-05T11:07:40.535Z"
   },
   {
    "duration": 61,
    "start_time": "2025-04-05T11:12:15.492Z"
   },
   {
    "duration": 298,
    "start_time": "2025-04-05T11:12:54.562Z"
   },
   {
    "duration": 311,
    "start_time": "2025-04-05T11:13:17.090Z"
   },
   {
    "duration": 236,
    "start_time": "2025-04-05T11:13:55.090Z"
   },
   {
    "duration": 464,
    "start_time": "2025-04-05T11:14:28.438Z"
   },
   {
    "duration": 799,
    "start_time": "2025-04-05T11:15:21.717Z"
   },
   {
    "duration": 720,
    "start_time": "2025-04-05T11:15:33.584Z"
   },
   {
    "duration": 715,
    "start_time": "2025-04-05T11:15:52.063Z"
   },
   {
    "duration": 712,
    "start_time": "2025-04-05T11:16:00.986Z"
   },
   {
    "duration": 721,
    "start_time": "2025-04-05T11:16:11.430Z"
   },
   {
    "duration": 829,
    "start_time": "2025-04-05T11:16:24.827Z"
   },
   {
    "duration": 5,
    "start_time": "2025-04-05T11:25:18.917Z"
   },
   {
    "duration": 198,
    "start_time": "2025-04-05T11:34:16.344Z"
   },
   {
    "duration": 147,
    "start_time": "2025-04-05T11:34:38.670Z"
   },
   {
    "duration": 177,
    "start_time": "2025-04-05T11:38:17.463Z"
   },
   {
    "duration": 184,
    "start_time": "2025-04-05T11:38:44.147Z"
   },
   {
    "duration": 1179,
    "start_time": "2025-04-05T11:44:00.727Z"
   },
   {
    "duration": 3469,
    "start_time": "2025-04-05T11:44:01.908Z"
   },
   {
    "duration": 13,
    "start_time": "2025-04-05T11:44:05.379Z"
   },
   {
    "duration": 91,
    "start_time": "2025-04-05T11:44:05.394Z"
   },
   {
    "duration": 48,
    "start_time": "2025-04-05T11:44:05.487Z"
   },
   {
    "duration": 25,
    "start_time": "2025-04-05T11:44:05.537Z"
   },
   {
    "duration": 105,
    "start_time": "2025-04-05T11:44:05.564Z"
   },
   {
    "duration": 5,
    "start_time": "2025-04-05T11:44:05.671Z"
   },
   {
    "duration": 226,
    "start_time": "2025-04-05T11:44:05.678Z"
   },
   {
    "duration": 8,
    "start_time": "2025-04-05T11:44:05.908Z"
   },
   {
    "duration": 40,
    "start_time": "2025-04-05T11:44:05.917Z"
   },
   {
    "duration": 31,
    "start_time": "2025-04-05T11:44:05.958Z"
   },
   {
    "duration": 84,
    "start_time": "2025-04-05T11:44:05.991Z"
   },
   {
    "duration": 61,
    "start_time": "2025-04-05T11:44:06.077Z"
   },
   {
    "duration": 14,
    "start_time": "2025-04-05T11:44:06.139Z"
   },
   {
    "duration": 104,
    "start_time": "2025-04-05T11:44:06.155Z"
   },
   {
    "duration": 11,
    "start_time": "2025-04-05T11:44:06.261Z"
   },
   {
    "duration": 51,
    "start_time": "2025-04-05T11:44:06.273Z"
   },
   {
    "duration": 3,
    "start_time": "2025-04-05T11:44:06.326Z"
   },
   {
    "duration": 11,
    "start_time": "2025-04-05T11:44:06.335Z"
   },
   {
    "duration": 6,
    "start_time": "2025-04-05T11:44:06.347Z"
   },
   {
    "duration": 7,
    "start_time": "2025-04-05T11:44:06.354Z"
   },
   {
    "duration": 9,
    "start_time": "2025-04-05T11:44:06.363Z"
   },
   {
    "duration": 40,
    "start_time": "2025-04-05T11:44:06.373Z"
   },
   {
    "duration": 226,
    "start_time": "2025-04-05T11:44:06.414Z"
   },
   {
    "duration": 339,
    "start_time": "2025-04-05T11:44:06.641Z"
   },
   {
    "duration": 98,
    "start_time": "2025-04-05T11:44:06.982Z"
   },
   {
    "duration": 66,
    "start_time": "2025-04-05T11:44:07.083Z"
   },
   {
    "duration": 211,
    "start_time": "2025-04-05T11:44:07.150Z"
   },
   {
    "duration": 31,
    "start_time": "2025-04-05T11:44:07.362Z"
   },
   {
    "duration": 108,
    "start_time": "2025-04-05T11:44:07.395Z"
   },
   {
    "duration": 490,
    "start_time": "2025-04-05T11:44:07.505Z"
   },
   {
    "duration": 3,
    "start_time": "2025-04-05T11:44:07.997Z"
   },
   {
    "duration": 292,
    "start_time": "2025-04-05T11:44:08.002Z"
   },
   {
    "duration": 16,
    "start_time": "2025-04-05T11:44:08.296Z"
   },
   {
    "duration": 41,
    "start_time": "2025-04-05T11:44:08.314Z"
   },
   {
    "duration": 92,
    "start_time": "2025-04-05T11:44:08.357Z"
   },
   {
    "duration": 155,
    "start_time": "2025-04-05T11:44:08.451Z"
   },
   {
    "duration": 86,
    "start_time": "2025-04-05T11:44:08.608Z"
   },
   {
    "duration": 99,
    "start_time": "2025-04-05T11:44:08.696Z"
   },
   {
    "duration": 3,
    "start_time": "2025-04-05T11:44:08.797Z"
   },
   {
    "duration": 49,
    "start_time": "2025-04-05T11:44:08.802Z"
   },
   {
    "duration": 2495,
    "start_time": "2025-04-05T11:44:08.854Z"
   },
   {
    "duration": 1651,
    "start_time": "2025-04-05T11:44:11.351Z"
   },
   {
    "duration": 2425,
    "start_time": "2025-04-05T11:44:13.004Z"
   },
   {
    "duration": 35,
    "start_time": "2025-04-05T11:44:15.431Z"
   },
   {
    "duration": 26,
    "start_time": "2025-04-05T11:44:15.468Z"
   },
   {
    "duration": 20,
    "start_time": "2025-04-05T11:44:15.496Z"
   },
   {
    "duration": 320,
    "start_time": "2025-04-05T11:44:15.536Z"
   },
   {
    "duration": 27,
    "start_time": "2025-04-05T11:50:09.591Z"
   },
   {
    "duration": 165,
    "start_time": "2025-04-05T11:51:00.092Z"
   },
   {
    "duration": 132,
    "start_time": "2025-04-05T11:51:28.774Z"
   },
   {
    "duration": 1110,
    "start_time": "2025-04-05T11:51:38.932Z"
   },
   {
    "duration": 1968,
    "start_time": "2025-04-05T11:51:40.044Z"
   },
   {
    "duration": 13,
    "start_time": "2025-04-05T11:51:42.014Z"
   },
   {
    "duration": 12,
    "start_time": "2025-04-05T11:51:42.028Z"
   },
   {
    "duration": 15,
    "start_time": "2025-04-05T11:51:42.042Z"
   },
   {
    "duration": 23,
    "start_time": "2025-04-05T11:51:42.059Z"
   },
   {
    "duration": 117,
    "start_time": "2025-04-05T11:51:42.084Z"
   },
   {
    "duration": 5,
    "start_time": "2025-04-05T11:51:42.203Z"
   },
   {
    "duration": 232,
    "start_time": "2025-04-05T11:51:42.210Z"
   },
   {
    "duration": 8,
    "start_time": "2025-04-05T11:51:42.443Z"
   },
   {
    "duration": 22,
    "start_time": "2025-04-05T11:51:42.452Z"
   },
   {
    "duration": 29,
    "start_time": "2025-04-05T11:51:42.475Z"
   },
   {
    "duration": 33,
    "start_time": "2025-04-05T11:51:42.505Z"
   },
   {
    "duration": 38,
    "start_time": "2025-04-05T11:51:42.542Z"
   },
   {
    "duration": 8,
    "start_time": "2025-04-05T11:51:42.582Z"
   },
   {
    "duration": 44,
    "start_time": "2025-04-05T11:51:42.592Z"
   },
   {
    "duration": 10,
    "start_time": "2025-04-05T11:51:42.638Z"
   },
   {
    "duration": 40,
    "start_time": "2025-04-05T11:51:42.650Z"
   },
   {
    "duration": 3,
    "start_time": "2025-04-05T11:51:42.691Z"
   },
   {
    "duration": 4,
    "start_time": "2025-04-05T11:51:42.695Z"
   },
   {
    "duration": 5,
    "start_time": "2025-04-05T11:51:42.700Z"
   },
   {
    "duration": 30,
    "start_time": "2025-04-05T11:51:42.707Z"
   },
   {
    "duration": 3,
    "start_time": "2025-04-05T11:51:42.739Z"
   },
   {
    "duration": 12,
    "start_time": "2025-04-05T11:51:42.743Z"
   },
   {
    "duration": 204,
    "start_time": "2025-04-05T11:51:42.757Z"
   },
   {
    "duration": 341,
    "start_time": "2025-04-05T11:51:42.963Z"
   },
   {
    "duration": 106,
    "start_time": "2025-04-05T11:51:43.305Z"
   },
   {
    "duration": 113,
    "start_time": "2025-04-05T11:51:43.413Z"
   },
   {
    "duration": 189,
    "start_time": "2025-04-05T11:51:43.528Z"
   },
   {
    "duration": 28,
    "start_time": "2025-04-05T11:51:43.719Z"
   },
   {
    "duration": 52,
    "start_time": "2025-04-05T11:51:43.748Z"
   },
   {
    "duration": 544,
    "start_time": "2025-04-05T11:51:43.802Z"
   },
   {
    "duration": 4,
    "start_time": "2025-04-05T11:51:44.347Z"
   },
   {
    "duration": 238,
    "start_time": "2025-04-05T11:51:44.353Z"
   },
   {
    "duration": 17,
    "start_time": "2025-04-05T11:51:44.592Z"
   },
   {
    "duration": 36,
    "start_time": "2025-04-05T11:51:44.612Z"
   },
   {
    "duration": 91,
    "start_time": "2025-04-05T11:51:44.650Z"
   },
   {
    "duration": 178,
    "start_time": "2025-04-05T11:51:44.743Z"
   },
   {
    "duration": 116,
    "start_time": "2025-04-05T11:51:44.922Z"
   },
   {
    "duration": 130,
    "start_time": "2025-04-05T11:51:45.040Z"
   },
   {
    "duration": 3,
    "start_time": "2025-04-05T11:51:45.174Z"
   },
   {
    "duration": 39,
    "start_time": "2025-04-05T11:51:45.178Z"
   },
   {
    "duration": 2438,
    "start_time": "2025-04-05T11:51:45.218Z"
   },
   {
    "duration": 1617,
    "start_time": "2025-04-05T11:51:47.658Z"
   },
   {
    "duration": 2375,
    "start_time": "2025-04-05T11:51:49.277Z"
   },
   {
    "duration": 33,
    "start_time": "2025-04-05T11:51:51.653Z"
   },
   {
    "duration": 28,
    "start_time": "2025-04-05T11:51:51.688Z"
   },
   {
    "duration": 37,
    "start_time": "2025-04-05T11:51:51.718Z"
   },
   {
    "duration": 320,
    "start_time": "2025-04-05T11:51:51.757Z"
   },
   {
    "duration": 139,
    "start_time": "2025-04-05T11:52:56.744Z"
   },
   {
    "duration": 143,
    "start_time": "2025-04-05T11:53:43.966Z"
   },
   {
    "duration": 25,
    "start_time": "2025-04-05T11:54:50.449Z"
   },
   {
    "duration": 138,
    "start_time": "2025-04-05T11:55:30.153Z"
   },
   {
    "duration": 27,
    "start_time": "2025-04-05T11:55:58.714Z"
   },
   {
    "duration": 1200,
    "start_time": "2025-04-05T11:56:11.854Z"
   },
   {
    "duration": 2109,
    "start_time": "2025-04-05T11:56:13.056Z"
   },
   {
    "duration": 14,
    "start_time": "2025-04-05T11:56:15.166Z"
   },
   {
    "duration": 13,
    "start_time": "2025-04-05T11:56:15.182Z"
   },
   {
    "duration": 19,
    "start_time": "2025-04-05T11:56:15.197Z"
   },
   {
    "duration": 50,
    "start_time": "2025-04-05T11:56:15.217Z"
   },
   {
    "duration": 113,
    "start_time": "2025-04-05T11:56:15.268Z"
   },
   {
    "duration": 5,
    "start_time": "2025-04-05T11:56:15.383Z"
   },
   {
    "duration": 323,
    "start_time": "2025-04-05T11:56:15.389Z"
   },
   {
    "duration": 8,
    "start_time": "2025-04-05T11:56:15.714Z"
   },
   {
    "duration": 29,
    "start_time": "2025-04-05T11:56:15.723Z"
   },
   {
    "duration": 29,
    "start_time": "2025-04-05T11:56:15.753Z"
   },
   {
    "duration": 9,
    "start_time": "2025-04-05T11:56:15.783Z"
   },
   {
    "duration": 61,
    "start_time": "2025-04-05T11:56:15.794Z"
   },
   {
    "duration": 7,
    "start_time": "2025-04-05T11:56:15.857Z"
   },
   {
    "duration": 26,
    "start_time": "2025-04-05T11:56:15.866Z"
   },
   {
    "duration": 10,
    "start_time": "2025-04-05T11:56:15.894Z"
   },
   {
    "duration": 64,
    "start_time": "2025-04-05T11:56:15.906Z"
   },
   {
    "duration": 3,
    "start_time": "2025-04-05T11:56:15.972Z"
   },
   {
    "duration": 6,
    "start_time": "2025-04-05T11:56:15.976Z"
   },
   {
    "duration": 7,
    "start_time": "2025-04-05T11:56:15.983Z"
   },
   {
    "duration": 5,
    "start_time": "2025-04-05T11:56:15.992Z"
   },
   {
    "duration": 8,
    "start_time": "2025-04-05T11:56:15.998Z"
   },
   {
    "duration": 30,
    "start_time": "2025-04-05T11:56:16.007Z"
   },
   {
    "duration": 234,
    "start_time": "2025-04-05T11:56:16.038Z"
   },
   {
    "duration": 354,
    "start_time": "2025-04-05T11:56:16.274Z"
   },
   {
    "duration": 101,
    "start_time": "2025-04-05T11:56:16.630Z"
   },
   {
    "duration": 59,
    "start_time": "2025-04-05T11:56:16.734Z"
   },
   {
    "duration": 214,
    "start_time": "2025-04-05T11:56:16.794Z"
   },
   {
    "duration": 34,
    "start_time": "2025-04-05T11:56:17.010Z"
   },
   {
    "duration": 151,
    "start_time": "2025-04-05T11:56:17.045Z"
   },
   {
    "duration": 0,
    "start_time": "2025-04-05T11:56:17.198Z"
   },
   {
    "duration": 0,
    "start_time": "2025-04-05T11:56:17.199Z"
   },
   {
    "duration": 0,
    "start_time": "2025-04-05T11:56:17.200Z"
   },
   {
    "duration": 0,
    "start_time": "2025-04-05T11:56:17.201Z"
   },
   {
    "duration": 0,
    "start_time": "2025-04-05T11:56:17.203Z"
   },
   {
    "duration": 0,
    "start_time": "2025-04-05T11:56:17.204Z"
   },
   {
    "duration": 0,
    "start_time": "2025-04-05T11:56:17.205Z"
   },
   {
    "duration": 0,
    "start_time": "2025-04-05T11:56:17.206Z"
   },
   {
    "duration": 0,
    "start_time": "2025-04-05T11:56:17.207Z"
   },
   {
    "duration": 0,
    "start_time": "2025-04-05T11:56:17.208Z"
   },
   {
    "duration": 0,
    "start_time": "2025-04-05T11:56:17.210Z"
   },
   {
    "duration": 0,
    "start_time": "2025-04-05T11:56:17.211Z"
   },
   {
    "duration": 0,
    "start_time": "2025-04-05T11:56:17.236Z"
   },
   {
    "duration": 0,
    "start_time": "2025-04-05T11:56:17.237Z"
   },
   {
    "duration": 0,
    "start_time": "2025-04-05T11:56:17.238Z"
   },
   {
    "duration": 0,
    "start_time": "2025-04-05T11:56:17.239Z"
   },
   {
    "duration": 0,
    "start_time": "2025-04-05T11:56:17.241Z"
   },
   {
    "duration": 0,
    "start_time": "2025-04-05T11:56:17.242Z"
   },
   {
    "duration": 133,
    "start_time": "2025-04-05T11:59:28.394Z"
   },
   {
    "duration": 178,
    "start_time": "2025-04-05T12:00:39.529Z"
   },
   {
    "duration": 25,
    "start_time": "2025-04-05T12:00:42.322Z"
   },
   {
    "duration": 136,
    "start_time": "2025-04-05T12:01:16.827Z"
   },
   {
    "duration": 25,
    "start_time": "2025-04-05T12:01:20.340Z"
   },
   {
    "duration": 1243,
    "start_time": "2025-04-05T12:01:37.126Z"
   },
   {
    "duration": 3161,
    "start_time": "2025-04-05T12:01:38.370Z"
   },
   {
    "duration": 12,
    "start_time": "2025-04-05T12:01:41.533Z"
   },
   {
    "duration": 11,
    "start_time": "2025-04-05T12:01:41.547Z"
   },
   {
    "duration": 15,
    "start_time": "2025-04-05T12:01:41.560Z"
   },
   {
    "duration": 24,
    "start_time": "2025-04-05T12:01:41.577Z"
   },
   {
    "duration": 123,
    "start_time": "2025-04-05T12:01:41.603Z"
   },
   {
    "duration": 10,
    "start_time": "2025-04-05T12:01:41.728Z"
   },
   {
    "duration": 235,
    "start_time": "2025-04-05T12:01:41.740Z"
   },
   {
    "duration": 8,
    "start_time": "2025-04-05T12:01:41.977Z"
   },
   {
    "duration": 33,
    "start_time": "2025-04-05T12:01:41.986Z"
   },
   {
    "duration": 40,
    "start_time": "2025-04-05T12:01:42.020Z"
   },
   {
    "duration": 10,
    "start_time": "2025-04-05T12:01:42.061Z"
   },
   {
    "duration": 98,
    "start_time": "2025-04-05T12:01:42.072Z"
   },
   {
    "duration": 8,
    "start_time": "2025-04-05T12:01:42.171Z"
   },
   {
    "duration": 25,
    "start_time": "2025-04-05T12:01:42.181Z"
   },
   {
    "duration": 27,
    "start_time": "2025-04-05T12:01:42.208Z"
   },
   {
    "duration": 101,
    "start_time": "2025-04-05T12:01:42.237Z"
   },
   {
    "duration": 4,
    "start_time": "2025-04-05T12:01:42.339Z"
   },
   {
    "duration": 5,
    "start_time": "2025-04-05T12:01:42.345Z"
   },
   {
    "duration": 5,
    "start_time": "2025-04-05T12:01:42.351Z"
   },
   {
    "duration": 4,
    "start_time": "2025-04-05T12:01:42.358Z"
   },
   {
    "duration": 16,
    "start_time": "2025-04-05T12:01:42.364Z"
   },
   {
    "duration": 14,
    "start_time": "2025-04-05T12:01:42.382Z"
   },
   {
    "duration": 188,
    "start_time": "2025-04-05T12:01:42.397Z"
   },
   {
    "duration": 346,
    "start_time": "2025-04-05T12:01:42.586Z"
   },
   {
    "duration": 107,
    "start_time": "2025-04-05T12:01:42.934Z"
   },
   {
    "duration": 64,
    "start_time": "2025-04-05T12:01:43.045Z"
   },
   {
    "duration": 224,
    "start_time": "2025-04-05T12:01:43.111Z"
   },
   {
    "duration": 25,
    "start_time": "2025-04-05T12:01:43.337Z"
   },
   {
    "duration": 179,
    "start_time": "2025-04-05T12:01:43.364Z"
   },
   {
    "duration": 430,
    "start_time": "2025-04-05T12:01:43.544Z"
   },
   {
    "duration": 3,
    "start_time": "2025-04-05T12:01:43.976Z"
   },
   {
    "duration": 259,
    "start_time": "2025-04-05T12:01:43.981Z"
   },
   {
    "duration": 17,
    "start_time": "2025-04-05T12:01:44.241Z"
   },
   {
    "duration": 54,
    "start_time": "2025-04-05T12:01:44.260Z"
   },
   {
    "duration": 85,
    "start_time": "2025-04-05T12:01:44.316Z"
   },
   {
    "duration": 163,
    "start_time": "2025-04-05T12:01:44.402Z"
   },
   {
    "duration": 100,
    "start_time": "2025-04-05T12:01:44.567Z"
   },
   {
    "duration": 99,
    "start_time": "2025-04-05T12:01:44.669Z"
   },
   {
    "duration": 3,
    "start_time": "2025-04-05T12:01:44.770Z"
   },
   {
    "duration": 57,
    "start_time": "2025-04-05T12:01:44.775Z"
   },
   {
    "duration": 2396,
    "start_time": "2025-04-05T12:01:44.834Z"
   },
   {
    "duration": 1644,
    "start_time": "2025-04-05T12:01:47.232Z"
   },
   {
    "duration": 2386,
    "start_time": "2025-04-05T12:01:48.877Z"
   },
   {
    "duration": 32,
    "start_time": "2025-04-05T12:01:51.265Z"
   },
   {
    "duration": 38,
    "start_time": "2025-04-05T12:01:51.299Z"
   },
   {
    "duration": 113,
    "start_time": "2025-04-05T12:01:51.339Z"
   },
   {
    "duration": 377,
    "start_time": "2025-04-05T12:01:51.454Z"
   },
   {
    "duration": 135,
    "start_time": "2025-04-05T12:04:21.337Z"
   },
   {
    "duration": 25,
    "start_time": "2025-04-05T12:04:23.553Z"
   },
   {
    "duration": 30,
    "start_time": "2025-04-05T12:04:41.871Z"
   },
   {
    "duration": 10,
    "start_time": "2025-04-05T12:06:14.461Z"
   },
   {
    "duration": 1260,
    "start_time": "2025-04-05T12:06:35.511Z"
   },
   {
    "duration": 2138,
    "start_time": "2025-04-05T12:06:36.773Z"
   },
   {
    "duration": 12,
    "start_time": "2025-04-05T12:06:38.913Z"
   },
   {
    "duration": 12,
    "start_time": "2025-04-05T12:06:38.927Z"
   },
   {
    "duration": 14,
    "start_time": "2025-04-05T12:06:38.940Z"
   },
   {
    "duration": 23,
    "start_time": "2025-04-05T12:06:38.955Z"
   },
   {
    "duration": 134,
    "start_time": "2025-04-05T12:06:38.979Z"
   },
   {
    "duration": 5,
    "start_time": "2025-04-05T12:06:39.114Z"
   },
   {
    "duration": 232,
    "start_time": "2025-04-05T12:06:39.120Z"
   },
   {
    "duration": 6,
    "start_time": "2025-04-05T12:06:39.355Z"
   },
   {
    "duration": 168,
    "start_time": "2025-04-05T12:06:39.363Z"
   },
   {
    "duration": 26,
    "start_time": "2025-04-05T12:06:39.533Z"
   },
   {
    "duration": 8,
    "start_time": "2025-04-05T12:06:39.561Z"
   },
   {
    "duration": 42,
    "start_time": "2025-04-05T12:06:39.570Z"
   },
   {
    "duration": 29,
    "start_time": "2025-04-05T12:06:39.614Z"
   },
   {
    "duration": 24,
    "start_time": "2025-04-05T12:06:39.644Z"
   },
   {
    "duration": 10,
    "start_time": "2025-04-05T12:06:39.670Z"
   },
   {
    "duration": 64,
    "start_time": "2025-04-05T12:06:39.681Z"
   },
   {
    "duration": 3,
    "start_time": "2025-04-05T12:06:39.747Z"
   },
   {
    "duration": 5,
    "start_time": "2025-04-05T12:06:39.752Z"
   },
   {
    "duration": 4,
    "start_time": "2025-04-05T12:06:39.759Z"
   },
   {
    "duration": 5,
    "start_time": "2025-04-05T12:06:39.764Z"
   },
   {
    "duration": 5,
    "start_time": "2025-04-05T12:06:39.770Z"
   },
   {
    "duration": 14,
    "start_time": "2025-04-05T12:06:39.776Z"
   },
   {
    "duration": 202,
    "start_time": "2025-04-05T12:06:39.792Z"
   },
   {
    "duration": 340,
    "start_time": "2025-04-05T12:06:39.996Z"
   },
   {
    "duration": 99,
    "start_time": "2025-04-05T12:06:40.338Z"
   },
   {
    "duration": 60,
    "start_time": "2025-04-05T12:06:40.440Z"
   },
   {
    "duration": 193,
    "start_time": "2025-04-05T12:06:40.501Z"
   },
   {
    "duration": 29,
    "start_time": "2025-04-05T12:06:40.695Z"
   },
   {
    "duration": 49,
    "start_time": "2025-04-05T12:06:40.726Z"
   },
   {
    "duration": 483,
    "start_time": "2025-04-05T12:06:40.776Z"
   },
   {
    "duration": 4,
    "start_time": "2025-04-05T12:06:41.260Z"
   },
   {
    "duration": 220,
    "start_time": "2025-04-05T12:06:41.265Z"
   },
   {
    "duration": 16,
    "start_time": "2025-04-05T12:06:41.487Z"
   },
   {
    "duration": 42,
    "start_time": "2025-04-05T12:06:41.504Z"
   },
   {
    "duration": 88,
    "start_time": "2025-04-05T12:06:41.547Z"
   },
   {
    "duration": 142,
    "start_time": "2025-04-05T12:06:41.637Z"
   },
   {
    "duration": 91,
    "start_time": "2025-04-05T12:06:41.781Z"
   },
   {
    "duration": 100,
    "start_time": "2025-04-05T12:06:41.874Z"
   },
   {
    "duration": 3,
    "start_time": "2025-04-05T12:06:41.975Z"
   },
   {
    "duration": 36,
    "start_time": "2025-04-05T12:06:41.979Z"
   },
   {
    "duration": 2454,
    "start_time": "2025-04-05T12:06:42.017Z"
   },
   {
    "duration": 1603,
    "start_time": "2025-04-05T12:06:44.473Z"
   },
   {
    "duration": 2388,
    "start_time": "2025-04-05T12:06:46.078Z"
   },
   {
    "duration": 34,
    "start_time": "2025-04-05T12:06:48.468Z"
   },
   {
    "duration": 41,
    "start_time": "2025-04-05T12:06:48.504Z"
   },
   {
    "duration": 21,
    "start_time": "2025-04-05T12:06:48.547Z"
   },
   {
    "duration": 317,
    "start_time": "2025-04-05T12:06:48.569Z"
   },
   {
    "duration": 21,
    "start_time": "2025-04-05T12:14:01.857Z"
   },
   {
    "duration": 102,
    "start_time": "2025-04-05T12:15:51.457Z"
   },
   {
    "duration": 24,
    "start_time": "2025-04-05T12:16:57.766Z"
   },
   {
    "duration": 1206,
    "start_time": "2025-04-05T12:17:30.480Z"
   },
   {
    "duration": 22,
    "start_time": "2025-04-05T12:19:34.951Z"
   },
   {
    "duration": 22,
    "start_time": "2025-04-05T12:20:58.540Z"
   },
   {
    "duration": 182,
    "start_time": "2025-04-05T12:29:11.476Z"
   },
   {
    "duration": 103,
    "start_time": "2025-04-05T12:30:41.511Z"
   },
   {
    "duration": 29,
    "start_time": "2025-04-05T12:33:28.371Z"
   },
   {
    "duration": 632,
    "start_time": "2025-04-05T13:22:57.360Z"
   },
   {
    "duration": 673,
    "start_time": "2025-04-05T13:23:14.897Z"
   },
   {
    "duration": 792,
    "start_time": "2025-04-05T13:23:29.030Z"
   },
   {
    "duration": 595,
    "start_time": "2025-04-05T13:23:37.576Z"
   },
   {
    "duration": 55,
    "start_time": "2025-04-05T13:27:24.326Z"
   },
   {
    "duration": 773,
    "start_time": "2025-04-05T13:28:35.622Z"
   },
   {
    "duration": 1143,
    "start_time": "2025-04-05T14:05:39.043Z"
   },
   {
    "duration": 2280,
    "start_time": "2025-04-05T14:05:40.188Z"
   },
   {
    "duration": 13,
    "start_time": "2025-04-05T14:05:42.469Z"
   },
   {
    "duration": 13,
    "start_time": "2025-04-05T14:05:42.484Z"
   },
   {
    "duration": 28,
    "start_time": "2025-04-05T14:05:42.499Z"
   },
   {
    "duration": 23,
    "start_time": "2025-04-05T14:05:42.528Z"
   },
   {
    "duration": 100,
    "start_time": "2025-04-05T14:05:42.553Z"
   },
   {
    "duration": 5,
    "start_time": "2025-04-05T14:05:42.655Z"
   },
   {
    "duration": 240,
    "start_time": "2025-04-05T14:05:42.661Z"
   },
   {
    "duration": 7,
    "start_time": "2025-04-05T14:05:42.904Z"
   },
   {
    "duration": 41,
    "start_time": "2025-04-05T14:05:42.913Z"
   },
   {
    "duration": 35,
    "start_time": "2025-04-05T14:05:42.956Z"
   },
   {
    "duration": 8,
    "start_time": "2025-04-05T14:05:42.993Z"
   },
   {
    "duration": 55,
    "start_time": "2025-04-05T14:05:43.003Z"
   },
   {
    "duration": 8,
    "start_time": "2025-04-05T14:05:43.060Z"
   },
   {
    "duration": 27,
    "start_time": "2025-04-05T14:05:43.069Z"
   },
   {
    "duration": 14,
    "start_time": "2025-04-05T14:05:43.098Z"
   },
   {
    "duration": 58,
    "start_time": "2025-04-05T14:05:43.114Z"
   },
   {
    "duration": 3,
    "start_time": "2025-04-05T14:05:43.174Z"
   },
   {
    "duration": 10,
    "start_time": "2025-04-05T14:05:43.179Z"
   },
   {
    "duration": 5,
    "start_time": "2025-04-05T14:05:43.190Z"
   },
   {
    "duration": 16,
    "start_time": "2025-04-05T14:05:43.196Z"
   },
   {
    "duration": 11,
    "start_time": "2025-04-05T14:05:43.213Z"
   },
   {
    "duration": 16,
    "start_time": "2025-04-05T14:05:43.226Z"
   },
   {
    "duration": 184,
    "start_time": "2025-04-05T14:05:43.243Z"
   },
   {
    "duration": 327,
    "start_time": "2025-04-05T14:05:43.429Z"
   },
   {
    "duration": 89,
    "start_time": "2025-04-05T14:05:43.757Z"
   },
   {
    "duration": 109,
    "start_time": "2025-04-05T14:05:43.850Z"
   },
   {
    "duration": 186,
    "start_time": "2025-04-05T14:05:43.961Z"
   },
   {
    "duration": 34,
    "start_time": "2025-04-05T14:05:44.149Z"
   },
   {
    "duration": 58,
    "start_time": "2025-04-05T14:05:44.186Z"
   },
   {
    "duration": 442,
    "start_time": "2025-04-05T14:05:44.246Z"
   },
   {
    "duration": 3,
    "start_time": "2025-04-05T14:05:44.690Z"
   },
   {
    "duration": 228,
    "start_time": "2025-04-05T14:05:44.695Z"
   },
   {
    "duration": 27,
    "start_time": "2025-04-05T14:05:44.924Z"
   },
   {
    "duration": 22,
    "start_time": "2025-04-05T14:05:44.953Z"
   },
   {
    "duration": 105,
    "start_time": "2025-04-05T14:05:44.977Z"
   },
   {
    "duration": 159,
    "start_time": "2025-04-05T14:05:45.084Z"
   },
   {
    "duration": 90,
    "start_time": "2025-04-05T14:05:45.245Z"
   },
   {
    "duration": 103,
    "start_time": "2025-04-05T14:05:45.337Z"
   },
   {
    "duration": 3,
    "start_time": "2025-04-05T14:05:45.442Z"
   },
   {
    "duration": 82,
    "start_time": "2025-04-05T14:05:45.446Z"
   },
   {
    "duration": 2384,
    "start_time": "2025-04-05T14:05:45.530Z"
   },
   {
    "duration": 1667,
    "start_time": "2025-04-05T14:05:47.915Z"
   },
   {
    "duration": 2356,
    "start_time": "2025-04-05T14:05:49.584Z"
   },
   {
    "duration": 33,
    "start_time": "2025-04-05T14:05:51.942Z"
   },
   {
    "duration": 21,
    "start_time": "2025-04-05T14:05:51.977Z"
   },
   {
    "duration": 41,
    "start_time": "2025-04-05T14:05:52.000Z"
   },
   {
    "duration": 314,
    "start_time": "2025-04-05T14:05:52.043Z"
   },
   {
    "duration": 168,
    "start_time": "2025-04-05T14:05:52.359Z"
   },
   {
    "duration": 117,
    "start_time": "2025-04-05T14:05:52.528Z"
   },
   {
    "duration": 28,
    "start_time": "2025-04-05T14:05:52.646Z"
   },
   {
    "duration": 623,
    "start_time": "2025-04-05T14:05:59.708Z"
   },
   {
    "duration": 608,
    "start_time": "2025-04-05T14:06:09.723Z"
   },
   {
    "duration": 10,
    "start_time": "2025-04-05T14:08:40.279Z"
   },
   {
    "duration": 126,
    "start_time": "2025-04-05T14:09:16.515Z"
   },
   {
    "duration": 9,
    "start_time": "2025-04-05T14:09:26.654Z"
   },
   {
    "duration": 9,
    "start_time": "2025-04-05T14:09:58.405Z"
   },
   {
    "duration": 65,
    "start_time": "2025-04-05T14:10:08.356Z"
   },
   {
    "duration": 9,
    "start_time": "2025-04-05T14:10:12.684Z"
   },
   {
    "duration": 46,
    "start_time": "2025-04-05T14:11:11.206Z"
   },
   {
    "duration": 9,
    "start_time": "2025-04-05T14:11:47.587Z"
   },
   {
    "duration": 10,
    "start_time": "2025-04-05T14:14:50.670Z"
   },
   {
    "duration": 9,
    "start_time": "2025-04-05T14:15:55.966Z"
   },
   {
    "duration": 8,
    "start_time": "2025-04-05T14:25:38.494Z"
   },
   {
    "duration": 9,
    "start_time": "2025-04-05T14:25:52.412Z"
   },
   {
    "duration": 16,
    "start_time": "2025-04-05T14:26:03.036Z"
   },
   {
    "duration": 538,
    "start_time": "2025-04-05T14:27:27.248Z"
   },
   {
    "duration": 1184,
    "start_time": "2025-04-05T14:27:41.260Z"
   },
   {
    "duration": 2243,
    "start_time": "2025-04-05T14:27:42.446Z"
   },
   {
    "duration": 18,
    "start_time": "2025-04-05T14:27:44.692Z"
   },
   {
    "duration": 50,
    "start_time": "2025-04-05T14:27:44.712Z"
   },
   {
    "duration": 18,
    "start_time": "2025-04-05T14:27:44.763Z"
   },
   {
    "duration": 24,
    "start_time": "2025-04-05T14:27:44.783Z"
   },
   {
    "duration": 104,
    "start_time": "2025-04-05T14:27:44.808Z"
   },
   {
    "duration": 5,
    "start_time": "2025-04-05T14:27:44.914Z"
   },
   {
    "duration": 225,
    "start_time": "2025-04-05T14:27:44.920Z"
   },
   {
    "duration": 7,
    "start_time": "2025-04-05T14:27:45.148Z"
   },
   {
    "duration": 26,
    "start_time": "2025-04-05T14:27:45.156Z"
   },
   {
    "duration": 30,
    "start_time": "2025-04-05T14:27:45.184Z"
   },
   {
    "duration": 28,
    "start_time": "2025-04-05T14:27:45.215Z"
   },
   {
    "duration": 64,
    "start_time": "2025-04-05T14:27:45.246Z"
   },
   {
    "duration": 8,
    "start_time": "2025-04-05T14:27:45.311Z"
   },
   {
    "duration": 54,
    "start_time": "2025-04-05T14:27:45.320Z"
   },
   {
    "duration": 20,
    "start_time": "2025-04-05T14:27:45.375Z"
   },
   {
    "duration": 55,
    "start_time": "2025-04-05T14:27:45.397Z"
   },
   {
    "duration": 3,
    "start_time": "2025-04-05T14:27:45.453Z"
   },
   {
    "duration": 104,
    "start_time": "2025-04-05T14:27:45.458Z"
   },
   {
    "duration": 38,
    "start_time": "2025-04-05T14:27:45.563Z"
   },
   {
    "duration": 11,
    "start_time": "2025-04-05T14:27:45.603Z"
   },
   {
    "duration": 9,
    "start_time": "2025-04-05T14:27:45.616Z"
   },
   {
    "duration": 11,
    "start_time": "2025-04-05T14:27:45.626Z"
   },
   {
    "duration": 178,
    "start_time": "2025-04-05T14:27:45.639Z"
   },
   {
    "duration": 346,
    "start_time": "2025-04-05T14:27:45.818Z"
   },
   {
    "duration": 101,
    "start_time": "2025-04-05T14:27:46.165Z"
   },
   {
    "duration": 72,
    "start_time": "2025-04-05T14:27:46.270Z"
   },
   {
    "duration": 205,
    "start_time": "2025-04-05T14:27:46.344Z"
   },
   {
    "duration": 30,
    "start_time": "2025-04-05T14:27:46.552Z"
   },
   {
    "duration": 59,
    "start_time": "2025-04-05T14:27:46.584Z"
   },
   {
    "duration": 441,
    "start_time": "2025-04-05T14:27:46.644Z"
   },
   {
    "duration": 4,
    "start_time": "2025-04-05T14:27:47.087Z"
   },
   {
    "duration": 228,
    "start_time": "2025-04-05T14:27:47.092Z"
   },
   {
    "duration": 28,
    "start_time": "2025-04-05T14:27:47.322Z"
   },
   {
    "duration": 22,
    "start_time": "2025-04-05T14:27:47.352Z"
   },
   {
    "duration": 102,
    "start_time": "2025-04-05T14:27:47.375Z"
   },
   {
    "duration": 153,
    "start_time": "2025-04-05T14:27:47.479Z"
   },
   {
    "duration": 81,
    "start_time": "2025-04-05T14:27:47.634Z"
   },
   {
    "duration": 102,
    "start_time": "2025-04-05T14:27:47.717Z"
   },
   {
    "duration": 15,
    "start_time": "2025-04-05T14:27:47.821Z"
   },
   {
    "duration": 162,
    "start_time": "2025-04-05T14:27:47.838Z"
   },
   {
    "duration": 2375,
    "start_time": "2025-04-05T14:27:48.002Z"
   },
   {
    "duration": 1618,
    "start_time": "2025-04-05T14:27:50.379Z"
   },
   {
    "duration": 2376,
    "start_time": "2025-04-05T14:27:51.999Z"
   },
   {
    "duration": 21,
    "start_time": "2025-04-05T14:27:54.377Z"
   },
   {
    "duration": 49,
    "start_time": "2025-04-05T14:27:54.400Z"
   },
   {
    "duration": 31,
    "start_time": "2025-04-05T14:27:54.451Z"
   },
   {
    "duration": 344,
    "start_time": "2025-04-05T14:27:54.484Z"
   },
   {
    "duration": 171,
    "start_time": "2025-04-05T14:27:54.830Z"
   },
   {
    "duration": 111,
    "start_time": "2025-04-05T14:27:55.003Z"
   },
   {
    "duration": 40,
    "start_time": "2025-04-05T14:27:55.116Z"
   },
   {
    "duration": 682,
    "start_time": "2025-04-05T14:27:55.158Z"
   },
   {
    "duration": 10,
    "start_time": "2025-04-05T14:27:55.842Z"
   },
   {
    "duration": 106,
    "start_time": "2025-04-05T14:27:55.854Z"
   },
   {
    "duration": 663,
    "start_time": "2025-04-05T14:27:55.962Z"
   },
   {
    "duration": 104,
    "start_time": "2025-04-05T14:29:15.346Z"
   },
   {
    "duration": 10,
    "start_time": "2025-04-05T14:29:24.700Z"
   },
   {
    "duration": 14,
    "start_time": "2025-04-05T14:29:26.327Z"
   },
   {
    "duration": 628,
    "start_time": "2025-04-05T14:29:28.256Z"
   },
   {
    "duration": 1149,
    "start_time": "2025-04-05T14:29:53.995Z"
   },
   {
    "duration": 2027,
    "start_time": "2025-04-05T14:29:55.145Z"
   },
   {
    "duration": 13,
    "start_time": "2025-04-05T14:29:57.174Z"
   },
   {
    "duration": 12,
    "start_time": "2025-04-05T14:29:57.188Z"
   },
   {
    "duration": 14,
    "start_time": "2025-04-05T14:29:57.202Z"
   },
   {
    "duration": 26,
    "start_time": "2025-04-05T14:29:57.218Z"
   },
   {
    "duration": 108,
    "start_time": "2025-04-05T14:29:57.246Z"
   },
   {
    "duration": 5,
    "start_time": "2025-04-05T14:29:57.356Z"
   },
   {
    "duration": 228,
    "start_time": "2025-04-05T14:29:57.363Z"
   },
   {
    "duration": 7,
    "start_time": "2025-04-05T14:29:57.593Z"
   },
   {
    "duration": 21,
    "start_time": "2025-04-05T14:29:57.601Z"
   },
   {
    "duration": 30,
    "start_time": "2025-04-05T14:29:57.636Z"
   },
   {
    "duration": 9,
    "start_time": "2025-04-05T14:29:57.668Z"
   },
   {
    "duration": 61,
    "start_time": "2025-04-05T14:29:57.680Z"
   },
   {
    "duration": 7,
    "start_time": "2025-04-05T14:29:57.743Z"
   },
   {
    "duration": 23,
    "start_time": "2025-04-05T14:29:57.752Z"
   },
   {
    "duration": 10,
    "start_time": "2025-04-05T14:29:57.776Z"
   },
   {
    "duration": 65,
    "start_time": "2025-04-05T14:29:57.787Z"
   },
   {
    "duration": 3,
    "start_time": "2025-04-05T14:29:57.853Z"
   },
   {
    "duration": 86,
    "start_time": "2025-04-05T14:29:57.858Z"
   },
   {
    "duration": 4,
    "start_time": "2025-04-05T14:29:57.946Z"
   },
   {
    "duration": 6,
    "start_time": "2025-04-05T14:29:57.952Z"
   },
   {
    "duration": 5,
    "start_time": "2025-04-05T14:29:57.959Z"
   },
   {
    "duration": 11,
    "start_time": "2025-04-05T14:29:57.965Z"
   },
   {
    "duration": 188,
    "start_time": "2025-04-05T14:29:57.977Z"
   },
   {
    "duration": 357,
    "start_time": "2025-04-05T14:29:58.167Z"
   },
   {
    "duration": 98,
    "start_time": "2025-04-05T14:29:58.526Z"
   },
   {
    "duration": 68,
    "start_time": "2025-04-05T14:29:58.626Z"
   },
   {
    "duration": 249,
    "start_time": "2025-04-05T14:29:58.696Z"
   },
   {
    "duration": 29,
    "start_time": "2025-04-05T14:29:58.947Z"
   },
   {
    "duration": 59,
    "start_time": "2025-04-05T14:29:58.977Z"
   },
   {
    "duration": 512,
    "start_time": "2025-04-05T14:29:59.038Z"
   },
   {
    "duration": 4,
    "start_time": "2025-04-05T14:29:59.551Z"
   },
   {
    "duration": 227,
    "start_time": "2025-04-05T14:29:59.557Z"
   },
   {
    "duration": 17,
    "start_time": "2025-04-05T14:29:59.786Z"
   },
   {
    "duration": 140,
    "start_time": "2025-04-05T14:29:59.804Z"
   },
   {
    "duration": 95,
    "start_time": "2025-04-05T14:29:59.946Z"
   },
   {
    "duration": 161,
    "start_time": "2025-04-05T14:30:00.043Z"
   },
   {
    "duration": 90,
    "start_time": "2025-04-05T14:30:00.206Z"
   },
   {
    "duration": 108,
    "start_time": "2025-04-05T14:30:00.298Z"
   },
   {
    "duration": 2,
    "start_time": "2025-04-05T14:30:00.411Z"
   },
   {
    "duration": 52,
    "start_time": "2025-04-05T14:30:00.415Z"
   },
   {
    "duration": 2499,
    "start_time": "2025-04-05T14:30:00.469Z"
   },
   {
    "duration": 1636,
    "start_time": "2025-04-05T14:30:02.970Z"
   },
   {
    "duration": 2422,
    "start_time": "2025-04-05T14:30:04.607Z"
   },
   {
    "duration": 34,
    "start_time": "2025-04-05T14:30:07.035Z"
   },
   {
    "duration": 39,
    "start_time": "2025-04-05T14:30:07.071Z"
   },
   {
    "duration": 34,
    "start_time": "2025-04-05T14:30:07.112Z"
   },
   {
    "duration": 339,
    "start_time": "2025-04-05T14:30:07.148Z"
   },
   {
    "duration": 172,
    "start_time": "2025-04-05T14:30:07.488Z"
   },
   {
    "duration": 111,
    "start_time": "2025-04-05T14:30:07.662Z"
   },
   {
    "duration": 27,
    "start_time": "2025-04-05T14:30:07.774Z"
   },
   {
    "duration": 646,
    "start_time": "2025-04-05T14:30:07.803Z"
   },
   {
    "duration": 10,
    "start_time": "2025-04-05T14:30:08.450Z"
   },
   {
    "duration": 22,
    "start_time": "2025-04-05T14:30:08.461Z"
   },
   {
    "duration": 602,
    "start_time": "2025-04-05T14:30:08.484Z"
   },
   {
    "duration": 17,
    "start_time": "2025-04-05T14:30:48.851Z"
   },
   {
    "duration": 621,
    "start_time": "2025-04-05T14:31:10.461Z"
   },
   {
    "duration": 680,
    "start_time": "2025-04-05T14:33:48.000Z"
   },
   {
    "duration": 571,
    "start_time": "2025-04-05T14:34:10.717Z"
   },
   {
    "duration": 579,
    "start_time": "2025-04-05T14:34:19.801Z"
   },
   {
    "duration": 633,
    "start_time": "2025-04-05T14:34:23.766Z"
   },
   {
    "duration": 549,
    "start_time": "2025-04-05T14:36:22.741Z"
   },
   {
    "duration": 577,
    "start_time": "2025-04-05T14:37:16.302Z"
   },
   {
    "duration": 754,
    "start_time": "2025-04-05T14:38:30.884Z"
   },
   {
    "duration": 654,
    "start_time": "2025-04-05T14:38:59.471Z"
   },
   {
    "duration": 120,
    "start_time": "2025-04-05T14:40:04.877Z"
   },
   {
    "duration": 120,
    "start_time": "2025-04-05T14:40:19.207Z"
   },
   {
    "duration": 10,
    "start_time": "2025-04-05T14:40:50.078Z"
   },
   {
    "duration": 583,
    "start_time": "2025-04-05T14:42:16.894Z"
   },
   {
    "duration": 110,
    "start_time": "2025-04-05T14:42:59.457Z"
   },
   {
    "duration": 9,
    "start_time": "2025-04-05T14:43:48.201Z"
   },
   {
    "duration": 28,
    "start_time": "2025-04-05T15:13:30.657Z"
   },
   {
    "duration": 9,
    "start_time": "2025-04-05T15:20:20.025Z"
   },
   {
    "duration": 60,
    "start_time": "2025-04-05T15:23:20.090Z"
   },
   {
    "duration": 20,
    "start_time": "2025-04-05T15:26:13.199Z"
   },
   {
    "duration": 11,
    "start_time": "2025-04-05T15:29:38.650Z"
   },
   {
    "duration": 10,
    "start_time": "2025-04-05T15:35:14.893Z"
   },
   {
    "duration": 30,
    "start_time": "2025-04-05T16:54:23.864Z"
   },
   {
    "duration": 29,
    "start_time": "2025-04-05T16:54:36.287Z"
   },
   {
    "duration": 15,
    "start_time": "2025-04-05T16:55:18.536Z"
   },
   {
    "duration": 19,
    "start_time": "2025-04-05T16:55:23.185Z"
   },
   {
    "duration": 25,
    "start_time": "2025-04-05T16:55:35.629Z"
   },
   {
    "duration": 32,
    "start_time": "2025-04-05T16:56:44.125Z"
   },
   {
    "duration": 55,
    "start_time": "2025-04-05T17:00:26.999Z"
   },
   {
    "duration": 136,
    "start_time": "2025-04-05T17:01:07.150Z"
   },
   {
    "duration": 104,
    "start_time": "2025-04-05T17:01:51.345Z"
   },
   {
    "duration": 15,
    "start_time": "2025-04-05T17:02:40.627Z"
   },
   {
    "duration": 13,
    "start_time": "2025-04-05T17:04:15.647Z"
   },
   {
    "duration": 26,
    "start_time": "2025-04-05T17:08:35.144Z"
   },
   {
    "duration": 16,
    "start_time": "2025-04-05T17:12:19.380Z"
   },
   {
    "duration": 18,
    "start_time": "2025-04-05T17:12:26.868Z"
   },
   {
    "duration": 21,
    "start_time": "2025-04-05T17:13:02.242Z"
   },
   {
    "duration": 23,
    "start_time": "2025-04-05T17:14:06.626Z"
   },
   {
    "duration": 20,
    "start_time": "2025-04-05T17:14:12.428Z"
   },
   {
    "duration": 16,
    "start_time": "2025-04-05T17:15:04.380Z"
   },
   {
    "duration": 17,
    "start_time": "2025-04-05T17:15:23.323Z"
   },
   {
    "duration": 23,
    "start_time": "2025-04-05T17:17:37.623Z"
   },
   {
    "duration": 26,
    "start_time": "2025-04-05T17:17:43.483Z"
   },
   {
    "duration": 21,
    "start_time": "2025-04-05T17:24:53.952Z"
   },
   {
    "duration": 13,
    "start_time": "2025-04-05T17:25:24.372Z"
   },
   {
    "duration": 34,
    "start_time": "2025-04-05T17:25:34.939Z"
   },
   {
    "duration": 19,
    "start_time": "2025-04-05T17:26:08.581Z"
   },
   {
    "duration": 11,
    "start_time": "2025-04-05T17:35:49.454Z"
   },
   {
    "duration": 22,
    "start_time": "2025-04-05T17:45:41.651Z"
   },
   {
    "duration": 15,
    "start_time": "2025-04-05T17:47:09.304Z"
   },
   {
    "duration": 13,
    "start_time": "2025-04-05T17:49:06.434Z"
   },
   {
    "duration": 13,
    "start_time": "2025-04-05T17:58:59.490Z"
   },
   {
    "duration": 14,
    "start_time": "2025-04-05T18:00:28.826Z"
   },
   {
    "duration": 12,
    "start_time": "2025-04-05T18:00:44.386Z"
   },
   {
    "duration": 13,
    "start_time": "2025-04-05T18:02:36.262Z"
   },
   {
    "duration": 14,
    "start_time": "2025-04-05T18:02:46.412Z"
   },
   {
    "duration": 162,
    "start_time": "2025-04-05T18:05:57.014Z"
   },
   {
    "duration": 161,
    "start_time": "2025-04-05T18:07:53.245Z"
   },
   {
    "duration": 154,
    "start_time": "2025-04-05T18:08:05.116Z"
   },
   {
    "duration": 259,
    "start_time": "2025-04-05T18:08:14.902Z"
   },
   {
    "duration": 53,
    "start_time": "2025-04-05T18:09:04.854Z"
   },
   {
    "duration": 149,
    "start_time": "2025-04-05T18:09:15.294Z"
   },
   {
    "duration": 156,
    "start_time": "2025-04-05T18:12:33.165Z"
   },
   {
    "duration": 1175,
    "start_time": "2025-04-05T19:28:35.849Z"
   },
   {
    "duration": 2410,
    "start_time": "2025-04-05T19:28:37.025Z"
   },
   {
    "duration": 13,
    "start_time": "2025-04-05T19:28:39.437Z"
   },
   {
    "duration": 11,
    "start_time": "2025-04-05T19:28:39.452Z"
   },
   {
    "duration": 14,
    "start_time": "2025-04-05T19:28:39.464Z"
   },
   {
    "duration": 23,
    "start_time": "2025-04-05T19:28:39.480Z"
   },
   {
    "duration": 121,
    "start_time": "2025-04-05T19:28:39.504Z"
   },
   {
    "duration": 5,
    "start_time": "2025-04-05T19:28:39.635Z"
   },
   {
    "duration": 221,
    "start_time": "2025-04-05T19:28:39.642Z"
   },
   {
    "duration": 7,
    "start_time": "2025-04-05T19:28:39.865Z"
   },
   {
    "duration": 19,
    "start_time": "2025-04-05T19:28:39.874Z"
   },
   {
    "duration": 53,
    "start_time": "2025-04-05T19:28:39.894Z"
   },
   {
    "duration": 9,
    "start_time": "2025-04-05T19:28:39.949Z"
   },
   {
    "duration": 43,
    "start_time": "2025-04-05T19:28:39.959Z"
   },
   {
    "duration": 8,
    "start_time": "2025-04-05T19:28:40.004Z"
   },
   {
    "duration": 43,
    "start_time": "2025-04-05T19:28:40.013Z"
   },
   {
    "duration": 11,
    "start_time": "2025-04-05T19:28:40.058Z"
   },
   {
    "duration": 40,
    "start_time": "2025-04-05T19:28:40.070Z"
   },
   {
    "duration": 3,
    "start_time": "2025-04-05T19:28:40.111Z"
   },
   {
    "duration": 4,
    "start_time": "2025-04-05T19:28:40.136Z"
   },
   {
    "duration": 4,
    "start_time": "2025-04-05T19:28:40.141Z"
   },
   {
    "duration": 11,
    "start_time": "2025-04-05T19:28:40.147Z"
   },
   {
    "duration": 16,
    "start_time": "2025-04-05T19:28:40.160Z"
   },
   {
    "duration": 18,
    "start_time": "2025-04-05T19:28:40.178Z"
   },
   {
    "duration": 177,
    "start_time": "2025-04-05T19:28:40.198Z"
   },
   {
    "duration": 327,
    "start_time": "2025-04-05T19:28:40.377Z"
   },
   {
    "duration": 92,
    "start_time": "2025-04-05T19:28:40.706Z"
   },
   {
    "duration": 57,
    "start_time": "2025-04-05T19:28:40.802Z"
   },
   {
    "duration": 195,
    "start_time": "2025-04-05T19:28:40.861Z"
   },
   {
    "duration": 30,
    "start_time": "2025-04-05T19:28:41.058Z"
   },
   {
    "duration": 60,
    "start_time": "2025-04-05T19:28:41.089Z"
   },
   {
    "duration": 437,
    "start_time": "2025-04-05T19:28:41.150Z"
   },
   {
    "duration": 3,
    "start_time": "2025-04-05T19:28:41.589Z"
   },
   {
    "duration": 253,
    "start_time": "2025-04-05T19:28:41.594Z"
   },
   {
    "duration": 18,
    "start_time": "2025-04-05T19:28:41.849Z"
   },
   {
    "duration": 27,
    "start_time": "2025-04-05T19:28:41.869Z"
   },
   {
    "duration": 118,
    "start_time": "2025-04-05T19:28:41.898Z"
   },
   {
    "duration": 150,
    "start_time": "2025-04-05T19:28:42.017Z"
   },
   {
    "duration": 94,
    "start_time": "2025-04-05T19:28:42.169Z"
   },
   {
    "duration": 99,
    "start_time": "2025-04-05T19:28:42.265Z"
   },
   {
    "duration": 3,
    "start_time": "2025-04-05T19:28:42.365Z"
   },
   {
    "duration": 37,
    "start_time": "2025-04-05T19:28:42.369Z"
   },
   {
    "duration": 2469,
    "start_time": "2025-04-05T19:28:42.408Z"
   },
   {
    "duration": 1600,
    "start_time": "2025-04-05T19:28:44.879Z"
   },
   {
    "duration": 2386,
    "start_time": "2025-04-05T19:28:46.480Z"
   },
   {
    "duration": 33,
    "start_time": "2025-04-05T19:28:48.868Z"
   },
   {
    "duration": 39,
    "start_time": "2025-04-05T19:28:48.902Z"
   },
   {
    "duration": 85,
    "start_time": "2025-04-05T19:28:48.943Z"
   },
   {
    "duration": 320,
    "start_time": "2025-04-05T19:28:49.030Z"
   },
   {
    "duration": 166,
    "start_time": "2025-04-05T19:28:49.352Z"
   },
   {
    "duration": 116,
    "start_time": "2025-04-05T19:28:49.519Z"
   },
   {
    "duration": 27,
    "start_time": "2025-04-05T19:28:49.637Z"
   },
   {
    "duration": 133,
    "start_time": "2025-04-05T19:28:49.665Z"
   },
   {
    "duration": 10,
    "start_time": "2025-04-05T19:28:49.800Z"
   },
   {
    "duration": 30,
    "start_time": "2025-04-05T19:28:49.812Z"
   },
   {
    "duration": 125,
    "start_time": "2025-04-05T19:28:49.844Z"
   },
   {
    "duration": 27,
    "start_time": "2025-04-05T19:28:49.970Z"
   },
   {
    "duration": 10,
    "start_time": "2025-04-05T19:28:49.999Z"
   },
   {
    "duration": 49,
    "start_time": "2025-04-05T19:28:50.010Z"
   },
   {
    "duration": 11,
    "start_time": "2025-04-05T19:28:50.061Z"
   },
   {
    "duration": 21,
    "start_time": "2025-04-05T19:28:50.075Z"
   },
   {
    "duration": 151,
    "start_time": "2025-04-05T19:28:50.098Z"
   }
  ],
  "colab": {
   "provenance": []
  },
  "kernelspec": {
   "display_name": "Python 3 (ipykernel)",
   "language": "python",
   "name": "python3"
  },
  "language_info": {
   "codemirror_mode": {
    "name": "ipython",
    "version": 3
   },
   "file_extension": ".py",
   "mimetype": "text/x-python",
   "name": "python",
   "nbconvert_exporter": "python",
   "pygments_lexer": "ipython3",
   "version": "3.12.7"
  },
  "toc": {
   "base_numbering": 1,
   "nav_menu": {},
   "number_sections": true,
   "sideBar": true,
   "skip_h1_title": true,
   "title_cell": "Table of Contents",
   "title_sidebar": "Contents",
   "toc_cell": false,
   "toc_position": {},
   "toc_section_display": true,
   "toc_window_display": false
  }
 },
 "nbformat": 4,
 "nbformat_minor": 4
}
